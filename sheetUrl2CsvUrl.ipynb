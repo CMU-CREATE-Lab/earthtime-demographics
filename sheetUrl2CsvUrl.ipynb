{
 "cells": [
  {
   "cell_type": "code",
   "execution_count": 2,
   "metadata": {},
   "outputs": [],
   "source": [
    "def sheetUrl2CsvUrl(sheetUrl):\n",
    "    tokens = sheetUrl.split('/')\n",
    "    assert(len(tokens) == 7)\n",
    "    assert(tokens[4] == 'd')\n",
    "    docHash = tokens[5]\n",
    "    assert(len(docHash) > 20)\n",
    "    edit = tokens[6]\n",
    "    assert edit[0:9] == 'edit#gid='\n",
    "    gid = edit[9:]\n",
    "    return 'https://docs-proxy.cmucreatelab.org/spreadsheets/d/' + docHash + '/export?format=csv&gid=' + gid"
   ]
  },
  {
   "cell_type": "code",
   "execution_count": 3,
   "metadata": {},
   "outputs": [
    {
     "data": {
      "text/plain": [
       "'https://docs-proxy.cmucreatelab.org/spreadsheets/d/1nynV87PPaxyrw0jyjNRya73dfYKe4GkUdR8wIFScpd0/export?format=csv&gid=0'"
      ]
     },
     "execution_count": 3,
     "metadata": {},
     "output_type": "execute_result"
    }
   ],
   "source": [
    "sheetUrl2CsvUrl(\"https://docs.google.com/spreadsheets/d/1nynV87PPaxyrw0jyjNRya73dfYKe4GkUdR8wIFScpd0/edit#gid=0\")"
   ]
  },
  {
   "cell_type": "code",
   "execution_count": null,
   "metadata": {
    "collapsed": true
   },
   "outputs": [],
   "source": []
  }
 ],
 "metadata": {
  "kernelspec": {
   "display_name": "Python 2",
   "language": "python",
   "name": "python2"
  },
  "language_info": {
   "codemirror_mode": {
    "name": "ipython",
    "version": 2
   },
   "file_extension": ".py",
   "mimetype": "text/x-python",
   "name": "python",
   "nbconvert_exporter": "python",
   "pygments_lexer": "ipython2",
   "version": "2.7.15"
  }
 },
 "nbformat": 4,
 "nbformat_minor": 2
}
