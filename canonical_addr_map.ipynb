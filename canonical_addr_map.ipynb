{
 "cells": [
  {
   "cell_type": "code",
   "execution_count": 1,
   "metadata": {},
   "outputs": [],
   "source": [
    "# This is based off of http://localhost:8820/notebooks/projects/demographics/Voting-2018-AW8.ipynb\n",
    "# and is intended to give access to the canonical_addr map from other notebooks."
   ]
  },
  {
   "cell_type": "code",
   "execution_count": null,
   "metadata": {},
   "outputs": [],
   "source": [
    "import pickle\n"
   ]
  },
  {
   "cell_type": "code",
   "execution_count": 2,
   "metadata": {},
   "outputs": [],
   "source": [
    "# Key is string canonical address, value is a map: {'canonical_in_census_db': True/False,'canonical_in_google_db': True/False, 'other_addr_strings':Set, 'census_value':str, 'google_value':str\n",
    "try:\n",
    "    canonical_addr_map\n",
    "except:\n",
    "    canonical_addr_map={}"
   ]
  },
  {
   "cell_type": "code",
   "execution_count": 3,
   "metadata": {},
   "outputs": [],
   "source": [
    "def canonicalize_string(text):\n",
    "    # Remove any leading or trailing whitespace, replace any internal whitespace with single spaces, upcase it all\n",
    "    ret = re.sub(\"^\\s+|\\s+$\", \"\", text)\n",
    "    ret = re.sub(\"\\s+\", \" \", ret)\n",
    "    return ret.upper()"
   ]
  },
  {
   "cell_type": "code",
   "execution_count": 9,
   "metadata": {},
   "outputs": [],
   "source": [
    "# Try to load canonical_addr_map originally created by \n",
    "#  http://localhost:8820/notebooks/projects/demographics/Fixup%20Address%20DB.ipynb\n",
    "# 'assessments/canonical_addr_map_e.pickle' has census_block addresses resolutions for 2005-02 and 2013-02\n",
    "# 'assessments/canonical_addr_map_f.pickle' has census_block addresses after major fixups\n",
    "# 'assessments/canonical_addr_map_g.pickle' has census_block addresses after even more major fixups\n",
    "canonical_addr_map_file_path_t = 'assessments/canonical_addr_map_{}.pickle'\n",
    "default_cam_suffix = 'g'\n",
    "a=1\n",
    "def save_canonical_addr_map(suffix):\n",
    "    global canonical_addr_map_file_path_t\n",
    "    global canonical_addr_map\n",
    "    \n",
    "    if not suffix:\n",
    "        print \"ERROR: need to specify suffix to save canonical_addr_map.  Default load suffix is %s\"%(default_cam_suffix)\n",
    "\n",
    "    canonical_addr_map_file_path = canonical_addr_map_file_path_t.format(suffix)\n",
    "\n",
    "    print 'Saving canonical_addr_map to %s'%(canonical_addr_map_file_path)\n",
    "    \n",
    "    # Save out canonical_addr_map\n",
    "    with open(canonical_addr_map_file_path, 'wb') as handle:\n",
    "        pickle.dump(canonical_addr_map, handle, protocol=pickle.HIGHEST_PROTOCOL)\n",
    "\n",
    "def load_canonical_addr_map(suffix):\n",
    "    global canonical_addr_map_file_path_t\n",
    "    global canonical_addr_map\n",
    "\n",
    "    if not suffix:\n",
    "        suffix = default_cam_suffix\n",
    "    \n",
    "    canonical_addr_map_file_path = canonical_addr_map_file_path_t.format(suffix)\n",
    "    print 'Loading canonical_addr_map from %s'%(canonical_addr_map_file_path)\n",
    "\n",
    "    # Load in canonical_addr_map \n",
    "    with open(canonical_addr_map_file_path, 'rb') as handle:\n",
    "        canonical_addr_map = pickle.load(handle)\n"
   ]
  },
  {
   "cell_type": "code",
   "execution_count": 10,
   "metadata": {},
   "outputs": [
    {
     "name": "stdout",
     "output_type": "stream",
     "text": [
      "Loading canonical_addr_map from assessments/canonical_addr_map_g.pickle\n"
     ]
    }
   ],
   "source": [
    "#load_canonical_addr_map(None)"
   ]
  },
  {
   "cell_type": "code",
   "execution_count": null,
   "metadata": {},
   "outputs": [],
   "source": []
  }
 ],
 "metadata": {
  "kernelspec": {
   "display_name": "Python 2",
   "language": "python",
   "name": "python2"
  },
  "language_info": {
   "codemirror_mode": {
    "name": "ipython",
    "version": 2
   },
   "file_extension": ".py",
   "mimetype": "text/x-python",
   "name": "python",
   "nbconvert_exporter": "python",
   "pygments_lexer": "ipython2",
   "version": "2.7.15"
  }
 },
 "nbformat": 4,
 "nbformat_minor": 2
}
