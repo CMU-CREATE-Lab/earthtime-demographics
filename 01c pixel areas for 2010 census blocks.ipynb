{
 "cells": [
  {
   "cell_type": "markdown",
   "metadata": {},
   "source": [
    "Download, unpack, and import into database the 2000 and 2010 Census Block Shapefiles as defined by TIGER 2010\n",
    "=============================================================================================================\n",
    "\n",
    "Note:  There are two definitions of the 2000 decennial census block shapes.  The shapes originally created in 2000 by TIGER2K are quite inaccurate and should no longer be used.  In 2010, TIGER 2010 created block shapes for the 2010 Decennial Census, and also at the same time recreated the 2000 Decennial Census block shapes, a much more accurate version.\n",
    "\n",
    "This script downloads the TIGER 2010 versions of both the 2000 and 2010 decennial census block shapes."
   ]
  },
  {
   "cell_type": "code",
   "execution_count": 29,
   "metadata": {},
   "outputs": [
    {
     "data": {
      "text/html": [
       "<style>#notebook-container { margin-left:-14px; width:calc(100% + 27px) !important; }</style>"
      ],
      "text/plain": [
       "<IPython.core.display.HTML object>"
      ]
     },
     "metadata": {},
     "output_type": "display_data"
    }
   ],
   "source": [
    "import csv, json, os, re, shutil\n",
    "import subprocess, sys, threading, traceback, urllib2\n",
    "\n",
    "import pandas as pd\n",
    "import geopandas as gpd\n",
    "import numpy as np\n",
    "from geopandas import GeoSeries, GeoDataFrame\n",
    "%matplotlib inline\n",
    "\n",
    "from IPython.core.display import display, HTML\n",
    "display(HTML(\"<style>#notebook-container { margin-left:-14px; width:calc(100% + 27px) !important; }</style>\"))\n",
    "\n",
    "def exec_ipynb(filename_or_url):\n",
    "    nb = (urllib2.urlopen(filename_or_url) if re.match(r'https?:', filename_or_url) else open(filename_or_url)).read()\n",
    "    jsonNb = json.loads(nb)\n",
    "    #check for the modified formatting of Jupyter Notebook v4\n",
    "    if(jsonNb['nbformat'] == 4):\n",
    "        exec '\\n'.join([''.join(cell['source']) for cell in jsonNb['cells'] if cell['cell_type'] == 'code']) in globals()\n",
    "    else:\n",
    "        exec '\\n'.join([''.join(cell['input']) for cell in jsonNb['worksheets'][0]['cells'] if cell['cell_type'] == 'code']) in globals()\n",
    "\n",
    "exec_ipynb('timelapse-utilities.ipynb')"
   ]
  },
  {
   "cell_type": "markdown",
   "metadata": {},
   "source": [
    "Census 2010 subdivisions, for U.S. only:\n",
    "    \n",
    "    ~50 states\n",
    "    ~73K census tracts (approx 4000 people)\n",
    "    ~218K block groups (approx 1500 people)\n",
    "    ~11M blocks"
   ]
  },
  {
   "cell_type": "code",
   "execution_count": 18,
   "metadata": {},
   "outputs": [
    {
     "name": "stderr",
     "output_type": "stream",
     "text": [
      "Reading capture/tiger2010_census2010_blocks/tl_2010_01_tabblock10/tl_2010_01_tabblock10.shp\n",
      "capture/tiger2010_census2010_blocks/05-areas.json already exists, skipping\n",
      "capture/tiger2010_census2010_blocks/04-areas.json already exists, skipping\n",
      "capture/tiger2010_census2010_blocks/06-areas.json already exists, skipping\n",
      "capture/tiger2010_census2010_blocks/08-areas.json already exists, skipping\n",
      "capture/tiger2010_census2010_blocks/02-areas.json already exists, skipping\n",
      "capture/tiger2010_census2010_blocks/09-areas.json already exists, skipping\n",
      "capture/tiger2010_census2010_blocks/10-areas.json already exists, skipping\n",
      "capture/tiger2010_census2010_blocks/11-areas.json already exists, skipping\n",
      "capture/tiger2010_census2010_blocks/12-areas.json already exists, skipping\n",
      "capture/tiger2010_census2010_blocks/13-areas.json already exists, skipping\n",
      "capture/tiger2010_census2010_blocks/15-areas.json already exists, skipping\n",
      "capture/tiger2010_census2010_blocks/18-areas.json already exists, skipping\n",
      "capture/tiger2010_census2010_blocks/17-areas.json already exists, skipping\n",
      "capture/tiger2010_census2010_blocks/19-areas.json already exists, skipping\n",
      "capture/tiger2010_census2010_blocks/20-areas.json already exists, skipping\n",
      "capture/tiger2010_census2010_blocks/16-areas.json already exists, skipping\n",
      "capture/tiger2010_census2010_blocks/22-areas.json already exists, skipping\n",
      "capture/tiger2010_census2010_blocks/21-areas.json already exists, skipping\n",
      "capture/tiger2010_census2010_blocks/23-areas.json already exists, skipping\n",
      "capture/tiger2010_census2010_blocks/24-areas.json already exists, skipping\n",
      "capture/tiger2010_census2010_blocks/26-areas.json already exists, skipping\n",
      "capture/tiger2010_census2010_blocks/25-areas.json already exists, skipping\n",
      "capture/tiger2010_census2010_blocks/27-areas.json already exists, skipping\n",
      "capture/tiger2010_census2010_blocks/29-areas.json already exists, skipping\n",
      "capture/tiger2010_census2010_blocks/30-areas.json already exists, skipping\n",
      "capture/tiger2010_census2010_blocks/28-areas.json already exists, skipping\n",
      "capture/tiger2010_census2010_blocks/31-areas.json already exists, skipping\n",
      "capture/tiger2010_census2010_blocks/32-areas.json already exists, skipping\n",
      "capture/tiger2010_census2010_blocks/33-areas.json already exists, skipping\n",
      "capture/tiger2010_census2010_blocks/34-areas.json already exists, skipping\n",
      "capture/tiger2010_census2010_blocks/35-areas.json already exists, skipping\n",
      "capture/tiger2010_census2010_blocks/36-areas.json already exists, skipping\n",
      "capture/tiger2010_census2010_blocks/38-areas.json already exists, skipping\n",
      "capture/tiger2010_census2010_blocks/37-areas.json already exists, skipping\n",
      "capture/tiger2010_census2010_blocks/39-areas.json already exists, skipping\n",
      "capture/tiger2010_census2010_blocks/40-areas.json already exists, skipping\n",
      "capture/tiger2010_census2010_blocks/42-areas.json already exists, skipping\n",
      "capture/tiger2010_census2010_blocks/41-areas.json already exists, skipping\n",
      "capture/tiger2010_census2010_blocks/44-areas.json already exists, skipping\n",
      "capture/tiger2010_census2010_blocks/45-areas.json already exists, skipping\n",
      "capture/tiger2010_census2010_blocks/49-areas.json already exists, skipping\n",
      "capture/tiger2010_census2010_blocks/46-areas.json already exists, skipping\n",
      "capture/tiger2010_census2010_blocks/47-areas.json already exists, skipping\n",
      "capture/tiger2010_census2010_blocks/50-areas.json already exists, skipping\n",
      "capture/tiger2010_census2010_blocks/48-areas.json already exists, skipping\n",
      "capture/tiger2010_census2010_blocks/51-areas.json already exists, skipping\n",
      "capture/tiger2010_census2010_blocks/53-areas.json already exists, skipping\n",
      "capture/tiger2010_census2010_blocks/54-areas.json already exists, skipping\n",
      "capture/tiger2010_census2010_blocks/55-areas.json already exists, skipping\n",
      "capture/tiger2010_census2010_blocks/56-areas.json already exists, skipping\n",
      "Created capture/tiger2010_census2010_blocks/01-areas.json with 252266 blocks\n"
     ]
    },
    {
     "name": "stdout",
     "output_type": "stream",
     "text": [
      "SimpleProcessPoolExecutor succeeded: all 51 jobs completed\n"
     ]
    }
   ],
   "source": [
    "def compute_areas(state_id):\n",
    "    src = 'capture/tiger2010_census2010_blocks/tl_2010_%s_tabblock10/tl_2010_%s_tabblock10.shp' % (state_id, state_id)\n",
    "    dest = 'capture/tiger2010_census2010_blocks/%s-areas.json' % state_id\n",
    "    \n",
    "    if os.path.exists(dest):\n",
    "        sys.stderr.write('%s already exists, skipping\\n' % dest)\n",
    "        return\n",
    "    \n",
    "    sys.stderr.write('Reading %s\\n' % src)\n",
    "\n",
    "    g = gpd.read_file(src)\n",
    "    # convert to web mercator\n",
    "    m = g.to_crs(epsg=3857)\n",
    "    areas = dict(zip(m['GEOID10'], m.geometry.area))\n",
    "    json.dump(areas, open(dest + '.tmp', 'w'))\n",
    "    os.rename(dest + '.tmp', dest)\n",
    "    sys.stderr.write('Created %s with %d blocks\\n' % (dest, len(areas)))\n",
    "\n",
    "    \n",
    "pool = SimpleProcessPoolExecutor(8)\n",
    "for state_id in state_ids:\n",
    "    pool.submit(compute_areas, state_id)\n",
    "    \n",
    "pool.shutdown()\n",
    "None"
   ]
  },
  {
   "cell_type": "markdown",
   "metadata": {},
   "source": [
    "# Aggregate all the state block areas"
   ]
  },
  {
   "cell_type": "code",
   "execution_count": 19,
   "metadata": {},
   "outputs": [
    {
     "name": "stdout",
     "output_type": "stream",
     "text": [
      "Read 252266 blocks from capture/tiger2010_census2010_blocks/01-areas.json\n",
      "Read 45292 blocks from capture/tiger2010_census2010_blocks/02-areas.json\n",
      "Read 241666 blocks from capture/tiger2010_census2010_blocks/04-areas.json\n",
      "Read 186211 blocks from capture/tiger2010_census2010_blocks/05-areas.json\n",
      "Read 710145 blocks from capture/tiger2010_census2010_blocks/06-areas.json\n",
      "Read 201062 blocks from capture/tiger2010_census2010_blocks/08-areas.json\n",
      "Read 67578 blocks from capture/tiger2010_census2010_blocks/09-areas.json\n",
      "Read 24115 blocks from capture/tiger2010_census2010_blocks/10-areas.json\n",
      "Read 6507 blocks from capture/tiger2010_census2010_blocks/11-areas.json\n",
      "Read 484481 blocks from capture/tiger2010_census2010_blocks/12-areas.json\n",
      "Read 291086 blocks from capture/tiger2010_census2010_blocks/13-areas.json\n",
      "Read 25016 blocks from capture/tiger2010_census2010_blocks/15-areas.json\n",
      "Read 149842 blocks from capture/tiger2010_census2010_blocks/16-areas.json\n",
      "Read 451554 blocks from capture/tiger2010_census2010_blocks/17-areas.json\n",
      "Read 267071 blocks from capture/tiger2010_census2010_blocks/18-areas.json\n",
      "Read 216007 blocks from capture/tiger2010_census2010_blocks/19-areas.json\n",
      "Read 238600 blocks from capture/tiger2010_census2010_blocks/20-areas.json\n",
      "Read 161672 blocks from capture/tiger2010_census2010_blocks/21-areas.json\n",
      "Read 204447 blocks from capture/tiger2010_census2010_blocks/22-areas.json\n",
      "Read 69518 blocks from capture/tiger2010_census2010_blocks/23-areas.json\n",
      "Read 145247 blocks from capture/tiger2010_census2010_blocks/24-areas.json\n",
      "Read 157508 blocks from capture/tiger2010_census2010_blocks/25-areas.json\n",
      "Read 329885 blocks from capture/tiger2010_census2010_blocks/26-areas.json\n",
      "Read 259777 blocks from capture/tiger2010_census2010_blocks/27-areas.json\n",
      "Read 171778 blocks from capture/tiger2010_census2010_blocks/28-areas.json\n",
      "Read 343565 blocks from capture/tiger2010_census2010_blocks/29-areas.json\n",
      "Read 132288 blocks from capture/tiger2010_census2010_blocks/30-areas.json\n",
      "Read 193352 blocks from capture/tiger2010_census2010_blocks/31-areas.json\n",
      "Read 84538 blocks from capture/tiger2010_census2010_blocks/32-areas.json\n",
      "Read 48837 blocks from capture/tiger2010_census2010_blocks/33-areas.json\n",
      "Read 169588 blocks from capture/tiger2010_census2010_blocks/34-areas.json\n",
      "Read 168609 blocks from capture/tiger2010_census2010_blocks/35-areas.json\n",
      "Read 350169 blocks from capture/tiger2010_census2010_blocks/36-areas.json\n",
      "Read 288987 blocks from capture/tiger2010_census2010_blocks/37-areas.json\n",
      "Read 133769 blocks from capture/tiger2010_census2010_blocks/38-areas.json\n",
      "Read 365344 blocks from capture/tiger2010_census2010_blocks/39-areas.json\n",
      "Read 269118 blocks from capture/tiger2010_census2010_blocks/40-areas.json\n",
      "Read 196621 blocks from capture/tiger2010_census2010_blocks/41-areas.json\n",
      "Read 421545 blocks from capture/tiger2010_census2010_blocks/42-areas.json\n",
      "Read 25181 blocks from capture/tiger2010_census2010_blocks/44-areas.json\n",
      "Read 181908 blocks from capture/tiger2010_census2010_blocks/45-areas.json\n",
      "Read 88360 blocks from capture/tiger2010_census2010_blocks/46-areas.json\n",
      "Read 240116 blocks from capture/tiger2010_census2010_blocks/47-areas.json\n",
      "Read 914231 blocks from capture/tiger2010_census2010_blocks/48-areas.json\n",
      "Read 115406 blocks from capture/tiger2010_census2010_blocks/49-areas.json\n",
      "Read 32580 blocks from capture/tiger2010_census2010_blocks/50-areas.json\n",
      "Read 285762 blocks from capture/tiger2010_census2010_blocks/51-areas.json\n",
      "Read 195574 blocks from capture/tiger2010_census2010_blocks/53-areas.json\n",
      "Read 135218 blocks from capture/tiger2010_census2010_blocks/54-areas.json\n",
      "Read 253096 blocks from capture/tiger2010_census2010_blocks/55-areas.json\n",
      "Read 86204 blocks from capture/tiger2010_census2010_blocks/56-areas.json\n",
      "Total of 11078297 block areas read\n"
     ]
    }
   ],
   "source": [
    "areas = {}\n",
    "for state_id in state_ids:\n",
    "    filename = 'capture/tiger2010_census2010_blocks/%s-areas.json' % state_id\n",
    "    state_areas = json.load(open(filename))\n",
    "    print('Read %d blocks from %s' % (len(state_areas), filename))\n",
    "    areas.update(state_areas)\n",
    "print('Total of %d block areas read' % len(areas))"
   ]
  },
  {
   "cell_type": "code",
   "execution_count": 20,
   "metadata": {},
   "outputs": [],
   "source": [
    "block_geoids_2010 = json.load(open('block_geoids_2010.json'))"
   ]
  },
  {
   "cell_type": "code",
   "execution_count": 21,
   "metadata": {},
   "outputs": [
    {
     "data": {
      "text/plain": [
       "11078297"
      ]
     },
     "execution_count": 21,
     "metadata": {},
     "output_type": "execute_result"
    }
   ],
   "source": [
    "len(block_geoids_2010)"
   ]
  },
  {
   "cell_type": "code",
   "execution_count": 24,
   "metadata": {},
   "outputs": [],
   "source": [
    "assert(sorted(areas.keys()) == block_geoids_2010)"
   ]
  },
  {
   "cell_type": "code",
   "execution_count": 27,
   "metadata": {},
   "outputs": [],
   "source": [
    "!mkdir columncache/geometry_block2010"
   ]
  },
  {
   "cell_type": "code",
   "execution_count": 30,
   "metadata": {},
   "outputs": [
    {
     "data": {
      "text/plain": [
       "array([1., 2., 3., 4., 5.], dtype=float32)"
      ]
     },
     "execution_count": 30,
     "metadata": {},
     "output_type": "execute_result"
    }
   ],
   "source": [
    "np.array([1,2,3,4,5], dtype=np.float32)"
   ]
  },
  {
   "cell_type": "code",
   "execution_count": 31,
   "metadata": {},
   "outputs": [
    {
     "data": {
      "text/plain": [
       "[679987.0344843781,\n",
       " 678.8211526162452,\n",
       " 4924.9755513186155,\n",
       " 721107.0802927441,\n",
       " 1054.15165899667,\n",
       " 895.506225840995,\n",
       " 2538.783843693782,\n",
       " 1139299.9552203414,\n",
       " 7735.269762136278,\n",
       " 297776.74127220816]"
      ]
     },
     "execution_count": 31,
     "metadata": {},
     "output_type": "execute_result"
    }
   ],
   "source": [
    "area_values = [areas[geoid] for geoid in sorted(areas.keys())]\n",
    "area_values[0:10]"
   ]
  },
  {
   "cell_type": "code",
   "execution_count": 32,
   "metadata": {},
   "outputs": [
    {
     "data": {
      "text/plain": [
       "array([0.0000000e+00, 6.7998706e+05, 6.7882117e+02, ..., 1.5491511e+04,\n",
       "       1.1459661e+05, 1.6444244e+05], dtype=float32)"
      ]
     },
     "execution_count": 32,
     "metadata": {},
     "output_type": "execute_result"
    }
   ],
   "source": [
    "np_areas = np.array([0.0] + area_values, dtype=np.float32)\n",
    "np_areas"
   ]
  },
  {
   "cell_type": "code",
   "execution_count": 41,
   "metadata": {},
   "outputs": [],
   "source": [
    "np_areas.tofile('columncache/geometry_block2010/area_web_mercator_sqm.float32')"
   ]
  },
  {
   "cell_type": "code",
   "execution_count": 42,
   "metadata": {},
   "outputs": [
    {
     "name": "stdout",
     "output_type": "stream",
     "text": [
      "-rw-rw-r-- 1 rsargent rsargent 44313192 Jul 23 14:25 columncache/geometry_block2010/area_web_mercator_sqm.float32\r\n"
     ]
    }
   ],
   "source": [
    "!ls -l columncache/geometry_block2010/area_web_mercator_sqm.float32"
   ]
  },
  {
   "cell_type": "code",
   "execution_count": 43,
   "metadata": {},
   "outputs": [
    {
     "data": {
      "text/plain": [
       "11078298"
      ]
     },
     "execution_count": 43,
     "metadata": {},
     "output_type": "execute_result"
    }
   ],
   "source": [
    "44313192 / 4"
   ]
  },
  {
   "cell_type": "code",
   "execution_count": null,
   "metadata": {},
   "outputs": [],
   "source": []
  }
 ],
 "metadata": {
  "anaconda-cloud": {},
  "kernelspec": {
   "display_name": "Python 2",
   "language": "python",
   "name": "python2"
  },
  "language_info": {
   "codemirror_mode": {
    "name": "ipython",
    "version": 2
   },
   "file_extension": ".py",
   "mimetype": "text/x-python",
   "name": "python",
   "nbconvert_exporter": "python",
   "pygments_lexer": "ipython2",
   "version": "2.7.15"
  }
 },
 "nbformat": 4,
 "nbformat_minor": 1
}
