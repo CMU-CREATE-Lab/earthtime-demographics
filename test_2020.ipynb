{
 "cells": [
  {
   "cell_type": "code",
   "execution_count": 1,
   "metadata": {},
   "outputs": [
    {
     "name": "stderr",
     "output_type": "stream",
     "text": [
      "2023-06-09 14:03:15-0400 55998 3.425GB: Starting, path /workspace2/rsargent/uwsgi/dotmaptiles-staging-server/tileserve.py\n",
      "2023-06-09 14:03:15-0400 55998 3.425GB: Containing dir dotmaptiles-staging-server, is_production=False, dotmaptiles_table=dotmaptiles_staging\n"
     ]
    },
    {
     "name": "stdout",
     "output_type": "stream",
     "text": [
      "Connecting to database earthtime with host=/var/run/postgresql\n",
      "Python version:  3.11.4 (main, Jun  7 2023, 12:45:48) [GCC 11.3.0]\n",
      "gcc -pthread -shared -rdynamic -fno-strict-aliasing -g -DNDEBUG -fwrapv -O3 -Wall -Wstrict-prototypes -fPIC -I/usr/include/python3.11 -L/home/rsargent/uwsgi/dotmaptiles-staging-server/.venv/lib/python3.11/site-packages -L/home/rsargent/uwsgi/dotmaptiles-staging-server/.venv/lib/python3.11/site-packages/../.. -lpython3.11 /tmp/tmp13o5ydoi.c -o /tmp/tmpf2ml8d1z-000001.so\n"
     ]
    }
   ],
   "source": [
    "import numpy as np\n",
    "import pandas as pd\n",
    "from tileserve import compute_prototile_dir, compute_prototile_path, get_layerdef, find_or_generate_layer"
   ]
  },
  {
   "cell_type": "code",
   "execution_count": 2,
   "metadata": {},
   "outputs": [],
   "source": [
    "# X: 0-256 in web mercator\n",
    "# Y: 0-256 in web mercator\n",
    "# 1 <= blockidx <= N inclusive, where N is the number of blocks in the county\n",
    "# 0 <= dotidx < numdots_in_block\n",
    "\n",
    "record_dtype = np.dtype([('x', np.float32), ('y', np.float32), ('block_idx', np.int32), ('dot_idx', np.int32)])\n",
    "record_bytes = record_dtype.itemsize\n",
    "assert record_bytes == 16"
   ]
  },
  {
   "cell_type": "code",
   "execution_count": 3,
   "metadata": {},
   "outputs": [
    {
     "name": "stderr",
     "output_type": "stream",
     "text": [
      "2023-06-09 14:03:16-0400 55998 3.427GB: draw_options.levelSubsample does not exist, using prototiles\n",
      "2023-06-09 14:03:16-0400 55998 3.427GB: using prototiles for geography 2020\n"
     ]
    },
    {
     "data": {
      "text/html": [
       "<div>\n",
       "<style scoped>\n",
       "    .dataframe tbody tr th:only-of-type {\n",
       "        vertical-align: middle;\n",
       "    }\n",
       "\n",
       "    .dataframe tbody tr th {\n",
       "        vertical-align: top;\n",
       "    }\n",
       "\n",
       "    .dataframe thead th {\n",
       "        text-align: right;\n",
       "    }\n",
       "</style>\n",
       "<table border=\"1\" class=\"dataframe\">\n",
       "  <thead>\n",
       "    <tr style=\"text-align: right;\">\n",
       "      <th></th>\n",
       "      <th>x</th>\n",
       "      <th>y</th>\n",
       "      <th>block_idx</th>\n",
       "      <th>dot_idx</th>\n",
       "    </tr>\n",
       "  </thead>\n",
       "  <tbody>\n",
       "    <tr>\n",
       "      <th>65</th>\n",
       "      <td>66.497932</td>\n",
       "      <td>103.567261</td>\n",
       "      <td>14</td>\n",
       "      <td>12</td>\n",
       "    </tr>\n",
       "    <tr>\n",
       "      <th>80</th>\n",
       "      <td>66.492172</td>\n",
       "      <td>103.567741</td>\n",
       "      <td>13</td>\n",
       "      <td>107</td>\n",
       "    </tr>\n",
       "    <tr>\n",
       "      <th>94</th>\n",
       "      <td>66.488724</td>\n",
       "      <td>103.567032</td>\n",
       "      <td>10</td>\n",
       "      <td>24</td>\n",
       "    </tr>\n",
       "    <tr>\n",
       "      <th>97</th>\n",
       "      <td>66.488342</td>\n",
       "      <td>103.566811</td>\n",
       "      <td>5</td>\n",
       "      <td>21</td>\n",
       "    </tr>\n",
       "    <tr>\n",
       "      <th>127</th>\n",
       "      <td>66.496513</td>\n",
       "      <td>103.566299</td>\n",
       "      <td>13</td>\n",
       "      <td>177</td>\n",
       "    </tr>\n",
       "    <tr>\n",
       "      <th>...</th>\n",
       "      <td>...</td>\n",
       "      <td>...</td>\n",
       "      <td>...</td>\n",
       "      <td>...</td>\n",
       "    </tr>\n",
       "    <tr>\n",
       "      <th>74385</th>\n",
       "      <td>66.490265</td>\n",
       "      <td>103.567413</td>\n",
       "      <td>8</td>\n",
       "      <td>32</td>\n",
       "    </tr>\n",
       "    <tr>\n",
       "      <th>74404</th>\n",
       "      <td>66.495361</td>\n",
       "      <td>103.565231</td>\n",
       "      <td>3</td>\n",
       "      <td>3</td>\n",
       "    </tr>\n",
       "    <tr>\n",
       "      <th>74483</th>\n",
       "      <td>66.495544</td>\n",
       "      <td>103.566772</td>\n",
       "      <td>13</td>\n",
       "      <td>106</td>\n",
       "    </tr>\n",
       "    <tr>\n",
       "      <th>74614</th>\n",
       "      <td>66.493332</td>\n",
       "      <td>103.567871</td>\n",
       "      <td>15</td>\n",
       "      <td>235</td>\n",
       "    </tr>\n",
       "    <tr>\n",
       "      <th>74615</th>\n",
       "      <td>66.496162</td>\n",
       "      <td>103.564514</td>\n",
       "      <td>3</td>\n",
       "      <td>5</td>\n",
       "    </tr>\n",
       "  </tbody>\n",
       "</table>\n",
       "<p>1637 rows × 4 columns</p>\n",
       "</div>"
      ],
      "text/plain": [
       "               x           y  block_idx  dot_idx\n",
       "65     66.497932  103.567261         14       12\n",
       "80     66.492172  103.567741         13      107\n",
       "94     66.488724  103.567032         10       24\n",
       "97     66.488342  103.566811          5       21\n",
       "127    66.496513  103.566299         13      177\n",
       "...          ...         ...        ...      ...\n",
       "74385  66.490265  103.567413          8       32\n",
       "74404  66.495361  103.565231          3        3\n",
       "74483  66.495544  103.566772         13      106\n",
       "74614  66.493332  103.567871         15      235\n",
       "74615  66.496162  103.564514          3        5\n",
       "\n",
       "[1637 rows x 4 columns]"
      ]
     },
     "execution_count": 3,
     "metadata": {},
     "output_type": "execute_result"
    }
   ],
   "source": [
    "\n",
    "\n",
    "dfs = []\n",
    "\n",
    "geog_year = 2020\n",
    "levelSubsample = {}\n",
    "\n",
    "prototile_dir = compute_prototile_dir(geog_year, levelSubsample)\n",
    "tile_path = compute_prototile_path(prototile_dir, pz=10, px=265, py=414)\n",
    "\n",
    "df = pd.DataFrame(np.fromfile(tile_path, dtype=record_dtype))\n",
    "#     \"prototiles.2020/10/265/413.bin\",\n",
    "#     \"prototiles.2020/10/266/413.bin\",\n",
    "#     \"prototiles.2020/10/265/414.bin\",\n",
    "#     \"prototiles.2020/10/266/414.bin\"\n",
    "\n",
    "\n",
    "df = df[df['block_idx'] <= 20]\n",
    "df\n"
   ]
  },
  {
   "cell_type": "code",
   "execution_count": 4,
   "metadata": {},
   "outputs": [
    {
     "name": "stderr",
     "output_type": "stream",
     "text": [
      "2023-06-09 14:03:26-0400 55998 3.429GB: census2020_p001_pop_2020_test\n",
      "2023-06-09 14:03:26-0400 55998 3.429GB: acce6a43f41c10ff3101a6031cceb9d8: computing from #ebc634;census2020_block2020.P0010001 with 2020 geography\n"
     ]
    },
    {
     "ename": "TypeError",
     "evalue": "eval_() missing 1 required positional argument: 'geography_year'",
     "output_type": "error",
     "traceback": [
      "\u001b[0;31m---------------------------------------------------------------------------\u001b[0m",
      "\u001b[0;31mTypeError\u001b[0m                                 Traceback (most recent call last)",
      "Cell \u001b[0;32mIn[4], line 2\u001b[0m\n\u001b[1;32m      1\u001b[0m layerdef \u001b[39m=\u001b[39m get_layerdef(\u001b[39m\"\u001b[39m\u001b[39mcensus2020_p001_pop_2020_test\u001b[39m\u001b[39m\"\u001b[39m)\n\u001b[0;32m----> 2\u001b[0m layer \u001b[39m=\u001b[39m find_or_generate_layer(layerdef, geog_year)\n\u001b[1;32m      3\u001b[0m layer[\u001b[39m'\u001b[39m\u001b[39mpopulations\u001b[39m\u001b[39m'\u001b[39m]\n",
      "File \u001b[0;32m/workspace2/rsargent/uwsgi/dotmaptiles-staging-server/tileserve.py:1069\u001b[0m, in \u001b[0;36mfind_or_generate_layer\u001b[0;34m(layerdef, geography_year)\u001b[0m\n\u001b[1;32m   1067\u001b[0m \u001b[39mfor\u001b[39;00m (color, expression) \u001b[39min\u001b[39;00m [x\u001b[39m.\u001b[39msplit(\u001b[39m'\u001b[39m\u001b[39m;\u001b[39m\u001b[39m'\u001b[39m) \u001b[39mfor\u001b[39;00m x \u001b[39min\u001b[39;00m layerdef\u001b[39m.\u001b[39msplit(\u001b[39m'\u001b[39m\u001b[39m;;\u001b[39m\u001b[39m'\u001b[39m)]:\n\u001b[1;32m   1068\u001b[0m     colors\u001b[39m.\u001b[39mappend(color)\n\u001b[0;32m-> 1069\u001b[0m     populations\u001b[39m.\u001b[39mappend(eval_layer_column(expression, geography_year))\n\u001b[1;32m   1071\u001b[0m layer \u001b[39m=\u001b[39m {\u001b[39m'\u001b[39m\u001b[39mpopulations\u001b[39m\u001b[39m'\u001b[39m: populations,\n\u001b[1;32m   1072\u001b[0m          \u001b[39m'\u001b[39m\u001b[39mcolors\u001b[39m\u001b[39m'\u001b[39m: parse_colors(colors, encoding\u001b[39m=\u001b[39mnp\u001b[39m.\u001b[39mfloat32),\n\u001b[1;32m   1073\u001b[0m          \u001b[39m'\u001b[39m\u001b[39mcolors_rgba8\u001b[39m\u001b[39m'\u001b[39m: parse_colors(colors, encoding\u001b[39m=\u001b[39mnp\u001b[39m.\u001b[39muint32),\n\u001b[1;32m   1074\u001b[0m          \u001b[39m'\u001b[39m\u001b[39myear\u001b[39m\u001b[39m'\u001b[39m: geography_year}\n\u001b[1;32m   1075\u001b[0m layer_cache\u001b[39m.\u001b[39minsert(layerdef, layer)\n",
      "File \u001b[0;32m/workspace2/rsargent/uwsgi/dotmaptiles-staging-server/tileserve.py:458\u001b[0m, in \u001b[0;36meval_layer_column\u001b[0;34m(expr, year)\u001b[0m\n\u001b[1;32m    456\u001b[0m     expr \u001b[39m=\u001b[39m expr\u001b[39m.\u001b[39mreplace(\u001b[39m'\u001b[39m\u001b[39m DIV \u001b[39m\u001b[39m'\u001b[39m, \u001b[39m'\u001b[39m\u001b[39m/\u001b[39m\u001b[39m'\u001b[39m)\n\u001b[1;32m    457\u001b[0m     body \u001b[39m=\u001b[39m ast\u001b[39m.\u001b[39mparse(expr, mode\u001b[39m=\u001b[39m\u001b[39m'\u001b[39m\u001b[39meval\u001b[39m\u001b[39m'\u001b[39m)\u001b[39m.\u001b[39mbody\n\u001b[0;32m--> 458\u001b[0m     evalled \u001b[39m=\u001b[39m eval_(body)\n\u001b[1;32m    459\u001b[0m     data \u001b[39m=\u001b[39m evalled\u001b[39m.\u001b[39mastype(np\u001b[39m.\u001b[39mfloat32)\n\u001b[1;32m    460\u001b[0m \u001b[39mexcept\u001b[39;00m \u001b[39mSyntaxError\u001b[39;00m:\n",
      "\u001b[0;31mTypeError\u001b[0m: eval_() missing 1 required positional argument: 'geography_year'"
     ]
    }
   ],
   "source": [
    "layerdef = get_layerdef(\"census2020_p001_pop_2020_test\")\n",
    "layer = find_or_generate_layer(layerdef, geog_year)\n",
    "layer['populations']\n"
   ]
  },
  {
   "cell_type": "code",
   "execution_count": null,
   "metadata": {},
   "outputs": [],
   "source": []
  },
  {
   "cell_type": "code",
   "execution_count": null,
   "metadata": {},
   "outputs": [],
   "source": [
    "\n",
    "def LonLatToWebMercator(lon, lat):\n",
    "    x = (lon + 180.0) * 256.0 / 360.0\n",
    "    y = 128.0 - math.log(math.tan((lat + 90.0) * math.pi / 360.0)) * 128.0 / math.pi\n",
    "    return [x, y]\n",
    "\n",
    "def WebMercatorToLonLat(x,y):\n",
    "    lat = math.atan(math.exp((128.0 - y) * math.pi / 128.0)) * 360.0 / math.pi - 90.0\n",
    "    lon = x * 360.0 / 256.0 - 180.0\n",
    "    return [lon, lat]\n",
    "\n",
    "lonlats = df.apply(lambda row: WebMercatorToLonLat(row['x'], row['y']), axis=1, result_type='expand')\n",
    "\n",
    "df = gpd.GeoDataFrame(df, crs=\"EPSG:4326\", geometry=gpd.points_from_xy(lonlats[0], lonlats[1]))\n",
    "# Select only the dots within population (e.g. 10 dots for a block of 10 population)\n",
    "df = df[df['dot_idx'] < pop_2020[df['block_idx']]]\n",
    "df.explore()\n"
   ]
  }
 ],
 "metadata": {
  "kernelspec": {
   "display_name": ".venv",
   "language": "python",
   "name": "python3"
  },
  "language_info": {
   "codemirror_mode": {
    "name": "ipython",
    "version": 3
   },
   "file_extension": ".py",
   "mimetype": "text/x-python",
   "name": "python",
   "nbconvert_exporter": "python",
   "pygments_lexer": "ipython3",
   "version": "3.11.4"
  },
  "orig_nbformat": 4
 },
 "nbformat": 4,
 "nbformat_minor": 2
}
