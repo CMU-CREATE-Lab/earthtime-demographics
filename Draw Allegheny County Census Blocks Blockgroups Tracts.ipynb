{
 "cells": [
  {
   "cell_type": "code",
   "execution_count": 1,
   "metadata": {},
   "outputs": [
    {
     "data": {
      "text/html": [
       "<style>#notebook-container { margin-left:-14px; width:calc(100% + 27px) !important; }</style>"
      ],
      "text/plain": [
       "<IPython.core.display.HTML object>"
      ]
     },
     "metadata": {},
     "output_type": "display_data"
    }
   ],
   "source": [
    "# Wide display\n",
    "from IPython.core.display import display, HTML\n",
    "display(HTML(\"<style>#notebook-container { margin-left:-14px; width:calc(100% + 27px) !important; }</style>\"))"
   ]
  },
  {
   "cell_type": "code",
   "execution_count": 115,
   "metadata": {
    "collapsed": true
   },
   "outputs": [],
   "source": [
    "import csv, json, math, os, numbers, pandas, re, scipy, scipy.sparse, shutil\n",
    "import struct, subprocess, sys, threading, time, urllib2\n",
    "\n",
    "def exec_ipynb(filename_or_url):\n",
    "    nb = (urllib2.urlopen(filename_or_url) if re.match(r'https?:', filename_or_url) else open(filename_or_url)).read()\n",
    "    jsonNb = json.loads(nb)\n",
    "    #check for the modified formatting of Jupyter Notebook v4\n",
    "    if(jsonNb['nbformat'] == 4):\n",
    "        exec '\\n'.join([''.join(cell['source']) for cell in jsonNb['cells'] if cell['cell_type'] == 'code']) in globals()\n",
    "    else:\n",
    "        exec '\\n'.join([''.join(cell['input']) for cell in jsonNb['worksheets'][0]['cells'] if cell['cell_type'] == 'code']) in globals()\n",
    "\n",
    "exec_ipynb('timelapse-utilities.ipynb')"
   ]
  },
  {
   "cell_type": "code",
   "execution_count": 118,
   "metadata": {
    "collapsed": true
   },
   "outputs": [],
   "source": [
    "def get_segments_from_ring(r):\n",
    "    ret = set()\n",
    "    for i in range(0, len(r)):\n",
    "        ret.add((r[i - 1][0], r[i - 1][1], r[i][0], r[i][1]))\n",
    "    return ret\n",
    "\n",
    "def get_segments_from_polygon(p):\n",
    "    return set.union(*[get_segments_from_ring(r) for r in p])\n",
    "\n",
    "def get_segments_from_multipolygon(mp):\n",
    "    return set.union(*[get_segments_from_polygon(p) for p in mp])\n",
    "\n",
    "def get_segments(g):\n",
    "    if 'features' in g:\n",
    "        return set.union(*[get_segments(f) for f in g['features']])\n",
    "    elif 'geometry' in g:\n",
    "        if g['geometry']['type'] == 'Polygon':\n",
    "            return get_segments_from_polygon(g['geometry']['coordinates'])\n",
    "        elif g['geometry']['type'] == 'MultiPolygon':\n",
    "            return get_segments_from_multipolygon(g['geometry']['coordinates'])\n",
    "        else:\n",
    "            raise Exception('unrecognized geometry type %s' % g['geometry']['type'])\n",
    "    else:\n",
    "        raise 'unrecognized type'\n",
    "        \n",
    "def LonLatToWebMercator(lon, lat):\n",
    "    x = (lon + 180.0) * 256.0 / 360.0\n",
    "    y = 128.0 - math.log(math.tan((lat + 90.0) * math.pi / 360.0)) * 128.0 / math.pi\n",
    "    return [x, y]\n",
    "\n",
    "def WebMercatorToLonLat(x,y):\n",
    "    lat = math.atan(math.exp((128.0 - y) * math.pi / 128.0)) * 360.0 / math.pi - 90.0\n",
    "    lon = x * 360.0 / 256.0 - 180.0\n",
    "    return [lon, lat]\n",
    "\n",
    "def project_and_binarize_segment(segment, dest):\n",
    "    (x1, y1) = LonLatToWebMercator(segment[0], segment[1])\n",
    "    (x2, y2) = LonLatToWebMercator(segment[2], segment[3])\n",
    "    dest.write(struct.pack('<ffff', x1, y1, x2, y2))\n",
    "\n",
    "def binarize_geojson_outlines(src, dest):\n",
    "    gj = json.load(open(src))\n",
    "    print 'Read %d features from %s' % (len(gj['features']), src)\n",
    "    segments = get_segments(gj)\n",
    "    print '%d segments' % len(segments)\n",
    "\n",
    "    try:\n",
    "        os.makedirs(os.path.dirname(dest))\n",
    "    except OSError:\n",
    "        pass\n",
    "        \n",
    "    out = open(dest + '.tmp', 'w')\n",
    "    for segment in segments:\n",
    "        project_and_binarize_segment(segment, out)\n",
    "    out.close()\n",
    "    os.rename(dest + '.tmp', dest)\n",
    "    print 'Created %s (%d segments)' % (dest, os.stat(dest).st_size / 16)\n",
    "        "
   ]
  },
  {
   "cell_type": "code",
   "execution_count": 125,
   "metadata": {},
   "outputs": [
    {
     "name": "stdout",
     "output_type": "stream",
     "text": [
      "Read 402 features from allegheny_county/tl_2010_42003_tract10.geojson\n",
      "118186 segments\n",
      "Created allegheny_county/allegeny_county_tracts_2010.bin (118186 segments)\n"
     ]
    }
   ],
   "source": [
    "#!wget https://www2.census.gov/geo/tiger/TIGER2010/TRACT/2010/tl_2010_42003_tract10.zip\n",
    "#!/usr/bin/ogr2ogr -f GeoJSON -t_srs crs:84 allegheny_county/tl_2010_42003_tract10.geojson allegheny_county/tl_2010_42003_tract10.shp\n",
    "\n",
    "binarize_geojson_outlines('allegheny_county/tl_2010_42003_tract10.geojson',\n",
    "                          'allegheny_county/allegeny_county_tracts_2010.bin')"
   ]
  },
  {
   "cell_type": "code",
   "execution_count": 126,
   "metadata": {},
   "outputs": [
    {
     "name": "stdout",
     "output_type": "stream",
     "text": [
      "Read 1100 features from allegheny_county/tl_2010_42003_bg10.geojson\n",
      "220899 segments\n",
      "Created allegheny_county/allegeny_county_blockgroups_2010.bin (220899 segments)\n"
     ]
    }
   ],
   "source": [
    "#!/usr/bin/ogr2ogr -f GeoJSON -t_srs crs:84 allegheny_county/tl_2010_42003_bg10.geojson allegheny_county/tl_2010_42003_bg10.shp\n",
    "\n",
    "binarize_geojson_outlines('allegheny_county/tl_2010_42003_bg10.geojson',\n",
    "                          'allegheny_county/allegeny_county_blockgroups_2010.bin')"
   ]
  },
  {
   "cell_type": "code",
   "execution_count": 127,
   "metadata": {},
   "outputs": [
    {
     "name": "stdout",
     "output_type": "stream",
     "text": [
      "Read 30519 features from allegheny_county/tl_2010_42003_tabblock10.geojson\n",
      "1141888 segments\n",
      "Created allegheny_county/allegeny_county_blocks_2010.bin (1141888 segments)\n"
     ]
    }
   ],
   "source": [
    "#!/usr/bin/ogr2ogr -f GeoJSON -t_srs crs:84 allegheny_county/tl_2010_42003_tabblock10.geojson allegheny_county/tl_2010_42003_tabblock10.shp\n",
    "\n",
    "binarize_geojson_outlines('allegheny_county/tl_2010_42003_tabblock10.geojson',\n",
    "                          'allegheny_county/allegeny_county_blocks_2010.bin')"
   ]
  },
  {
   "cell_type": "code",
   "execution_count": 128,
   "metadata": {},
   "outputs": [
    {
     "data": {
      "text/plain": [
       "memmap([ 71.16960907,  96.48995209,  71.1697464 , ...,  96.5345459 ,\n",
       "        71.14060211,  96.5345993 ], dtype=float32)"
      ]
     },
     "execution_count": 128,
     "metadata": {},
     "output_type": "execute_result"
    }
   ],
   "source": [
    "def numpy_memmap_read(path, dtype):\n",
    "    nelems = os.stat(path).st_size / numpy.dtype(dtype).itemsize\n",
    "    return numpy.memmap(path, dtype=dtype, shape=(nelems,), mode='r')\n",
    "\n",
    "numpy_memmap_read('allegheny_county/allegeny_county_tracts_2010.bin', numpy.float32)"
   ]
  },
  {
   "cell_type": "code",
   "execution_count": null,
   "metadata": {
    "collapsed": true
   },
   "outputs": [],
   "source": []
  }
 ],
 "metadata": {
  "anaconda-cloud": {},
  "kernelspec": {
   "display_name": "Python 2",
   "language": "python",
   "name": "python2"
  },
  "language_info": {
   "codemirror_mode": {
    "name": "ipython",
    "version": 2
   },
   "file_extension": ".py",
   "mimetype": "text/x-python",
   "name": "python",
   "nbconvert_exporter": "python",
   "pygments_lexer": "ipython2",
   "version": "2.7.15"
  }
 },
 "nbformat": 4,
 "nbformat_minor": 1
}
