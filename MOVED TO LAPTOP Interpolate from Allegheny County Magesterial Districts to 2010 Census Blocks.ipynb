{
 "cells": [
  {
   "cell_type": "code",
   "execution_count": 30,
   "metadata": {},
   "outputs": [
    {
     "data": {
      "text/html": [
       "<style>#notebook-container { margin-left:-14px; width:calc(100% + 27px) !important; }</style>"
      ],
      "text/plain": [
       "<IPython.core.display.HTML object>"
      ]
     },
     "metadata": {},
     "output_type": "display_data"
    }
   ],
   "source": [
    "# Wide display\n",
    "from IPython.core.display import display, HTML\n",
    "display(HTML(\"<style>#notebook-container { margin-left:-14px; width:calc(100% + 27px) !important; }</style>\"))"
   ]
  },
  {
   "cell_type": "code",
   "execution_count": 31,
   "metadata": {
    "collapsed": true
   },
   "outputs": [],
   "source": [
    "import csv, json, os, numbers, pandas, re, scipy, scipy.sparse, shutil\n",
    "import subprocess, sys, threading, time, urllib2\n",
    "\n",
    "def exec_ipynb(filename_or_url):\n",
    "    nb = (urllib2.urlopen(filename_or_url) if re.match(r'https?:', filename_or_url) else open(filename_or_url)).read()\n",
    "    jsonNb = json.loads(nb)\n",
    "    #check for the modified formatting of Jupyter Notebook v4\n",
    "    if(jsonNb['nbformat'] == 4):\n",
    "        exec '\\n'.join([''.join(cell['source']) for cell in jsonNb['cells'] if cell['cell_type'] == 'code']) in globals()\n",
    "    else:\n",
    "        exec '\\n'.join([''.join(cell['input']) for cell in jsonNb['worksheets'][0]['cells'] if cell['cell_type'] == 'code']) in globals()\n",
    "\n",
    "exec_ipynb('timelapse-utilities.ipynb')"
   ]
  },
  {
   "cell_type": "code",
   "execution_count": 23,
   "metadata": {},
   "outputs": [
    {
     "name": "stdout",
     "output_type": "stream",
     "text": [
      "Fetching package metadata ...........\n",
      "Solving package specifications: .\n",
      "\n",
      "Package plan for package removal in environment /home/rsargent/anaconda2:\n",
      "\n",
      "The following packages will be REMOVED:\n",
      "\n",
      "    fiona:     1.7.0-py27_0            \n",
      "    geopandas: 0.3.0-py27_0 conda-forge\n",
      "    geos:      3.5.1-1      conda-forge\n",
      "    libgdal:   2.1.0-0                 \n",
      "    shapely:   1.6.2-py27_0 conda-forge\n",
      "\n"
     ]
    }
   ],
   "source": [
    "!conda remove -y geos"
   ]
  },
  {
   "cell_type": "code",
   "execution_count": 27,
   "metadata": {},
   "outputs": [
    {
     "ename": "ImportError",
     "evalue": "libgeos-3.4.2.so: cannot open shared object file: No such file or directory",
     "output_type": "error",
     "traceback": [
      "\u001b[0;31m\u001b[0m",
      "\u001b[0;31mImportError\u001b[0mTraceback (most recent call last)",
      "\u001b[0;32m<ipython-input-27-25dcd02d5db2>\u001b[0m in \u001b[0;36m<module>\u001b[0;34m()\u001b[0m\n\u001b[0;32m----> 1\u001b[0;31m \u001b[0;32mimport\u001b[0m \u001b[0mgeopandas\u001b[0m\u001b[0;34m\u001b[0m\u001b[0m\n\u001b[0m\u001b[1;32m      2\u001b[0m \u001b[0;34m\u001b[0m\u001b[0m\n\u001b[1;32m      3\u001b[0m \u001b[0;31m#!conda install -y fiona geos psycopg2 pysal shapely\u001b[0m\u001b[0;34m\u001b[0m\u001b[0;34m\u001b[0m\u001b[0m\n\u001b[1;32m      4\u001b[0m \u001b[0;31m#!conda install -y -c conda-forge geopandas\u001b[0m\u001b[0;34m\u001b[0m\u001b[0;34m\u001b[0m\u001b[0m\n",
      "\u001b[0;32m/home/rsargent/anaconda2/lib/python2.7/site-packages/geopandas/__init__.py\u001b[0m in \u001b[0;36m<module>\u001b[0;34m()\u001b[0m\n\u001b[1;32m      2\u001b[0m \u001b[0;32mfrom\u001b[0m \u001b[0mgeopandas\u001b[0m\u001b[0;34m.\u001b[0m\u001b[0mgeodataframe\u001b[0m \u001b[0;32mimport\u001b[0m \u001b[0mGeoDataFrame\u001b[0m\u001b[0;34m\u001b[0m\u001b[0m\n\u001b[1;32m      3\u001b[0m \u001b[0;34m\u001b[0m\u001b[0m\n\u001b[0;32m----> 4\u001b[0;31m \u001b[0;32mfrom\u001b[0m \u001b[0mgeopandas\u001b[0m\u001b[0;34m.\u001b[0m\u001b[0mio\u001b[0m\u001b[0;34m.\u001b[0m\u001b[0mfile\u001b[0m \u001b[0;32mimport\u001b[0m \u001b[0mread_file\u001b[0m\u001b[0;34m\u001b[0m\u001b[0m\n\u001b[0m\u001b[1;32m      5\u001b[0m \u001b[0;32mfrom\u001b[0m \u001b[0mgeopandas\u001b[0m\u001b[0;34m.\u001b[0m\u001b[0mio\u001b[0m\u001b[0;34m.\u001b[0m\u001b[0msql\u001b[0m \u001b[0;32mimport\u001b[0m \u001b[0mread_postgis\u001b[0m\u001b[0;34m\u001b[0m\u001b[0m\n\u001b[1;32m      6\u001b[0m \u001b[0;32mfrom\u001b[0m \u001b[0mgeopandas\u001b[0m\u001b[0;34m.\u001b[0m\u001b[0mtools\u001b[0m \u001b[0;32mimport\u001b[0m \u001b[0msjoin\u001b[0m\u001b[0;34m\u001b[0m\u001b[0m\n",
      "\u001b[0;32m/home/rsargent/anaconda2/lib/python2.7/site-packages/geopandas/io/file.py\u001b[0m in \u001b[0;36m<module>\u001b[0;34m()\u001b[0m\n\u001b[1;32m      1\u001b[0m \u001b[0;32mimport\u001b[0m \u001b[0mos\u001b[0m\u001b[0;34m\u001b[0m\u001b[0m\n\u001b[1;32m      2\u001b[0m \u001b[0;34m\u001b[0m\u001b[0m\n\u001b[0;32m----> 3\u001b[0;31m \u001b[0;32mimport\u001b[0m \u001b[0mfiona\u001b[0m\u001b[0;34m\u001b[0m\u001b[0m\n\u001b[0m\u001b[1;32m      4\u001b[0m \u001b[0;32mimport\u001b[0m \u001b[0mnumpy\u001b[0m \u001b[0;32mas\u001b[0m \u001b[0mnp\u001b[0m\u001b[0;34m\u001b[0m\u001b[0m\n\u001b[1;32m      5\u001b[0m \u001b[0;34m\u001b[0m\u001b[0m\n",
      "\u001b[0;32m/home/rsargent/anaconda2/lib/python2.7/site-packages/fiona/__init__.py\u001b[0m in \u001b[0;36m<module>\u001b[0;34m()\u001b[0m\n\u001b[1;32m     70\u001b[0m \u001b[0;32mfrom\u001b[0m \u001b[0msix\u001b[0m \u001b[0;32mimport\u001b[0m \u001b[0mstring_types\u001b[0m\u001b[0;34m\u001b[0m\u001b[0m\n\u001b[1;32m     71\u001b[0m \u001b[0;34m\u001b[0m\u001b[0m\n\u001b[0;32m---> 72\u001b[0;31m \u001b[0;32mfrom\u001b[0m \u001b[0mfiona\u001b[0m\u001b[0;34m.\u001b[0m\u001b[0mcollection\u001b[0m \u001b[0;32mimport\u001b[0m \u001b[0mCollection\u001b[0m\u001b[0;34m,\u001b[0m \u001b[0mBytesCollection\u001b[0m\u001b[0;34m,\u001b[0m \u001b[0mvsi_path\u001b[0m\u001b[0;34m\u001b[0m\u001b[0m\n\u001b[0m\u001b[1;32m     73\u001b[0m \u001b[0;32mfrom\u001b[0m \u001b[0mfiona\u001b[0m\u001b[0;34m.\u001b[0m\u001b[0m_drivers\u001b[0m \u001b[0;32mimport\u001b[0m \u001b[0mdriver_count\u001b[0m\u001b[0;34m,\u001b[0m \u001b[0mGDALEnv\u001b[0m\u001b[0;34m,\u001b[0m \u001b[0msupported_drivers\u001b[0m\u001b[0;34m\u001b[0m\u001b[0m\n\u001b[1;32m     74\u001b[0m \u001b[0;32mfrom\u001b[0m \u001b[0mfiona\u001b[0m\u001b[0;34m.\u001b[0m\u001b[0modict\u001b[0m \u001b[0;32mimport\u001b[0m \u001b[0mOrderedDict\u001b[0m\u001b[0;34m\u001b[0m\u001b[0m\n",
      "\u001b[0;32m/home/rsargent/anaconda2/lib/python2.7/site-packages/fiona/collection.py\u001b[0m in \u001b[0;36m<module>\u001b[0;34m()\u001b[0m\n\u001b[1;32m      5\u001b[0m \u001b[0;32mimport\u001b[0m \u001b[0msys\u001b[0m\u001b[0;34m\u001b[0m\u001b[0m\n\u001b[1;32m      6\u001b[0m \u001b[0;34m\u001b[0m\u001b[0m\n\u001b[0;32m----> 7\u001b[0;31m \u001b[0;32mfrom\u001b[0m \u001b[0mfiona\u001b[0m\u001b[0;34m.\u001b[0m\u001b[0mogrext\u001b[0m \u001b[0;32mimport\u001b[0m \u001b[0mIterator\u001b[0m\u001b[0;34m,\u001b[0m \u001b[0mItemsIterator\u001b[0m\u001b[0;34m,\u001b[0m \u001b[0mKeysIterator\u001b[0m\u001b[0;34m\u001b[0m\u001b[0m\n\u001b[0m\u001b[1;32m      8\u001b[0m \u001b[0;32mfrom\u001b[0m \u001b[0mfiona\u001b[0m\u001b[0;34m.\u001b[0m\u001b[0mogrext\u001b[0m \u001b[0;32mimport\u001b[0m \u001b[0mSession\u001b[0m\u001b[0;34m,\u001b[0m \u001b[0mWritingSession\u001b[0m\u001b[0;34m\u001b[0m\u001b[0m\n\u001b[1;32m      9\u001b[0m from fiona.ogrext import (\n",
      "\u001b[0;31mImportError\u001b[0m: libgeos-3.4.2.so: cannot open shared object file: No such file or directory"
     ]
    }
   ],
   "source": [
    "import geopandas\n",
    "\n",
    "#!conda install -y fiona geos psycopg2 pysal shapely \n",
    "#!conda install -y -c conda-forge geopandas"
   ]
  },
  {
   "cell_type": "code",
   "execution_count": 3,
   "metadata": {
    "collapsed": true
   },
   "outputs": [],
   "source": [
    "pandas.options.display.max_colwidth = 300"
   ]
  },
  {
   "cell_type": "code",
   "execution_count": 5,
   "metadata": {
    "collapsed": true
   },
   "outputs": [],
   "source": [
    "districts_gj = urllib2.urlopen('https://data.cmucreatelab.org/earthtime/us/districts.geojson').read()"
   ]
  },
  {
   "cell_type": "code",
   "execution_count": 7,
   "metadata": {},
   "outputs": [
    {
     "ename": "NameError",
     "evalue": "name 'geopandas' is not defined",
     "output_type": "error",
     "traceback": [
      "\u001b[0;31m\u001b[0m",
      "\u001b[0;31mNameError\u001b[0mTraceback (most recent call last)",
      "\u001b[0;32m<ipython-input-7-c7d582733d6f>\u001b[0m in \u001b[0;36m<module>\u001b[0;34m()\u001b[0m\n\u001b[0;32m----> 1\u001b[0;31m \u001b[0mgeopandas\u001b[0m\u001b[0;34m.\u001b[0m\u001b[0mGeoDataFrame\u001b[0m\u001b[0;34m.\u001b[0m\u001b[0mfrom_file\u001b[0m\u001b[0;34m(\u001b[0m\u001b[0;34m'evictions/tl_2010_42003_tabblock10.shp'\u001b[0m\u001b[0;34m)\u001b[0m\u001b[0;34m\u001b[0m\u001b[0m\n\u001b[0m",
      "\u001b[0;31mNameError\u001b[0m: name 'geopandas' is not defined"
     ]
    }
   ],
   "source": [
    "geopandas.GeoDataFrame.from_file('evictions/tl_2010_42003_tabblock10.shp')"
   ]
  },
  {
   "cell_type": "code",
   "execution_count": 29,
   "metadata": {},
   "outputs": [
    {
     "name": "stdout",
     "output_type": "stream",
     "text": [
      "/workspace2/rsargent/uwsgi/dotmaptiles/data-visualization-tools/examples/lodes\n",
      "evictions/tl_2010_42003_tabblock10.shp\n"
     ]
    }
   ],
   "source": [
    "!pwd\n",
    "!ls evictions/tl_2010_42003_tabblock10.shp"
   ]
  },
  {
   "cell_type": "code",
   "execution_count": 12,
   "metadata": {},
   "outputs": [
    {
     "name": "stdout",
     "output_type": "stream",
     "text": [
      "# packages in environment at /home/rsargent/anaconda2:\n",
      "#\n",
      "_license                  1.1                      py27_1  \n",
      "alabaster                 0.7.10                   py27_0  \n",
      "anaconda                  custom                   py27_0  \n",
      "anaconda-client           1.6.3                    py27_0  \n",
      "anaconda-navigator        1.6.2                    py27_0  \n",
      "anaconda-project          0.6.0                    py27_0  \n",
      "asn1crypto                0.22.0                   py27_0  \n",
      "astroid                   1.4.9                    py27_0  \n",
      "astropy                   1.3.2               np112py27_0  \n",
      "babel                     2.4.0                    py27_0  \n",
      "backports                 1.0                      py27_0  \n",
      "backports_abc             0.5                      py27_0  \n",
      "beautifulsoup4            4.6.0                    py27_0  \n",
      "bitarray                  0.8.1                    py27_0  \n",
      "blaze                     0.10.1                   py27_0  \n",
      "bleach                    1.5.0                    py27_0  \n",
      "bokeh                     0.12.5                   py27_1  \n",
      "boto                      2.46.1                   py27_0  \n",
      "bottleneck                1.2.1               np112py27_0  \n",
      "cairo                     1.14.8                        0  \n",
      "cdecimal                  2.3                      py27_2  \n",
      "cffi                      1.10.0                   py27_0  \n",
      "chardet                   3.0.3                    py27_0  \n",
      "click                     6.7                      py27_0  \n",
      "click-plugins             1.0.3                    py27_0    conda-forge\n",
      "cligj                     0.4.0                    py27_0    conda-forge\n",
      "cloudpickle               0.2.2                    py27_0  \n",
      "clyent                    1.2.2                    py27_0  \n",
      "colorama                  0.3.9                    py27_0  \n",
      "conda                     4.3.29                   py27_0    conda-forge\n",
      "conda-env                 2.6.0                         0    conda-forge\n",
      "configparser              3.5.0                    py27_0  \n",
      "contextlib2               0.5.5                    py27_0  \n",
      "cryptography              1.8.1                    py27_0  \n",
      "curl                      7.52.1                        0  \n",
      "cycler                    0.10.0                   py27_0  \n",
      "cython                    0.25.2                   py27_0  \n",
      "cytoolz                   0.8.2                    py27_0  \n",
      "dask                      0.14.3                   py27_1  \n",
      "datashape                 0.5.4                    py27_0  \n",
      "dbus                      1.10.10                       0  \n",
      "decorator                 4.0.11                   py27_0  \n",
      "descartes                 1.1.0                    py27_0    conda-forge\n",
      "distributed               1.16.3                   py27_0  \n",
      "docutils                  0.13.1                   py27_0  \n",
      "entrypoints               0.2.2                    py27_1  \n",
      "enum34                    1.1.6                    py27_0  \n",
      "et_xmlfile                1.0.1                    py27_0  \n",
      "expat                     2.1.0                         0  \n",
      "fastcache                 1.0.2                    py27_1  \n",
      "fiona                     1.7.10                   py27_2    conda-forge\n",
      "flask                     0.12.2                   py27_0  \n",
      "flask-cors                3.0.2                    py27_0  \n",
      "fontconfig                2.12.1                        3  \n",
      "freetype                  2.5.5                         2  \n",
      "freexl                    1.0.2                         2    conda-forge\n",
      "funcsigs                  1.0.2                    py27_0  \n",
      "functools32               3.2.3.2                  py27_0  \n",
      "futures                   3.1.1                    py27_0  \n",
      "gdal                      2.1.3               np112py27_0    conda-forge\n",
      "geopandas                 0.3.0                    py27_0    conda-forge\n",
      "geos                      3.5.1                         1    conda-forge\n",
      "get_terminal_size         1.0.0                    py27_0  \n",
      "gevent                    1.2.1                    py27_0  \n",
      "giflib                    5.1.4                         0    conda-forge\n",
      "glib                      2.50.2                        1  \n",
      "greenlet                  0.4.12                   py27_0  \n",
      "grin                      1.2.1                    py27_3  \n",
      "gst-plugins-base          1.8.0                         0  \n",
      "gstreamer                 1.8.0                         0  \n",
      "h5py                      2.7.0               np112py27_0  \n",
      "harfbuzz                  0.9.39                        2  \n",
      "hdf4                      4.2.12                        0    conda-forge\n",
      "hdf5                      1.8.17                        1  \n",
      "heapdict                  1.0.0                    py27_1  \n",
      "html5lib                  0.999                    py27_0  \n",
      "icu                       54.1                          0  \n",
      "idna                      2.5                      py27_0  \n",
      "imagesize                 0.7.1                    py27_0  \n",
      "ipaddress                 1.0.18                   py27_0  \n",
      "ipykernel                 4.6.1                    py27_0  \n",
      "ipython                   5.3.0                    py27_0  \n",
      "ipython_genutils          0.2.0                    py27_0  \n",
      "ipywidgets                6.0.0                    py27_0  \n",
      "isort                     4.2.5                    py27_0  \n",
      "itsdangerous              0.24                     py27_0  \n",
      "jbig                      2.1                           0  \n",
      "jdcal                     1.3                      py27_0  \n",
      "jedi                      0.10.2                   py27_2  \n",
      "jinja2                    2.9.6                    py27_0  \n",
      "jpeg                      9b                            0  \n",
      "json-c                    0.12.1                        0    conda-forge\n",
      "jsonschema                2.6.0                    py27_0  \n",
      "jupyter                   1.0.0                    py27_3  \n",
      "jupyter_client            5.0.1                    py27_0  \n",
      "jupyter_console           5.1.0                    py27_0  \n",
      "jupyter_core              4.3.0                    py27_0  \n",
      "kealib                    1.4.6                         3    conda-forge\n",
      "lazy-object-proxy         1.2.2                    py27_0  \n",
      "libdap4                   3.18.3                        2    conda-forge\n",
      "libffi                    3.2.1                         1  \n",
      "libgcc                    4.8.5                         2  \n",
      "libgfortran               3.0.0                         1  \n",
      "libiconv                  1.14                          4    conda-forge\n",
      "libnetcdf                 4.4.1                         0    conda-forge\n",
      "libpng                    1.6.27                        0  \n",
      "libpq                     9.5.4                         0  \n",
      "libsodium                 1.0.10                        0  \n",
      "libspatialindex           1.8.5                         1    conda-forge\n",
      "libspatialite             4.3.0a                       15    conda-forge\n",
      "libtiff                   4.0.6                         3  \n",
      "libtool                   2.4.2                         0  \n",
      "libxcb                    1.12                          1  \n",
      "libxml2                   2.9.4                         0  \n",
      "libxslt                   1.1.29                        0  \n",
      "llvmlite                  0.18.0                   py27_0  \n",
      "locket                    0.2.0                    py27_1  \n",
      "lxml                      3.7.3                    py27_0  \n",
      "markupsafe                0.23                     py27_2  \n",
      "matplotlib                2.0.2               np112py27_0  \n",
      "mistune                   0.7.4                    py27_0  \n",
      "mkl                       2017.0.1                      0  \n",
      "mkl-service               1.1.2                    py27_3  \n",
      "mpmath                    0.19                     py27_1  \n",
      "msgpack-python            0.4.8                    py27_0  \n",
      "multipledispatch          0.4.9                    py27_0  \n",
      "munch                     2.2.0                    py27_0    conda-forge\n",
      "navigator-updater         0.1.0                    py27_0  \n",
      "nbconvert                 5.1.1                    py27_0  \n",
      "nbformat                  4.3.0                    py27_0  \n",
      "networkx                  1.11                     py27_0  \n",
      "nltk                      3.2.3                    py27_0  \n",
      "nose                      1.3.7                    py27_1  \n",
      "notebook                  5.0.0                    py27_0  \n",
      "numba                     0.33.0              np112py27_0  \n",
      "numexpr                   2.6.2               np112py27_0  \n",
      "numpy                     1.12.1                   py27_0  \n",
      "numpydoc                  0.6.0                    py27_0  \n",
      "odo                       0.5.0                    py27_1  \n",
      "olefile                   0.44                     py27_0  \n",
      "openjpeg                  2.1.2                         2    conda-forge\n",
      "openpyxl                  2.4.7                    py27_0  \n",
      "openssl                   1.0.2l                        0  \n",
      "packaging                 16.8                     py27_0  \n",
      "pandas                    0.20.1              np112py27_0  \n",
      "pandocfilters             1.4.1                    py27_0  \n",
      "pango                     1.40.3                        1  \n",
      "partd                     0.3.8                    py27_0  \n",
      "path.py                   10.3.1                   py27_0  \n",
      "pathlib2                  2.2.1                    py27_0  \n",
      "patsy                     0.4.1                    py27_0  \n",
      "pcre                      8.39                          1  \n",
      "pep8                      1.7.0                    py27_0  \n",
      "pexpect                   4.2.1                    py27_0  \n",
      "pickleshare               0.7.4                    py27_0  \n",
      "pillow                    4.1.1                    py27_0  \n",
      "pip                       9.0.1                    py27_1  \n",
      "pixman                    0.34.0                        0  \n",
      "ply                       3.10                     py27_0  \n",
      "proj4                     4.9.3                         5    conda-forge\n",
      "prompt_toolkit            1.0.14                   py27_0  \n",
      "psutil                    5.2.2                    py27_0  \n",
      "psycopg2                  2.7.1                    py27_0  \n",
      "ptyprocess                0.5.1                    py27_0  \n",
      "py                        1.4.33                   py27_0  \n",
      "pycairo                   1.10.0                   py27_0  \n",
      "pycosat                   0.6.2                    py27_0  \n",
      "pycparser                 2.17                     py27_0  \n",
      "pycrypto                  2.6.1                    py27_6  \n",
      "pycurl                    7.43.0                   py27_2  \n",
      "pyflakes                  1.5.0                    py27_0  \n",
      "pygments                  2.2.0                    py27_0  \n",
      "pylint                    1.6.4                    py27_1  \n",
      "pyodbc                    4.0.16                   py27_0  \n",
      "pyopenssl                 17.0.0                   py27_0  \n",
      "pyparsing                 2.1.4                    py27_0  \n",
      "pyproj                    1.9.5.1                  py27_0    conda-forge\n",
      "pyqt                      5.6.0                    py27_2  \n",
      "pysal                     1.14.3                   py27_0    conda-forge\n",
      "pytables                  3.3.0               np112py27_0  \n",
      "pytest                    3.0.7                    py27_0  \n",
      "python                    2.7.13                        0  \n",
      "python-dateutil           2.6.0                    py27_0  \n",
      "pytz                      2017.2                   py27_0  \n",
      "pywavelets                0.5.2               np112py27_0  \n",
      "pyyaml                    3.12                     py27_0  \n",
      "pyzmq                     16.0.2                   py27_0  \n",
      "qt                        5.6.2                         4  \n",
      "qtawesome                 0.4.4                    py27_0  \n",
      "qtconsole                 4.3.0                    py27_0  \n",
      "qtpy                      1.2.1                    py27_0  \n",
      "readline                  6.2                           2  \n",
      "requests                  2.14.2                   py27_0  \n",
      "rope                      0.9.4                    py27_1  \n",
      "rtree                     0.8.3                    py27_0    conda-forge\n",
      "ruamel_yaml               0.11.14                  py27_1  \n",
      "scandir                   1.5                      py27_0  \n",
      "scikit-image              0.13.0              np112py27_0  \n",
      "scikit-learn              0.18.1              np112py27_1  \n",
      "scipy                     0.19.0              np112py27_0  \n",
      "seaborn                   0.7.1                    py27_0  \n",
      "setuptools                27.2.0                   py27_0  \n",
      "shapely                   1.6.2                    py27_0    conda-forge\n",
      "simplegeneric             0.8.1                    py27_1  \n",
      "singledispatch            3.4.0.3                  py27_0  \n",
      "sip                       4.18                     py27_0  \n",
      "six                       1.10.0                   py27_0  \n",
      "snowballstemmer           1.2.1                    py27_0  \n",
      "sortedcollections         0.5.3                    py27_0  \n",
      "sortedcontainers          1.5.7                    py27_0  \n",
      "sphinx                    1.5.6                    py27_0  \n",
      "spyder                    3.1.4                    py27_0  \n",
      "sqlalchemy                1.1.9                    py27_0  \n",
      "sqlite                    3.13.0                        0  \n",
      "ssl_match_hostname        3.4.0.2                  py27_1  \n",
      "statsmodels               0.8.0               np112py27_0  \n",
      "subprocess32              3.2.7                    py27_0  \n",
      "sympy                     1.0                      py27_0  \n",
      "tblib                     1.3.2                    py27_0  \n",
      "terminado                 0.6                      py27_0  \n",
      "testpath                  0.3                      py27_0  \n",
      "tk                        8.5.18                        0  \n",
      "toolz                     0.8.2                    py27_0  \n",
      "tornado                   4.5.1                    py27_0  \n",
      "traitlets                 4.3.2                    py27_0  \n",
      "unicodecsv                0.14.1                   py27_0  \n",
      "unixodbc                  2.3.4                         0  \n",
      "util-linux                2.21                          0  \n",
      "uwsgi                     2.0.12                   py27_0    conda-forge\n",
      "wcwidth                   0.1.7                    py27_0  \n",
      "werkzeug                  0.12.2                   py27_0  \n",
      "wheel                     0.29.0                   py27_0  \n",
      "widgetsnbextension        2.0.0                    py27_0  \n",
      "wrapt                     1.10.10                  py27_0  \n",
      "xerces-c                  3.1.4                         0  \n",
      "xlrd                      1.0.0                    py27_0  \n",
      "xlsxwriter                0.9.6                    py27_0  \n",
      "xlwt                      1.2.0                    py27_0  \n",
      "xz                        5.2.2                         1  \n",
      "yaml                      0.1.6                         0  \n",
      "zeromq                    4.1.5                         0  \n",
      "zict                      0.1.2                    py27_0  \n",
      "zlib                      1.2.8                         3  \n"
     ]
    }
   ],
   "source": [
    "!conda list"
   ]
  },
  {
   "cell_type": "code",
   "execution_count": 10,
   "metadata": {},
   "outputs": [
    {
     "name": "stdout",
     "output_type": "stream",
     "text": [
      "Fetching package metadata ...........\n",
      "Solving package specifications: .\n",
      "\n",
      "Package plan for installation in environment /home/rsargent/anaconda2:\n",
      "\n",
      "The following NEW packages will be INSTALLED:\n",
      "\n",
      "    click-plugins:   1.0.3-py27_0      conda-forge\n",
      "    cligj:           0.4.0-py27_0      conda-forge\n",
      "    descartes:       1.1.0-py27_0      conda-forge\n",
      "    fiona:           1.7.10-py27_2     conda-forge\n",
      "    freexl:          1.0.2-2           conda-forge\n",
      "    gdal:            2.1.3-np112py27_0 conda-forge\n",
      "    geopandas:       0.3.0-py27_0      conda-forge\n",
      "    geos:            3.5.1-1           conda-forge\n",
      "    giflib:          5.1.4-0           conda-forge\n",
      "    hdf4:            4.2.12-0          conda-forge\n",
      "    json-c:          0.12.1-0          conda-forge\n",
      "    kealib:          1.4.6-3           conda-forge\n",
      "    libdap4:         3.18.3-2          conda-forge\n",
      "    libnetcdf:       4.4.1-0           conda-forge\n",
      "    libspatialindex: 1.8.5-1           conda-forge\n",
      "    libspatialite:   4.3.0a-15         conda-forge\n",
      "    munch:           2.2.0-py27_0      conda-forge\n",
      "    openjpeg:        2.1.2-2           conda-forge\n",
      "    proj4:           4.9.3-5           conda-forge\n",
      "    pyproj:          1.9.5.1-py27_0    conda-forge\n",
      "    pysal:           1.14.3-py27_0     conda-forge\n",
      "    rtree:           0.8.3-py27_0      conda-forge\n",
      "    shapely:         1.6.2-py27_0      conda-forge\n",
      "    util-linux:      2.21-0                       \n",
      "    xerces-c:        3.1.4-0                      \n",
      "\n",
      "The following packages will be UPDATED:\n",
      "\n",
      "    conda:           4.3.23-py27_0                 --> 4.3.29-py27_0 conda-forge\n",
      "\n",
      "The following packages will be SUPERSEDED by a higher-priority channel:\n",
      "\n",
      "    conda-env:       2.6.0-0                       --> 2.6.0-0       conda-forge\n",
      "\n",
      "conda-env-2.6. 100% |################################| Time: 0:00:00 673.45 kB/s\n",
      "geos-3.5.1-1.t 100% |################################| Time: 0:00:02   7.86 MB/s | Time: 0:00:00   1.05 MB/s                              | Time: 0:00:00   1.39 MB/s MB/s       | Time: 0:00:00   1.79 MB/s5% |#                               | Time: 0:00:00   2.02 MB/s  2.18 MB/s             | Time: 0:00:00   2.43 MB/s1.t   8% |##                              | Time: 0:00:00   2.57 MB/s                   | Time: 0:00:00   2.95 MB/sme: 0:00:00   3.29 MB/s####                           | Time: 0:00:00   3.87 MB/s19% |######                          | Time: 0:00:00   4.31 MB/s   4.27 MB/s              | Time: 0:00:01   4.25 MB/s-1.t  22% |#######                         | Time: 0:00:01   4.25 MB/s                    | Time: 0:00:01   4.39 MB/sime: 0:00:01   4.54 MB/ss#########                       | Time: 0:00:01   4.82 MB/s         | Time: 0:00:01   5.02 MB/s1   5.14 MB/s0:00:01   5.37 MB/sTime: 0:00:01   5.59 MB/s    | Time: 0:00:01   5.78 MB/s.87 MB/s01   6.06 MB/s 0:00:01   6.22 MB/s Time: 0:00:01   6.38 MB/s     | Time: 0:00:01   6.53 MB/s6.59 MB/s:01   6.72 MB/s: 0:00:01   6.85 MB/seos-3.5.1-1.t  67% |#####################           | Time: 0:00:02   6.90 MB/sMB/s% |#######################         | Time: 0:00:02   7.11 MB/s.t  75% |########################        | Time: 0:00:02   7.22 MB/s.5.1-1.t  78% |#########################       | Time: 0:00:02   7.32 MB/s########################      | Time: 0:00:02   7.45 MB/s6% |###########################     | Time: 0:00:02   7.54 MB/s1.t  90% |############################    | Time: 0:00:02   7.62 MB/s3.5.1-1.t  93% |#############################   | Time: 0:00:02   7.71 MB/s6 MB/s\n",
      "giflib-5.1.4-0 100% |################################| Time: 0:00:00   6.91 MB/s\n",
      "json-c-0.12.1- 100% |################################| Time: 0:00:00 362.42 kB/s\n",
      "libspatialinde 100% |################################| Time: 0:00:00   1.75 MB/s | Time: 0:00:00   1.05 MB/s###############               | Time: 0:00:00   1.28 MB/s MB/s\n",
      "proj4-4.9.3-5. 100% |################################| Time: 0:00:00   7.30 MB/s | Time: 0:00:00   3.67 MB/s#                             | Time: 0:00:00   3.76 MB/s       | Time: 0:00:00   4.28 MB/s4% |#######                         | Time: 0:00:00   4.29 MB/s             | Time: 0:00:00   4.88 MB/s##                 | Time: 0:00:00   5.80 MB/sme: 0:00:00   6.09 MB/s5 MB/s94% |##############################  | Time: 0:00:00   7.23 MB/s\n",
      "util-linux-2.2 100% |################################| Time: 0:00:00   3.10 MB/s\n",
      "xerces-c-3.1.4 100% |################################| Time: 0:00:00  24.80 MB/s                              | Time: 0:00:00   9.95 MB/s 12.36 MB/s                   | Time: 0:00:00  14.06 MB/s###########                    | Time: 0:00:00  16.43 MB/s######              | Time: 0:00:00  19.42 MB/s 81% |##########################      | Time: 0:00:00  22.46 MB/s\n",
      "freexl-1.0.2-2 100% |################################| Time: 0:00:00   2.75 MB/s\n",
      "hdf4-4.2.12-0. 100% |################################| Time: 0:00:00   2.85 MB/s | Time: 0:00:00   2.42 MB/s###########                   | Time: 0:00:00   2.51 MB/s MB/s#      | Time: 0:00:00   2.75 MB/s\n",
      "kealib-1.4.6-3 100% |################################| Time: 0:00:00   3.20 MB/s\n",
      "libdap4-3.18.3 100% |################################| Time: 0:00:03   5.00 MB/s | Time: 0:00:00   3.57 MB/s                              | Time: 0:00:00   3.71 MB/s MB/s       | Time: 0:00:00   3.80 MB/s6% |##                              | Time: 0:00:00   3.80 MB/s  4.11 MB/s             | Time: 0:00:00   3.56 MB/s8.3  10% |###                             | Time: 0:00:00   3.41 MB/s00:00   3.43 MB/s                   | Time: 0:00:00   3.48 MB/sp4-3.18.3  14% |####                            | Time: 0:00:00   3.53 MB/sme: 0:00:00   3.57 MB/s                         | Time: 0:00:00   3.69 MB/s  | Time: 0:00:00   3.72 MB/s#####                          | Time: 0:00:00   3.74 MB/s5 MB/s        | Time: 0:00:01   3.54 MB/s24% |#######                         | Time: 0:00:01   3.56 MB/s   3.57 MB/s              | Time: 0:00:01   3.53 MB/s18.3  28% |#########                       | Time: 0:00:01   3.54 MB/s:00:01   3.54 MB/s                    | Time: 0:00:01   3.56 MB/sap4-3.18.3  32% |##########                      | Time: 0:00:01   3.57 MB/sime: 0:00:01   3.57 MB/s#####                     | Time: 0:00:01   3.59 MB/ss   | Time: 0:00:01   3.60 MB/s############                    | Time: 0:00:01   3.61 MB/s61 MB/s         | Time: 0:00:01   3.62 MB/s 42% |#############                   | Time: 0:00:01   3.63 MB/s1   3.63 MB/s               | Time: 0:00:01   3.64 MB/s.18.3  46% |##############                  | Time: 0:00:02   3.65 MB/s0:00:02   3.66 MB/s####                 | Time: 0:00:02   3.66 MB/sdap4-3.18.3  50% |################                | Time: 0:00:02   3.68 MB/sTime: 0:00:02   3.71 MB/s###########                | Time: 0:00:02   3.71 MB/s/s    | Time: 0:00:02   3.72 MB/s|##################              | Time: 0:00:02   3.73 MB/s.73 MB/s          | Time: 0:00:02   3.74 MB/s  60% |###################             | Time: 0:00:02   3.77 MB/s####            | Time: 0:00:02   3.81 MB/s3.18.3  64% |####################            | Time: 0:00:02   3.83 MB/s###########           | Time: 0:00:02   3.89 MB/s Time: 0:00:02   3.96 MB/s     | Time: 0:00:02   4.10 MB/s4.17 MB/s:02   4.30 MB/s##################     | Time: 0:00:03   4.49 MB/s#########################    | Time: 0:00:03   4.62 MB/s% |#############################   | Time: 0:00:03   4.76 MB/s0:03   4.94 MB/s\n",
      "libnetcdf-4.4. 100% |################################| Time: 0:00:00   4.65 MB/s | Time: 0:00:00  23.60 MB/s MB/s       | Time: 0:00:00   7.62 MB/s1% |################                | Time: 0:00:00   4.86 MB/s  4.60 MB/s.4.  83% |##########################      | Time: 0:00:00   4.71 MB/s00:00   4.61 MB/s\n",
      "libspatialite- 100% |################################| Time: 0:00:01   4.75 MB/s | Time: 0:00:00   6.74 MB/s                              | Time: 0:00:00   5.20 MB/s MB/s       | Time: 0:00:00   3.82 MB/s1% |######                          | Time: 0:00:00   3.86 MB/s  3.85 MB/s             | Time: 0:00:00   4.12 MB/s00:00   4.30 MB/s                   | Time: 0:00:00   4.29 MB/satialite-  47% |###############                 | Time: 0:00:00   4.45 MB/s##########               | Time: 0:00:00   4.54 MB/s6 MB/s        | Time: 0:00:00   4.62 MB/s81% |#########################       | Time: 0:00:00   4.60 MB/s##########    | Time: 0:00:00   4.75 MB/site-  94% |##############################  | Time: 0:00:00   4.72 MB/s\n",
      "openjpeg-2.1.2 100% |################################| Time: 0:00:00   3.62 MB/s | Time: 0:00:00   3.61 MB/s\n",
      "rtree-0.8.3-py 100% |################################| Time: 0:00:00  17.10 MB/s\n",
      "click-plugins- 100% |################################| Time: 0:00:00   6.77 MB/s\n",
      "cligj-0.4.0-py 100% |################################| Time: 0:00:00  10.01 MB/s\n",
      "gdal-2.1.3-np1 100% |################################| Time: 0:00:08  10.20 MB/s | Time: 0:00:00 815.63 kB/s                              | Time: 0:00:00   1.09 MB/s MB/s       | Time: 0:00:00   1.45 MB/s1% |                                | Time: 0:00:00   1.67 MB/s  1.83 MB/s             | Time: 0:00:00   1.99 MB/s00:00   2.30 MB/s                   | Time: 0:00:00   2.41 MB/s2.1.3-np1   2% |                                | Time: 0:00:00   2.56 MB/s                         | Time: 0:00:00   2.77 MB/s  | Time: 0:00:01   2.95 MB/s                               | Time: 0:00:01   3.01 MB/s0 MB/s 4% |#                               | Time: 0:00:01   3.25 MB/s   3.27 MB/s              | Time: 0:00:01   3.36 MB/s:00:01   3.46 MB/s                    | Time: 0:00:01   3.49 MB/s-2.1.3-np1   5% |#                               | Time: 0:00:01   3.56 MB/s                          | Time: 0:00:01   3.64 MB/ss##                              | Time: 0:00:01   3.78 MB/s78 MB/s         | Time: 0:00:01   3.84 MB/s1   3.90 MB/s               | Time: 0:00:01   3.91 MB/s3-np1   8% |##                              | Time: 0:00:01   3.96 MB/s0:00:01   4.00 MB/sl-2.1.3-np1   9% |##                              | Time: 0:00:01   4.05 MB/sTime: 0:00:02   4.05 MB/s/s    | Time: 0:00:02   4.14 MB/s|###                             | Time: 0:00:02   4.18 MB/s          | Time: 0:00:02   4.21 MB/s  11% |###                             | Time: 0:00:02   4.25 MB/s                | Time: 0:00:02   4.29 MB/s 0:00:02   4.36 MB/sal-2.1.3-np1  12% |####                            | Time: 0:00:02   4.43 MB/s                            | Time: 0:00:02   4.50 MB/s     | Time: 0:00:02   4.57 MB/s4.63 MB/s1  14% |####                            | Time: 0:00:02   4.73 MB/s                 | Time: 0:00:02   4.80 MB/s                       | Time: 0:00:02   4.92 MB/s##                           | Time: 0:00:02   5.05 MB/s% |#####                           | Time: 0:00:02   5.17 MB/s0:02   5.34 MB/se: 0:00:02   5.47 MB/s####                          | Time: 0:00:03   5.64 MB/s  5.81 MB/s                   | Time: 0:00:03   5.98 MB/s  | Time: 0:00:03   6.20 MB/s   6.42 MB/s-2.1.3-np1  25% |########                        | Time: 0:00:03   6.63 MB/s89 MB/s0:00:03   7.15 MB/s    | Time: 0:00:03   7.41 MB/s|#########                       | Time: 0:00:03   7.41 MB/s          | Time: 0:00:03   7.39 MB/s                | Time: 0:00:03   7.45 MB/sal-2.1.3-np1  32% |##########                      | Time: 0:00:03   7.56 MB/s     | Time: 0:00:03   7.68 MB/s:03   7.84 MB/s: 0:00:03   7.90 MB/sMB/s% |###########                     | Time: 0:00:03   8.08 MB/s            | Time: 0:00:03   8.09 MB/s                  | Time: 0:00:04   8.14 MB/s.1.3-np1  38% |############                    | Time: 0:00:04   7.99 MB/s | Time: 0:00:04   7.99 MB/s##########                    | Time: 0:00:04   7.95 MB/s MB/s       | Time: 0:00:04   7.85 MB/s  7.84 MB/snp1  40% |#############                   | Time: 0:00:04   7.84 MB/s                   | Time: 0:00:04   7.84 MB/s######                   | Time: 0:00:04   7.88 MB/s############                   | Time: 0:00:04   7.92 MB/s43% |#############                   | Time: 0:00:04   7.96 MB/s-np1  44% |##############                  | Time: 0:00:04   8.00 MB/s##                  | Time: 0:00:04   8.01 MB/s########                  | Time: 0:00:04   8.05 MB/s##############                  | Time: 0:00:04   8.09 MB/s 46% |##############                  | Time: 0:00:04   8.13 MB/s3-np1  47% |###############                 | Time: 0:00:05   8.17 MB/sl-2.1.3-np1  48% |###############                 | Time: 0:00:05   8.20 MB/s/s.29 MB/s05   8.33 MB/s 0:00:05   8.36 MB/s Time: 0:00:05   8.39 MB/s     | Time: 0:00:05   8.43 MB/s           | Time: 0:00:05   8.46 MB/s##               | Time: 0:00:05   8.49 MB/s########               | Time: 0:00:05   8.52 MB/s##############               | Time: 0:00:05   8.55 MB/s% |#################               | Time: 0:00:05   8.58 MB/sp1  56% |##################              | Time: 0:00:05   8.61 MB/s.1.3-np1  57% |##################              | Time: 0:00:05   8.64 MB/s##########              | Time: 0:00:05   8.67 MB/s################              | Time: 0:00:05   8.69 MB/s  8.72 MB/snp1  60% |###################             | Time: 0:00:05   8.75 MB/sme: 0:00:06   8.80 MB/s  | Time: 0:00:06   8.82 MB/s        | Time: 0:00:06   8.85 MB/s##            | Time: 0:00:06   8.88 MB/s########            | Time: 0:00:06   8.90 MB/ss97 MB/s 66% |#####################           | Time: 0:00:06   8.96 MB/s3-np1  66% |#####################           | Time: 0:00:06   9.00 MB/sl-2.1.3-np1  67% |#####################           | Time: 0:00:06   9.01 MB/s################           | Time: 0:00:06   9.01 MB/s|######################          | Time: 0:00:06   9.04 MB/s  69% |######################          | Time: 0:00:06   9.08 MB/s 0:00:06   9.10 MB/s Time: 0:00:06   9.15 MB/s     | Time: 0:00:06   9.17 MB/s1  72% |#######################         | Time: 0:00:06   9.22 MB/s1.3-np1  73% |#######################         | Time: 0:00:06   9.24 MB/s| Time: 0:00:06   9.28 MB/s      | Time: 0:00:06   9.31 MB/sp1  76% |########################        | Time: 0:00:07   9.35 MB/se: 0:00:07   9.39 MB/s | Time: 0:00:07   9.41 MB/s8% |#########################       | Time: 0:00:07   9.46 MB/snp1  79% |#########################       | Time: 0:00:07   9.48 MB/sme: 0:00:07   9.52 MB/s  | Time: 0:00:07   9.54 MB/s82% |##########################      | Time: 0:00:07   9.58 MB/s-np1  83% |##########################      | Time: 0:00:07   9.60 MB/s-2.1.3-np1  83% |##########################      | Time: 0:00:07   9.63 MB/s   | Time: 0:00:07   9.66 MB/s####     | Time: 0:00:07   9.69 MB/s3-np1  86% |###########################     | Time: 0:00:07   9.72 MB/sl-2.1.3-np1  87% |###########################     | Time: 0:00:07   9.75 MB/s    | Time: 0:00:07   9.78 MB/s  89% |############################    | Time: 0:00:07   9.81 MB/s.3-np1  89% |############################    | Time: 0:00:07   9.83 MB/s Time: 0:00:07   9.87 MB/s |#############################   | Time: 0:00:07   9.90 MB/s1  92% |#############################   | Time: 0:00:08   9.92 MB/s: 0:00:08   9.95 MB/s| Time: 0:00:08   9.97 MB/s% |##############################  | Time: 0:00:08  10.01 MB/sp1  95% |##############################  | Time: 0:00:08  10.03 MB/se: 0:00:08  10.06 MB/s############################# | Time: 0:00:08  10.09 MB/s 10.14 MB/s################## | Time: 0:00:08  10.18 MB/s\n",
      "munch-2.2.0-py 100% |################################| Time: 0:00:00   9.73 MB/s\n"
     ]
    },
    {
     "name": "stdout",
     "output_type": "stream",
     "text": [
      "pyproj-1.9.5.1 100% |################################| Time: 0:00:00   5.15 MB/s#                             | Time: 0:00:00  13.01 MB/s MB/s       | Time: 0:00:00   6.14 MB/s0% |#########                       | Time: 0:00:00   4.81 MB/s  4.55 MB/s             | Time: 0:00:00   4.17 MB/s5.1  48% |###############                 | Time: 0:00:00   4.15 MB/s00:00   4.31 MB/sj-1.9.5.1  66% |#####################           | Time: 0:00:00   4.49 MB/s#################        | Time: 0:00:00   4.78 MB/s  | Time: 0:00:00   5.02 MB/s\n",
      "shapely-1.6.2- 100% |################################| Time: 0:00:00   3.23 MB/s | Time: 0:00:00   7.69 MB/s#################             | Time: 0:00:00   4.84 MB/s MB/s\n",
      "fiona-1.7.10-p 100% |################################| Time: 0:00:00   2.74 MB/s | Time: 0:00:00   1.47 MB/s######                        | Time: 0:00:00   1.70 MB/s MB/s       | Time: 0:00:00   2.17 MB/s7% |#####################           | Time: 0:00:00   2.39 MB/s  2.53 MB/s\n",
      "pysal-1.14.3-p 100% |################################| Time: 0:00:03   3.93 MB/s | Time: 0:00:00   3.64 MB/s                              | Time: 0:00:00   3.77 MB/s MB/s       | Time: 0:00:00   3.81 MB/s  4.13 MB/s             | Time: 0:00:00   4.13 MB/s3-p  10% |###                             | Time: 0:00:00   4.37 MB/s                   | Time: 0:00:00   4.49 MB/s-1.14.3-p  14% |####                            | Time: 0:00:00   4.45 MB/sme: 0:00:00   4.57 MB/s  | Time: 0:00:00   4.60 MB/s#####                          | Time: 0:00:00   4.58 MB/s4 MB/s25% |########                        | Time: 0:00:00   4.70 MB/s   4.68 MB/s              | Time: 0:00:00   4.74 MB/s.3-p  29% |#########                       | Time: 0:00:00   4.71 MB/s:00:00   4.76 MB/sl-1.14.3-p  33% |##########                      | Time: 0:00:01   4.80 MB/sime: 0:00:01   4.78 MB/s#####                     | Time: 0:00:01   4.82 MB/s   | Time: 0:00:01   4.84 MB/s############                    | Time: 0:00:01   4.89 MB/s         | Time: 0:00:01   4.91 MB/s 43% |##############                  | Time: 0:00:01   4.88 MB/s1   4.92 MB/s4.3-p  47% |###############                 | Time: 0:00:01   4.94 MB/s0:00:01   4.89 MB/s#####                | Time: 0:00:01   4.87 MB/sal-1.14.3-p  51% |################                | Time: 0:00:01   4.69 MB/sTime: 0:00:01   4.65 MB/s/s|##################              | Time: 0:00:01   4.63 MB/s.44 MB/s          | Time: 0:00:02   4.38 MB/s  62% |###################             | Time: 0:00:02   4.37 MB/s02   4.36 MB/s####            | Time: 0:00:02   4.35 MB/s14.3-p  66% |#####################           | Time: 0:00:02   4.33 MB/s 0:00:02   4.33 MB/s############          | Time: 0:00:02   4.32 MB/ssal-1.14.3-p  70% |######################          | Time: 0:00:02   4.31 MB/s Time: 0:00:02   4.22 MB/s###################         | Time: 0:00:02   4.19 MB/sB/s     | Time: 0:00:02   4.14 MB/s |########################        | Time: 0:00:02   4.11 MB/s4.10 MB/s####       | Time: 0:00:03   4.09 MB/sp  80% |#########################       | Time: 0:00:03   4.06 MB/s:03   4.05 MB/s###########      | Time: 0:00:03   4.04 MB/s.14.3-p  84% |###########################     | Time: 0:00:03   4.02 MB/s: 0:00:03   4.01 MB/s###################    | Time: 0:00:03   4.00 MB/sysal-1.14.3-p  88% |############################    | Time: 0:00:03   3.98 MB/s| Time: 0:00:03   3.97 MB/s##########################   | Time: 0:00:03   3.97 MB/sMB/s####  | Time: 0:00:03   3.96 MB/s% |##############################  | Time: 0:00:03   3.95 MB/s 3.94 MB/s########### | Time: 0:00:03   3.94 MB/s-p  99% |############################### | Time: 0:00:03   3.94 MB/s\n",
      "conda-4.3.29-p 100% |################################| Time: 0:00:00   3.90 MB/s | Time: 0:00:00   3.77 MB/s#######################       | Time: 0:00:00   3.83 MB/s\n",
      "descartes-1.1. 100% |################################| Time: 0:00:00   7.30 MB/s\n",
      "geopandas-0.3. 100% |################################| Time: 0:00:00   4.92 MB/s | Time: 0:00:00   6.46 MB/s###########                   | Time: 0:00:00   4.93 MB/s MB/s\n"
     ]
    }
   ],
   "source": []
  },
  {
   "cell_type": "code",
   "execution_count": null,
   "metadata": {
    "collapsed": true
   },
   "outputs": [],
   "source": []
  },
  {
   "cell_type": "code",
   "execution_count": null,
   "metadata": {
    "collapsed": true
   },
   "outputs": [],
   "source": []
  },
  {
   "cell_type": "code",
   "execution_count": null,
   "metadata": {
    "collapsed": true
   },
   "outputs": [],
   "source": []
  },
  {
   "cell_type": "markdown",
   "metadata": {},
   "source": [
    "## Download File Templates for 5-year data"
   ]
  },
  {
   "cell_type": "code",
   "execution_count": 4,
   "metadata": {},
   "outputs": [
    {
     "name": "stdout",
     "output_type": "stream",
     "text": [
      "capture/ACS2009_5year/2009_5yr_Summary_FileTemplates.zip already downloaded\n",
      "capture/ACS2009_5year/2009_5yr_Summary_FileTemplates.zip already unzipped\n",
      "capture/ACS2010_5year/2010_5yr_Summary_FileTemplates.zip already downloaded\n",
      "capture/ACS2010_5year/2010_5yr_Summary_FileTemplates.zip already unzipped\n",
      "capture/ACS2011_5year/2011_5yr_Summary_FileTemplates.zip already downloaded\n",
      "capture/ACS2011_5year/2011_5yr_Summary_FileTemplates.zip already unzipped\n",
      "capture/ACS2012_5year/2012_5yr_Summary_FileTemplates.zip already downloaded\n",
      "capture/ACS2012_5year/2012_5yr_Summary_FileTemplates.zip already unzipped\n",
      "capture/ACS2013_5year/2013_5yr_Summary_FileTemplates.zip already downloaded\n",
      "capture/ACS2013_5year/2013_5yr_Summary_FileTemplates.zip already unzipped\n",
      "capture/ACS2014_5year/2014_5yr_Summary_FileTemplates.zip already downloaded\n",
      "capture/ACS2014_5year/2014_5yr_Summary_FileTemplates.zip already unzipped\n",
      "capture/ACS2015_5year/2015_5yr_Summary_FileTemplates.zip already downloaded\n",
      "capture/ACS2015_5year/2015_5yr_Summary_FileTemplates.zip already unzipped\n"
     ]
    }
   ],
   "source": [
    "#src = 'https://www2.census.gov/programs-surveys/acs/summary_file/2015/data/2015_1yr_Summary_FileTemplates.zip'\n",
    "#dest = 'capture/ACS2015_1year/2015_1yr_Summary_FileTemplates.zip'\n",
    "#download_file(src, dest)\n",
    "#templates = unzip_file(dest)\n",
    "\n",
    "def download_file_templates(year):\n",
    "    src = 'https://www2.census.gov/programs-surveys/acs/summary_file/{year}/data/{year}_5yr_Summary_FileTemplates.zip'.format(**locals())\n",
    "\n",
    "    # Special-case 2010\n",
    "    src = src.replace('2010_5yr_Summary_File', '2010_5yr_SummaryFile')\n",
    "    \n",
    "    dest = 'capture/ACS{year}_5year/{year}_5yr_Summary_FileTemplates.zip'.format(**locals())\n",
    "    download_file(src, dest)\n",
    "    templates = unzip_file(dest)\n",
    "    \n",
    "for year in range(2009, 2016):\n",
    "    download_file_templates(year)"
   ]
  },
  {
   "cell_type": "code",
   "execution_count": 5,
   "metadata": {
    "scrolled": true
   },
   "outputs": [
    {
     "name": "stdout",
     "output_type": "stream",
     "text": [
      "total 13192\r\n",
      "-rw-rw-r-- 1 rsargent rsargent  25600 Aug  5  2016 2015_SFGeoFileTemplate.xls\r\n",
      "-rw-rw-r-- 1 rsargent rsargent  92160 Aug  5  2016 Seq100.xls\r\n",
      "-rw-rw-r-- 1 rsargent rsargent  60928 Aug  5  2016 Seq101.xls\r\n",
      "-rw-rw-r-- 1 rsargent rsargent  88064 Aug  5  2016 Seq102.xls\r\n",
      "-rw-rw-r-- 1 rsargent rsargent 115200 Aug  5  2016 Seq103.xls\r\n",
      "-rw-rw-r-- 1 rsargent rsargent  99328 Aug  5  2016 Seq104.xls\r\n",
      "-rw-rw-r-- 1 rsargent rsargent 111104 Aug  5  2016 Seq105.xls\r\n",
      "-rw-rw-r-- 1 rsargent rsargent 107520 Aug  5  2016 Seq106.xls\r\n",
      "-rw-rw-r-- 1 rsargent rsargent  88064 Aug  5  2016 Seq107.xls\r\n",
      "ls: write error: Broken pipe\r\n"
     ]
    }
   ],
   "source": [
    "!ls -l capture/ACS2015_1year/2015_1yr_Summary_FileTemplates/Templates | head"
   ]
  },
  {
   "cell_type": "markdown",
   "metadata": {},
   "source": [
    "## Download ACS2015 5-year data (tract and block group)"
   ]
  },
  {
   "cell_type": "code",
   "execution_count": 13,
   "metadata": {},
   "outputs": [
    {
     "name": "stdout",
     "output_type": "stream",
     "text": [
      "capture/ACS2009_5year/Tracts_Block_Groups_Only.zip already exists, skipping\n",
      "capture/ACS2010_5year/Tracts_Block_Groups_Only.zip already exists, skipping\n",
      "capture/ACS2011_5year/Tracts_Block_Groups_Only.tar.gz already exists, skipping\n",
      "capture/ACS2012_5year/Tracts_Block_Groups_Only.tar.gz already exists, skipping\n",
      "capture/ACS2013_5year/Tracts_Block_Groups_Only.tar.gz already exists, skipping\n",
      "capture/ACS2014_5year/Tracts_Block_Groups_Only.tar.gz already exists, skipping\n",
      "capture/ACS2015_5year/Tracts_Block_Groups_Only.tar.gz already exists, skipping\n"
     ]
    }
   ],
   "source": [
    "def download_data(year):\n",
    "    filename = 'Tracts_Block_Groups_Only'\n",
    "    if year < 2011:\n",
    "        filename += '.zip'\n",
    "    else:\n",
    "        filename += '.tar.gz'\n",
    "    src = 'https://www2.census.gov/programs-surveys/acs/summary_file/{year}/data/5_year_entire_sf/{filename}'.format(**locals())\n",
    "    dest = 'capture/ACS{year}_5year/{filename}'.format(**locals())\n",
    "\n",
    "    if os.path.exists(dest):\n",
    "        print '{dest} already exists, skipping'.format(**locals())\n",
    "    else:\n",
    "        try:\n",
    "            os.unlink(filename)\n",
    "        except OSError:\n",
    "            pass\n",
    "        cmd = 'curl'\n",
    "        cmd += \" -H 'User-Agent:Mozilla/5.0 (Macintosh; Intel Mac OS X 10_12_6) AppleWebKit/537.36 (KHTML, like Gecko) Chrome/61.0.3163.100 Safari/537.36'\"\n",
    "        cmd += ' {src}'.format(**locals())\n",
    "        cmd += ' >{dest}'.format(**locals())\n",
    "        try:\n",
    "            os.makedirs(os.path.dirname(dest))\n",
    "        except OSError:\n",
    "            pass\n",
    "        print cmd\n",
    "        subprocess_check(cmd)\n",
    "        print 'Downloaded to {dest}'.format(**locals())\n",
    "\n",
    "for year in range(2009, 2016):\n",
    "    download_data(year)"
   ]
  },
  {
   "cell_type": "code",
   "execution_count": 12,
   "metadata": {},
   "outputs": [
    {
     "name": "stdout",
     "output_type": "stream",
     "text": [
      "-rw-rw-r-- 1 rsargent rsargent 2806502508 Oct  5 07:52 capture/ACS2009_5year/Tracts_Block_Groups_Only.zip\r\n",
      "-rw-rw-r-- 1 rsargent rsargent 3369803296 Oct  5 07:59 capture/ACS2010_5year/Tracts_Block_Groups_Only.zip\r\n",
      "-rw-rw-r-- 1 rsargent rsargent  749940736 Oct  5 08:02 capture/ACS2011_5year/Tracts_Block_Groups_Only.tar.gz\r\n",
      "-rw-rw-r-- 1 rsargent rsargent 3651813394 Oct  5 07:33 capture/ACS2012_5year/Tracts_Block_Groups_Only.tar.gz\r\n",
      "-rw-rw-r-- 1 rsargent rsargent 3769295680 Oct  5 07:45 capture/ACS2013_5year/Tracts_Block_Groups_Only.tar.gz\r\n",
      "-rw-rw-r-- 1 rsargent rsargent 3757945352 Oct  5 07:59 capture/ACS2014_5year/Tracts_Block_Groups_Only.tar.gz\r\n",
      "-rw-rw-r-- 1 rsargent rsargent 3747109902 Dec  2  2016 capture/ACS2015_5year/Tracts_Block_Groups_Only.tar.gz\r\n"
     ]
    }
   ],
   "source": [
    "!ls -l capture/ACS*/Tracts*"
   ]
  },
  {
   "cell_type": "code",
   "execution_count": null,
   "metadata": {
    "collapsed": true
   },
   "outputs": [],
   "source": [
    "    \n",
    "    \n",
    "!mkdir -p capture/ACS2005_5year\n",
    "!mv  capture/ACS2005_5year\n",
    "\n",
    "!cd capture/ACS2005_5year; tar xvfz Tracts_Block_Groups_Only.tar.gz >/dev/null\n",
    "\n",
    "!wget --header=\"User-Agent: Mozilla/5.0 (Windows NT 6.0) AppleWebKit/537.11 (KHTML, like Gecko) Chrome/23.0.1271.97 Safari/537.11\" https://www2.census.gov/programs-surveys/acs/summary_file/2015/data/5_year_entire_sf/2015_ACS_Geography_Files.zip\n",
    "\n",
    "!mv 2015_ACS_Geography_Files.zip capture/ACS2005_5year\n",
    "\n",
    "unzip_file('capture/ACS2005_5year/2015_ACS_Geography_Files.zip')"
   ]
  },
  {
   "cell_type": "markdown",
   "metadata": {},
   "source": [
    "## Read CSV utility functions"
   ]
  },
  {
   "cell_type": "code",
   "execution_count": null,
   "metadata": {
    "collapsed": true
   },
   "outputs": [],
   "source": [
    "def read_acs2015_5year_template(seqno):\n",
    "    path = 'capture/ACS2015_5year/2015_5yr_Summary_FileTemplates/2015_5yr_Templates/Seq%d.xls' % seqno\n",
    "    if not os.path.exists(path):\n",
    "        return None\n",
    "    return pandas.read_excel(path)\n",
    "\n",
    "# Combine template header and data into pandas frame\n",
    "def read_acs2015_year_data(state, seqno):\n",
    "    header = read_acs2015_5year_template(seqno)\n",
    "    data = pandas.read_csv('capture/ACS2015_5year/group2/e20155%s%04d000.txt' % (state, seqno),\n",
    "                            index_col=False,\n",
    "                            dtype={'FILEID':numpy.str,\n",
    "                                   'FILETYPE':numpy.str,\n",
    "                                   'STUSAB':numpy.str,\n",
    "                                   'CHARITER':numpy.str,\n",
    "                                   'SEQUENCE':numpy.str,\n",
    "                                   'LOGRECNO':numpy.str},\n",
    "                            header=None,\n",
    "                            names=header.columns.values)\n",
    "    return data"
   ]
  },
  {
   "cell_type": "code",
   "execution_count": null,
   "metadata": {
    "collapsed": true
   },
   "outputs": [],
   "source": [
    "dataset = 'acs2015_5year_tract2010'\n",
    "column_dir = 'columncache'"
   ]
  },
  {
   "cell_type": "markdown",
   "metadata": {},
   "source": [
    "## Write ACS2015 5-year description.html"
   ]
  },
  {
   "cell_type": "code",
   "execution_count": null,
   "metadata": {
    "collapsed": true
   },
   "outputs": [],
   "source": [
    "description_path = column_dir + '/' + dataset + '/description.html'\n",
    "force_regenerate = True\n",
    "\n",
    "if os.path.exists(description_path) and not force_regenerate:\n",
    "    print '{description_path} already exists, skipping'.format(**locals())\n",
    "else:\n",
    "    table_rows = []\n",
    "\n",
    "    for seqno in range(1, 1000):\n",
    "        template = read_acs2015_5year_template(seqno)\n",
    "        if template is None:\n",
    "            break\n",
    "        for col in range(6, template.shape[1]):\n",
    "            colname = template.columns.values[col]\n",
    "            description = template.iloc[0,col]\n",
    "            description = description.replace(':', '')\n",
    "            description = re.sub(r'\\s*%\\s*', ' &mdash; ', description)\n",
    "            table_rows.append(u'<tr><td>{dataset}.{colname}</td><td>{description}</td></tr>\\n'.format(**locals()))\n",
    "\n",
    "    html = '<table>' + ''.join(table_rows) + '</table>'\n",
    "\n",
    "    open(description_path, 'w').write(html.encode('utf8'))\n",
    "    print 'Wrote %d column names and descriptions to %s' % (len(table_rows), description_path)"
   ]
  },
  {
   "cell_type": "markdown",
   "metadata": {
    "collapsed": true
   },
   "source": [
    "## Create ACS2015 block-level population"
   ]
  },
  {
   "cell_type": "markdown",
   "metadata": {},
   "source": [
    "### Read 2010 block geoids and 2010 block populations"
   ]
  },
  {
   "cell_type": "code",
   "execution_count": null,
   "metadata": {
    "collapsed": true
   },
   "outputs": [],
   "source": [
    "block_populations = numpy.load('columncache/census2010_block2010/p001001.numpy')\n",
    "print 'block_populations has', sum(block_populations), 'total people'"
   ]
  },
  {
   "cell_type": "code",
   "execution_count": 32,
   "metadata": {},
   "outputs": [
    {
     "ename": "OperationalError",
     "evalue": "could not connect to server: No such file or directory\n\tIs the server running locally and accepting\n\tconnections on Unix domain socket \"/var/run/postgresql/.s.PGSQL.5432\"?\n",
     "output_type": "error",
     "traceback": [
      "\u001b[0;31m\u001b[0m",
      "\u001b[0;31mOperationalError\u001b[0mTraceback (most recent call last)",
      "\u001b[0;32m<ipython-input-32-4a017443b2f3>\u001b[0m in \u001b[0;36m<module>\u001b[0;34m()\u001b[0m\n\u001b[0;32m----> 1\u001b[0;31m \u001b[0mblock_geoids_2010\u001b[0m \u001b[0;34m=\u001b[0m \u001b[0;34m[\u001b[0m\u001b[0mrow\u001b[0m\u001b[0;34m[\u001b[0m\u001b[0;36m0\u001b[0m\u001b[0;34m]\u001b[0m \u001b[0;32mfor\u001b[0m \u001b[0mrow\u001b[0m \u001b[0;32min\u001b[0m \u001b[0mquery_psql\u001b[0m\u001b[0;34m(\u001b[0m\u001b[0;34m\"SELECT geoid2010 FROM sf1_2010_block_p001 order by blockidx2010\"\u001b[0m\u001b[0;34m)\u001b[0m\u001b[0;34m]\u001b[0m\u001b[0;34m\u001b[0m\u001b[0m\n\u001b[0m",
      "\u001b[0;32m<string>\u001b[0m in \u001b[0;36mquery_psql\u001b[0;34m(query, quiet, database)\u001b[0m\n",
      "\u001b[0;32m/home/rsargent/anaconda2/lib/python2.7/site-packages/psycopg2/__init__.pyc\u001b[0m in \u001b[0;36mconnect\u001b[0;34m(dsn, connection_factory, cursor_factory, **kwargs)\u001b[0m\n\u001b[1;32m    128\u001b[0m \u001b[0;34m\u001b[0m\u001b[0m\n\u001b[1;32m    129\u001b[0m     \u001b[0mdsn\u001b[0m \u001b[0;34m=\u001b[0m \u001b[0m_ext\u001b[0m\u001b[0;34m.\u001b[0m\u001b[0mmake_dsn\u001b[0m\u001b[0;34m(\u001b[0m\u001b[0mdsn\u001b[0m\u001b[0;34m,\u001b[0m \u001b[0;34m**\u001b[0m\u001b[0mkwargs\u001b[0m\u001b[0;34m)\u001b[0m\u001b[0;34m\u001b[0m\u001b[0m\n\u001b[0;32m--> 130\u001b[0;31m     \u001b[0mconn\u001b[0m \u001b[0;34m=\u001b[0m \u001b[0m_connect\u001b[0m\u001b[0;34m(\u001b[0m\u001b[0mdsn\u001b[0m\u001b[0;34m,\u001b[0m \u001b[0mconnection_factory\u001b[0m\u001b[0;34m=\u001b[0m\u001b[0mconnection_factory\u001b[0m\u001b[0;34m,\u001b[0m \u001b[0;34m**\u001b[0m\u001b[0mkwasync\u001b[0m\u001b[0;34m)\u001b[0m\u001b[0;34m\u001b[0m\u001b[0m\n\u001b[0m\u001b[1;32m    131\u001b[0m     \u001b[0;32mif\u001b[0m \u001b[0mcursor_factory\u001b[0m \u001b[0;32mis\u001b[0m \u001b[0;32mnot\u001b[0m \u001b[0mNone\u001b[0m\u001b[0;34m:\u001b[0m\u001b[0;34m\u001b[0m\u001b[0m\n\u001b[1;32m    132\u001b[0m         \u001b[0mconn\u001b[0m\u001b[0;34m.\u001b[0m\u001b[0mcursor_factory\u001b[0m \u001b[0;34m=\u001b[0m \u001b[0mcursor_factory\u001b[0m\u001b[0;34m\u001b[0m\u001b[0m\n",
      "\u001b[0;31mOperationalError\u001b[0m: could not connect to server: No such file or directory\n\tIs the server running locally and accepting\n\tconnections on Unix domain socket \"/var/run/postgresql/.s.PGSQL.5432\"?\n"
     ]
    }
   ],
   "source": [
    "block_geoids_2010 = [row[0] for row in query_psql(\"SELECT geoid2010 FROM sf1_2010_block_p001 order by blockidx2010\")]"
   ]
  },
  {
   "cell_type": "code",
   "execution_count": null,
   "metadata": {
    "collapsed": true
   },
   "outputs": [],
   "source": [
    "block_geoids_2010 = json.load(open('block_geoids_2010.json'))\n",
    "print 'There are', len(block_geoids_2010), 'blocks'\n",
    "\n",
    "assert(len(block_geoids_2010) + 1 == len(block_populations))"
   ]
  },
  {
   "cell_type": "markdown",
   "metadata": {},
   "source": [
    "### Compute 2010 population by tract and block indices from tract\n"
   ]
  },
  {
   "cell_type": "code",
   "execution_count": null,
   "metadata": {
    "collapsed": true
   },
   "outputs": [],
   "source": [
    "tract_populations = {}\n",
    "tract_block_indexes = {}\n",
    "\n",
    "for block_index_minus_one, block_geoid in enumerate(block_geoids_2010):\n",
    "    block_index = block_index_minus_one + 1\n",
    "    tract_name = block_geoid[0:11]\n",
    "    if tract_name not in tract_populations:\n",
    "        tract_populations[tract_name] = 0\n",
    "        tract_block_indexes[tract_name] = []\n",
    "    tract_populations[tract_name] += block_populations[block_index]\n",
    "    tract_block_indexes[tract_name].append(block_index)\n",
    "\n",
    "print 'There are', len(tract_populations), 'tracts'\n",
    "print 'tract_populations has', sum(tract_populations.values()), 'people'"
   ]
  },
  {
   "cell_type": "markdown",
   "metadata": {},
   "source": [
    "### Map tract identifiers to LOGRECNO using geography file"
   ]
  },
  {
   "cell_type": "code",
   "execution_count": null,
   "metadata": {
    "collapsed": true
   },
   "outputs": [],
   "source": [
    "tract_to_logrecno = {}\n",
    "\n",
    "def compute_tract_to_logrecno(state):\n",
    "    geography = pandas.read_csv('capture/ACS2015_5year/2015_ACS_Geography_Files/g20155{state}.csv'.format(**locals()),\n",
    "                                dtype=numpy.str,\n",
    "                                index_col=False,\n",
    "                                header=None,\n",
    "                                keep_default_na=False,\n",
    "                                na_values=[])\n",
    "\n",
    "    nrows = geography.shape[0]\n",
    "    print 'State {state} has {nrows} geography rows'.format(**locals())\n",
    "    \n",
    "    ntracts = 0\n",
    "    tract_to_logrecno[state] = {}\n",
    "    \n",
    "    for r in range(0, geography.shape[0]):\n",
    "        aggregation_level = geography.iloc[r, 2]\n",
    "        if aggregation_level == '140': # census tract\n",
    "            tract_identifier = geography.iloc[r, 48][7:]\n",
    "            logrecno = geography.iloc[r, 4]\n",
    "            tract_to_logrecno[state][tract_identifier] = logrecno\n",
    "    \n",
    "    print 'Found %d tracts for state %s' % (len(tract_to_logrecno[state]), state)\n",
    "\n",
    "for state in state_names:\n",
    "    compute_tract_to_logrecno(state)"
   ]
  },
  {
   "cell_type": "markdown",
   "metadata": {},
   "source": [
    "### Interpolate and write columns for data file"
   ]
  },
  {
   "cell_type": "code",
   "execution_count": null,
   "metadata": {
    "collapsed": true
   },
   "outputs": [],
   "source": [
    "# TODO: can we do this with a data frame then write out columns?\n",
    "\n",
    "def interpolate_acs_file(state, seq):\n",
    "    print 'Reading %s:%d' % (state, seq)\n",
    "    data = read_acs2015_year_data(state, seq)\n",
    "\n",
    "    print 'Mapping locrecno to row'\n",
    "    logrecnos = data['LOGRECNO']\n",
    "\n",
    "    logrecno_to_row = {}\n",
    "\n",
    "    for r, logrecno in enumerate(logrecnos):\n",
    "        logrecno_to_row[logrecno] = r\n",
    "    \n",
    "    col_names = data.columns.values[6:]\n",
    "    print 'Iterating across %d columns' % len(col_names)\n",
    "    for col_name in col_names:\n",
    "        input_col = data[col_name]\n",
    "        output_col_path = column_dir + '/' + dataset + '/' + col_name + '.float32'\n",
    "        if os.path.exists(output_col_path):\n",
    "            print '%s already exists, skipping' % output_col_path\n",
    "            continue\n",
    "\n",
    "        output_col = numpy.zeros(block_populations.size, dtype=numpy.float32)\n",
    "\n",
    "        for tract in sorted(tract_to_logrecno[state].keys()):\n",
    "            input_pop = input_col[logrecno_to_row[tract_to_logrecno[state][tract]]]\n",
    "            if not isinstance(input_pop, numbers.Number):\n",
    "                if input_pop == '.':\n",
    "                    input_pop = 0\n",
    "                else:\n",
    "                    try:\n",
    "                        input_pop = float(input_pop)\n",
    "                    except:\n",
    "                        print 'That population is'\n",
    "                        print input_pop\n",
    "                        print type(input_pop)\n",
    "                        print '>%s<' % input_pop\n",
    "                        input_pop = 0\n",
    "            if not tract in tract_block_indexes:\n",
    "                print 'missing tract {tract} from tract_block_indexes'.format(**locals())\n",
    "            else:\n",
    "                for block_index in tract_block_indexes[tract]:\n",
    "                    if block_populations[block_index]:\n",
    "                        output_col[block_index] = input_pop * float(block_populations[block_index]) / tract_populations[tract]\n",
    "            \n",
    "        output_col.tofile(output_col_path + '.tmp')\n",
    "        os.rename(output_col_path + '.tmp', output_col_path)\n",
    "        print 'Created %s' % output_col_path\n",
    "\n",
    "for seq in range(97, 2000):\n",
    "    interpolate_acs_file('pa', seq)"
   ]
  },
  {
   "cell_type": "code",
   "execution_count": null,
   "metadata": {
    "collapsed": true,
    "scrolled": false
   },
   "outputs": [],
   "source": [
    "# TODO: can we do this with a data frame then write out columns?\n",
    "\n",
    "def interpolate_acs_file(seq):\n",
    "    output_cols = {}\n",
    "    missing_tracts = {}\n",
    "    for state in state_names:\n",
    "        data = read_acs2015_year_data(state, seq)\n",
    "    \n",
    "        logrecnos = data['LOGRECNO']\n",
    "\n",
    "        logrecno_to_row = {}\n",
    "\n",
    "        col_names = data.columns.values[6:]\n",
    "        print '%s:%d has %d columns' % (state, seq, len(col_names))\n",
    "        assert len(col_names) < 500   # sanity check to avoid demanding too much RAM on hal15\n",
    "\n",
    "        for r, logrecno in enumerate(logrecnos):\n",
    "            logrecno_to_row[logrecno] = r\n",
    "    \n",
    "        for col_name in col_names:\n",
    "            input_col = data[col_name]\n",
    "                \n",
    "            if not col_name in output_cols:\n",
    "                output_cols[col_name] = numpy.zeros(block_populations.size, dtype=numpy.float32)\n",
    "            output_col = output_cols[col_name]\n",
    "\n",
    "            for tract in sorted(tract_to_logrecno[state].keys()):\n",
    "                input_pop = input_col[logrecno_to_row[tract_to_logrecno[state][tract]]]\n",
    "                if not isinstance(input_pop, numbers.Number):\n",
    "                    if input_pop == '.':\n",
    "                        input_pop = 0\n",
    "                    else:\n",
    "                        try:\n",
    "                            input_pop = float(input_pop)\n",
    "                        except:\n",
    "                            print 'That population is'\n",
    "                            print input_pop\n",
    "                            print type(input_pop)\n",
    "                            print '>%s<' % input_pop\n",
    "                            input_pop = 0\n",
    "                            \n",
    "                            \n",
    "                if not tract in tract_block_indexes:\n",
    "                    missing_tracts[tract] = True\n",
    "                else:\n",
    "                    for block_index in tract_block_indexes[tract]:\n",
    "                        if block_populations[block_index]:\n",
    "                            output_col[block_index] = input_pop * float(block_populations[block_index]) / tract_populations[tract]\n",
    "            \n",
    "    print 'Missing tracts: %s' % (sorted(missing_tracts.keys()))\n",
    "\n",
    "    for col_name in sorted(output_cols.keys()):\n",
    "        output_col_path = column_dir + '/' + dataset + '/' + col_name + '.float32'\n",
    "        output_cols[col_name].tofile(output_col_path + '.tmp')\n",
    "        os.rename(output_col_path + '.tmp', output_col_path)\n",
    "        print 'Created %s with sum %f' % (output_col_path, output_cols[col_name].sum())\n",
    "    \n",
    "        \n",
    "for seq in range(1, 1000):\n",
    "    interpolate_acs_file(seq)"
   ]
  },
  {
   "cell_type": "code",
   "execution_count": null,
   "metadata": {
    "collapsed": true
   },
   "outputs": [],
   "source": [
    "len(tract_block_indexes.keys())"
   ]
  },
  {
   "cell_type": "code",
   "execution_count": null,
   "metadata": {
    "collapsed": true
   },
   "outputs": [],
   "source": [
    "!ls -l columncache/acs2015_5year_tract2010/B08006_002.float32"
   ]
  },
  {
   "cell_type": "code",
   "execution_count": null,
   "metadata": {
    "collapsed": true
   },
   "outputs": [],
   "source": [
    "x=numpy.memmap('columncache/acs2015_5year_tract2010/B08006_002.float32', dtype=numpy.float32, mode='r')"
   ]
  },
  {
   "cell_type": "code",
   "execution_count": null,
   "metadata": {
    "collapsed": true
   },
   "outputs": [],
   "source": [
    "x.sum()"
   ]
  },
  {
   "cell_type": "code",
   "execution_count": null,
   "metadata": {
    "collapsed": true
   },
   "outputs": [],
   "source": []
  }
 ],
 "metadata": {
  "anaconda-cloud": {},
  "kernelspec": {
   "display_name": "Python 2",
   "language": "python",
   "name": "python2"
  },
  "language_info": {
   "codemirror_mode": {
    "name": "ipython",
    "version": 2
   },
   "file_extension": ".py",
   "mimetype": "text/x-python",
   "name": "python",
   "nbconvert_exporter": "python",
   "pygments_lexer": "ipython2",
   "version": "2.7.15"
  }
 },
 "nbformat": 4,
 "nbformat_minor": 1
}
