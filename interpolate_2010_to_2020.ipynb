{
 "cells": [
  {
   "cell_type": "code",
   "execution_count": 1,
   "metadata": {},
   "outputs": [],
   "source": [
    "import numpy as np\n",
    "import os\n",
    "import pandas as pd\n",
    "import threading\n",
    "\n",
    "from scipy.sparse import load_npz\n",
    "from typing import Literal, Tuple, Union\n",
    "\n",
    "GeographyYear = Literal[2010, 2020]"
   ]
  },
  {
   "attachments": {},
   "cell_type": "markdown",
   "metadata": {},
   "source": [
    "# Testing Interpolation from 2010 Blocks to 2020 Blocks"
   ]
  },
  {
   "attachments": {},
   "cell_type": "markdown",
   "metadata": {},
   "source": [
    "## Methods"
   ]
  },
  {
   "attachments": {},
   "cell_type": "markdown",
   "metadata": {},
   "source": [
    "### Helpers\n",
    "\n",
    "Helpers are ported from [tileserve.py](\"./tileserve.py\") for the purposes of testing interpolation methods"
   ]
  },
  {
   "cell_type": "code",
   "execution_count": 2,
   "metadata": {},
   "outputs": [],
   "source": [
    "class LRUCache:\n",
    "    def __init__(self, max_entries):\n",
    "        self.max_entries = max_entries\n",
    "        self.entries = {}\n",
    "        self.usecount = 0\n",
    "    \n",
    "    def has(self, key):\n",
    "        return key in self.entries\n",
    "    \n",
    "    def get(self, key):\n",
    "        self.use(key)\n",
    "        return self.entries[key]['data']\n",
    "    \n",
    "    def use(self, key):\n",
    "        self.usecount += 1\n",
    "        self.entries[key]['lastuse'] = self.usecount\n",
    "\n",
    "    def insert(self, key, val):\n",
    "        self.entries[key] = {'data':val}\n",
    "        self.use(key)\n",
    "        if len(self.entries) > self.max_entries:\n",
    "            lru_key, lru_val = None, {}\n",
    "            for key, val in self.entries.items():\n",
    "                if not lru_val or val['lastuse'] < lru_val['lastuse']:\n",
    "                    lru_key, lru_val = key, val\n",
    "            if lru_val:\n",
    "                del self.entries[lru_key]\n",
    "\n",
    "column_cache = LRUCache(128)\n",
    "\n",
    "def memory_map(binary_file_path: str, dtype: np.dtype = np.float32) -> np.memmap:\n",
    "    return np.memmap(binary_file_path, dtype=dtype, mode=\"r\")"
   ]
  },
  {
   "attachments": {},
   "cell_type": "markdown",
   "metadata": {},
   "source": [
    "### Load Methods"
   ]
  },
  {
   "cell_type": "code",
   "execution_count": 3,
   "metadata": {},
   "outputs": [],
   "source": [
    "def try_load_block_data_2010(dataset: str, column: str) -> Tuple[bool, Union[np.memmap, str]]:\n",
    "    (cached, cache_key, filename_prefix, filename) = _try_load_from_cache(dataset, column, 2010)\n",
    "\n",
    "    if isinstance(cached, str):\n",
    "        return False, cached\n",
    "    \n",
    "    if cached is not None:\n",
    "        return True, cached\n",
    "\n",
    "    if not os.path.exists(filename):\n",
    "        if not os.path.exists(f\"{filename_prefix}.numpy\"):\n",
    "            return False, f\"No column named {column} in dataset {dataset}.\"\n",
    "\n",
    "        data = np.load(f\"{filename_prefix}.numpy\").astype(np.float32)\n",
    "        tmp_filename = f\"{filename}.tmp.{os.getpid()}.{threading.current_thread().ident}\"\n",
    "\n",
    "        data.tofile(tmp_filename)\n",
    "\n",
    "        os.rename(tmp_filename, filename)\n",
    "\n",
    "    data = memory_map(filename)\n",
    "    column_cache.insert(cache_key, data)\n",
    "\n",
    "    return True, data\n",
    "\n",
    "def try_load_block_data_2020(dataset: str, column: str) -> Tuple[bool, Union[np.memmap, str]]:\n",
    "    (cached, cache_key, _, filename) = _try_load_from_cache(dataset, column, 2020)\n",
    "\n",
    "    if isinstance(cached, str):\n",
    "        return False, cached\n",
    "    \n",
    "    if cached is not None:\n",
    "        return True, cached\n",
    "\n",
    "    if not os.path.exists(filename):\n",
    "        (success, data_2010) = try_load_block_data_2010(dataset, column)\n",
    "\n",
    "        if not success:\n",
    "            return success, data_2010\n",
    "\n",
    "        crosswalk_matrix = load_npz(\"./crosswalk_matrix_2010_2020.npz\")\n",
    "        data_2020 = crosswalk_matrix.dot(data_2010)\n",
    "        tmp_filename = f\"{filename}.2020.tmp.{os.getpid()}.{threading.current_thread().ident}\"\n",
    "\n",
    "        data_2020.tofile(tmp_filename)\n",
    "\n",
    "        os.rename(tmp_filename, filename)\n",
    "\n",
    "    data = memory_map(filename)\n",
    "    column_cache.insert(cache_key, data)\n",
    "    return True, data\n",
    "\n",
    "def _try_load_from_cache(dataset: str, column: str, year: GeographyYear = 2010) -> Tuple[Union[None, np.memmap, str], str, str, str]:\n",
    "    cache_key = f'{dataset}.{year}.{column}'\n",
    "    \n",
    "    if column_cache.has(cache_key):\n",
    "        return column_cache.get(cache_key), \"\", \"\", \"\"\n",
    "    \n",
    "    cache_dir = \"columncache\"\n",
    "    dataset_dir = f\"{cache_dir}/{dataset}\"\n",
    "\n",
    "    if not os.path.exists(dataset_dir):\n",
    "        return f\"No such dataset: {dataset}\", \"\", \"\", \"\"\n",
    "\n",
    "    filename_prefix = f\"{dataset_dir}/{column}\"\n",
    "    filename = f\"{filename_prefix}{'.2020' if year == 2020 else ''}.float32\"\n",
    "\n",
    "    return [None, cache_key, filename_prefix, filename]"
   ]
  },
  {
   "cell_type": "code",
   "execution_count": 4,
   "metadata": {},
   "outputs": [],
   "source": [
    "full_population_count_1990 = (\"census1990_block2010\", \"P0010001\")\n",
    "full_population_count_2000 = (\"census2000_block2010\", \"P0010001\")\n",
    "full_population_count_2010 = (\"census2010_block2010\", \"P0010001\")"
   ]
  },
  {
   "cell_type": "code",
   "execution_count": 5,
   "metadata": {},
   "outputs": [],
   "source": [
    "full_population_count_1990_2010 = try_load_block_data_2010(*full_population_count_1990)\n",
    "full_population_count_2000_2010 = try_load_block_data_2010(*full_population_count_2000)\n",
    "full_population_count_2010_2010 = try_load_block_data_2010(*full_population_count_2010)"
   ]
  },
  {
   "cell_type": "code",
   "execution_count": 6,
   "metadata": {},
   "outputs": [
    {
     "data": {
      "text/plain": [
       "(True, (11078298,))"
      ]
     },
     "execution_count": 6,
     "metadata": {},
     "output_type": "execute_result"
    }
   ],
   "source": [
    "full_population_count_1990_2010[0], full_population_count_1990_2010[1] if not full_population_count_1990_2010[0] else full_population_count_1990_2010[1].shape"
   ]
  },
  {
   "cell_type": "code",
   "execution_count": 7,
   "metadata": {},
   "outputs": [
    {
     "data": {
      "text/plain": [
       "(True, (11078298,))"
      ]
     },
     "execution_count": 7,
     "metadata": {},
     "output_type": "execute_result"
    }
   ],
   "source": [
    "full_population_count_2000_2010[0], full_population_count_2000_2010[1] if not full_population_count_2000_2010[0] else full_population_count_2000_2010[1].shape"
   ]
  },
  {
   "cell_type": "code",
   "execution_count": 8,
   "metadata": {},
   "outputs": [
    {
     "data": {
      "text/plain": [
       "(True, (11078298,))"
      ]
     },
     "execution_count": 8,
     "metadata": {},
     "output_type": "execute_result"
    }
   ],
   "source": [
    "full_population_count_2010_2010[0], full_population_count_2010_2010[1] if not full_population_count_2010_2010[0] else full_population_count_2010_2010[1].shape"
   ]
  },
  {
   "cell_type": "code",
   "execution_count": null,
   "metadata": {},
   "outputs": [],
   "source": []
  },
  {
   "cell_type": "code",
   "execution_count": 9,
   "metadata": {},
   "outputs": [],
   "source": [
    "full_population_count_1990_2020 = try_load_block_data_2020(*full_population_count_1990)\n",
    "full_population_count_2000_2020 = try_load_block_data_2020(*full_population_count_2000)\n",
    "full_population_count_2010_2020 = try_load_block_data_2020(*full_population_count_2010)"
   ]
  },
  {
   "cell_type": "code",
   "execution_count": 10,
   "metadata": {},
   "outputs": [
    {
     "data": {
      "text/plain": [
       "(True, (8174956,))"
      ]
     },
     "execution_count": 10,
     "metadata": {},
     "output_type": "execute_result"
    }
   ],
   "source": [
    "full_population_count_1990_2020[0], full_population_count_1990_2020[1] if not full_population_count_1990_2020[0] else full_population_count_1990_2020[1].shape"
   ]
  },
  {
   "cell_type": "code",
   "execution_count": 11,
   "metadata": {},
   "outputs": [
    {
     "data": {
      "text/plain": [
       "(True, (8174956,))"
      ]
     },
     "execution_count": 11,
     "metadata": {},
     "output_type": "execute_result"
    }
   ],
   "source": [
    "full_population_count_2000_2020[0], full_population_count_2000_2020[1] if not full_population_count_2000_2020[0] else full_population_count_2000_2020[1].shape"
   ]
  },
  {
   "cell_type": "code",
   "execution_count": 12,
   "metadata": {},
   "outputs": [
    {
     "data": {
      "text/plain": [
       "(True, (8174956,))"
      ]
     },
     "execution_count": 12,
     "metadata": {},
     "output_type": "execute_result"
    }
   ],
   "source": [
    "full_population_count_2010_2020[0], full_population_count_2010_2020[1] if not full_population_count_2010_2020[0] else full_population_count_2010_2020[1].shape"
   ]
  },
  {
   "cell_type": "code",
   "execution_count": 16,
   "metadata": {},
   "outputs": [
    {
     "data": {
      "text/plain": [
       "memmap([  0.,  61.,   0.,   0.,  75.,   0.,   1.,   0.,  23.,   0.,   1.,\n",
       "          0.,   0.,   2.,   2.,  70.,  56.,  26.,   0.,  17., 171.,   0.,\n",
       "          0.,   0.,   9.,   0., 152.,   3.,  29.,   0.,   6.,   0.,   0.,\n",
       "          8.,  65., 180.,   2.,   4.,   0.,   5.,   6.,  35.,   0.,   1.,\n",
       "         20.,  80., 203.,   0.,   0.,  34.], dtype=float32)"
      ]
     },
     "execution_count": 16,
     "metadata": {},
     "output_type": "execute_result"
    }
   ],
   "source": [
    "full_population_count_2010_2010[1][:50]"
   ]
  },
  {
   "cell_type": "code",
   "execution_count": 17,
   "metadata": {},
   "outputs": [
    {
     "data": {
      "text/plain": [
       "memmap([0.0000000e+00, 2.1607796e+01, 3.9392204e+01, 3.4178200e+01,\n",
       "        2.2912872e+01, 0.0000000e+00, 0.0000000e+00, 1.0000000e+00,\n",
       "        0.0000000e+00, 2.2000411e+00, 4.0967807e-02, 1.7589912e+00,\n",
       "        0.0000000e+00, 1.6941471e+01, 0.0000000e+00, 1.7100000e+02,\n",
       "        4.1967457e+01, 0.0000000e+00, 7.0000000e+01, 5.6000000e+01,\n",
       "        2.6000000e+01, 3.0000000e+00, 1.5200000e+02, 2.9000000e+01,\n",
       "        0.0000000e+00, 9.0000000e+00, 0.0000000e+00, 0.0000000e+00,\n",
       "        6.0000000e+00, 0.0000000e+00, 0.0000000e+00, 2.4518759e+02,\n",
       "        2.8000000e+01, 3.6000000e+01, 1.0000000e+02, 8.0000000e+00,\n",
       "        2.8100000e+02, 1.5000000e+01, 3.4000000e+01, 2.9000000e+01,\n",
       "        3.9000000e+01, 2.0000000e+01, 1.0000000e+00, 1.8124110e+00,\n",
       "        0.0000000e+00, 0.0000000e+00, 4.0000000e+00, 0.0000000e+00,\n",
       "        0.0000000e+00, 1.1000000e+01], dtype=float32)"
      ]
     },
     "execution_count": 17,
     "metadata": {},
     "output_type": "execute_result"
    }
   ],
   "source": [
    "full_population_count_2010_2020[1][:50]"
   ]
  },
  {
   "cell_type": "code",
   "execution_count": null,
   "metadata": {},
   "outputs": [],
   "source": []
  }
 ],
 "metadata": {
  "kernelspec": {
   "display_name": "Python 3",
   "language": "python",
   "name": "python3"
  },
  "language_info": {
   "codemirror_mode": {
    "name": "ipython",
    "version": 3
   },
   "file_extension": ".py",
   "mimetype": "text/x-python",
   "name": "python",
   "nbconvert_exporter": "python",
   "pygments_lexer": "ipython3",
   "version": "3.8.5"
  },
  "orig_nbformat": 4
 },
 "nbformat": 4,
 "nbformat_minor": 2
}
