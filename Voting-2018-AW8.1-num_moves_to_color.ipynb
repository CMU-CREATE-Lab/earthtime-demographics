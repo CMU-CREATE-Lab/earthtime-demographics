{
 "cells": [
  {
   "cell_type": "code",
   "execution_count": 1,
   "metadata": {},
   "outputs": [
    {
     "data": {
      "text/html": [
       "<style>#notebook-container { margin-left:-14px; width:calc(100% + 27px) !important; }</style>"
      ],
      "text/plain": [
       "<IPython.core.display.HTML object>"
      ]
     },
     "metadata": {},
     "output_type": "display_data"
    }
   ],
   "source": [
    "# Boilerplate from Randy cheatsheet at https://docs.google.com/document/d/1utZuLHcKQEZNXTQLOysTNCxTHrqxczAUymmtplpn27Q/edit#\n",
    "import pandas as pd\n",
    "import geopandas as gpd\n",
    "import numpy as np\n",
    "from geopandas import GeoSeries, GeoDataFrame\n",
    "import re\n",
    "%matplotlib inline\n",
    "pd.set_option('display.max_columns', 500)\n",
    "\n",
    "# Wide display\n",
    "from IPython.core.display import display, HTML\n",
    "display(HTML(\"<style>#notebook-container { margin-left:-14px; width:calc(100% + 27px) !important; }</style>\"))"
   ]
  },
  {
   "cell_type": "code",
   "execution_count": 2,
   "metadata": {},
   "outputs": [],
   "source": [
    "import pandas as pd\n",
    "import csv, json, os, math, numbers, pandas, re, scipy, scipy.sparse, shutil\n",
    "import struct, subprocess, sys, threading, time, urllib2\n",
    "import sqlite3, thread, urllib, dateparser\n",
    "from datetime import timedelta\n",
    "\n",
    "def exec_ipynb(filename_or_url):\n",
    "    nb = (urllib2.urlopen(filename_or_url) if re.match(r'https?:', filename_or_url) else open(filename_or_url)).read()\n",
    "    jsonNb = json.loads(nb)\n",
    "    #check for the modified formatting of Jupyter Notebook v4\n",
    "    if(jsonNb['nbformat'] == 4):\n",
    "        exec '\\n'.join([''.join(cell['source']) for cell in jsonNb['cells'] if cell['cell_type'] == 'code']) in globals()\n",
    "    else:\n",
    "        exec '\\n'.join([''.join(cell['input']) for cell in jsonNb['worksheets'][0]['cells'] if cell['cell_type'] == 'code']) in globals()\n",
    "\n",
    "exec_ipynb('timelapse-utilities.ipynb')"
   ]
  },
  {
   "cell_type": "code",
   "execution_count": 3,
   "metadata": {},
   "outputs": [],
   "source": [
    "exec_ipynb('colormaps.ipynb')"
   ]
  },
  {
   "cell_type": "code",
   "execution_count": 4,
   "metadata": {},
   "outputs": [],
   "source": [
    "def get_segments_from_ring(r):\n",
    "    ret = set()\n",
    "    for i in range(0, len(r)):\n",
    "        ret.add((r[i - 1][0], r[i - 1][1], r[i][0], r[i][1]))\n",
    "    return ret\n",
    "\n",
    "def get_segments_from_polygon(p):\n",
    "    return set.union(*[get_segments_from_ring(r) for r in p])\n",
    "\n",
    "def get_segments_from_multipolygon(mp):\n",
    "    return set.union(*[get_segments_from_polygon(p) for p in mp])\n",
    "\n",
    "def get_segments(g):\n",
    "    if 'features' in g:\n",
    "        return set.union(*[get_segments(f) for f in g['features']])\n",
    "    elif 'geometry' in g:\n",
    "        if g['geometry']['type'] == 'Polygon':\n",
    "            return get_segments_from_polygon(g['geometry']['coordinates'])\n",
    "        elif g['geometry']['type'] == 'MultiPolygon':\n",
    "            return get_segments_from_multipolygon(g['geometry']['coordinates'])\n",
    "        else:\n",
    "            raise Exception('unrecognized geometry type %s' % g['geometry']['type'])\n",
    "    else:\n",
    "        raise 'unrecognized type'\n",
    "        \n",
    "def LonLatToWebMercator(lon, lat):\n",
    "    x = (lon + 180.0) * 256.0 / 360.0\n",
    "    y = 128.0 - math.log(math.tan((lat + 90.0) * math.pi / 360.0)) * 128.0 / math.pi\n",
    "    return [x, y]\n",
    "\n",
    "def WebMercatorToLonLat(x,y):\n",
    "    lat = math.atan(math.exp((128.0 - y) * math.pi / 128.0)) * 360.0 / math.pi - 90.0\n",
    "    lon = x * 360.0 / 256.0 - 180.0\n",
    "    return [lon, lat]\n",
    "\n",
    "def project_and_binarize_segment(segment, dest):\n",
    "    (x1, y1) = LonLatToWebMercator(segment[0], segment[1])\n",
    "    (x2, y2) = LonLatToWebMercator(segment[2], segment[3])\n",
    "    dest.write(struct.pack('<ffff', x1, y1, x2, y2))\n",
    "\n",
    "def binarize_geojson_outlines(src, dest):\n",
    "    gj = json.load(open(src))\n",
    "    print 'Read %d features from %s' % (len(gj['features']), src)\n",
    "    segments = get_segments(gj)\n",
    "    print '%d segments' % len(segments)\n",
    "\n",
    "    try:\n",
    "        os.makedirs(os.path.dirname(dest))\n",
    "    except OSError:\n",
    "        pass\n",
    "        \n",
    "    out = open(dest + '.tmp', 'w')\n",
    "    for segment in segments:\n",
    "        project_and_binarize_segment(segment, out)\n",
    "    out.close()\n",
    "    os.rename(dest + '.tmp', dest)\n",
    "    print 'Created %s (%d segments)' % (dest, os.stat(dest).st_size / 16)\n",
    "        "
   ]
  },
  {
   "cell_type": "code",
   "execution_count": 5,
   "metadata": {},
   "outputs": [],
   "source": [
    "pandas.options.display.max_colwidth = 300\n",
    "pandas.set_option('display.max_columns', 500)"
   ]
  },
  {
   "cell_type": "markdown",
   "metadata": {},
   "source": [
    "# Read in 2018 US House boundaries"
   ]
  },
  {
   "cell_type": "code",
   "execution_count": 11,
   "metadata": {},
   "outputs": [],
   "source": [
    "ush_2018 = gpd.read_file('voting/Remedial Plan Shapefile.shp').to_crs(epsg=4326)"
   ]
  },
  {
   "cell_type": "code",
   "execution_count": 12,
   "metadata": {},
   "outputs": [
    {
     "data": {
      "text/plain": [
       "<matplotlib.axes._subplots.AxesSubplot at 0x7f6f83ea67d0>"
      ]
     },
     "execution_count": 12,
     "metadata": {},
     "output_type": "execute_result"
    },
    {
     "data": {
      "image/png": "[encoded data removed]",
      "text/plain": [
       "<Figure size 432x288 with 1 Axes>"
      ]
     },
     "metadata": {},
     "output_type": "display_data"
    }
   ],
   "source": [
    "ush_2018.plot()"
   ]
  },
  {
   "cell_type": "code",
   "execution_count": null,
   "metadata": {},
   "outputs": [],
   "source": [
    "ush_2018"
   ]
  },
  {
   "cell_type": "code",
   "execution_count": 14,
   "metadata": {},
   "outputs": [],
   "source": [
    "# Create a GeoDataFrame that just has DISTRICT and geometry\n",
    "ush_out_2018 = gpd.GeoDataFrame(ush_2018[['DISTRICT']], geometry=ush_2018.geometry,crs={'init': 'epsg:4326'})"
   ]
  },
  {
   "cell_type": "code",
   "execution_count": null,
   "metadata": {},
   "outputs": [],
   "source": [
    "ush_out_2018"
   ]
  },
  {
   "cell_type": "code",
   "execution_count": 16,
   "metadata": {},
   "outputs": [],
   "source": [
    "# Write out the 2018 US House geometry as a geojson file\n",
    "ush_out_2018.to_file('voting/pa_us_house_boundaries_2018.geojson', driver=\"GeoJSON\")"
   ]
  },
  {
   "cell_type": "code",
   "execution_count": 17,
   "metadata": {},
   "outputs": [
    {
     "name": "stdout",
     "output_type": "stream",
     "text": [
      "Read 18 features from voting/pa_us_house_boundaries_2018.geojson\n",
      "112242 segments\n",
      "Created voting/pa_us_house_boundaries_2018.bin (112242 segments)\n"
     ]
    }
   ],
   "source": [
    "binarize_geojson_outlines('voting/pa_us_house_boundaries_2018.geojson', \n",
    "                          'voting/pa_us_house_boundaries_2018.bin')"
   ]
  },
  {
   "cell_type": "markdown",
   "metadata": {},
   "source": [
    "# Read in 2018 PA House boundaries"
   ]
  },
  {
   "cell_type": "code",
   "execution_count": 456,
   "metadata": {},
   "outputs": [
    {
     "data": {
      "text/plain": [
       "<matplotlib.axes._subplots.AxesSubplot at 0x7f1253778e50>"
      ]
     },
     "execution_count": 456,
     "metadata": {},
     "output_type": "execute_result"
    },
    {
     "data": {
      "image/png": "[encoded data removed]",
      "text/plain": [
       "<Figure size 432x288 with 1 Axes>"
      ]
     },
     "metadata": {},
     "output_type": "display_data"
    }
   ],
   "source": [
    "pah_2018 = gpd.read_file('voting/Allegheny_County_Pennsylvania_House_of_Representatives_District_Boundaries.shp').to_crs(epsg=4326)\n",
    "pah_2018.plot()"
   ]
  },
  {
   "cell_type": "code",
   "execution_count": null,
   "metadata": {},
   "outputs": [],
   "source": [
    "pah_2018"
   ]
  },
  {
   "cell_type": "code",
   "execution_count": 458,
   "metadata": {},
   "outputs": [
    {
     "name": "stdout",
     "output_type": "stream",
     "text": [
      "Read 23 features from voting/ac_pa_house_boundaries_2018.geojson\n",
      "24593 segments\n",
      "Created voting/ac_pa_house_boundaries_2018.bin (24593 segments)\n"
     ]
    }
   ],
   "source": [
    "# Write out the 2018 PA House geometry as a geojson file\n",
    "pah_2018.to_file('voting/ac_pa_house_boundaries_2018.geojson', driver=\"GeoJSON\"\n",
    "binarize_geojson_outlines('voting/ac_pa_house_boundaries_2018.geojson', \n",
    "                          'voting/ac_pa_house_boundaries_2018.bin')"
   ]
  },
  {
   "cell_type": "code",
   "execution_count": null,
   "metadata": {},
   "outputs": [],
   "source": []
  },
  {
   "cell_type": "markdown",
   "metadata": {},
   "source": [
    "# Read in 2018 PA Senate boundaries"
   ]
  },
  {
   "cell_type": "code",
   "execution_count": 459,
   "metadata": {},
   "outputs": [
    {
     "data": {
      "text/plain": [
       "<matplotlib.axes._subplots.AxesSubplot at 0x7f11c6df1e10>"
      ]
     },
     "execution_count": 459,
     "metadata": {},
     "output_type": "execute_result"
    },
    {
     "data": {
      "image/png": "[encoded data removed]",
      "text/plain": [
       "<Figure size 432x288 with 1 Axes>"
      ]
     },
     "metadata": {},
     "output_type": "display_data"
    }
   ],
   "source": [
    "pas_2018 = gpd.read_file('voting/Allegheny_County_Pennsylvania_Senate_District_Boundaries.shp').to_crs(epsg=4326)\n",
    "pas_2018.plot()"
   ]
  },
  {
   "cell_type": "code",
   "execution_count": null,
   "metadata": {},
   "outputs": [],
   "source": [
    "pas_2018"
   ]
  },
  {
   "cell_type": "code",
   "execution_count": 461,
   "metadata": {},
   "outputs": [
    {
     "name": "stdout",
     "output_type": "stream",
     "text": [
      "Read 5 features from voting/ac_pa_senate_boundaries_2018.geojson\n",
      "8906 segments\n",
      "Created voting/ac_pa_senate_boundaries_2018.bin (8906 segments)\n"
     ]
    }
   ],
   "source": [
    "# Write out the 2018 PA Senate geometry as a geojson file\n",
    "pas_2018.to_file('voting/ac_pa_senate_boundaries_2018.geojson', driver=\"GeoJSON\")\n",
    "\n",
    "binarize_geojson_outlines('voting/ac_pa_senate_boundaries_2018.geojson', \n",
    "                          'voting/ac_pa_senate_boundaries_2018.bin')"
   ]
  },
  {
   "cell_type": "code",
   "execution_count": null,
   "metadata": {},
   "outputs": [],
   "source": []
  },
  {
   "cell_type": "markdown",
   "metadata": {},
   "source": [
    "# Polling places"
   ]
  },
  {
   "cell_type": "code",
   "execution_count": 116,
   "metadata": {},
   "outputs": [],
   "source": [
    "# Get old polling place locations\n",
    "pp_2017 = gpd.read_file('voting/Polling_Place_Locations_May_2017.shp').to_crs(epsg=4326)"
   ]
  },
  {
   "cell_type": "code",
   "execution_count": 41,
   "metadata": {},
   "outputs": [
    {
     "data": {
      "text/plain": [
       "<matplotlib.axes._subplots.AxesSubplot at 0x7fcd04d9b710>"
      ]
     },
     "execution_count": 41,
     "metadata": {},
     "output_type": "execute_result"
    },
    {
     "data": {
      "image/png": "[encoded data removed]",
      "text/plain": [
       "<Figure size 432x288 with 1 Axes>"
      ]
     },
     "metadata": {},
     "output_type": "display_data"
    }
   ],
   "source": [
    "pp_2017.plot()"
   ]
  },
  {
   "cell_type": "code",
   "execution_count": null,
   "metadata": {},
   "outputs": [],
   "source": [
    "pp_2017"
   ]
  },
  {
   "cell_type": "code",
   "execution_count": null,
   "metadata": {},
   "outputs": [],
   "source": [
    "pp_2017[pp_2017.MWD2.duplicated()]"
   ]
  },
  {
   "cell_type": "code",
   "execution_count": null,
   "metadata": {},
   "outputs": [],
   "source": [
    "pp_2017[pp_2017.MWD2==1881926]"
   ]
  },
  {
   "cell_type": "code",
   "execution_count": 119,
   "metadata": {},
   "outputs": [],
   "source": [
    "# Get rid of Brookline terrace based on discussion with David Hoyt\n",
    "# on 10/25/18\n",
    "pp_2017 = pp_2017[~(pp_2017.MWD2.duplicated())]"
   ]
  },
  {
   "cell_type": "code",
   "execution_count": 124,
   "metadata": {},
   "outputs": [],
   "source": [
    "# Get intermediate polling place locations\n",
    "pp_2018_05 = gpd.read_file('voting/PollingPlaces2018_May.shp').to_crs(epsg=4326)\n"
   ]
  },
  {
   "cell_type": "code",
   "execution_count": null,
   "metadata": {},
   "outputs": [],
   "source": [
    "pp_2018_05[pp_2018_05.MWD2.duplicated()]"
   ]
  },
  {
   "cell_type": "code",
   "execution_count": 125,
   "metadata": {},
   "outputs": [],
   "source": [
    "pp_2018_05 = pp_2018_05[~pp_2018_05.MWD2.duplicated()]"
   ]
  },
  {
   "cell_type": "code",
   "execution_count": null,
   "metadata": {},
   "outputs": [],
   "source": []
  },
  {
   "cell_type": "code",
   "execution_count": null,
   "metadata": {},
   "outputs": [],
   "source": []
  },
  {
   "cell_type": "code",
   "execution_count": 409,
   "metadata": {},
   "outputs": [],
   "source": [
    "# Get new polling place locations\n",
    "pp_2018_11 = gpd.read_file('voting/Allegheny_County_Polling_Place_Locations_November_2018.shp').to_crs(epsg=4326)\n"
   ]
  },
  {
   "cell_type": "code",
   "execution_count": 410,
   "metadata": {},
   "outputs": [
    {
     "data": {
      "text/html": [
       "<div>\n",
       "<style scoped>\n",
       "    .dataframe tbody tr th:only-of-type {\n",
       "        vertical-align: middle;\n",
       "    }\n",
       "\n",
       "    .dataframe tbody tr th {\n",
       "        vertical-align: top;\n",
       "    }\n",
       "\n",
       "    .dataframe thead th {\n",
       "        text-align: right;\n",
       "    }\n",
       "</style>\n",
       "<table border=\"1\" class=\"dataframe\">\n",
       "  <thead>\n",
       "    <tr style=\"text-align: right;\">\n",
       "      <th></th>\n",
       "      <th>OBJECTID_1</th>\n",
       "      <th>OBJECTID</th>\n",
       "      <th>Muni</th>\n",
       "      <th>Ward</th>\n",
       "      <th>District</th>\n",
       "      <th>LocName</th>\n",
       "      <th>Prefix</th>\n",
       "      <th>House</th>\n",
       "      <th>Fraction</th>\n",
       "      <th>Street</th>\n",
       "      <th>Suffix1</th>\n",
       "      <th>Suffix2</th>\n",
       "      <th>City</th>\n",
       "      <th>UnitDesc</th>\n",
       "      <th>UnitNumber</th>\n",
       "      <th>Zip</th>\n",
       "      <th>Parcel</th>\n",
       "      <th>Accessible</th>\n",
       "      <th>Leadman</th>\n",
       "      <th>Region</th>\n",
       "      <th>Coordinate</th>\n",
       "      <th>Coordina_1</th>\n",
       "      <th>DistrictCO</th>\n",
       "      <th>DistrictSE</th>\n",
       "      <th>DistrictLE</th>\n",
       "      <th>EditDate</th>\n",
       "      <th>MuniName</th>\n",
       "      <th>OrigAddres</th>\n",
       "      <th>MWD</th>\n",
       "      <th>POINT_X</th>\n",
       "      <th>POINT_Y</th>\n",
       "      <th>MWD2</th>\n",
       "      <th>NewAddress</th>\n",
       "      <th>geometry</th>\n",
       "    </tr>\n",
       "  </thead>\n",
       "  <tbody>\n",
       "    <tr>\n",
       "      <th>1235</th>\n",
       "      <td>913</td>\n",
       "      <td>916.0</td>\n",
       "      <td>188</td>\n",
       "      <td>19</td>\n",
       "      <td>26</td>\n",
       "      <td>BROOKLINE TERRACE</td>\n",
       "      <td>None</td>\n",
       "      <td>920</td>\n",
       "      <td>None</td>\n",
       "      <td>BROOKLINE</td>\n",
       "      <td>BLVD</td>\n",
       "      <td>None</td>\n",
       "      <td>PITTSBURGH</td>\n",
       "      <td>None</td>\n",
       "      <td>None</td>\n",
       "      <td>15226-2148</td>\n",
       "      <td>0097D00067000S00</td>\n",
       "      <td>None</td>\n",
       "      <td>12</td>\n",
       "      <td>7</td>\n",
       "      <td>1.336626e+06</td>\n",
       "      <td>393957.818078</td>\n",
       "      <td>14.0</td>\n",
       "      <td>42.0</td>\n",
       "      <td>22.0</td>\n",
       "      <td>None</td>\n",
       "      <td>PITTSBURGH</td>\n",
       "      <td>920 BROOKLINE BLVD</td>\n",
       "      <td>1881926</td>\n",
       "      <td>1.336626e+06</td>\n",
       "      <td>393957.818078</td>\n",
       "      <td>1881926</td>\n",
       "      <td>920 BROOKLINE BLVD</td>\n",
       "      <td>POINT (-80.01876370240662 40.39250864644669)</td>\n",
       "    </tr>\n",
       "  </tbody>\n",
       "</table>\n",
       "</div>"
      ],
      "text/plain": [
       "      OBJECTID_1  OBJECTID  Muni  Ward  District            LocName Prefix  \\\n",
       "1235         913     916.0   188    19        26  BROOKLINE TERRACE   None   \n",
       "\n",
       "     House Fraction     Street Suffix1 Suffix2        City UnitDesc  \\\n",
       "1235   920     None  BROOKLINE    BLVD    None  PITTSBURGH     None   \n",
       "\n",
       "     UnitNumber         Zip            Parcel Accessible Leadman Region  \\\n",
       "1235       None  15226-2148  0097D00067000S00       None      12      7   \n",
       "\n",
       "        Coordinate     Coordina_1  DistrictCO  DistrictSE  DistrictLE  \\\n",
       "1235  1.336626e+06  393957.818078        14.0        42.0        22.0   \n",
       "\n",
       "     EditDate    MuniName          OrigAddres      MWD       POINT_X  \\\n",
       "1235     None  PITTSBURGH  920 BROOKLINE BLVD  1881926  1.336626e+06   \n",
       "\n",
       "            POINT_Y     MWD2          NewAddress  \\\n",
       "1235  393957.818078  1881926  920 BROOKLINE BLVD   \n",
       "\n",
       "                                          geometry  \n",
       "1235  POINT (-80.01876370240662 40.39250864644669)  "
      ]
     },
     "execution_count": 410,
     "metadata": {},
     "output_type": "execute_result"
    }
   ],
   "source": [
    "pp_2018_11[pp_2018_11.MWD2.duplicated()]"
   ]
  },
  {
   "cell_type": "code",
   "execution_count": 411,
   "metadata": {},
   "outputs": [],
   "source": [
    "pp_2018_11 = pp_2018_11[~pp_2018_11.MWD2.duplicated()]"
   ]
  },
  {
   "cell_type": "code",
   "execution_count": 129,
   "metadata": {},
   "outputs": [],
   "source": [
    "pp_2018_m = pd.merge(pp_2018_11,pp_2018_05[['MWD2','NewAddress']], on='MWD2', suffixes=('_18_11', '_18_05'),left_index=False, right_index=False, sort=False,copy=True, indicator=False,\n",
    "                         validate=None)"
   ]
  },
  {
   "cell_type": "code",
   "execution_count": 130,
   "metadata": {},
   "outputs": [],
   "source": [
    "pp_2018_2017_m = pd.merge(pp_2018_m,pp_2017[['MWD2','NewAddress']], on='MWD2', suffixes=('_18_m', '_17_05'),left_index=False, right_index=False, sort=False,copy=True, indicator=False,\n",
    "                         validate=None)"
   ]
  },
  {
   "cell_type": "code",
   "execution_count": 135,
   "metadata": {},
   "outputs": [],
   "source": [
    "# Rename NewAddress to NewAddress_17_05\n",
    "pp_2018_2017_m=pp_2018_2017_m.rename(columns={'NewAddress':'NewAddress_17_05'})"
   ]
  },
  {
   "cell_type": "code",
   "execution_count": 132,
   "metadata": {},
   "outputs": [
    {
     "data": {
      "text/html": [
       "<div>\n",
       "<style scoped>\n",
       "    .dataframe tbody tr th:only-of-type {\n",
       "        vertical-align: middle;\n",
       "    }\n",
       "\n",
       "    .dataframe tbody tr th {\n",
       "        vertical-align: top;\n",
       "    }\n",
       "\n",
       "    .dataframe thead th {\n",
       "        text-align: right;\n",
       "    }\n",
       "</style>\n",
       "<table border=\"1\" class=\"dataframe\">\n",
       "  <thead>\n",
       "    <tr style=\"text-align: right;\">\n",
       "      <th></th>\n",
       "      <th>OBJECTID_1</th>\n",
       "      <th>OBJECTID</th>\n",
       "      <th>Muni</th>\n",
       "      <th>Ward</th>\n",
       "      <th>District</th>\n",
       "      <th>LocName</th>\n",
       "      <th>Prefix</th>\n",
       "      <th>House</th>\n",
       "      <th>Fraction</th>\n",
       "      <th>Street</th>\n",
       "      <th>Suffix1</th>\n",
       "      <th>Suffix2</th>\n",
       "      <th>City</th>\n",
       "      <th>UnitDesc</th>\n",
       "      <th>UnitNumber</th>\n",
       "      <th>Zip</th>\n",
       "      <th>Parcel</th>\n",
       "      <th>Accessible</th>\n",
       "      <th>Leadman</th>\n",
       "      <th>Region</th>\n",
       "      <th>Coordinate</th>\n",
       "      <th>Coordina_1</th>\n",
       "      <th>DistrictCO</th>\n",
       "      <th>DistrictSE</th>\n",
       "      <th>DistrictLE</th>\n",
       "      <th>EditDate</th>\n",
       "      <th>MuniName</th>\n",
       "      <th>OrigAddres</th>\n",
       "      <th>MWD</th>\n",
       "      <th>POINT_X</th>\n",
       "      <th>POINT_Y</th>\n",
       "      <th>MWD2</th>\n",
       "      <th>NewAddress_18_11</th>\n",
       "      <th>geometry</th>\n",
       "      <th>NewAddress_18_05</th>\n",
       "      <th>NewAddress</th>\n",
       "    </tr>\n",
       "  </thead>\n",
       "  <tbody>\n",
       "    <tr>\n",
       "      <th>618</th>\n",
       "      <td>296</td>\n",
       "      <td>296.0</td>\n",
       "      <td>188</td>\n",
       "      <td>19</td>\n",
       "      <td>26</td>\n",
       "      <td>TREE OF LIFE CHURCH</td>\n",
       "      <td>None</td>\n",
       "      <td>1036</td>\n",
       "      <td>None</td>\n",
       "      <td>BROOKLINE</td>\n",
       "      <td>BLVD</td>\n",
       "      <td>None</td>\n",
       "      <td>PITTSBURGH</td>\n",
       "      <td>None</td>\n",
       "      <td>None</td>\n",
       "      <td>15226-2148</td>\n",
       "      <td>0097H00001000000</td>\n",
       "      <td>None</td>\n",
       "      <td>12</td>\n",
       "      <td>7</td>\n",
       "      <td>1.337211e+06</td>\n",
       "      <td>393627.765169</td>\n",
       "      <td>14.0</td>\n",
       "      <td>42.0</td>\n",
       "      <td>22.0</td>\n",
       "      <td>None</td>\n",
       "      <td>PITTSBURGH</td>\n",
       "      <td>1036 BROOKLINE BLVD</td>\n",
       "      <td>1881926</td>\n",
       "      <td>1.337211e+06</td>\n",
       "      <td>393627.765169</td>\n",
       "      <td>1881926</td>\n",
       "      <td>1036 BROOKLINE BLVD</td>\n",
       "      <td>POINT (-80.01663330913114 40.39164418362884)</td>\n",
       "      <td>1036 BROOKLINE BLVD</td>\n",
       "      <td>1036 BROOKLINE BLVD</td>\n",
       "    </tr>\n",
       "  </tbody>\n",
       "</table>\n",
       "</div>"
      ],
      "text/plain": [
       "     OBJECTID_1  OBJECTID  Muni  Ward  District              LocName Prefix  \\\n",
       "618         296     296.0   188    19        26  TREE OF LIFE CHURCH   None   \n",
       "\n",
       "    House Fraction     Street Suffix1 Suffix2        City UnitDesc UnitNumber  \\\n",
       "618  1036     None  BROOKLINE    BLVD    None  PITTSBURGH     None       None   \n",
       "\n",
       "            Zip            Parcel Accessible Leadman Region    Coordinate  \\\n",
       "618  15226-2148  0097H00001000000       None      12      7  1.337211e+06   \n",
       "\n",
       "        Coordina_1  DistrictCO  DistrictSE  DistrictLE EditDate    MuniName  \\\n",
       "618  393627.765169        14.0        42.0        22.0     None  PITTSBURGH   \n",
       "\n",
       "              OrigAddres      MWD       POINT_X        POINT_Y     MWD2  \\\n",
       "618  1036 BROOKLINE BLVD  1881926  1.337211e+06  393627.765169  1881926   \n",
       "\n",
       "        NewAddress_18_11                                      geometry  \\\n",
       "618  1036 BROOKLINE BLVD  POINT (-80.01663330913114 40.39164418362884)   \n",
       "\n",
       "        NewAddress_18_05           NewAddress  \n",
       "618  1036 BROOKLINE BLVD  1036 BROOKLINE BLVD  "
      ]
     },
     "execution_count": 132,
     "metadata": {},
     "output_type": "execute_result"
    }
   ],
   "source": [
    "pp_2018_2017_m[pp_2018_2017_m.MWD2==1881926]"
   ]
  },
  {
   "cell_type": "code",
   "execution_count": 138,
   "metadata": {},
   "outputs": [
    {
     "data": {
      "text/plain": [
       "59"
      ]
     },
     "execution_count": 138,
     "metadata": {},
     "output_type": "execute_result"
    }
   ],
   "source": [
    "# Changed since 2017_05\n",
    "len(pp_2018_2017_m[pp_2018_2017_m.NewAddress_18_11!=pp_2018_2017_m.NewAddress_17_05])"
   ]
  },
  {
   "cell_type": "code",
   "execution_count": 141,
   "metadata": {},
   "outputs": [],
   "source": [
    "pp_2018_2017_m['addr_changed_17'] = pp_2018_2017_m.NewAddress_18_11!=pp_2018_2017_m.NewAddress_17_05"
   ]
  },
  {
   "cell_type": "code",
   "execution_count": 139,
   "metadata": {},
   "outputs": [
    {
     "data": {
      "text/plain": [
       "31"
      ]
     },
     "execution_count": 139,
     "metadata": {},
     "output_type": "execute_result"
    }
   ],
   "source": [
    "# Changed since 2018_05\n",
    "len(pp_2018_2017_m[pp_2018_2017_m.NewAddress_18_11!=pp_2018_2017_m.NewAddress_18_05])"
   ]
  },
  {
   "cell_type": "code",
   "execution_count": 142,
   "metadata": {},
   "outputs": [],
   "source": [
    "pp_2018_2017_m['addr_changed_18'] = pp_2018_2017_m.NewAddress_18_11!=pp_2018_2017_m.NewAddress_18_05"
   ]
  },
  {
   "cell_type": "code",
   "execution_count": null,
   "metadata": {},
   "outputs": [],
   "source": [
    "pp_2018_2017_m[pp_2018_2017_m.addr_changed_18].sort_values(['MuniName','MWD2'])[['MuniName','MWD2','LocName','NewAddress_18_11','NewAddress_18_05','addr_changed_17','addr_changed_18','geometry']]"
   ]
  },
  {
   "cell_type": "code",
   "execution_count": 148,
   "metadata": {},
   "outputs": [
    {
     "data": {
      "text/html": [
       "<div>\n",
       "<style scoped>\n",
       "    .dataframe tbody tr th:only-of-type {\n",
       "        vertical-align: middle;\n",
       "    }\n",
       "\n",
       "    .dataframe tbody tr th {\n",
       "        vertical-align: top;\n",
       "    }\n",
       "\n",
       "    .dataframe thead th {\n",
       "        text-align: right;\n",
       "    }\n",
       "</style>\n",
       "<table border=\"1\" class=\"dataframe\">\n",
       "  <thead>\n",
       "    <tr style=\"text-align: right;\">\n",
       "      <th></th>\n",
       "      <th>MuniName</th>\n",
       "      <th>MWD2</th>\n",
       "      <th>NewAddress_18_05</th>\n",
       "      <th>NewAddress_18_11</th>\n",
       "      <th>addr_changed_17</th>\n",
       "      <th>addr_changed_18</th>\n",
       "      <th>geometry</th>\n",
       "    </tr>\n",
       "  </thead>\n",
       "  <tbody>\n",
       "    <tr>\n",
       "      <th>961</th>\n",
       "      <td>MCCANDLESS</td>\n",
       "      <td>1660201</td>\n",
       "      <td>10375 PERRY HWY</td>\n",
       "      <td>10375 PERRY HWY</td>\n",
       "      <td>False</td>\n",
       "      <td>False</td>\n",
       "      <td>POINT (-80.05354114992568 40.60391226742988)</td>\n",
       "    </tr>\n",
       "  </tbody>\n",
       "</table>\n",
       "</div>"
      ],
      "text/plain": [
       "       MuniName     MWD2 NewAddress_18_05 NewAddress_18_11  addr_changed_17  \\\n",
       "961  MCCANDLESS  1660201  10375 PERRY HWY  10375 PERRY HWY            False   \n",
       "\n",
       "     addr_changed_18                                      geometry  \n",
       "961            False  POINT (-80.05354114992568 40.60391226742988)  "
      ]
     },
     "execution_count": 148,
     "metadata": {},
     "output_type": "execute_result"
    }
   ],
   "source": [
    "pp_2018_2017_m[pp_2018_2017_m.MWD2==1660201][['MuniName','MWD2','NewAddress_18_05','NewAddress_18_11','addr_changed_17','addr_changed_18','geometry']]"
   ]
  },
  {
   "cell_type": "code",
   "execution_count": 149,
   "metadata": {},
   "outputs": [
    {
     "data": {
      "text/html": [
       "<div>\n",
       "<style scoped>\n",
       "    .dataframe tbody tr th:only-of-type {\n",
       "        vertical-align: middle;\n",
       "    }\n",
       "\n",
       "    .dataframe tbody tr th {\n",
       "        vertical-align: top;\n",
       "    }\n",
       "\n",
       "    .dataframe thead th {\n",
       "        text-align: right;\n",
       "    }\n",
       "</style>\n",
       "<table border=\"1\" class=\"dataframe\">\n",
       "  <thead>\n",
       "    <tr style=\"text-align: right;\">\n",
       "      <th></th>\n",
       "      <th>MuniName</th>\n",
       "      <th>MWD2</th>\n",
       "      <th>NewAddress_18_05</th>\n",
       "      <th>NewAddress_18_11</th>\n",
       "      <th>addr_changed_17</th>\n",
       "      <th>addr_changed_18</th>\n",
       "      <th>geometry</th>\n",
       "    </tr>\n",
       "  </thead>\n",
       "  <tbody>\n",
       "    <tr>\n",
       "      <th>858</th>\n",
       "      <td>WILKINSBURG</td>\n",
       "      <td>2280201</td>\n",
       "      <td>1256 FRANKLIN AVE</td>\n",
       "      <td>1256 FRANKLIN AVE</td>\n",
       "      <td>False</td>\n",
       "      <td>False</td>\n",
       "      <td>POINT (-79.87451573119165 40.43750237177388)</td>\n",
       "    </tr>\n",
       "  </tbody>\n",
       "</table>\n",
       "</div>"
      ],
      "text/plain": [
       "        MuniName     MWD2   NewAddress_18_05   NewAddress_18_11  \\\n",
       "858  WILKINSBURG  2280201  1256 FRANKLIN AVE  1256 FRANKLIN AVE   \n",
       "\n",
       "     addr_changed_17  addr_changed_18  \\\n",
       "858            False            False   \n",
       "\n",
       "                                         geometry  \n",
       "858  POINT (-79.87451573119165 40.43750237177388)  "
      ]
     },
     "execution_count": 149,
     "metadata": {},
     "output_type": "execute_result"
    }
   ],
   "source": [
    "pp_2018_2017_m[pp_2018_2017_m.MWD2==2280201][['MuniName','MWD2','NewAddress_18_05','NewAddress_18_11','addr_changed_17','addr_changed_18','geometry']]"
   ]
  },
  {
   "cell_type": "code",
   "execution_count": 156,
   "metadata": {},
   "outputs": [
    {
     "data": {
      "text/plain": [
       "29"
      ]
     },
     "execution_count": 156,
     "metadata": {},
     "output_type": "execute_result"
    }
   ],
   "source": [
    "len(pp_2018_2017_m[(pp_2018_2017_m['addr_changed_17']) & ~(pp_2018_2017_m['addr_changed_18'])])"
   ]
  },
  {
   "cell_type": "code",
   "execution_count": 152,
   "metadata": {},
   "outputs": [],
   "source": [
    "# This was copied from http://localhost:8820/notebooks/projects/demographics/Voting-2018-AW3b-Polling.ipynb, \n",
    "# then modified to deal with addition of 18_05 data\n",
    "def write_pp_csv(df, out_path):\n",
    "    date_range = range(2017, 2019)\n",
    "    out = open(out_path, 'w')\n",
    "    # Write out header row.  First column doesn't have a column heading, next two are lat, lon, then each year\n",
    "    out.write(\",lat,lon,%s\\n\" % (\",\".join(map(str,date_range))))\n",
    "    \n",
    "    i=0\n",
    "    for i in range(0,len(df)):\n",
    "        coords = df['geometry'].iloc[i]\n",
    "        lon = coords.x\n",
    "        lat = coords.y\n",
    "        mwd = df['MWD2'].iloc[i]\n",
    "        \n",
    "        # Write size row\n",
    "        out_data=[mwd, lat, lon]\n",
    "        for year in date_range:\n",
    "            out_val = 20\n",
    "            out_data.append(out_val)\n",
    "        out.write('%s\\n' % (\",\".join(map(str,out_data))))\n",
    "        \n",
    "        # Write color row: Color =1 for changed in 2018, .5 for changed in 2017, 0 for stable\n",
    "        out_data=[mwd, lat, lon]\n",
    "        color_val = 0\n",
    "        if df['addr_changed_18'].iloc[i]:\n",
    "            color_val=1\n",
    "        elif df['addr_changed_17'].iloc[i]:\n",
    "            color_val = 0.5\n",
    "        \n",
    "        for year in date_range:\n",
    "            out_data.append(color_val)\n",
    "        out.write('%s\\n' % (\",\".join(map(str,out_data))))\n",
    "    out.close()"
   ]
  },
  {
   "cell_type": "code",
   "execution_count": 153,
   "metadata": {},
   "outputs": [],
   "source": [
    "write_pp_csv(pp_2018_2017_m, \"voting/pa_ac_polling_places_2018b.csv\")"
   ]
  },
  {
   "cell_type": "markdown",
   "metadata": {},
   "source": [
    "# Deal with voting file from county"
   ]
  },
  {
   "cell_type": "markdown",
   "metadata": {},
   "source": [
    "# Address mapping"
   ]
  },
  {
   "cell_type": "code",
   "execution_count": 6,
   "metadata": {},
   "outputs": [],
   "source": [
    "# Key is string canonical address, value is a map: {'canonical_in_census_db': True/False,'canonical_in_google_db': True/False, 'other_addr_strings':Set, 'census_value':str, 'google_value':str\n",
    "canonical_addr_map={}"
   ]
  },
  {
   "cell_type": "code",
   "execution_count": 7,
   "metadata": {},
   "outputs": [],
   "source": [
    "def canonicalize_string(text):\n",
    "    # Remove any leading or trailing whitespace, replace any internal whitespace with single spaces, upcase it all\n",
    "    ret = re.sub(\"^\\s+|\\s+$\", \"\", text)\n",
    "    ret = re.sub(\"\\s+\", \" \", ret)\n",
    "    return ret.upper()"
   ]
  },
  {
   "cell_type": "code",
   "execution_count": 8,
   "metadata": {},
   "outputs": [],
   "source": [
    "# Try to load canonical_addr_map originally created by \n",
    "#  http://localhost:8820/notebooks/projects/demographics/Fixup%20Address%20DB.ipynb\n",
    "# 'assessments/canonical_addr_map_e.pickle' has census_block addresses resolutions for 2005-02 and 2013-02\n",
    "import pickle\n",
    "pickle_file_path = 'assessments/canonical_addr_map_e.pickle'"
   ]
  },
  {
   "cell_type": "code",
   "execution_count": 9,
   "metadata": {},
   "outputs": [],
   "source": [
    "# Load in canonical_addr_map\n",
    "with open(pickle_file_path, 'rb') as handle:\n",
    "    canonical_addr_map = pickle.load(handle)"
   ]
  },
  {
   "cell_type": "code",
   "execution_count": 440,
   "metadata": {},
   "outputs": [],
   "source": [
    "# Save out canonical_addr_map\n",
    "with open(pickle_file_path, 'wb') as handle:\n",
    "    pickle.dump(canonical_addr_map, handle, protocol=pickle.HIGHEST_PROTOCOL)"
   ]
  },
  {
   "cell_type": "code",
   "execution_count": 10,
   "metadata": {},
   "outputs": [
    {
     "data": {
      "text/plain": [
       "3057385"
      ]
     },
     "execution_count": 10,
     "metadata": {},
     "output_type": "execute_result"
    }
   ],
   "source": [
    "len(canonical_addr_map)"
   ]
  },
  {
   "cell_type": "code",
   "execution_count": 11,
   "metadata": {},
   "outputs": [],
   "source": [
    "# From http://localhost:8820/notebooks/projects/demographics/Allegheny%20County%20Property%20Assessments-AW9.ipynb\n",
    "\n",
    "# assessments/cd/AC Property Assessments_10012017.xls (which is actually TDF) from Amy Gottsegen and Randy Sargent buying a CD from the county assessors office\n",
    "# assessments/Allegheny_County_Parcel_Boundaries.geojson from https://data.wprdc.org/dataset/allegheny-county-parcel-boundaries\n",
    "import array, csv, datetime, json, math, numpy, os, random, re \n",
    "from dateutil.parser import parse\n",
    "from shapely.geometry import mapping, shape\n",
    "from PIL import Image\n",
    "import matplotlib.colors as colors\n",
    "import matplotlib.pyplot as plt\n",
    "import pandas,numbers\n",
    "from operator import itemgetter, attrgetter\n",
    "import string\n",
    "import calendar,time\n",
    "from IPython.core.display import HTML\n",
    "\n",
    "# Use geopandas.  Boilerplate from https://docs.google.com/document/d/1utZuLHcKQEZNXTQLOysTNCxTHrqxczAUymmtplpn27Q/edit#heading=h.f50xoxwmcir\n",
    "import pandas as pd\n",
    "import geopandas as gpd\n",
    "from geopandas import GeoSeries, GeoDataFrame\n",
    "%matplotlib inline\n",
    "\n",
    "pd.options.display.max_colwidth = 300\n",
    "pd.options.display.max_rows = 100\n",
    "pd.set_option('display.max_columns', 500)\n",
    "\n",
    "# Built-in time handling fails for times before 1900.  Use arrow instead.  \n",
    "# See https://arrow.readthedocs.io/en/latest/ for info\n",
    "import arrow\n",
    "import dateparser\n",
    "\n",
    "def LonLatToPixelXY(lonlat):\n",
    "    (lon, lat) = lonlat\n",
    "    x = (lon + 180.0) * 256.0 / 360.0\n",
    "    y = 128.0 - math.log(math.tan((lat + 90.0) * math.pi / 360.0)) * 128.0 / math.pi\n",
    "    return [x, y]\n",
    "\n",
    "# This does the same as above, but takes a GeoJSON point (which is what centroid returns)\n",
    "def PointToPixelXY(point):\n",
    "    lon=point.x\n",
    "    lat=point.y\n",
    "    x = (lon + 180.0) * 256.0 / 360.0\n",
    "    y = 128.0 - math.log(math.tan((lat + 90.0) * math.pi / 360.0)) * 128.0 / math.pi\n",
    "    return [x, y]\n",
    "\n",
    "def GetCentroid(geometry):\n",
    "    s = shape(geometry)\n",
    "    return (s.centroid.x, s.centroid.y)   \n",
    "\n",
    "def GetEpoch(date):\n",
    "    return (date - datetime.datetime(1970, 1, 1)).total_seconds()\n",
    "\n",
    "def HexToRgb(hex_string):\n",
    "    rgb = colors.hex2color(hex_string)\n",
    "    r,g,b = tuple([int(255*x) for x in rgb])\n",
    "    return (r,g,b)"
   ]
  },
  {
   "cell_type": "code",
   "execution_count": 12,
   "metadata": {},
   "outputs": [],
   "source": [
    "# Google addresses with the addition of using canonical_addr_map as cache\n",
    "# Original version was from \n",
    "#  http://localhost:8820/notebooks/projects/demographics/Allegheny%20County%20Property%20Assessments-AW9.ipynb#\n",
    "from shapely.geometry import Point\n",
    "import collections\n",
    "\n",
    "\n",
    "# Google geocoding API to geocode an address\n",
    "# Assumes key is in google_api_key.txt\n",
    "# Use as second level lookup only for those which fail census lookup\n",
    "\n",
    "re_noalnum = re.compile('^([^\\w]+)$')\n",
    "\n",
    "def geocode_address_google(address):\n",
    "    if(pandas.isnull(address) or re_noalnum.match(address)):\n",
    "        #print \"Skipping address lookup for %r, no alphanumeric characters\" %(address)\n",
    "        return None\n",
    "\n",
    "    # String canonicalize the address\n",
    "    caddr = canonicalize_string(address)\n",
    "\n",
    "    # Check if we already have a value in canonical_addr_map, if so return it\n",
    "    result=None\n",
    "    if(caddr in canonical_addr_map and canonical_addr_map[caddr]['google_value']):\n",
    "        result = json.loads(canonical_addr_map[caddr]['google_value'])\n",
    "    else:\n",
    "        # Not yet in canonical_addr_map, fetch from sqlite DB or google address lookup service\n",
    "        try:\n",
    "            geocode_address_google.conn\n",
    "        except:\n",
    "            geocode_address_google.conn = sqlite3.connect('geocoding_cache')\n",
    "            geocode_address_google.cur = geocode_address_google.conn.cursor()\n",
    "            geocode_address_google.cur.execute(('CREATE TABLE IF NOT EXISTS kvs'\n",
    "                                         ' (key PRIMARY KEY, value)'\n",
    "                                         ' WITHOUT ROWID;'))\n",
    "            geocode_address_google.conn.commit()\n",
    "\n",
    "        geocode_address_google.cur.execute('SELECT value FROM kvs WHERE key=?', (caddr,))\n",
    "        rows = geocode_address_google.cur.fetchall()\n",
    "        if rows:\n",
    "            #print \"Google: Found %r in cache\" % (caddr)\n",
    "            gval = rows[0][0]\n",
    "            result = json.loads(gval)\n",
    "        else:\n",
    "            # Not in sqlite, ask google address service\n",
    "            #print \"Google: %r not found in cache, fetching\" % (address)\n",
    "\n",
    "            api_key = open('google-api-key-do-not-commit.txt').read()\n",
    "            payload = {'address':caddr, 'key':api_key}\n",
    "            result = json.load(urllib2.urlopen('https://maps.googleapis.com/maps/api/geocode/json?%s' % urllib.urlencode(payload)))\n",
    "            # Keep the stringified version for the DB/canonical_addr_map\n",
    "            gval = json.dumps(result)\n",
    "            geocode_address_google.cur.execute(('INSERT OR REPLACE INTO kvs (key, value)'\n",
    "                                         ' VALUES (?, ?);'),\n",
    "                                         (caddr, gval))\n",
    "            geocode_address_google.conn.commit()\n",
    "            \n",
    "            # If the result succeeded and generated a formatted address, cache under that key too\n",
    "            try:\n",
    "                if(result['status']=='OK'):\n",
    "                    if(len(result['results'])== 1):\n",
    "                        canonical = result['results'][0]['formatted_address']\n",
    "                        #print \"Google: Storing canonical addr of %r for %r\" % (canonical, address)\n",
    "                        geocode_address_google.cur.execute(('INSERT OR REPLACE INTO kvs (key, value)'\n",
    "                                                             ' VALUES (?, ?);'),\n",
    "                                                             (canonical, gval))\n",
    "                        geocode_address_google.conn.commit()\n",
    "                    else:\n",
    "                        print \"Google: Fetch %r seemed to succeed, but results empty or non-unique\" % (address)\n",
    "\n",
    "                else:\n",
    "                    print \"Google: Fetch %r failed\" % (address)\n",
    "                \n",
    "            except:\n",
    "                #pass\n",
    "                raise\n",
    "                \n",
    "        # We had to resort to sqlite/google address service.  Add gval to canonical_addr_map\n",
    "        if(caddr not in canonical_addr_map):\n",
    "            canonical_addr_map[caddr]={'canonical_in_census_db':False,'canonical_in_google_db': True, \n",
    "                                       'census_value':None, 'google_value':gval}\n",
    "        else:\n",
    "            # Already there, presumably for census.  Add google value \n",
    "            canonical_addr_map[caddr]['canonical_in_google_db']=True\n",
    "            canonical_addr_map[caddr]['google_value']=gval\n",
    " \n",
    "    \n",
    "    return result\n",
    "\n",
    "def get_canonical_address_google(raw_addr):\n",
    "    if(pandas.isnull(raw_addr) or re_noalnum.match(raw_addr)):\n",
    "        #print \"Skipping address lookup for %r, no alphanumeric characters\" %(raw_addr)\n",
    "        return None\n",
    "\n",
    "    try:\n",
    "        result=geocode_address_google(raw_addr)\n",
    "        if(result['status']=='OK' and len(result['results'])== 1):\n",
    "            return(result['results'][0]['formatted_address'])\n",
    "        else:\n",
    "            return None\n",
    "    except:\n",
    "        return None\n",
    "\n",
    "def get_canonical_zip_google(addr):\n",
    "    if(pandas.isnull(addr) or re_noalnum.match(addr)):\n",
    "        #print \"Skipping address lookup for %r, no alphanumeric characters\" %(addr)\n",
    "        return None\n",
    "\n",
    "    try:\n",
    "        result=geocode_address_google(addr)\n",
    "        if(result['status']=='OK' and len(result['results'])== 1):\n",
    "            addr_comps = result['results'][0]['address_components']\n",
    "            for i in range(0, len(addr_comps)):\n",
    "                if('postal_code' in addr_comps[i]['types']):\n",
    "                    return addr_comps[i]['short_name']\n",
    "        \n",
    "        return None\n",
    "    except:\n",
    "        return None\n",
    "    \n",
    "def get_canonical_coords_google(addr):\n",
    "    if(pandas.isnull(addr) or re_noalnum.match(addr)):\n",
    "        #print \"Skipping address lookup for %r, no alphanumeric characters\" %(addr)\n",
    "        return None\n",
    "\n",
    "    try:\n",
    "        result=geocode_address_google(addr)\n",
    "        if(result['status']=='OK' and len(result['results'])== 1):\n",
    "            latlon = result['results'][0]['geometry']['location']\n",
    "            if(latlon):\n",
    "                return(Point(latlon['lng'], latlon['lat']))\n",
    "        return None\n",
    "    except Exception as e:\n",
    "        print \"Exception processing get_canonical_coords_google(%s): %s\" % (addr, e)\n",
    "        return None\n"
   ]
  },
  {
   "cell_type": "code",
   "execution_count": 13,
   "metadata": {},
   "outputs": [],
   "source": [
    "# Census addresses with the addition of using canonical_addr_map as cache\n",
    "# Original version was from \n",
    "#  http://localhost:8820/notebooks/projects/demographics/Allegheny%20County%20Property%20Assessments-AW9.ipynb#\n",
    "\n",
    "# Uses Census geocoding API to geocode an address\n",
    "\n",
    "import sqlite3\n",
    "import urllib,urllib2\n",
    "import json\n",
    "from shapely.geometry import Point\n",
    "import collections\n",
    "\n",
    "# Match if the string contains no alphanumerics\n",
    "re_noalnum = re.compile('^([^\\w]+)$')\n",
    "\n",
    "def geocode_address_census(address):\n",
    "    if(pandas.isnull(address) or re_noalnum.match(address)):\n",
    "        #print \"Skipping address lookup for %r, no alphanumeric characters\" %(address)\n",
    "        return None\n",
    "\n",
    "    # String canonicalize the address\n",
    "    caddr = canonicalize_string(address)\n",
    "\n",
    "    # Check if we already have a value in canonical_addr_map, if so return it\n",
    "    if(caddr in canonical_addr_map and canonical_addr_map[caddr]['census_value']):\n",
    "        result = json.loads(canonical_addr_map[caddr]['census_value'])\n",
    "    else:\n",
    "        # Not yet in canonical_addr_map, fetch from sqlite DB or census address lookup service\n",
    "        try:\n",
    "            geocode_address_census.sqlite\n",
    "        except:\n",
    "            geocode_address_census.sqlite = {}\n",
    "\n",
    "        tpid = '%d.%s' % (os.getpid(), thread.get_ident())\n",
    "        if not tpid in geocode_address_census.sqlite:\n",
    "            conn = sqlite3.connect('geocoding_cache_census')\n",
    "            cur = conn.cursor()\n",
    "            geocode_address_census.sqlite[tpid] = { 'conn': conn, 'cur': cur }\n",
    "\n",
    "            cur.execute(('CREATE TABLE IF NOT EXISTS kvs'\n",
    "                         ' (key PRIMARY KEY, value)'\n",
    "                         ' WITHOUT ROWID;'))\n",
    "            conn.commit()\n",
    "        else:\n",
    "            conn = geocode_address_census.sqlite[tpid]['conn']\n",
    "            cur = geocode_address_census.sqlite[tpid]['cur']\n",
    "\n",
    "        cur.execute('SELECT value FROM kvs WHERE key=?', (caddr,))\n",
    "        rows = cur.fetchall()\n",
    "        if rows:\n",
    "            cval = rows[0][0]\n",
    "        else:\n",
    "            payload = {'address':caddr, 'benchmark':4, 'format':'json'}\n",
    "            result = json.load(urllib2.urlopen('https://geocoding.geo.census.gov/geocoder/locations/onelineaddress?%s' % urllib.urlencode(payload)))\n",
    "            cval = json.dumps(result)\n",
    "\n",
    "            cur.execute(('INSERT OR REPLACE INTO kvs (key, value)'\n",
    "                         ' VALUES (?, ?);'),\n",
    "                        (caddr, cval))\n",
    "            conn.commit()\n",
    "\n",
    "            if len(result['result']['addressMatches']) == 1:\n",
    "                canonical = result['result']['addressMatches'][0]['matchedAddress']\n",
    "                cur.execute(('INSERT OR REPLACE INTO kvs (key, value)'\n",
    "                             ' VALUES (?, ?);'),\n",
    "                             (canonical, cval))\n",
    "                conn.commit()\n",
    "            \n",
    "        # We had to resort to sqlite/google address service.  Add cval to canonical_addr_map\n",
    "        if(caddr not in canonical_addr_map):\n",
    "            canonical_addr_map[caddr]={'canonical_in_census_db':True,'canonical_in_google_db': False, \n",
    "                                       'census_value':cval, 'google_value':None}\n",
    "        else:\n",
    "            # Already there, presumably for google.  Add census value \n",
    "            canonical_addr_map[caddr]['canonical_in_census_db']=True\n",
    "            canonical_addr_map[caddr]['census_value']=cval\n",
    "\n",
    "    \n",
    "    return result\n",
    "\n",
    "def cache_canonical_addresses(addrs):\n",
    "    t = SimpleThreadPoolExecutor(25)\n",
    "    for addr in addrs:\n",
    "        if(not (pandas.isnull(addr) or re_noalnum.match(addr))):\n",
    "            t.submit(geocode_address_census, addr)\n",
    "        else:\n",
    "            #print \"Skipping address lookup for %r, no alphanumeric characters\" %(addr)\n",
    "            pass\n",
    "    t.shutdown()\n",
    "\n",
    "def get_canonical_address_census(raw_addr):\n",
    "    if(pandas.isnull(raw_addr) or re_noalnum.match(raw_addr)):\n",
    "        #print \"Skipping address lookup for %r, no alphanumeric characters\" %(raw_addr)\n",
    "        return None\n",
    "\n",
    "    try:\n",
    "        result=geocode_address_census(raw_addr)\n",
    "        if len(result['result']['addressMatches']) == 1:\n",
    "            return(result['result']['addressMatches'][0]['matchedAddress'])\n",
    "        else:\n",
    "            return None\n",
    "    except:\n",
    "        return None\n",
    "\n",
    "def get_canonical_zip_census(addr):\n",
    "    try:\n",
    "        result=geocode_address_census(addr)\n",
    "        if len(result['result']['addressMatches']) == 1:\n",
    "            return(result['result']['addressMatches'][0]['addressComponents']['zip'])\n",
    "        else:\n",
    "            return None\n",
    "    except:\n",
    "        return None\n",
    "\n",
    "    \n",
    "def get_canonical_coords_census(addr):\n",
    "    try:\n",
    "        result=geocode_address_census(addr)\n",
    "        if len(result['result']['addressMatches']) == 1:\n",
    "            coords = result['result']['addressMatches'][0]['coordinates']\n",
    "            return(Point(coords['x'], coords['y']))\n",
    "        else:\n",
    "            return None\n",
    "    except:\n",
    "        return None\n",
    "\n",
    "################################################################################################################\n",
    "# These can handle being passed a map with either census or google in it and dispatch to the right service\n",
    "\n",
    "# TODO: Think if this is the right behavior: If handed a regular string do census lookup\n",
    "# If handed a map, return census if non-null, then google if non-null\n",
    "def get_canonical_address(addr):\n",
    "    if(pandas.isnull(addr) or ((not isinstance(addr, collections.Mapping) and re_noalnum.match(addr)))):\n",
    "        #print \"Skipping address lookup for %r, no alphanumeric characters\" %(addr)\n",
    "        return None\n",
    "\n",
    "    if(isinstance(addr, collections.Mapping)):\n",
    "        if('census' in addr and not pd.isnull(addr['census'])):\n",
    "            return addr['census']\n",
    "        elif('google' in addr and not pd.isnull(addr['google'])):\n",
    "            return addr['google']\n",
    "    else:\n",
    "        return(get_canonical_address_census(addr))\n",
    "\n",
    "def get_canonical_zip(addr):\n",
    "    if(pandas.isnull(addr) or ((not isinstance(addr, collections.Mapping) and re_noalnum.match(addr)))):\n",
    "        #print \"Skipping address lookup for %r, no alphanumeric characters\" %(addr)\n",
    "        return None\n",
    "    if(isinstance(addr, collections.Mapping)):\n",
    "        if('census' in addr and not pd.isnull(addr['census'])):\n",
    "            return get_canonical_zip_census(addr['census'])\n",
    "        elif('google' in addr and not pd.isnull(addr['google'])):\n",
    "            return get_canonical_zip_google(addr['google'])\n",
    "    else:\n",
    "        return(get_canonical_zip_census(addr))\n",
    "\n",
    "def get_canonical_coords(addr):\n",
    "    if(pandas.isnull(addr) or ((not isinstance(addr, collections.Mapping) and re_noalnum.match(addr)))):\n",
    "        #print \"Skipping address lookup for %r, no alphanumeric characters\" %(addr)\n",
    "        return None\n",
    "    \n",
    "    if(isinstance(addr, collections.Mapping)):\n",
    "        if('census' in addr and not pd.isnull(addr['census'])):\n",
    "            return get_canonical_coords_census(addr['census'])\n",
    "        elif('google' in addr and not pd.isnull(addr['google'])):\n",
    "            return get_canonical_coords_google(addr['google'])\n",
    "    else:\n",
    "        return(get_canonical_coords_census(addr))\n",
    "\n",
    "def canonicalize_addr_colset(df, col_arr, out_colname):\n",
    "    for  col_name in col_arr:\n",
    "        df[col_name]=df[col_name].astype(basestring)\n",
    "        df[col_name].fillna('', inplace=True)\n",
    "\n",
    "    df[out_colname] = df[col_arr].apply(lambda x: get_canonical_address_census(' '.join(x)), axis=1)\n",
    "    \n",
    "    "
   ]
  },
  {
   "cell_type": "code",
   "execution_count": 14,
   "metadata": {},
   "outputs": [],
   "source": [
    "# Create 'property_address_raw' and 'owner_address_raw' columns.  Call once per dataframe before calling\n",
    "# canonicalize_addrs\n",
    "def merge_addr_colset(df, col_arr, out_colname):\n",
    "    for  col_name in col_arr:\n",
    "        df[col_name]=df[col_name].astype(basestring)\n",
    "        df[col_name].fillna('', inplace=True)\n",
    "\n",
    "    df[out_colname] = df[col_arr].apply(lambda x: canonicalize_string(' '.join(x)), axis=1)\n",
    "    # Fix up PGH to be PITTSBURGH\n",
    "    df[out_colname] = df[out_colname].str.replace('\\s*PGH\\s*,', ' PITTSBURGH,', regex=True)\n"
   ]
  },
  {
   "cell_type": "markdown",
   "metadata": {},
   "source": [
    "# Deal with various versions of the voter DB"
   ]
  },
  {
   "cell_type": "code",
   "execution_count": 15,
   "metadata": {},
   "outputs": [],
   "source": [
    "voters_addr_cols=['House__', 'HouseNoSuffix', 'StreetNameComplete' ,'City', 'State','Zip_Code']\n",
    "voters_dtype={'House__':numpy.str, 'HouseNoSuffix':numpy.str, 'StreetNameComplete':numpy.str ,'City':numpy.str, \n",
    "              'State':numpy.str,'Zip_Code':numpy.str,'Dist1':numpy.str}\n",
    "\n",
    "# 2009-07 is a special case. It was generated by \n",
    "#   http://localhost:8820/notebooks/projects/demographics/Import%20Fixed%20Width%20Voter%20Files.ipynb\n",
    "# from a fixed width file.  City and state were together in a single field.\n",
    "voters_addr_cols_2009=['House__', 'HouseNoSuffix', 'StreetNameComplete' ,'City','Zip_Code']\n",
    "voters_dtype_2009={'House__':numpy.str, 'HouseNoSuffix':numpy.str, \n",
    "                   'StreetNameComplete':numpy.str ,'City':numpy.str,'Zip_Code':numpy.str,\n",
    "                   'Dist1':numpy.str\n",
    "                  }\n",
    "\n",
    "# 2005-02 is a special case. It was generated by \n",
    "#   http://localhost:8820/notebooks/projects/demographics/Import%20Fixed%20Width%20Voter%20Files%202005-02.ipynb\n",
    "# from a fixed width file.  City and state were together in a single field.\n",
    "voters_addr_cols_2009=['House__', 'HouseNoSuffix', 'StreetNameComplete' ,'City','Zip_Code']\n",
    "voters_dtype_2009={'House__':numpy.str, 'HouseNoSuffix':numpy.str, \n",
    "                   'StreetNameComplete':numpy.str ,'City':numpy.str,'Zip_Code':numpy.str,\n",
    "                   'Dist1':numpy.str,'Vote_History':numpy.str\n",
    "                  }\n",
    "\n",
    "voters_info = {\n",
    "    '2018-10': {'path': 'voters/2018-10-cd/10_16_18VOTERS.TXT', \n",
    "                'addr_cols': voters_addr_cols,\n",
    "                'dtype': voters_dtype\n",
    "               },\n",
    "    '2018-08': {'path': 'voters/2018-08-cd/VOTERS8_14_18.TXT', \n",
    "                'addr_cols': voters_addr_cols,\n",
    "                'dtype': voters_dtype\n",
    "               },\n",
    "    '2018-03': {'path': 'voters/2018-03-cd/VOTERS3_5_18.TXT', \n",
    "                'addr_cols': voters_addr_cols,\n",
    "                'dtype': voters_dtype\n",
    "               },\n",
    "    '2017-11': {'path': 'voters/2017-11-cd/VOTERS11_30_2017.TXT', \n",
    "                'addr_cols': voters_addr_cols,\n",
    "                'dtype': voters_dtype\n",
    "               },\n",
    "    '2013-02': {'path': 'voters/2013-02-cd/VOTERS_VH_2013-02-19.TXT', \n",
    "                'addr_cols': voters_addr_cols,\n",
    "                'dtype': voters_dtype\n",
    "               },\n",
    "    '2009-07': {'path': \"voters/2009-07-cd/VOTERS07_22_2009.TXT\", \n",
    "                'addr_cols': voters_addr_cols_2009,\n",
    "                'dtype': voters_dtype_2009\n",
    "               },\n",
    "    '2005-02': {'path': \"voters/2005-02-cd/VOTERS02_07_2005.TXT\", \n",
    "                'addr_cols': voters_addr_cols_2009,\n",
    "                'dtype': voters_dtype_2009\n",
    "               }\n",
    "\n",
    "}"
   ]
  },
  {
   "cell_type": "code",
   "execution_count": 16,
   "metadata": {},
   "outputs": [],
   "source": [
    "monthstr_to_date_map={'2005-02':dateparser.parse(\"2/7/2005\"),\n",
    "                      '2005-08':dateparser.parse(\"8/5/2005\"),\n",
    "                      '2009-07':dateparser.parse(\"7/22/2009\"),\n",
    "                      '2013-02':dateparser.parse(\"2/19/2013\"),\n",
    "                      '2013-04':dateparser.parse(\"4/29/2013\"),\n",
    "                      '2014-06':dateparser.parse(\"6/18/2014\"),\n",
    "                      '2015-09':dateparser.parse(\"9/11/2015\"),\n",
    "                      '2016-09':dateparser.parse(\"9/2/2016\"),\n",
    "                      '2017-04':dateparser.parse(\"4/21/2017\"),\n",
    "                      '2017-10':dateparser.parse(\"10/16/2017\"),\n",
    "                      '2017-11':dateparser.parse(\"11/30/2017\"),\n",
    "                      '2018-06':dateparser.parse(\"6/12/2018\"),\n",
    "                      '2018-03':dateparser.parse(\"3/5/2018\"),\n",
    "                      '2018-08':dateparser.parse(\"8/14/2018\"), \n",
    "                      '2018-10':dateparser.parse(\"10/16/2018\")\n",
    "                     }"
   ]
  },
  {
   "cell_type": "code",
   "execution_count": 17,
   "metadata": {},
   "outputs": [],
   "source": [
    "# Hold on to the dataframes associated with each month_str in a map\n",
    "vdf_map={}"
   ]
  },
  {
   "cell_type": "code",
   "execution_count": 18,
   "metadata": {},
   "outputs": [],
   "source": [
    "# Do fixup on Pitt addresses\n",
    "def fixup_pitt_addresses(df):\n",
    "    df['address_raw'] = df['address_raw'].str.replace('(^.*((PITT TOWERS)|(5TH AVE-MCCORMICK HALL)|(HOLLAND HALL)) PITTSBURGH PA 15213$)', '3990 FIFTH AVE PITTSBURGH PA 15213', regex=True)\n",
    "    df['address_raw'] = df['address_raw'].str.replace('(^.*AMOS HALL PITTSBURGH PA 15213$)', '3959 FIFTH AVE PITTSBURGH PA 15260', regex=True)\n",
    "    df['address_raw'] = df['address_raw'].str.replace('(^.*SUTHERLAND HALL PITTSBURGH PA 15213$)', '3725 SUTHERLAND DR PITTSBURGH PA 15213', regex=True)\n",
    "    \n",
    "    "
   ]
  },
  {
   "cell_type": "code",
   "execution_count": 19,
   "metadata": {},
   "outputs": [],
   "source": [
    "def load_voters_info(month_str):\n",
    "    if(not month_str in voters_info):\n",
    "        print \"No entry for %s in voters_info\" % (month_str)\n",
    "    path = voters_info[month_str]['path']\n",
    "    vdf_map[month_str] = pandas.read_csv(path,sep='\\t',dtype=voters_info[month_str]['dtype']).set_index('ID_Number')\n",
    "    merge_addr_colset(vdf_map[month_str], voters_info[month_str]['addr_cols'], 'address_raw')\n",
    "    fixup_pitt_addresses(vdf_map[month_str])\n",
    "    return vdf_map[month_str]"
   ]
  },
  {
   "cell_type": "code",
   "execution_count": 18,
   "metadata": {},
   "outputs": [],
   "source": [
    "# Key is voter ID, DOB:str, reg_date:str, \n",
    "#    reg_info:{month_str: {status: , party: }}, addresses:{month_str:address}}\n",
    "#    vote_info:{vote_str: {party: , 'how': }}\n",
    "# vote_str is in the form GN_11_06_12 or PR_05_15_18 or PR_05_17_11\n",
    "# In the case of vote_info records added from fixed width files,\n",
    "#    'party' is set to be earliest known party and 'how' is None\n",
    "# In the case of those added from later files, 'how' is processed directly:\n",
    "#    'AP' indicates the voter cast their ballot at the polls\n",
    "#    'AB' indicates the voter cast an absentee ballot\n",
    "#    'P' indicates that the voter cast a provisional ballot\n",
    "# Added by voter_process_address_history:\n",
    "#   'addr_arr':[{'address': , 'date': , 'census_block': , 'latlon': },]\n",
    "voter_map = {}"
   ]
  },
  {
   "cell_type": "code",
   "execution_count": 20,
   "metadata": {},
   "outputs": [],
   "source": [
    "# Key is vote_str, value is {'date': datetime, 'month_strs': set(month_str),'date_type': }\n",
    "# 'date_type' is 'exact' if we actually knew the date, or 'approx' if we're just guessing\n",
    "# strings generated from fixed width files will be created as 'approx' dates; those\n",
    "# created by newer files will be 'exact'.  \n",
    "vote_map = {}\n",
    "# vote_arr is an ordered list of tuples in time order [(vs1, date1), (vs2, date2)...]\n",
    "# The invariant is that when an item is added to vote_map, vote_arr must be regenerated\n",
    "# appropriately\n",
    "vote_arr = []"
   ]
  },
  {
   "cell_type": "code",
   "execution_count": 21,
   "metadata": {},
   "outputs": [],
   "source": [
    "# This is an array mapping from the index of Vote_History strings into \n",
    "# vote_str strings.  Earlier than the first exact date strings these are just \n",
    "# PR_YYYY and GN_YYYY.  After the first exact date strings, these are PR_MM_DD_YY\n",
    "vote_history_index_to_vote_str=[]"
   ]
  },
  {
   "cell_type": "code",
   "execution_count": 22,
   "metadata": {},
   "outputs": [],
   "source": [
    "# Any time vote_map is changed in a way that affects dates this should be called\n",
    "# so we always have a sorted list of votes\n",
    "def regenerate_vote_arr():\n",
    "    global vote_arr\n",
    "    global vote_map\n",
    "    vote_arr = sorted(vote_map.items(),key=lambda x:x[1]['date'])\n",
    "\n",
    "# Vote strings are in the form TT_MM_DD_YY, parse the date\n",
    "def vote_str_to_date(vote_str):\n",
    "    str_date = datetime.datetime.strptime(vote_str[3:], '%m_%d_%y')\n",
    "    return(str_date)\n",
    "\n",
    "# Given a list of column names return a list of vote_str values included in the dataframe\n",
    "# and populate vote_map with the date if we don't already have it\n",
    "def columns_to_vote_strs(month_str, column_list):\n",
    "    global vote_arr\n",
    "    global vote_map\n",
    "\n",
    "    # Process any new style column names\n",
    "    vote_str_list = list(filter(lambda x: ('GN_' in x or 'PR_' in x or 'SP_' in x) and (not '_VM' in x), \n",
    "                                column_list))\n",
    "    \n",
    "    for vote_str in vote_str_list:\n",
    "        if not vote_str in vote_map:\n",
    "            vote_map[vote_str] = {'date': vote_str_to_date(vote_str), \n",
    "                                  'month_strs': set([month_str]), \n",
    "                                  'date_type':'exact'\n",
    "                                 }\n",
    "        else:\n",
    "            vote_map[vote_str]['month_strs'].add(month_str)\n",
    "            \n",
    "    regenerate_vote_arr()\n",
    "    return(vote_str_list)\n",
    "\n",
    "# Old style Vote_History from fixed width files start with the primary of 1983 but only have\n",
    "# 2 bits of info about each election: '0' = not registered, '1' = voted, '2' = didn't vote\n",
    "# we don't know exact dates or party affiliation.\n",
    "\n",
    "# Add entries into vote_map for the longest of these, which is currently 2009.\n",
    "# Before calling this, dadd '2013-02', or whatever the oldest of the new style \n",
    "# files are, so vote_map contains exact entries for the earliest dates it can\n",
    "\n",
    "# See the file VoterThankYou-12Dec2007 in https://drive.google.com/drive/folders/1xVsl029scwhnVnXa-v6XpFufjOavNrhe\n",
    "# for definitions on the format of the Vote_History string\n",
    "def add_vote_history_map_entries():\n",
    "    first_new_style_year = 2004\n",
    "    last_new_style_year = 2010\n",
    "    history_month_str = '2005-02'\n",
    "    new_style_names = list(filter(lambda x: ('GN_' in x or 'PR_' in x),vote_map.keys()))\n",
    "    \n",
    "    idx = 0\n",
    "    for year in range(1983, last_new_style_year):\n",
    "        pr_name = \"PR_%4d\"%(year)\n",
    "        gn_name = \"GN_%4d\"%(year)\n",
    "        # Estimate priaries as 5/16/YYYY and general elections as 11/6/YYYY if we don't know \n",
    "        # any better\n",
    "        pr_date = dateparser.parse(\"5/16/%d\"%(year))\n",
    "        gn_date = dateparser.parse(\"11/6/%d\"%(year))\n",
    "        pr_type = 'approx'\n",
    "        gn_type = 'approx'\n",
    "        if(year>=first_new_style_year):\n",
    "            # Try to retrieve the exact dates from vote_map\n",
    "            yy = (\"%d\"%(year))[2:4]\n",
    "            pr_names = list(filter(lambda x: bool(re.search('PR_\\d\\d_\\d\\d_%s'%(yy), x)), \n",
    "                                 new_style_names))\n",
    "            gn_names = list(filter(lambda x: bool(re.search('GN_\\d\\d_\\d\\d_%s'%(yy), x)), \n",
    "                                 new_style_names))\n",
    "            #print \"%d: Search for %s: pr=%r, gn=%r\" % (idx, yy, pr_names, gn_names)\n",
    "            if(len(pr_names)==1):\n",
    "                pr_name = pr_names[0]\n",
    "                pr_date = vote_map[pr_name]['date']\n",
    "                pr_type = vote_map[pr_name]['date_type']\n",
    "            if(len(gn_names)==1):\n",
    "                gn_name = gn_names[0]\n",
    "                gn_date = vote_map[gn_name]['date']\n",
    "                gn_type = vote_map[gn_name]['date_type']\n",
    "        # Do PR then GN for this year and increment index \n",
    "        vote_history_index_to_vote_str.append(pr_name)\n",
    "        vote_history_index_to_vote_str.append(gn_name)\n",
    "        idx = idx+2\n",
    "        \n",
    "        # Add to vote_map\n",
    "        if not pr_name in vote_map:\n",
    "            vote_map[pr_name] = {'date': pr_date, \n",
    "                                  'month_strs': set([history_month_str]), \n",
    "                                  'date_type':pr_type\n",
    "                                 }\n",
    "        else:\n",
    "            vote_map[pr_name]['month_strs'].add(history_month_str)\n",
    "            \n",
    "        if not gn_name in vote_map:\n",
    "            vote_map[gn_name] = {'date': gn_date, \n",
    "                                  'month_strs': set([history_month_str]), \n",
    "                                  'date_type':gn_type\n",
    "                                 }\n",
    "        else:\n",
    "            vote_map[gn_name]['month_strs'].add(history_month_str)\n",
    "            \n",
    "    # Udpdate vote_arr to make sure new entries are in there and in order\n",
    "    regenerate_vote_arr()\n",
    "\n",
    "\n",
    "#####################################################\n",
    "# Individual voter vote_info support\n",
    "# Given the existing vote_info_map for a voter, add an entry for \n",
    "# a given vote_str, party, and how.  \n",
    "def add_vote_record(vote_info_map, vote_str, party, how):\n",
    "    if vote_str in vote_info_map:\n",
    "        # There's already an entry.  Is this new info better?\n",
    "        if(how and not vote_info_map[vote_str]['how']):\n",
    "            # This new info is better, use it\n",
    "            vote_info_map[vote_str]['how']=how\n",
    "            vote_info_map[vote_str]['party']=party\n",
    "        else:\n",
    "            # This is a duplicate, ignore it\n",
    "            pass\n",
    "    else:\n",
    "        # There's not an entry yet, create one\n",
    "        vote_info_map[vote_str]={'party': party, 'how':how}\n",
    "        \n",
    "\n",
    "# Find all the '1's in the history str, translate those into \n",
    "def process_vote_history(vote_info_map, history_str, party):\n",
    "    idx=0\n",
    "    while(idx != -1 and idx < len(history_str)):\n",
    "        # Find the index of the next '1'\n",
    "        new_idx = history_str.find('1', idx)\n",
    "        #print \"Found %d (%d)\"% (new_idx,idx)\n",
    "        if(new_idx!=-1):\n",
    "            # Found a vote that this voter participated in\n",
    "            vote_str = vote_history_index_to_vote_str[new_idx] if new_idx < len(vote_history_index_to_vote_str) else None\n",
    "            if(vote_str):\n",
    "                add_vote_record(vote_info_map, vote_str, party, None)\n",
    "            else:\n",
    "                print \"WARNING: No entry in vote_history_index_to_vote_str for index %d\"% (new_idx)\n",
    "                break\n",
    "            idx=new_idx+1\n",
    "        else:\n",
    "            break\n",
    "\n",
    "    return(vote_info_map)\n",
    "                \n",
    "def process_vote_columns(vote_info_map, df, i):\n",
    "    vote_strs = columns_to_vote_strs(month_str, list(df))\n",
    "    for vote_str in vote_strs:\n",
    "        if not pd.isna(df[vote_str].iloc[i]):\n",
    "            # They voted in this one, find out how\n",
    "            party = df[vote_str].iloc[i]\n",
    "            how = df[\"%s_VM\"%(vote_str)].iloc[i]\n",
    "            add_vote_record(vote_info_map, vote_str, party, how)\n",
    "\n",
    "    return(vote_info_map)\n",
    "\n",
    "def get_next_vote_str_rec_after_date(vote_info_map, cmp_date):\n",
    "    if(not cmp_date):\n",
    "        return None\n",
    "    \n",
    "    # Find and return the next item after this one in vote_arr or None if we're past the end \n",
    "    return (next((item for item in vote_arr if item[0] in vote_info_map and item[1][\"date\"] > cmp_date),None))\n",
    "\n",
    "def get_vote_str_rec_on_or_after_date(vote_info_map, cmp_date):\n",
    "    # Find and return the next item after this one in vote_arr or None if we're past the end \n",
    "    return (next((item for item in vote_arr if item[0] in vote_info_map and item[1][\"date\"] >= cmp_date),None))"
   ]
  },
  {
   "cell_type": "code",
   "execution_count": 23,
   "metadata": {},
   "outputs": [],
   "source": [
    "# Keep track of what month_strs are in the current voter_map\n",
    "active_month_str_set=set(['2005-02', '2009-07', '2013-02', '2017-11', '2018-03', '2018-08', '2018-10'])\n",
    "active_month_str_arr=sorted(list(active_month_str_set))"
   ]
  },
  {
   "cell_type": "code",
   "execution_count": 24,
   "metadata": {},
   "outputs": [
    {
     "name": "stdout",
     "output_type": "stream",
     "text": [
      "2005-02: ['path', 'addr_cols', 'dtype']\n",
      "2009-07: ['path', 'addr_cols', 'dtype']\n",
      "2013-02: ['path', 'addr_cols', 'dtype']\n",
      "2017-11: ['path', 'addr_cols', 'dtype']\n",
      "2018-03: ['path', 'addr_cols', 'dtype']\n",
      "2018-08: ['path', 'addr_cols', 'dtype']\n",
      "2018-10: ['path', 'addr_cols', 'dtype']\n"
     ]
    }
   ],
   "source": [
    "# Check we have everything\n",
    "for month_str in (active_month_str_arr):\n",
    "    print \"%s: %s\" % (month_str, voters_info[month_str].keys())"
   ]
  },
  {
   "cell_type": "code",
   "execution_count": 25,
   "metadata": {},
   "outputs": [],
   "source": [
    "# Keep track of the Municipality/Ward/District seen for each address\n",
    "# Key is address, value is a map from month_str to MWD value seen in that data set\n",
    "addr_to_mwd_map = {}"
   ]
  },
  {
   "cell_type": "code",
   "execution_count": 26,
   "metadata": {},
   "outputs": [],
   "source": [
    "def process_voting_record(apd, i, month_str):\n",
    "    global voter_map\n",
    "\n",
    "    # Generate set of interesting colnames we have in this data frame\n",
    "    interesting_colnames=set(['address_raw','Voter_Status','Political_Party','Last_Date_Voted','Date_Last_Changed','Date_Of_Birth','Date_Registered','Dist1','Vote_History'])\n",
    "    colnames = set(apd.columns) & interesting_colnames\n",
    "\n",
    "    voter_id = apd.iloc[i].name\n",
    "        \n",
    "    if(not voter_id in voter_map):\n",
    "        # Make sure 'Date_Registered' is legit\n",
    "        reg_date = None\n",
    "        try:\n",
    "            if(apd['Date_Registered'].iloc[i]!='nan'):\n",
    "                reg_date = dateparser.parse(apd['Date_Registered'].iloc[i])\n",
    "        except:\n",
    "            reg_date = None\n",
    "\n",
    "        if(not reg_date):\n",
    "            print \"Skipping %s, unparsable registration date %s\" % (voter_id, apd['Date_Registered'].iloc[i])\n",
    "            return\n",
    "\n",
    "        # reg_date is fine, add an entry\n",
    "        voter_map[voter_id]={'DOB':apd['Date_Of_Birth'].iloc[i], 'reg_date':reg_date, 'reg_info':{}, 'addresses':{}}\n",
    "    \n",
    "    this_addr = apd['address_raw'].iloc[i]\n",
    "    party = apd['Political_Party'].iloc[i]\n",
    "    voter_map[voter_id]['reg_info'][month_str] = {'status':apd['Voter_Status'].iloc[i],'party':party}\n",
    "    voter_map[voter_id]['addresses'][month_str] = this_addr\n",
    "    \n",
    "    # If Dist1 is set, update addr_to_mwd_map\n",
    "    if('Dist1' in apd.columns):\n",
    "        mwd = apd['Dist1'].iloc[i]\n",
    "        if(not this_addr in addr_to_mwd_map):\n",
    "            # New address, create entry\n",
    "            addr_to_mwd_map[this_addr]={}\n",
    "        addr_to_mwd_map[this_addr][month_str]=mwd\n",
    "        \n",
    "    # Deal with voting history\n",
    "    if(not 'vote_info' in voter_map[voter_id]):\n",
    "        voter_map[voter_id]['vote_info']={}\n",
    "        \n",
    "    if('Vote_History' in colnames):\n",
    "        # This is one of the older files, process voter records\n",
    "        process_vote_history(voter_map[voter_id]['vote_info'], apd['Vote_History'].iloc[i], party)\n",
    "    else:\n",
    "        # This is a newer file, process columns\n",
    "        process_vote_columns(voter_map[voter_id]['vote_info'], apd, i)\n",
    "    \n",
    "def process_all_voting_records(apd,month_str):\n",
    "    active_month_str_set.add(month_str)\n",
    "    active_month_str_arr=sorted(list(active_month_str_set))\n",
    "    for i in range(0,len(apd)):\n",
    "        process_voting_record(apd, i, month_str)"
   ]
  },
  {
   "cell_type": "code",
   "execution_count": 27,
   "metadata": {},
   "outputs": [
    {
     "data": {
      "text/plain": [
       "['2005-02', '2009-07', '2013-02', '2017-11', '2018-03', '2018-08', '2018-10']"
      ]
     },
     "execution_count": 27,
     "metadata": {},
     "output_type": "execute_result"
    }
   ],
   "source": [
    "active_month_str_arr=sorted(list(active_month_str_set))\n",
    "active_month_str_arr"
   ]
  },
  {
   "cell_type": "code",
   "execution_count": 28,
   "metadata": {},
   "outputs": [
    {
     "name": "stderr",
     "output_type": "stream",
     "text": [
      "/home/rsargent/anaconda2/lib/python2.7/site-packages/IPython/core/interactiveshell.py:2818: DtypeWarning: Columns (1,44) have mixed types. Specify dtype option on import or set low_memory=False.\n",
      "  if self.run_code(code, result):\n"
     ]
    }
   ],
   "source": [
    "vdf_2018_10 = load_voters_info('2018-10')"
   ]
  },
  {
   "cell_type": "code",
   "execution_count": 16,
   "metadata": {},
   "outputs": [],
   "source": [
    "vdf_2018_08 = load_voters_info('2018-08')"
   ]
  },
  {
   "cell_type": "code",
   "execution_count": 172,
   "metadata": {},
   "outputs": [],
   "source": [
    "vdf_2018_03 = load_voters_info('2018-03')"
   ]
  },
  {
   "cell_type": "code",
   "execution_count": 23,
   "metadata": {},
   "outputs": [
    {
     "name": "stderr",
     "output_type": "stream",
     "text": [
      "/home/rsargent/anaconda2/lib/python2.7/site-packages/IPython/core/interactiveshell.py:2818: DtypeWarning: Columns (1,44) have mixed types. Specify dtype option on import or set low_memory=False.\n",
      "  if self.run_code(code, result):\n"
     ]
    }
   ],
   "source": [
    "vdf_2017_11 = load_voters_info('2017-11')"
   ]
  },
  {
   "cell_type": "code",
   "execution_count": 29,
   "metadata": {},
   "outputs": [],
   "source": [
    "vdf_2013_02 = load_voters_info('2013-02')"
   ]
  },
  {
   "cell_type": "code",
   "execution_count": 444,
   "metadata": {},
   "outputs": [],
   "source": [
    "vdf_2009_07 = load_voters_info('2009-07')"
   ]
  },
  {
   "cell_type": "code",
   "execution_count": 30,
   "metadata": {},
   "outputs": [],
   "source": [
    "vdf_2005_02 = load_voters_info('2005-02')"
   ]
  },
  {
   "cell_type": "markdown",
   "metadata": {},
   "source": [
    "### Deal with Date_Last_Changed"
   ]
  },
  {
   "cell_type": "code",
   "execution_count": null,
   "metadata": {},
   "outputs": [],
   "source": [
    "vdf_2005_02['DOB']=vdf_2005_02['Date_Of_Birth'].map(dateparser.parse)\n",
    "vdf_2005_02['DR']=vdf_2005_02['Date_Registered'].map(dateparser.parse)\n",
    "vdf_2005_02['DLC']=vdf_2005_02['Date_Last_Changed'].map(dateparser.parse)\n",
    "vdf_2005_02['suspect_dates']=~((vdf_2005_02['DOB']<vdf_2005_02['DR']) & (vdf_2005_02['DR']<=vdf_2005_02['DLC']) & (vdf_2005_02['DLC']<=monthstr_to_date_map['2005-02']))\n",
    "\n",
    "vdf_2005_02[vdf_2005_02['suspect_dates']][['DOB','DR','DLC','address_raw']]"
   ]
  },
  {
   "cell_type": "code",
   "execution_count": null,
   "metadata": {},
   "outputs": [],
   "source": [
    "vdf_2009_07['DOB']=vdf_2009_07['Date_Of_Birth'].map(dateparser.parse)\n",
    "vdf_2009_07['DR']=vdf_2009_07['Date_Registered'].map(dateparser.parse)\n",
    "vdf_2009_07['DLC']=vdf_2009_07['Date_Last_Changed'].map(dateparser.parse)\n",
    "vdf_2009_07['suspect_dates'] = ~((vdf_2009_07['DOB']<vdf_2009_07['DR']) & (vdf_2009_07['DR']<=vdf_2009_07['DLC']) & (vdf_2009_07['DLC']<=monthstr_to_date_map['2009-07']))\n",
    "\n",
    "vdf_2009_07[vdf_2009_07['suspect_dates']][['DOB','DR','DLC','address_raw']]"
   ]
  },
  {
   "cell_type": "code",
   "execution_count": 39,
   "metadata": {},
   "outputs": [
    {
     "ename": "NameError",
     "evalue": "name 'vdf_2009_07' is not defined",
     "output_type": "error",
     "traceback": [
      "\u001b[0;31m---------------------------------------------------------------------------\u001b[0m",
      "\u001b[0;31mNameError\u001b[0m                                 Traceback (most recent call last)",
      "\u001b[0;32m<ipython-input-39-41ad20911ea9>\u001b[0m in \u001b[0;36m<module>\u001b[0;34m()\u001b[0m\n\u001b[0;32m----> 1\u001b[0;31m \u001b[0mget_ipython\u001b[0m\u001b[0;34m(\u001b[0m\u001b[0;34m)\u001b[0m\u001b[0;34m.\u001b[0m\u001b[0mrun_cell_magic\u001b[0m\u001b[0;34m(\u001b[0m\u001b[0;34mu'time'\u001b[0m\u001b[0;34m,\u001b[0m \u001b[0;34mu''\u001b[0m\u001b[0;34m,\u001b[0m \u001b[0;34mu\"vdf_2009_07['DOB']=pd.to_datetime(vdf_2009_07['Date_Of_Birth'])\"\u001b[0m\u001b[0;34m)\u001b[0m\u001b[0;34m\u001b[0m\u001b[0m\n\u001b[0m",
      "\u001b[0;32m/home/rsargent/anaconda2/lib/python2.7/site-packages/IPython/core/interactiveshell.pyc\u001b[0m in \u001b[0;36mrun_cell_magic\u001b[0;34m(self, magic_name, line, cell)\u001b[0m\n\u001b[1;32m   2115\u001b[0m             \u001b[0mmagic_arg_s\u001b[0m \u001b[0;34m=\u001b[0m \u001b[0mself\u001b[0m\u001b[0;34m.\u001b[0m\u001b[0mvar_expand\u001b[0m\u001b[0;34m(\u001b[0m\u001b[0mline\u001b[0m\u001b[0;34m,\u001b[0m \u001b[0mstack_depth\u001b[0m\u001b[0;34m)\u001b[0m\u001b[0;34m\u001b[0m\u001b[0m\n\u001b[1;32m   2116\u001b[0m             \u001b[0;32mwith\u001b[0m \u001b[0mself\u001b[0m\u001b[0;34m.\u001b[0m\u001b[0mbuiltin_trap\u001b[0m\u001b[0;34m:\u001b[0m\u001b[0;34m\u001b[0m\u001b[0m\n\u001b[0;32m-> 2117\u001b[0;31m                 \u001b[0mresult\u001b[0m \u001b[0;34m=\u001b[0m \u001b[0mfn\u001b[0m\u001b[0;34m(\u001b[0m\u001b[0mmagic_arg_s\u001b[0m\u001b[0;34m,\u001b[0m \u001b[0mcell\u001b[0m\u001b[0;34m)\u001b[0m\u001b[0;34m\u001b[0m\u001b[0m\n\u001b[0m\u001b[1;32m   2118\u001b[0m             \u001b[0;32mreturn\u001b[0m \u001b[0mresult\u001b[0m\u001b[0;34m\u001b[0m\u001b[0m\n\u001b[1;32m   2119\u001b[0m \u001b[0;34m\u001b[0m\u001b[0m\n",
      "\u001b[0;32m<decorator-gen-60>\u001b[0m in \u001b[0;36mtime\u001b[0;34m(self, line, cell, local_ns)\u001b[0m\n",
      "\u001b[0;32m/home/rsargent/anaconda2/lib/python2.7/site-packages/IPython/core/magic.pyc\u001b[0m in \u001b[0;36m<lambda>\u001b[0;34m(f, *a, **k)\u001b[0m\n\u001b[1;32m    186\u001b[0m     \u001b[0;31m# but it's overkill for just that one bit of state.\u001b[0m\u001b[0;34m\u001b[0m\u001b[0;34m\u001b[0m\u001b[0m\n\u001b[1;32m    187\u001b[0m     \u001b[0;32mdef\u001b[0m \u001b[0mmagic_deco\u001b[0m\u001b[0;34m(\u001b[0m\u001b[0marg\u001b[0m\u001b[0;34m)\u001b[0m\u001b[0;34m:\u001b[0m\u001b[0;34m\u001b[0m\u001b[0m\n\u001b[0;32m--> 188\u001b[0;31m         \u001b[0mcall\u001b[0m \u001b[0;34m=\u001b[0m \u001b[0;32mlambda\u001b[0m \u001b[0mf\u001b[0m\u001b[0;34m,\u001b[0m \u001b[0;34m*\u001b[0m\u001b[0ma\u001b[0m\u001b[0;34m,\u001b[0m \u001b[0;34m**\u001b[0m\u001b[0mk\u001b[0m\u001b[0;34m:\u001b[0m \u001b[0mf\u001b[0m\u001b[0;34m(\u001b[0m\u001b[0;34m*\u001b[0m\u001b[0ma\u001b[0m\u001b[0;34m,\u001b[0m \u001b[0;34m**\u001b[0m\u001b[0mk\u001b[0m\u001b[0;34m)\u001b[0m\u001b[0;34m\u001b[0m\u001b[0m\n\u001b[0m\u001b[1;32m    189\u001b[0m \u001b[0;34m\u001b[0m\u001b[0m\n\u001b[1;32m    190\u001b[0m         \u001b[0;32mif\u001b[0m \u001b[0mcallable\u001b[0m\u001b[0;34m(\u001b[0m\u001b[0marg\u001b[0m\u001b[0;34m)\u001b[0m\u001b[0;34m:\u001b[0m\u001b[0;34m\u001b[0m\u001b[0m\n",
      "\u001b[0;32m/home/rsargent/anaconda2/lib/python2.7/site-packages/IPython/core/magics/execution.pyc\u001b[0m in \u001b[0;36mtime\u001b[0;34m(self, line, cell, local_ns)\u001b[0m\n\u001b[1;32m   1191\u001b[0m         \u001b[0;32melse\u001b[0m\u001b[0;34m:\u001b[0m\u001b[0;34m\u001b[0m\u001b[0m\n\u001b[1;32m   1192\u001b[0m             \u001b[0mst\u001b[0m \u001b[0;34m=\u001b[0m \u001b[0mclock2\u001b[0m\u001b[0;34m(\u001b[0m\u001b[0;34m)\u001b[0m\u001b[0;34m\u001b[0m\u001b[0m\n\u001b[0;32m-> 1193\u001b[0;31m             \u001b[0;32mexec\u001b[0m\u001b[0;34m(\u001b[0m\u001b[0mcode\u001b[0m\u001b[0;34m,\u001b[0m \u001b[0mglob\u001b[0m\u001b[0;34m,\u001b[0m \u001b[0mlocal_ns\u001b[0m\u001b[0;34m)\u001b[0m\u001b[0;34m\u001b[0m\u001b[0m\n\u001b[0m\u001b[1;32m   1194\u001b[0m             \u001b[0mend\u001b[0m \u001b[0;34m=\u001b[0m \u001b[0mclock2\u001b[0m\u001b[0;34m(\u001b[0m\u001b[0;34m)\u001b[0m\u001b[0;34m\u001b[0m\u001b[0m\n\u001b[1;32m   1195\u001b[0m             \u001b[0mout\u001b[0m \u001b[0;34m=\u001b[0m \u001b[0mNone\u001b[0m\u001b[0;34m\u001b[0m\u001b[0m\n",
      "\u001b[0;32m<timed exec>\u001b[0m in \u001b[0;36m<module>\u001b[0;34m()\u001b[0m\n",
      "\u001b[0;31mNameError\u001b[0m: name 'vdf_2009_07' is not defined"
     ]
    }
   ],
   "source": [
    "%%time\n",
    "vdf_2009_07['DOB']=pd.to_datetime(vdf_2009_07['Date_Of_Birth'])"
   ]
  },
  {
   "cell_type": "code",
   "execution_count": null,
   "metadata": {},
   "outputs": [],
   "source": [
    "vdf_2009_07['DR']=vdf_2009_07['Date_Registered'].map(dateparser.parse)\n",
    "vdf_2009_07['DLC']=vdf_2009_07['Date_Last_Changed'].map(dateparser.parse)\n",
    "vdf_2009_07['suspect_dates'] = ~((vdf_2009_07['DOB']<vdf_2009_07['DR']) & (vdf_2009_07['DR']<=vdf_2009_07['DLC']) & (vdf_2009_07['DLC']<=monthstr_to_date_map['2009-07']))\n",
    "\n",
    "vdf_2009_07[vdf_2009_07['suspect_dates']][['DOB','DR','DLC','address_raw']]"
   ]
  },
  {
   "cell_type": "code",
   "execution_count": 38,
   "metadata": {},
   "outputs": [
    {
     "ename": "KeyError",
     "evalue": "\"['DOB' 'DR' 'DLC' 'suspect_dates'] not in index\"",
     "output_type": "error",
     "traceback": [
      "\u001b[0;31m---------------------------------------------------------------------------\u001b[0m",
      "\u001b[0;31mKeyError\u001b[0m                                  Traceback (most recent call last)",
      "\u001b[0;32m<ipython-input-38-10dd0a7afe4d>\u001b[0m in \u001b[0;36m<module>\u001b[0;34m()\u001b[0m\n\u001b[1;32m      1\u001b[0m \u001b[0;31m# Combine 2005_02 and 2009_07\u001b[0m\u001b[0;34m\u001b[0m\u001b[0;34m\u001b[0m\u001b[0m\n\u001b[0;32m----> 2\u001b[0;31m \u001b[0mvdf_2005_02_jr\u001b[0m \u001b[0;34m=\u001b[0m \u001b[0mvdf_2005_02\u001b[0m\u001b[0;34m[\u001b[0m\u001b[0;34m[\u001b[0m\u001b[0;34m'DOB'\u001b[0m\u001b[0;34m,\u001b[0m\u001b[0;34m'DR'\u001b[0m\u001b[0;34m,\u001b[0m\u001b[0;34m'DLC'\u001b[0m\u001b[0;34m,\u001b[0m\u001b[0;34m'suspect_dates'\u001b[0m\u001b[0;34m,\u001b[0m\u001b[0;34m'address_raw'\u001b[0m\u001b[0;34m]\u001b[0m\u001b[0;34m]\u001b[0m\u001b[0;34m.\u001b[0m\u001b[0mrename\u001b[0m\u001b[0;34m(\u001b[0m\u001b[0mcolumns\u001b[0m\u001b[0;34m=\u001b[0m\u001b[0;34m{\u001b[0m\u001b[0;34m'DOB'\u001b[0m\u001b[0;34m:\u001b[0m\u001b[0;34m'DOB_2005-02'\u001b[0m\u001b[0;34m,\u001b[0m \u001b[0;34m'DR'\u001b[0m\u001b[0;34m:\u001b[0m\u001b[0;34m'DR_2005-02'\u001b[0m\u001b[0;34m,\u001b[0m \u001b[0;34m'DLC'\u001b[0m\u001b[0;34m:\u001b[0m\u001b[0;34m'DLC_2005-02'\u001b[0m\u001b[0;34m,\u001b[0m\u001b[0;34m'suspect_dates'\u001b[0m\u001b[0;34m:\u001b[0m\u001b[0;34m'suspect_dates_2005-02'\u001b[0m\u001b[0;34m,\u001b[0m\u001b[0;34m'address_raw'\u001b[0m\u001b[0;34m:\u001b[0m\u001b[0;34m'address_raw_2005-02'\u001b[0m\u001b[0;34m}\u001b[0m\u001b[0;34m)\u001b[0m\u001b[0;34m\u001b[0m\u001b[0m\n\u001b[0m\u001b[1;32m      3\u001b[0m \u001b[0mvdf_2009_07_jr\u001b[0m \u001b[0;34m=\u001b[0m \u001b[0mvdf_2009_07\u001b[0m\u001b[0;34m[\u001b[0m\u001b[0;34m[\u001b[0m\u001b[0;34m'DOB'\u001b[0m\u001b[0;34m,\u001b[0m\u001b[0;34m'DR'\u001b[0m\u001b[0;34m,\u001b[0m\u001b[0;34m'DLC'\u001b[0m\u001b[0;34m,\u001b[0m\u001b[0;34m'suspect_dates'\u001b[0m\u001b[0;34m,\u001b[0m\u001b[0;34m'address_raw'\u001b[0m\u001b[0;34m]\u001b[0m\u001b[0;34m]\u001b[0m\u001b[0;34m.\u001b[0m\u001b[0mrename\u001b[0m\u001b[0;34m(\u001b[0m\u001b[0mcolumns\u001b[0m\u001b[0;34m=\u001b[0m\u001b[0;34m{\u001b[0m\u001b[0;34m'DOB'\u001b[0m\u001b[0;34m:\u001b[0m\u001b[0;34m'DOB_2009-07'\u001b[0m\u001b[0;34m,\u001b[0m \u001b[0;34m'DR'\u001b[0m\u001b[0;34m:\u001b[0m\u001b[0;34m'DR_2009-07'\u001b[0m\u001b[0;34m,\u001b[0m \u001b[0;34m'DLC'\u001b[0m\u001b[0;34m:\u001b[0m\u001b[0;34m'DLC_2009-07'\u001b[0m\u001b[0;34m,\u001b[0m\u001b[0;34m'suspect_dates'\u001b[0m\u001b[0;34m:\u001b[0m\u001b[0;34m'suspect_dates_2009-07'\u001b[0m\u001b[0;34m,\u001b[0m\u001b[0;34m'address_raw'\u001b[0m\u001b[0;34m:\u001b[0m\u001b[0;34m'address_raw_2009-07'\u001b[0m\u001b[0;34m}\u001b[0m\u001b[0;34m)\u001b[0m\u001b[0;34m\u001b[0m\u001b[0m\n\u001b[1;32m      4\u001b[0m \u001b[0mv97_25_j\u001b[0m \u001b[0;34m=\u001b[0m \u001b[0mvdf_2005_02_jr\u001b[0m\u001b[0;34m.\u001b[0m\u001b[0mjoin\u001b[0m\u001b[0;34m(\u001b[0m\u001b[0mvdf_2009_07_jr\u001b[0m\u001b[0;34m,\u001b[0m\u001b[0mhow\u001b[0m\u001b[0;34m=\u001b[0m\u001b[0;34m'outer'\u001b[0m\u001b[0;34m)\u001b[0m\u001b[0;34m\u001b[0m\u001b[0m\n",
      "\u001b[0;32m/home/rsargent/anaconda2/lib/python2.7/site-packages/pandas/core/frame.pyc\u001b[0m in \u001b[0;36m__getitem__\u001b[0;34m(self, key)\u001b[0m\n\u001b[1;32m   2677\u001b[0m         \u001b[0;32mif\u001b[0m \u001b[0misinstance\u001b[0m\u001b[0;34m(\u001b[0m\u001b[0mkey\u001b[0m\u001b[0;34m,\u001b[0m \u001b[0;34m(\u001b[0m\u001b[0mSeries\u001b[0m\u001b[0;34m,\u001b[0m \u001b[0mnp\u001b[0m\u001b[0;34m.\u001b[0m\u001b[0mndarray\u001b[0m\u001b[0;34m,\u001b[0m \u001b[0mIndex\u001b[0m\u001b[0;34m,\u001b[0m \u001b[0mlist\u001b[0m\u001b[0;34m)\u001b[0m\u001b[0;34m)\u001b[0m\u001b[0;34m:\u001b[0m\u001b[0;34m\u001b[0m\u001b[0m\n\u001b[1;32m   2678\u001b[0m             \u001b[0;31m# either boolean or fancy integer index\u001b[0m\u001b[0;34m\u001b[0m\u001b[0;34m\u001b[0m\u001b[0m\n\u001b[0;32m-> 2679\u001b[0;31m             \u001b[0;32mreturn\u001b[0m \u001b[0mself\u001b[0m\u001b[0;34m.\u001b[0m\u001b[0m_getitem_array\u001b[0m\u001b[0;34m(\u001b[0m\u001b[0mkey\u001b[0m\u001b[0;34m)\u001b[0m\u001b[0;34m\u001b[0m\u001b[0m\n\u001b[0m\u001b[1;32m   2680\u001b[0m         \u001b[0;32melif\u001b[0m \u001b[0misinstance\u001b[0m\u001b[0;34m(\u001b[0m\u001b[0mkey\u001b[0m\u001b[0;34m,\u001b[0m \u001b[0mDataFrame\u001b[0m\u001b[0;34m)\u001b[0m\u001b[0;34m:\u001b[0m\u001b[0;34m\u001b[0m\u001b[0m\n\u001b[1;32m   2681\u001b[0m             \u001b[0;32mreturn\u001b[0m \u001b[0mself\u001b[0m\u001b[0;34m.\u001b[0m\u001b[0m_getitem_frame\u001b[0m\u001b[0;34m(\u001b[0m\u001b[0mkey\u001b[0m\u001b[0;34m)\u001b[0m\u001b[0;34m\u001b[0m\u001b[0m\n",
      "\u001b[0;32m/home/rsargent/anaconda2/lib/python2.7/site-packages/pandas/core/frame.pyc\u001b[0m in \u001b[0;36m_getitem_array\u001b[0;34m(self, key)\u001b[0m\n\u001b[1;32m   2721\u001b[0m             \u001b[0;32mreturn\u001b[0m \u001b[0mself\u001b[0m\u001b[0;34m.\u001b[0m\u001b[0m_take\u001b[0m\u001b[0;34m(\u001b[0m\u001b[0mindexer\u001b[0m\u001b[0;34m,\u001b[0m \u001b[0maxis\u001b[0m\u001b[0;34m=\u001b[0m\u001b[0;36m0\u001b[0m\u001b[0;34m)\u001b[0m\u001b[0;34m\u001b[0m\u001b[0m\n\u001b[1;32m   2722\u001b[0m         \u001b[0;32melse\u001b[0m\u001b[0;34m:\u001b[0m\u001b[0;34m\u001b[0m\u001b[0m\n\u001b[0;32m-> 2723\u001b[0;31m             \u001b[0mindexer\u001b[0m \u001b[0;34m=\u001b[0m \u001b[0mself\u001b[0m\u001b[0;34m.\u001b[0m\u001b[0mloc\u001b[0m\u001b[0;34m.\u001b[0m\u001b[0m_convert_to_indexer\u001b[0m\u001b[0;34m(\u001b[0m\u001b[0mkey\u001b[0m\u001b[0;34m,\u001b[0m \u001b[0maxis\u001b[0m\u001b[0;34m=\u001b[0m\u001b[0;36m1\u001b[0m\u001b[0;34m)\u001b[0m\u001b[0;34m\u001b[0m\u001b[0m\n\u001b[0m\u001b[1;32m   2724\u001b[0m             \u001b[0;32mreturn\u001b[0m \u001b[0mself\u001b[0m\u001b[0;34m.\u001b[0m\u001b[0m_take\u001b[0m\u001b[0;34m(\u001b[0m\u001b[0mindexer\u001b[0m\u001b[0;34m,\u001b[0m \u001b[0maxis\u001b[0m\u001b[0;34m=\u001b[0m\u001b[0;36m1\u001b[0m\u001b[0;34m)\u001b[0m\u001b[0;34m\u001b[0m\u001b[0m\n\u001b[1;32m   2725\u001b[0m \u001b[0;34m\u001b[0m\u001b[0m\n",
      "\u001b[0;32m/home/rsargent/anaconda2/lib/python2.7/site-packages/pandas/core/indexing.pyc\u001b[0m in \u001b[0;36m_convert_to_indexer\u001b[0;34m(self, obj, axis, is_setter)\u001b[0m\n\u001b[1;32m   1325\u001b[0m                 \u001b[0;32mif\u001b[0m \u001b[0mmask\u001b[0m\u001b[0;34m.\u001b[0m\u001b[0many\u001b[0m\u001b[0;34m(\u001b[0m\u001b[0;34m)\u001b[0m\u001b[0;34m:\u001b[0m\u001b[0;34m\u001b[0m\u001b[0m\n\u001b[1;32m   1326\u001b[0m                     raise KeyError('{mask} not in index'\n\u001b[0;32m-> 1327\u001b[0;31m                                    .format(mask=objarr[mask]))\n\u001b[0m\u001b[1;32m   1328\u001b[0m \u001b[0;34m\u001b[0m\u001b[0m\n\u001b[1;32m   1329\u001b[0m                 \u001b[0;32mreturn\u001b[0m \u001b[0mcom\u001b[0m\u001b[0;34m.\u001b[0m\u001b[0m_values_from_object\u001b[0m\u001b[0;34m(\u001b[0m\u001b[0mindexer\u001b[0m\u001b[0;34m)\u001b[0m\u001b[0;34m\u001b[0m\u001b[0m\n",
      "\u001b[0;31mKeyError\u001b[0m: \"['DOB' 'DR' 'DLC' 'suspect_dates'] not in index\""
     ]
    }
   ],
   "source": [
    "# Combine 2005_02 and 2009_07\n",
    "vdf_2005_02_jr = vdf_2005_02[['DOB','DR','DLC','suspect_dates','address_raw']].rename(columns={'DOB':'DOB_2005-02', 'DR':'DR_2005-02', 'DLC':'DLC_2005-02','suspect_dates':'suspect_dates_2005-02','address_raw':'address_raw_2005-02'})\n",
    "vdf_2009_07_jr = vdf_2009_07[['DOB','DR','DLC','suspect_dates','address_raw']].rename(columns={'DOB':'DOB_2009-07', 'DR':'DR_2009-07', 'DLC':'DLC_2009-07','suspect_dates':'suspect_dates_2009-07','address_raw':'address_raw_2009-07'})\n",
    "v97_25_j = vdf_2005_02_jr.join(vdf_2009_07_jr,how='outer')"
   ]
  },
  {
   "cell_type": "code",
   "execution_count": null,
   "metadata": {},
   "outputs": [],
   "source": [
    "v97_25_both=(~pd.isna(v97_25_j['DOB_2005-02']))&(~pd.isna(v97_25_j['DOB_2009-07']))\n",
    "v97_25_j[v97_25_both & (v97_25_j['address_raw_2005-02']!=v97_25_j['address_raw_2009-07'])]"
   ]
  },
  {
   "cell_type": "code",
   "execution_count": 496,
   "metadata": {},
   "outputs": [
    {
     "data": {
      "text/html": [
       "<div>\n",
       "<style scoped>\n",
       "    .dataframe tbody tr th:only-of-type {\n",
       "        vertical-align: middle;\n",
       "    }\n",
       "\n",
       "    .dataframe tbody tr th {\n",
       "        vertical-align: top;\n",
       "    }\n",
       "\n",
       "    .dataframe thead th {\n",
       "        text-align: right;\n",
       "    }\n",
       "</style>\n",
       "<table border=\"1\" class=\"dataframe\">\n",
       "  <thead>\n",
       "    <tr style=\"text-align: right;\">\n",
       "      <th></th>\n",
       "      <th>DOB_2005-02</th>\n",
       "      <th>DR_2005-02</th>\n",
       "      <th>DLC_2005-02</th>\n",
       "      <th>suspect_dates_2005-02</th>\n",
       "      <th>address_raw_2005-02</th>\n",
       "      <th>DOB_2009-07</th>\n",
       "      <th>DR_2009-07</th>\n",
       "      <th>DLC_2009-07</th>\n",
       "      <th>suspect_dates_2009-07</th>\n",
       "      <th>address_raw_2009-07</th>\n",
       "    </tr>\n",
       "    <tr>\n",
       "      <th>ID_Number</th>\n",
       "      <th></th>\n",
       "      <th></th>\n",
       "      <th></th>\n",
       "      <th></th>\n",
       "      <th></th>\n",
       "      <th></th>\n",
       "      <th></th>\n",
       "      <th></th>\n",
       "      <th></th>\n",
       "      <th></th>\n",
       "    </tr>\n",
       "  </thead>\n",
       "  <tbody>\n",
       "    <tr>\n",
       "      <th>001023473-02</th>\n",
       "      <td>1970-01-11</td>\n",
       "      <td>2004-01-01</td>\n",
       "      <td>2004-10-12</td>\n",
       "      <td>False</td>\n",
       "      <td>3111 SQUIRES MANOR LN SOUTH PARK PA 15129</td>\n",
       "      <td>NaT</td>\n",
       "      <td>NaT</td>\n",
       "      <td>NaT</td>\n",
       "      <td>NaN</td>\n",
       "      <td>NaN</td>\n",
       "    </tr>\n",
       "    <tr>\n",
       "      <th>001024003-02</th>\n",
       "      <td>1977-02-10</td>\n",
       "      <td>2004-01-01</td>\n",
       "      <td>2004-10-05</td>\n",
       "      <td>False</td>\n",
       "      <td>1927 MURRAY AVE PITTSBURGH PA 15217</td>\n",
       "      <td>NaT</td>\n",
       "      <td>NaT</td>\n",
       "      <td>NaT</td>\n",
       "      <td>NaN</td>\n",
       "      <td>NaN</td>\n",
       "    </tr>\n",
       "    <tr>\n",
       "      <th>001024171-02</th>\n",
       "      <td>1953-09-04</td>\n",
       "      <td>1996-10-01</td>\n",
       "      <td>2004-04-07</td>\n",
       "      <td>False</td>\n",
       "      <td>106 LINDEN AVE S PITTSBURGH PA 15208</td>\n",
       "      <td>NaT</td>\n",
       "      <td>NaT</td>\n",
       "      <td>NaT</td>\n",
       "      <td>NaN</td>\n",
       "      <td>NaN</td>\n",
       "    </tr>\n",
       "    <tr>\n",
       "      <th>001024313-02</th>\n",
       "      <td>1975-01-21</td>\n",
       "      <td>2009-07-01</td>\n",
       "      <td>2005-01-05</td>\n",
       "      <td>True</td>\n",
       "      <td>214 ONEIDA ST PITTSBURGH PA 15211</td>\n",
       "      <td>NaT</td>\n",
       "      <td>NaT</td>\n",
       "      <td>NaT</td>\n",
       "      <td>NaN</td>\n",
       "      <td>NaN</td>\n",
       "    </tr>\n",
       "    <tr>\n",
       "      <th>001025031-02</th>\n",
       "      <td>1972-11-20</td>\n",
       "      <td>2004-01-01</td>\n",
       "      <td>2004-10-16</td>\n",
       "      <td>False</td>\n",
       "      <td>63 NINETEENTH ST S PITTSBURGH PA 15203</td>\n",
       "      <td>NaT</td>\n",
       "      <td>NaT</td>\n",
       "      <td>NaT</td>\n",
       "      <td>NaN</td>\n",
       "      <td>NaN</td>\n",
       "    </tr>\n",
       "    <tr>\n",
       "      <th>001025191-02</th>\n",
       "      <td>1979-05-08</td>\n",
       "      <td>2004-01-01</td>\n",
       "      <td>2004-08-06</td>\n",
       "      <td>False</td>\n",
       "      <td>5701 CENTRE AVE PITTSBURGH PA 15206</td>\n",
       "      <td>NaT</td>\n",
       "      <td>NaT</td>\n",
       "      <td>NaT</td>\n",
       "      <td>NaN</td>\n",
       "      <td>NaN</td>\n",
       "    </tr>\n",
       "    <tr>\n",
       "      <th>001027557-02</th>\n",
       "      <td>1978-11-08</td>\n",
       "      <td>1997-04-01</td>\n",
       "      <td>2004-10-14</td>\n",
       "      <td>False</td>\n",
       "      <td>601 MINNESOTA ST PITTSBURGH PA 15207</td>\n",
       "      <td>NaT</td>\n",
       "      <td>NaT</td>\n",
       "      <td>NaT</td>\n",
       "      <td>NaN</td>\n",
       "      <td>NaN</td>\n",
       "    </tr>\n",
       "    <tr>\n",
       "      <th>001029025-02</th>\n",
       "      <td>1977-07-19</td>\n",
       "      <td>1997-07-01</td>\n",
       "      <td>2004-10-05</td>\n",
       "      <td>False</td>\n",
       "      <td>5850 CENTRE AVE PITTSBURGH PA 15206</td>\n",
       "      <td>NaT</td>\n",
       "      <td>NaT</td>\n",
       "      <td>NaT</td>\n",
       "      <td>NaN</td>\n",
       "      <td>NaN</td>\n",
       "    </tr>\n",
       "  </tbody>\n",
       "</table>\n",
       "</div>"
      ],
      "text/plain": [
       "             DOB_2005-02 DR_2005-02 DLC_2005-02 suspect_dates_2005-02  \\\n",
       "ID_Number                                                               \n",
       "001023473-02  1970-01-11 2004-01-01  2004-10-12                 False   \n",
       "001024003-02  1977-02-10 2004-01-01  2004-10-05                 False   \n",
       "001024171-02  1953-09-04 1996-10-01  2004-04-07                 False   \n",
       "001024313-02  1975-01-21 2009-07-01  2005-01-05                  True   \n",
       "001025031-02  1972-11-20 2004-01-01  2004-10-16                 False   \n",
       "001025191-02  1979-05-08 2004-01-01  2004-08-06                 False   \n",
       "001027557-02  1978-11-08 1997-04-01  2004-10-14                 False   \n",
       "001029025-02  1977-07-19 1997-07-01  2004-10-05                 False   \n",
       "\n",
       "                                    address_raw_2005-02 DOB_2009-07  \\\n",
       "ID_Number                                                             \n",
       "001023473-02  3111 SQUIRES MANOR LN SOUTH PARK PA 15129         NaT   \n",
       "001024003-02        1927 MURRAY AVE PITTSBURGH PA 15217         NaT   \n",
       "001024171-02       106 LINDEN AVE S PITTSBURGH PA 15208         NaT   \n",
       "001024313-02          214 ONEIDA ST PITTSBURGH PA 15211         NaT   \n",
       "001025031-02     63 NINETEENTH ST S PITTSBURGH PA 15203         NaT   \n",
       "001025191-02        5701 CENTRE AVE PITTSBURGH PA 15206         NaT   \n",
       "001027557-02       601 MINNESOTA ST PITTSBURGH PA 15207         NaT   \n",
       "001029025-02        5850 CENTRE AVE PITTSBURGH PA 15206         NaT   \n",
       "\n",
       "             DR_2009-07 DLC_2009-07 suspect_dates_2009-07 address_raw_2009-07  \n",
       "ID_Number                                                                      \n",
       "001023473-02        NaT         NaT                   NaN                 NaN  \n",
       "001024003-02        NaT         NaT                   NaN                 NaN  \n",
       "001024171-02        NaT         NaT                   NaN                 NaN  \n",
       "001024313-02        NaT         NaT                   NaN                 NaN  \n",
       "001025031-02        NaT         NaT                   NaN                 NaN  \n",
       "001025191-02        NaT         NaT                   NaN                 NaN  \n",
       "001027557-02        NaT         NaT                   NaN                 NaN  \n",
       "001029025-02        NaT         NaT                   NaN                 NaN  "
      ]
     },
     "execution_count": 496,
     "metadata": {},
     "output_type": "execute_result"
    }
   ],
   "source": [
    "v25_only=(~pd.isna(v97_25_j['DOB_2005-02']))&(pd.isna(v97_25_j['DOB_2009-07']))\n",
    "v97_25_j[v25_only]"
   ]
  },
  {
   "cell_type": "code",
   "execution_count": 525,
   "metadata": {},
   "outputs": [
    {
     "data": {
      "text/html": [
       "<div>\n",
       "<style scoped>\n",
       "    .dataframe tbody tr th:only-of-type {\n",
       "        vertical-align: middle;\n",
       "    }\n",
       "\n",
       "    .dataframe tbody tr th {\n",
       "        vertical-align: top;\n",
       "    }\n",
       "\n",
       "    .dataframe thead th {\n",
       "        text-align: right;\n",
       "    }\n",
       "</style>\n",
       "<table border=\"1\" class=\"dataframe\">\n",
       "  <thead>\n",
       "    <tr style=\"text-align: right;\">\n",
       "      <th></th>\n",
       "      <th>DOB_2005-02</th>\n",
       "      <th>DR_2005-02</th>\n",
       "      <th>DLC_2005-02</th>\n",
       "      <th>suspect_dates_2005-02</th>\n",
       "      <th>address_raw_2005-02</th>\n",
       "      <th>DOB_2009-07</th>\n",
       "      <th>DR_2009-07</th>\n",
       "      <th>DLC_2009-07</th>\n",
       "      <th>suspect_dates_2009-07</th>\n",
       "      <th>address_raw_2009-07</th>\n",
       "    </tr>\n",
       "    <tr>\n",
       "      <th>ID_Number</th>\n",
       "      <th></th>\n",
       "      <th></th>\n",
       "      <th></th>\n",
       "      <th></th>\n",
       "      <th></th>\n",
       "      <th></th>\n",
       "      <th></th>\n",
       "      <th></th>\n",
       "      <th></th>\n",
       "      <th></th>\n",
       "    </tr>\n",
       "  </thead>\n",
       "  <tbody>\n",
       "    <tr>\n",
       "      <th>001015655-02</th>\n",
       "      <td>1943-01-22</td>\n",
       "      <td>1972-01-01</td>\n",
       "      <td>2003-10-14</td>\n",
       "      <td>False</td>\n",
       "      <td>203 HUGEL DR PITTSBURGH PA 15209</td>\n",
       "      <td>1943-01-22</td>\n",
       "      <td>1972-01-01</td>\n",
       "      <td>2003-10-14</td>\n",
       "      <td>False</td>\n",
       "      <td>203 HUGEL DR PITTSBURGH PA 15209</td>\n",
       "    </tr>\n",
       "  </tbody>\n",
       "</table>\n",
       "</div>"
      ],
      "text/plain": [
       "             DOB_2005-02 DR_2005-02 DLC_2005-02 suspect_dates_2005-02  \\\n",
       "ID_Number                                                               \n",
       "001015655-02  1943-01-22 1972-01-01  2003-10-14                 False   \n",
       "\n",
       "                           address_raw_2005-02 DOB_2009-07 DR_2009-07  \\\n",
       "ID_Number                                                               \n",
       "001015655-02  203 HUGEL DR PITTSBURGH PA 15209  1943-01-22 1972-01-01   \n",
       "\n",
       "             DLC_2009-07 suspect_dates_2009-07  \\\n",
       "ID_Number                                        \n",
       "001015655-02  2003-10-14                 False   \n",
       "\n",
       "                           address_raw_2009-07  \n",
       "ID_Number                                       \n",
       "001015655-02  203 HUGEL DR PITTSBURGH PA 15209  "
      ]
     },
     "execution_count": 525,
     "metadata": {},
     "output_type": "execute_result"
    }
   ],
   "source": [
    "test_vid = '001015655-02'\n",
    "v97_25_j[v97_25_j.index==test_vid]"
   ]
  },
  {
   "cell_type": "code",
   "execution_count": 531,
   "metadata": {},
   "outputs": [
    {
     "data": {
      "text/plain": [
       "{'DOB': '1/22/1943',\n",
       " 'addr_arr': [{'address': '203 HUGEL DR PITTSBURGH PA 15209',\n",
       "   'census_block': u'420034272003017',\n",
       "   'date': datetime.datetime(1972, 1, 1, 0, 0),\n",
       "   'latlon': <shapely.geometry.point.Point at 0x7f46e06d2590>}],\n",
       " 'addresses': {'2005-02': '203 HUGEL DR PITTSBURGH PA 15209',\n",
       "  '2009-07': '203 HUGEL DR PITTSBURGH PA 15209',\n",
       "  '2013-02': '203 HUGEL DR PITTSBURGH PA 15209',\n",
       "  '2017-11': '203 HUGEL DR PITTSBURGH PA 15209',\n",
       "  '2018-03': '203 HUGEL DR PITTSBURGH PA 15209'},\n",
       " 'last_update_date': {'2005-02': Timestamp('2003-10-14 00:00:00'),\n",
       "  '2009-07': Timestamp('2003-10-14 00:00:00')},\n",
       " 'reg_date': datetime.datetime(1972, 1, 1, 0, 0),\n",
       " 'reg_info': {'2005-02': {'party': 'D', 'status': 'A'},\n",
       "  '2009-07': {'party': 'D', 'status': 'A'},\n",
       "  '2013-02': {'party': 'D', 'status': 'A'},\n",
       "  '2017-11': {'party': 'D', 'status': 'A'},\n",
       "  '2018-03': {'party': 'D', 'status': 'A'}},\n",
       " 'vote_info': {'GN_11_02_04': {'how': 'AP', 'party': 'D'},\n",
       "  'GN_11_02_10': {'how': 'AP', 'party': 'D'},\n",
       "  'GN_11_03_09': {'how': 'AP', 'party': 'D'},\n",
       "  'GN_11_04_08': {'how': 'AP', 'party': 'D'},\n",
       "  'GN_11_06_07': {'how': 'AP', 'party': 'D'},\n",
       "  'GN_11_06_12': {'how': 'AP', 'party': 'D'},\n",
       "  'GN_11_07_06': {'how': 'AP', 'party': 'D'},\n",
       "  'GN_11_08_05': {'how': 'AP', 'party': 'D'},\n",
       "  'GN_11_08_11': {'how': 'AP', 'party': 'D'},\n",
       "  'GN_2003': {'how': None, 'party': 'D'},\n",
       "  'PR_04_22_08': {'how': 'AP', 'party': 'D'},\n",
       "  'PR_04_24_12': {'how': 'AP', 'party': 'D'},\n",
       "  'PR_05_15_07': {'how': 'AP', 'party': 'D'},\n",
       "  'PR_05_16_06': {'how': 'AP', 'party': 'D'},\n",
       "  'PR_05_17_05': {'how': 'AP', 'party': 'D'},\n",
       "  'PR_05_17_11': {'how': 'AP', 'party': 'D'},\n",
       "  'PR_05_18_10': {'how': 'AP', 'party': 'D'},\n",
       "  'PR_05_19_09': {'how': 'AP', 'party': 'D'}}}"
      ]
     },
     "execution_count": 531,
     "metadata": {},
     "output_type": "execute_result"
    }
   ],
   "source": [
    "voter_map[test_vid]"
   ]
  },
  {
   "cell_type": "code",
   "execution_count": 500,
   "metadata": {},
   "outputs": [],
   "source": [
    "updated_vids = set()"
   ]
  },
  {
   "cell_type": "code",
   "execution_count": 527,
   "metadata": {},
   "outputs": [],
   "source": [
    "# Given a dataframe with DOB_ms, DR_ms, DLC_ms, suspect_dates_ms, and address_raw_ms for each ms in month_strs, \n",
    "# Fixup the addresses \n",
    "def fixup_addr_dates(df, month_strs, force):\n",
    "    # Hold on to sorted list of months that we're going to process\n",
    "    msms_arr = sorted(month_strs)\n",
    "    # Setup a map from [topic][month_str]->colname\n",
    "    colmap={}\n",
    "    for topic in ['DOB','DR','DLC','suspect_dates','address_raw']:\n",
    "        colmap[topic]={}\n",
    "        for month_str in month_strs:\n",
    "            colmap[topic][month_str]=\"%s_%s\"%(topic,month_str)\n",
    "            \n",
    "    for i in range(0,len(df)):\n",
    "        vid = df.iloc[i].name\n",
    "        if not vid in voter_map:\n",
    "            continue\n",
    "        vrec = voter_map[vid]\n",
    "        \n",
    "        # Hold on to sorted list of months already processed into this entry for voter_map\n",
    "        ex_ms_arr= sorted(vrec['reg_info'].keys())\n",
    "        \n",
    "        for m_i in range(0,len(msms_arr)):\n",
    "            month_str=msms_arr[m_i]\n",
    "            # Check if we have an address for this voter for this month_str\n",
    "            this_addr = df[colmap['address_raw'][month_str]].iloc[i]\n",
    "            if pd.isna(this_addr):\n",
    "                # Nope, skip this one\n",
    "                continue\n",
    "            # We have an address for this month_str for this voter, when did it take effect?\n",
    "            dr = df[colmap['DR'][month_str]].iloc[i]\n",
    "            dlc= df[colmap['DLC'][month_str]].iloc[i]\n",
    "            last_update_date = max(dr,dlc)\n",
    "            \n",
    "            # Double check that stored dr and he new dr match\n",
    "            if dr != vrec['reg_date']:\n",
    "                print \"WARNING: %s: reg_date mismatch for %s, df=%s, voter_map=%s\" %(vid, month_str,dr,vrec['reg_date'])\n",
    "                \n",
    "            # Add 'last_update_date' map to voter_map if there isn't already one\n",
    "            if not 'last_update_date' in vrec:\n",
    "                vrec['last_update_date']={month_str:last_update_date}\n",
    "            elif(not force and vrec['last_update_date'][month_str]==last_update_date):\n",
    "                # We've already reprocessed this one\n",
    "                continue\n",
    "            else:\n",
    "                vrec['last_update_date'][month_str]=last_update_date\n",
    "                \n",
    "            # Record that we updated this vid\n",
    "            updated_vids.add(vid)\n",
    "            \n",
    "            # Find entry in addresses matching this item\n",
    "            if not month_str in vrec['addresses']:\n",
    "                # Missing, add it\n",
    "                vrec['addresses'][month_str]=this_addr\n",
    "            elif(vrec['addresses'][month_str]!=this_addr):\n",
    "                print \"WARNING: %s: Address mismatch for %s, df=%s, voter_map=%s\" %(vid, month_str,this_addr,vrec['addresses'][month_str])\n",
    "                raise\n",
    "            else:\n",
    "                # Address already there and matches\n",
    "                pass\n",
    "            \n",
    "            # Check if this address for this month_str is the earliest we know of for this voter\n",
    "            if(m_i==0 and month_str <= ex_ms_arr[0]):\n",
    "                # This is the earliest\n",
    "                print \"%s: %s [%d] is earliest month with an address of %r\"% (vid, month_str,m_i,ex_ms_arr)\n",
    "                if(this_addr == vrec['addr_arr'][0]['address']):\n",
    "                    # This address matches the earliest one.  Double check it's set to start on reg_date\n",
    "                    if(vrec['addr_arr'][0]['date']!=dr):\n",
    "                        print \"WARNING: %s: First address date mismatch for %s, df=%s, voter_map=%s\" %(vid, month_str,dr,vrec['addr_arr'][0]['date'])\n",
    "                        raise\n",
    "                else:\n",
    "                    # This address doesn't match the earliest one.  \n",
    "                    print \"WARNING: %s: First address mismatch for %s, df=%s, voter_map=%s\" %(vid, month_str,this_addr,vrec['addr_arr'][0]['address'])\n",
    "                    raise\n",
    "            else:\n",
    "                # Not the earliest month_str for this voter.  Find the matching index in addr_arr\n",
    "                # and the start time of the previous address\n",
    "                print \"%s: %s [%d] is not the earliest month with an address of %r\"% (vid, month_str,m_i,ex_ms_arr)\n",
    "                last_addr_start_date=vrec['reg_date']\n",
    "                addr_found=False\n",
    "                for a_i in range(0,len(vrec['addr_arr'])):\n",
    "                    addr_rec = vrec['addr_arr'][a_i]\n",
    "\n",
    "                    # Get the start time for this address.\n",
    "                    check_addr_start_date = vrec['addr_arr'][a_i]['date']\n",
    "                    check_addr=vrec['addr_arr'][a_i]['address']\n",
    "                    \n",
    "                    # Check if this address matches this_addr\n",
    "                    if(this_addr == check_addr):\n",
    "                        addr_found=True\n",
    "                        # Yes, it matches.  Make sure last_update_date >= last_addr_start_date\n",
    "                        if(last_update_date<=last_addr_start_date):\n",
    "                            print \"WARNING: %s: Date mismatch for %s for %s, df=%s, voter_map=%s\" %(vid, month_str,this_addr,last_update_date,last_addr_start_date)\n",
    "                            raise\n",
    "                        # last_update_date is indeed after the previous address.  See if \n",
    "                        # addr_rec date should be updated\n",
    "                        if(last_update_date<check_addr_start_date):\n",
    "                            print \"%s: Updating date for %s for %s to %s from %s\" % (vid, month_str, this_addr,check_addr_start_date,last_update_date)\n",
    "                            vrec['addr_arr'][a_i]['date']=last_update_date\n",
    "                        # Exit a_i loop\n",
    "                        break\n",
    "                    # Update last_addr_start_date\n",
    "                    last_addr_start_date = check_addr_start_date\n",
    "                # End of a_i loop\n",
    "                if not addr_found:\n",
    "                    print \"WARNING: %s: Addr for %s = %s not found in voter_map['addr_arr']\" %(vid, month_str,this_addr)\n",
    "                    raise\n",
    "                   \n",
    "                \n",
    "        # End of m_i loop\n",
    "    # End of i loop\n",
    "                                \n"
   ]
  },
  {
   "cell_type": "code",
   "execution_count": 528,
   "metadata": {},
   "outputs": [
    {
     "name": "stdout",
     "output_type": "stream",
     "text": [
      "001015655-02: 2005-02 [0] is earliest month with an address of ['2005-02', '2009-07', '2013-02', '2017-11', '2018-03']\n",
      "001015655-02: 2009-07 [1] is not the earliest month with an address of ['2005-02', '2009-07', '2013-02', '2017-11', '2018-03']\n"
     ]
    }
   ],
   "source": [
    "fixup_addr_dates(v97_25_j[v97_25_j.index==test_vid],['2005-02','2009-07'],True)"
   ]
  },
  {
   "cell_type": "code",
   "execution_count": 529,
   "metadata": {},
   "outputs": [
    {
     "data": {
      "text/plain": [
       "3"
      ]
     },
     "execution_count": 529,
     "metadata": {},
     "output_type": "execute_result"
    }
   ],
   "source": [
    "len(updated_vids)"
   ]
  },
  {
   "cell_type": "code",
   "execution_count": 530,
   "metadata": {},
   "outputs": [],
   "source": [
    "v132_10 = vdf_2013_02[0:10].copy()\n",
    "v132_10['DLC']=v132_10['Date_Last_Changed'].map(dateparser.parse)\n",
    "v132_10['DOB']=v132_10['Date_Of_Birth'].map(dateparser.parse)"
   ]
  },
  {
   "cell_type": "code",
   "execution_count": 471,
   "metadata": {},
   "outputs": [],
   "source": [
    "v132_10['DR']=v132_10['Date_Registered'].map(dateparser.parse)"
   ]
  },
  {
   "cell_type": "code",
   "execution_count": 461,
   "metadata": {},
   "outputs": [],
   "source": [
    "v132_10['SCD']=v132_10['StatusChangeDate'].map(lambda x: dateparser.parse(x) if not pd.isna(x) else None)"
   ]
  },
  {
   "cell_type": "code",
   "execution_count": 475,
   "metadata": {},
   "outputs": [
    {
     "data": {
      "text/html": [
       "<div>\n",
       "<style scoped>\n",
       "    .dataframe tbody tr th:only-of-type {\n",
       "        vertical-align: middle;\n",
       "    }\n",
       "\n",
       "    .dataframe tbody tr th {\n",
       "        vertical-align: top;\n",
       "    }\n",
       "\n",
       "    .dataframe thead th {\n",
       "        text-align: right;\n",
       "    }\n",
       "</style>\n",
       "<table border=\"1\" class=\"dataframe\">\n",
       "  <thead>\n",
       "    <tr style=\"text-align: right;\">\n",
       "      <th></th>\n",
       "      <th>DOB</th>\n",
       "      <th>DR</th>\n",
       "      <th>DLC</th>\n",
       "      <th>address_raw</th>\n",
       "    </tr>\n",
       "    <tr>\n",
       "      <th>ID_Number</th>\n",
       "      <th></th>\n",
       "      <th></th>\n",
       "      <th></th>\n",
       "      <th></th>\n",
       "    </tr>\n",
       "  </thead>\n",
       "  <tbody>\n",
       "    <tr>\n",
       "      <th>103133442-02</th>\n",
       "      <td>1975-10-17</td>\n",
       "      <td>2011-07-24</td>\n",
       "      <td>2011-07-14 08:45:27</td>\n",
       "      <td>427 CENTER ST PITTSBURGH PA 15221</td>\n",
       "    </tr>\n",
       "    <tr>\n",
       "      <th>102892955-02</th>\n",
       "      <td>1991-12-28</td>\n",
       "      <td>2010-09-28</td>\n",
       "      <td>2010-09-19 08:43:36</td>\n",
       "      <td>3990 FIFTH AVE PITTSBURGH PA 15213</td>\n",
       "    </tr>\n",
       "    <tr>\n",
       "      <th>020029602-02</th>\n",
       "      <td>1938-06-15</td>\n",
       "      <td>2003-10-25</td>\n",
       "      <td>2003-10-22 15:57:08</td>\n",
       "      <td>100 SOUTHERN HILANDS DR PITTSBURGH PA 15241</td>\n",
       "    </tr>\n",
       "    <tr>\n",
       "      <th>103082320-02</th>\n",
       "      <td>1967-10-27</td>\n",
       "      <td>2011-05-21</td>\n",
       "      <td>2011-05-11 08:54:16</td>\n",
       "      <td>1283 ARROWOOD DR PITTSBURGH PA 15243</td>\n",
       "    </tr>\n",
       "  </tbody>\n",
       "</table>\n",
       "</div>"
      ],
      "text/plain": [
       "                    DOB         DR                 DLC  \\\n",
       "ID_Number                                                \n",
       "103133442-02 1975-10-17 2011-07-24 2011-07-14 08:45:27   \n",
       "102892955-02 1991-12-28 2010-09-28 2010-09-19 08:43:36   \n",
       "020029602-02 1938-06-15 2003-10-25 2003-10-22 15:57:08   \n",
       "103082320-02 1967-10-27 2011-05-21 2011-05-11 08:54:16   \n",
       "\n",
       "                                              address_raw  \n",
       "ID_Number                                                  \n",
       "103133442-02            427 CENTER ST PITTSBURGH PA 15221  \n",
       "102892955-02           3990 FIFTH AVE PITTSBURGH PA 15213  \n",
       "020029602-02  100 SOUTHERN HILANDS DR PITTSBURGH PA 15241  \n",
       "103082320-02         1283 ARROWOOD DR PITTSBURGH PA 15243  "
      ]
     },
     "execution_count": 475,
     "metadata": {},
     "output_type": "execute_result"
    }
   ],
   "source": [
    "# Make sure DOB < DR <= DLC <= monthstr_to_date_map[month_str]\n",
    "v132_10[~((v132_10['DOB']<v132_10['DR']) & (v132_10['DR']<=v132_10['DLC']) & (v132_10['DLC']<=monthstr_to_date_map['2013-02']))][['DOB','DR','DLC','address_raw']]"
   ]
  },
  {
   "cell_type": "code",
   "execution_count": 479,
   "metadata": {},
   "outputs": [],
   "source": [
    "v132_10['suspect_dates']=~((v132_10['DOB']<v132_10['DR']) & ((~pd.isna(v132_10['SCD'])&(v132_10['DR']<=v132_10['SCD'])&(v132_10['SCD']<=v132_10['DLC'])) | (pd.isna(v132_10['SCD'])&(v132_10['DR']<=v132_10['DLC']))) & (v132_10['DLC']<=monthstr_to_date_map['2013-02']))"
   ]
  },
  {
   "cell_type": "code",
   "execution_count": 481,
   "metadata": {},
   "outputs": [
    {
     "data": {
      "text/html": [
       "<div>\n",
       "<style scoped>\n",
       "    .dataframe tbody tr th:only-of-type {\n",
       "        vertical-align: middle;\n",
       "    }\n",
       "\n",
       "    .dataframe tbody tr th {\n",
       "        vertical-align: top;\n",
       "    }\n",
       "\n",
       "    .dataframe thead th {\n",
       "        text-align: right;\n",
       "    }\n",
       "</style>\n",
       "<table border=\"1\" class=\"dataframe\">\n",
       "  <thead>\n",
       "    <tr style=\"text-align: right;\">\n",
       "      <th></th>\n",
       "      <th>DOB</th>\n",
       "      <th>DR</th>\n",
       "      <th>SCD</th>\n",
       "      <th>DLC</th>\n",
       "      <th>suspect_dates</th>\n",
       "      <th>address_raw</th>\n",
       "    </tr>\n",
       "    <tr>\n",
       "      <th>ID_Number</th>\n",
       "      <th></th>\n",
       "      <th></th>\n",
       "      <th></th>\n",
       "      <th></th>\n",
       "      <th></th>\n",
       "      <th></th>\n",
       "    </tr>\n",
       "  </thead>\n",
       "  <tbody>\n",
       "    <tr>\n",
       "      <th>103133442-02</th>\n",
       "      <td>1975-10-17</td>\n",
       "      <td>2011-07-24</td>\n",
       "      <td>2011-07-24 06:00:00</td>\n",
       "      <td>2011-07-14 08:45:27</td>\n",
       "      <td>True</td>\n",
       "      <td>427 CENTER ST PITTSBURGH PA 15221</td>\n",
       "    </tr>\n",
       "    <tr>\n",
       "      <th>102892955-02</th>\n",
       "      <td>1991-12-28</td>\n",
       "      <td>2010-09-28</td>\n",
       "      <td>2010-09-28 06:00:04</td>\n",
       "      <td>2010-09-19 08:43:36</td>\n",
       "      <td>True</td>\n",
       "      <td>3990 FIFTH AVE PITTSBURGH PA 15213</td>\n",
       "    </tr>\n",
       "    <tr>\n",
       "      <th>020029602-02</th>\n",
       "      <td>1938-06-15</td>\n",
       "      <td>2003-10-25</td>\n",
       "      <td>2003-10-25 02:00:01</td>\n",
       "      <td>2003-10-22 15:57:08</td>\n",
       "      <td>True</td>\n",
       "      <td>100 SOUTHERN HILANDS DR PITTSBURGH PA 15241</td>\n",
       "    </tr>\n",
       "    <tr>\n",
       "      <th>103082320-02</th>\n",
       "      <td>1967-10-27</td>\n",
       "      <td>2011-05-21</td>\n",
       "      <td>2011-05-21 06:00:09</td>\n",
       "      <td>2011-05-11 08:54:16</td>\n",
       "      <td>True</td>\n",
       "      <td>1283 ARROWOOD DR PITTSBURGH PA 15243</td>\n",
       "    </tr>\n",
       "  </tbody>\n",
       "</table>\n",
       "</div>"
      ],
      "text/plain": [
       "                    DOB         DR                 SCD                 DLC  \\\n",
       "ID_Number                                                                    \n",
       "103133442-02 1975-10-17 2011-07-24 2011-07-24 06:00:00 2011-07-14 08:45:27   \n",
       "102892955-02 1991-12-28 2010-09-28 2010-09-28 06:00:04 2010-09-19 08:43:36   \n",
       "020029602-02 1938-06-15 2003-10-25 2003-10-25 02:00:01 2003-10-22 15:57:08   \n",
       "103082320-02 1967-10-27 2011-05-21 2011-05-21 06:00:09 2011-05-11 08:54:16   \n",
       "\n",
       "              suspect_dates                                  address_raw  \n",
       "ID_Number                                                                 \n",
       "103133442-02           True            427 CENTER ST PITTSBURGH PA 15221  \n",
       "102892955-02           True           3990 FIFTH AVE PITTSBURGH PA 15213  \n",
       "020029602-02           True  100 SOUTHERN HILANDS DR PITTSBURGH PA 15241  \n",
       "103082320-02           True         1283 ARROWOOD DR PITTSBURGH PA 15243  "
      ]
     },
     "execution_count": 481,
     "metadata": {},
     "output_type": "execute_result"
    }
   ],
   "source": [
    "# Make sure DOB < DR <= DLC <= monthstr_to_date_map[month_str],\n",
    "# and if DSC is non-null, make sure DOB < DR <= DSC <= DLC <= monthstr_to_date_map[month_str]\n",
    "v132_10[v132_10['suspect_dates']][['DOB','DR','SCD','DLC','suspect_dates','address_raw']]"
   ]
  },
  {
   "cell_type": "code",
   "execution_count": 476,
   "metadata": {},
   "outputs": [
    {
     "data": {
      "text/html": [
       "<div>\n",
       "<style scoped>\n",
       "    .dataframe tbody tr th:only-of-type {\n",
       "        vertical-align: middle;\n",
       "    }\n",
       "\n",
       "    .dataframe tbody tr th {\n",
       "        vertical-align: top;\n",
       "    }\n",
       "\n",
       "    .dataframe thead th {\n",
       "        text-align: right;\n",
       "    }\n",
       "</style>\n",
       "<table border=\"1\" class=\"dataframe\">\n",
       "  <thead>\n",
       "    <tr style=\"text-align: right;\">\n",
       "      <th></th>\n",
       "      <th>DOB</th>\n",
       "      <th>DR</th>\n",
       "      <th>SCD</th>\n",
       "      <th>DLC</th>\n",
       "      <th>address_raw</th>\n",
       "    </tr>\n",
       "    <tr>\n",
       "      <th>ID_Number</th>\n",
       "      <th></th>\n",
       "      <th></th>\n",
       "      <th></th>\n",
       "      <th></th>\n",
       "      <th></th>\n",
       "    </tr>\n",
       "  </thead>\n",
       "  <tbody>\n",
       "    <tr>\n",
       "      <th>103133442-02</th>\n",
       "      <td>1975-10-17</td>\n",
       "      <td>2011-07-24</td>\n",
       "      <td>2011-07-24 06:00:00</td>\n",
       "      <td>2011-07-14 08:45:27</td>\n",
       "      <td>427 CENTER ST PITTSBURGH PA 15221</td>\n",
       "    </tr>\n",
       "    <tr>\n",
       "      <th>102892955-02</th>\n",
       "      <td>1991-12-28</td>\n",
       "      <td>2010-09-28</td>\n",
       "      <td>2010-09-28 06:00:04</td>\n",
       "      <td>2010-09-19 08:43:36</td>\n",
       "      <td>3990 FIFTH AVE PITTSBURGH PA 15213</td>\n",
       "    </tr>\n",
       "    <tr>\n",
       "      <th>020029602-02</th>\n",
       "      <td>1938-06-15</td>\n",
       "      <td>2003-10-25</td>\n",
       "      <td>2003-10-25 02:00:01</td>\n",
       "      <td>2003-10-22 15:57:08</td>\n",
       "      <td>100 SOUTHERN HILANDS DR PITTSBURGH PA 15241</td>\n",
       "    </tr>\n",
       "    <tr>\n",
       "      <th>103082320-02</th>\n",
       "      <td>1967-10-27</td>\n",
       "      <td>2011-05-21</td>\n",
       "      <td>2011-05-21 06:00:09</td>\n",
       "      <td>2011-05-11 08:54:16</td>\n",
       "      <td>1283 ARROWOOD DR PITTSBURGH PA 15243</td>\n",
       "    </tr>\n",
       "  </tbody>\n",
       "</table>\n",
       "</div>"
      ],
      "text/plain": [
       "                    DOB         DR                 SCD                 DLC  \\\n",
       "ID_Number                                                                    \n",
       "103133442-02 1975-10-17 2011-07-24 2011-07-24 06:00:00 2011-07-14 08:45:27   \n",
       "102892955-02 1991-12-28 2010-09-28 2010-09-28 06:00:04 2010-09-19 08:43:36   \n",
       "020029602-02 1938-06-15 2003-10-25 2003-10-25 02:00:01 2003-10-22 15:57:08   \n",
       "103082320-02 1967-10-27 2011-05-21 2011-05-21 06:00:09 2011-05-11 08:54:16   \n",
       "\n",
       "                                              address_raw  \n",
       "ID_Number                                                  \n",
       "103133442-02            427 CENTER ST PITTSBURGH PA 15221  \n",
       "102892955-02           3990 FIFTH AVE PITTSBURGH PA 15213  \n",
       "020029602-02  100 SOUTHERN HILANDS DR PITTSBURGH PA 15241  \n",
       "103082320-02         1283 ARROWOOD DR PITTSBURGH PA 15243  "
      ]
     },
     "execution_count": 476,
     "metadata": {},
     "output_type": "execute_result"
    }
   ],
   "source": [
    "# Make sure DOB < DR <= DLC <= monthstr_to_date_map[month_str],\n",
    "# and if DSC is non-null, make sure DOB < DR <= DSC <= DLC <= monthstr_to_date_map[month_str]\n",
    "v132_10[~((v132_10['DOB']<v132_10['DR']) & ((~pd.isna(v132_10['SCD'])&(v132_10['DR']<=v132_10['SCD'])&(v132_10['SCD']<=v132_10['DLC'])) | (pd.isna(v132_10['SCD'])&(v132_10['DR']<=v132_10['DLC']))) & (v132_10['DLC']<=monthstr_to_date_map['2013-02']))][['DOB','DR','SCD','DLC','address_raw']]"
   ]
  },
  {
   "cell_type": "code",
   "execution_count": null,
   "metadata": {},
   "outputs": [],
   "source": []
  },
  {
   "cell_type": "code",
   "execution_count": null,
   "metadata": {},
   "outputs": [],
   "source": []
  },
  {
   "cell_type": "code",
   "execution_count": null,
   "metadata": {},
   "outputs": [],
   "source": []
  },
  {
   "cell_type": "code",
   "execution_count": null,
   "metadata": {},
   "outputs": [],
   "source": []
  },
  {
   "cell_type": "code",
   "execution_count": 27,
   "metadata": {},
   "outputs": [],
   "source": [
    "# Earliest new style column names we have are PR_04_27_04_VM in 2013-02-cd\n",
    "# Add them to vote_map\n",
    "columns_to_vote_strs('2013-02', list(vdf_2013_02))\n",
    "\n",
    "# Add the latest column names.  Happily thise overlap with the earlier ones.\n",
    "columns_to_vote_strs('2018-10', list(vdf_2018_10))\n",
    "\n",
    "# Create vote_map entries for old style Vote_History\n",
    "vote_history_index_to_vote_str=[]\n",
    "add_vote_history_map_entries()"
   ]
  },
  {
   "cell_type": "code",
   "execution_count": 666,
   "metadata": {},
   "outputs": [],
   "source": [
    "# Process voting records\n",
    "#for month_str in (['2018-03','2017-11']):\n",
    "#for month_str in (['2018-08']):\n",
    "#for month_str in (['2009-07']):\n",
    "for month_str in (['2005-02', '2013-02', '2018-10']):\n",
    "    process_all_voting_records(vdf_map[month_str],month_str)"
   ]
  },
  {
   "cell_type": "code",
   "execution_count": 28,
   "metadata": {},
   "outputs": [
    {
     "name": "stdout",
     "output_type": "stream",
     "text": [
      "2005-02: ['path', 'addr_cols', 'dtype']\n",
      "2009-07: ['path', 'addr_cols', 'dtype']\n",
      "2013-02: ['path', 'addr_cols', 'dtype']\n",
      "2017-11: ['path', 'addr_cols', 'dtype']\n",
      "2018-03: ['path', 'addr_cols', 'dtype']\n",
      "2018-08: ['path', 'addr_cols', 'dtype']\n",
      "2018-10: ['path', 'addr_cols', 'dtype']\n"
     ]
    }
   ],
   "source": [
    "# Check we have everything\n",
    "for month_str in (active_month_str_arr):\n",
    "    print \"%s: %s\" % (month_str, voters_info[month_str].keys())"
   ]
  },
  {
   "cell_type": "code",
   "execution_count": 673,
   "metadata": {},
   "outputs": [
    {
     "data": {
      "text/plain": [
       "467505"
      ]
     },
     "execution_count": 673,
     "metadata": {},
     "output_type": "execute_result"
    }
   ],
   "source": [
    "len(addr_to_mwd_map)"
   ]
  },
  {
   "cell_type": "markdown",
   "metadata": {},
   "source": [
    "# Resolve Polling places"
   ]
  },
  {
   "cell_type": "code",
   "execution_count": null,
   "metadata": {},
   "outputs": [],
   "source": [
    "vdf_2018_10"
   ]
  },
  {
   "cell_type": "code",
   "execution_count": 273,
   "metadata": {},
   "outputs": [],
   "source": [
    "# Get rid of entries from vdf_2018_10 where 'Dist1' is null\n",
    "vdf_2018_10 = vdf_2018_10[~pd.isna(vdf_2018_10['Dist1'])].copy()"
   ]
  },
  {
   "cell_type": "code",
   "execution_count": 274,
   "metadata": {},
   "outputs": [],
   "source": [
    "# Create a version of vdf_2018_10 which has one entry per 'Dist1' value\n",
    "pp_vdf_2018_10 = vdf_2018_10[~vdf_2018_10['Dist1'].duplicated()].copy()"
   ]
  },
  {
   "cell_type": "code",
   "execution_count": 277,
   "metadata": {},
   "outputs": [],
   "source": [
    "pp_vdf_2018_10['MWD_vdf'] = pp_vdf_2018_10['Dist1'].astype('int')"
   ]
  },
  {
   "cell_type": "code",
   "execution_count": 268,
   "metadata": {},
   "outputs": [
    {
     "data": {
      "text/plain": [
       "1322"
      ]
     },
     "execution_count": 268,
     "metadata": {},
     "output_type": "execute_result"
    }
   ],
   "source": [
    "len(pp_vdf_2018_10)"
   ]
  },
  {
   "cell_type": "code",
   "execution_count": 217,
   "metadata": {},
   "outputs": [],
   "source": [
    "# Strip white space from ends of 'PollingPlaceDescript'\n",
    "pp_vdf_2018_10['PollingPlaceDescript']=pp_vdf_2018_10['PollingPlaceDescript'].str.strip()"
   ]
  },
  {
   "cell_type": "code",
   "execution_count": null,
   "metadata": {},
   "outputs": [],
   "source": [
    "pp_vdf_2018_10.sort_values(['City','Dist1'])[0:2]"
   ]
  },
  {
   "cell_type": "code",
   "execution_count": 220,
   "metadata": {},
   "outputs": [],
   "source": [
    "# Create a subset of pp_2018_2017_m which only keeps one entry per LocName\n",
    "pp_2018_2017_um = pp_2018_2017_m[~pp_2018_2017_m.LocName.str.strip().duplicated()].copy()"
   ]
  },
  {
   "cell_type": "code",
   "execution_count": 221,
   "metadata": {},
   "outputs": [],
   "source": [
    "# Strip white space from ends of 'LocName'\n",
    "pp_2018_2017_um['LocName']=pp_2018_2017_um['LocName'].str.strip()"
   ]
  },
  {
   "cell_type": "code",
   "execution_count": null,
   "metadata": {},
   "outputs": [],
   "source": [
    "pp_2018_2017_um.sort_values(['City','LocName'])[0:2]"
   ]
  },
  {
   "cell_type": "code",
   "execution_count": null,
   "metadata": {},
   "outputs": [],
   "source": [
    "pp_2018_2017_um[pp_2018_2017_um.NewAddress_18_11.str.contains(\"MCKEE\")]"
   ]
  },
  {
   "cell_type": "code",
   "execution_count": 222,
   "metadata": {},
   "outputs": [
    {
     "data": {
      "text/plain": [
       "943"
      ]
     },
     "execution_count": 222,
     "metadata": {},
     "output_type": "execute_result"
    }
   ],
   "source": [
    "len(pp_2018_2017_m.LocName.unique())"
   ]
  },
  {
   "cell_type": "code",
   "execution_count": null,
   "metadata": {},
   "outputs": [],
   "source": [
    "pp_2018_2017_m[pp_2018_2017_m.MWD2==1370700]"
   ]
  },
  {
   "cell_type": "code",
   "execution_count": null,
   "metadata": {},
   "outputs": [],
   "source": [
    "pp_vdf_2018_10[pp_vdf_2018_10.MWD_vdf==1370700]"
   ]
  },
  {
   "cell_type": "code",
   "execution_count": 223,
   "metadata": {},
   "outputs": [],
   "source": [
    "pp_vdf_2018_um = pd.merge(pp_vdf_2018_10.reset_index(), pp_2018_2017_um, left_on='PollingPlaceDescript', right_on='LocName',\n",
    "                          left_index=False, right_index=False, sort=False,\n",
    "                          suffixes=('_vdf', '_pp'), copy=True, indicator=False,\n",
    "                          validate=None, how='outer')"
   ]
  },
  {
   "cell_type": "code",
   "execution_count": 285,
   "metadata": {},
   "outputs": [],
   "source": [
    "pp_vdf_2018_um = pd.merge(pp_vdf_2018_10.reset_index(), pp_2018_2017_m, left_on='MWD_vdf', right_on='MWD2',\n",
    "                          left_index=False, right_index=False, sort=False,\n",
    "                          suffixes=('_vdf', '_pp'), copy=True, indicator=False,\n",
    "                          validate=None, how='outer')"
   ]
  },
  {
   "cell_type": "code",
   "execution_count": null,
   "metadata": {},
   "outputs": [],
   "source": [
    "pp_vdf_2018_um"
   ]
  },
  {
   "cell_type": "code",
   "execution_count": null,
   "metadata": {},
   "outputs": [],
   "source": [
    "pp_vdf_2018_um[pp_vdf_2018_um.District==0.0]"
   ]
  },
  {
   "cell_type": "code",
   "execution_count": null,
   "metadata": {},
   "outputs": [],
   "source": [
    "pp_vdf_2018_um[['ID_Number','City_vdf','StreetNameComplete','House__','MWD_vdf','MuniName','MWD2','addr_changed_18','LocName','PollingPlaceDescript','PollPlaceCSZ','PollPlaceAdd','NewAddress_18_11','NewAddress_18_05']].sort_values('PollingPlaceDescript')"
   ]
  },
  {
   "cell_type": "code",
   "execution_count": null,
   "metadata": {},
   "outputs": [],
   "source": [
    "pp_vdf_2018_um[pd.isna(pp_vdf_2018_um.MWD_vdf) | pd.isna(pp_vdf_2018_um.MWD2)][['ID_Number','City_vdf','StreetNameComplete','House__','Zip_Code','MWD_vdf','MuniName','MWD2','addr_changed_18','LocName','PollingPlaceDescript','PollPlaceCSZ','PollPlaceAdd','NewAddress_18_11','NewAddress_18_05']].sort_values('PollingPlaceDescript')"
   ]
  },
  {
   "cell_type": "code",
   "execution_count": null,
   "metadata": {},
   "outputs": [],
   "source": [
    "pp_vdf_2018_um[pd.isna(pp_vdf_2018_um.MWD_vdf) | pd.isna(pp_vdf_2018_um.MWD2)][['ID_Number','City_vdf','StreetNameComplete','House__','Zip_Code','MWD_vdf','MuniName','MWD2','addr_changed_18','LocName','PollingPlaceDescript','PollPlaceCSZ','PollPlaceAdd','NewAddress_18_11','NewAddress_18_05']].sort_values('PollingPlaceDescript')"
   ]
  },
  {
   "cell_type": "code",
   "execution_count": null,
   "metadata": {},
   "outputs": [],
   "source": [
    "pp_vdf_2018_um[(pp_vdf_2018_um['addr_changed_18'].fillna(False))&~(pd.isna(pp_vdf_2018_um.StreetNameComplete))&(pp_vdf_2018_um.PollPlaceAdd.str.strip()!=pp_vdf_2018_um.NewAddress_18_11.str.strip())][['ID_Number','City_vdf','StreetNameComplete','House__','Zip_Code','MuniName','MWD2','addr_changed_18','LocName','PollingPlaceDescript','PollPlaceCSZ','PollPlaceAdd','NewAddress_18_11','NewAddress_18_05']].sort_values('PollingPlaceDescript').sort_values(['MuniName','MWD2'])"
   ]
  },
  {
   "cell_type": "code",
   "execution_count": null,
   "metadata": {},
   "outputs": [],
   "source": [
    "pp_vdf_2018_um[(pp_vdf_2018_um['PollingPlaceDescript'].fillna('').str.contains('ARARAT')) | (pp_vdf_2018_um['LocName'].fillna('').str.contains('ARARAT'))][['ID_Number','City_vdf','StreetNameComplete','House__','Zip_Code','MuniName','MWD2','addr_changed_18','LocName','PollingPlaceDescript','PollPlaceCSZ','PollPlaceAdd','NewAddress_18_11','NewAddress_18_05']].sort_values('PollingPlaceDescript').sort_values(['MuniName','MWD2'])"
   ]
  },
  {
   "cell_type": "code",
   "execution_count": null,
   "metadata": {},
   "outputs": [],
   "source": [
    "pp_vdf_2018_um[(pp_vdf_2018_um['PollingPlaceDescript'].fillna('').str.contains('ARARAT')) | (pp_vdf_2018_um['LocName'].fillna('').str.contains('ARARAT'))]"
   ]
  },
  {
   "cell_type": "code",
   "execution_count": null,
   "metadata": {},
   "outputs": [],
   "source": [
    "pp_vdf_2018_um[(pp_vdf_2018_um['ID_Number'].fillna('').str.contains('002177240-02')) | (pp_vdf_2018_um['LocName'].fillna('').str.contains('BURCHFIELD '))][['ID_Number','City_vdf','StreetNameComplete','House__','Zip_Code','MuniName','MWD2','addr_changed_18','LocName','PollingPlaceDescript','PollPlaceCSZ','PollPlaceAdd','NewAddress_18_11','NewAddress_18_05']].sort_values('PollingPlaceDescript').sort_values(['MuniName','MWD2'])"
   ]
  },
  {
   "cell_type": "code",
   "execution_count": null,
   "metadata": {},
   "outputs": [],
   "source": [
    "pp_vdf_2018_um[(pp_vdf_2018_um['PollingPlaceDescript'].fillna('').str.contains('#4')) | (pp_vdf_2018_um['LocName'].fillna('').str.contains('#4'))][['ID_Number','City_vdf','StreetNameComplete','House__','Zip_Code','MuniName','MWD2','addr_changed_18','LocName','PollingPlaceDescript','PollPlaceCSZ','PollPlaceAdd','NewAddress_18_11','NewAddress_18_05']].sort_values('PollingPlaceDescript').sort_values(['MuniName','MWD2'])"
   ]
  },
  {
   "cell_type": "code",
   "execution_count": 234,
   "metadata": {},
   "outputs": [
    {
     "data": {
      "text/plain": [
       "517"
      ]
     },
     "execution_count": 234,
     "metadata": {},
     "output_type": "execute_result"
    }
   ],
   "source": [
    "len(pp_vdf_2018_um[(~pd.isna(pp_vdf_2018_um['LocName'])&~(pd.isna(pp_vdf_2018_um['PollingPlaceDescript'])))][['ID_Number','City_vdf','StreetNameComplete','House__','Zip_Code','MuniName','MWD2','addr_changed_18','LocName','PollingPlaceDescript','PollPlaceCSZ','PollPlaceAdd','NewAddress_18_11','NewAddress_18_05']].sort_values('PollingPlaceDescript').sort_values(['MuniName','MWD2']))"
   ]
  },
  {
   "cell_type": "markdown",
   "metadata": {},
   "source": [
    "# Resolve polling places for Jala"
   ]
  },
  {
   "cell_type": "code",
   "execution_count": 362,
   "metadata": {},
   "outputs": [
    {
     "data": {
      "text/plain": [
       "[u'HOODS', u'UNIT&SIZE', u'ROSTER', u'PHASE I', u'UNDER 7']"
      ]
     },
     "execution_count": 362,
     "metadata": {},
     "output_type": "execute_result"
    }
   ],
   "source": [
    "path_jala1=\"partners/jala/SECROSTER (00000003).xlsx\"\n",
    "xls_jala1 = pd.ExcelFile(path_jala1, header=None, index_col=None)\n",
    "xls_jala1.sheet_names"
   ]
  },
  {
   "cell_type": "code",
   "execution_count": 363,
   "metadata": {},
   "outputs": [],
   "source": [
    "df_jala1=pd.read_excel(xls_jala1, 'UNDER 7', index_col=None, header=None,skiprows=1, names=['Last_Name','First_Name','House__','Apt','StreetNameComplete','Zip_Code','Under_7','Open','Unit','Size','c11','c12','c13'],dtype=str)"
   ]
  },
  {
   "cell_type": "code",
   "execution_count": 364,
   "metadata": {},
   "outputs": [],
   "source": [
    "df_jala1['Zip_Code'] = df_jala1['Zip_Code'].str.replace('-','',regex=True)\n",
    "df_jala1['CSZ']='PITTSBURGH PA'"
   ]
  },
  {
   "cell_type": "code",
   "execution_count": 365,
   "metadata": {},
   "outputs": [],
   "source": [
    "df_jala1['StreetNameComplete']=df_jala1['StreetNameComplete'].str.replace('LAMONT WAY','LAMONT ST',regex=True)\n",
    "df_jala1['StreetNameComplete']=df_jala1['StreetNameComplete'].str.replace('MORRISON ST','MORRISON AVE',regex=True)\n",
    "df_jala1['StreetNameComplete']=df_jala1['StreetNameComplete'].str.replace('KUNKLE WAY','KUNKLE AVE',regex=True)\n",
    "df_jala1['StreetNameComplete']=df_jala1['StreetNameComplete'].str.replace('MARQUIS WAY','MARQUIS ST',regex=True)\n",
    "df_jala1['StreetNameComplete']=df_jala1['StreetNameComplete'].str.replace('N. CHARLES ST','CHARLES ST N')\n",
    "df_jala1['StreetNameComplete']=df_jala1['StreetNameComplete'].str.replace('N. TAYLOR AVE','TAYLOR AVE N')\n",
    "df_jala1['StreetNameComplete']=df_jala1['StreetNameComplete'].str.replace('W. JEFFERSON ST','JEFFERSON ST W')\n",
    "if(not 'orig_house' in df_jala1.columns):\n",
    "    df_jala1['orig_house']=df_jala1['House__']\n",
    "\n",
    "df_jala1['House__']=df_jala1['House__'].str.replace('\\.5$','')"
   ]
  },
  {
   "cell_type": "code",
   "execution_count": 366,
   "metadata": {},
   "outputs": [],
   "source": [
    "df_jala1['Apt']=df_jala1['Apt'].str.replace('#','')"
   ]
  },
  {
   "cell_type": "code",
   "execution_count": 367,
   "metadata": {},
   "outputs": [],
   "source": [
    "merge_addr_colset(df_jala1, ['House__','StreetNameComplete','CSZ','Zip_Code'], 'address_raw')"
   ]
  },
  {
   "cell_type": "code",
   "execution_count": 368,
   "metadata": {},
   "outputs": [],
   "source": [
    "df_jala1['address_raw']=df_jala1['address_raw'].str.replace('\\. IVES ST',' IVES ST',regex=True)"
   ]
  },
  {
   "cell_type": "code",
   "execution_count": 369,
   "metadata": {},
   "outputs": [
    {
     "data": {
      "text/html": [
       "<div>\n",
       "<style scoped>\n",
       "    .dataframe tbody tr th:only-of-type {\n",
       "        vertical-align: middle;\n",
       "    }\n",
       "\n",
       "    .dataframe tbody tr th {\n",
       "        vertical-align: top;\n",
       "    }\n",
       "\n",
       "    .dataframe thead th {\n",
       "        text-align: right;\n",
       "    }\n",
       "</style>\n",
       "<table border=\"1\" class=\"dataframe\">\n",
       "  <thead>\n",
       "    <tr style=\"text-align: right;\">\n",
       "      <th></th>\n",
       "      <th>Last_Name</th>\n",
       "      <th>First_Name</th>\n",
       "      <th>House__</th>\n",
       "      <th>Apt</th>\n",
       "      <th>StreetNameComplete</th>\n",
       "      <th>Zip_Code</th>\n",
       "      <th>Under_7</th>\n",
       "      <th>Open</th>\n",
       "      <th>Unit</th>\n",
       "      <th>Size</th>\n",
       "      <th>c11</th>\n",
       "      <th>c12</th>\n",
       "      <th>c13</th>\n",
       "      <th>CSZ</th>\n",
       "      <th>orig_house</th>\n",
       "      <th>address_raw</th>\n",
       "    </tr>\n",
       "  </thead>\n",
       "  <tbody>\n",
       "  </tbody>\n",
       "</table>\n",
       "</div>"
      ],
      "text/plain": [
       "Empty DataFrame\n",
       "Columns: [Last_Name, First_Name, House__, Apt, StreetNameComplete, Zip_Code, Under_7, Open, Unit, Size, c11, c12, c13, CSZ, orig_house, address_raw]\n",
       "Index: []"
      ]
     },
     "execution_count": 369,
     "metadata": {},
     "output_type": "execute_result"
    }
   ],
   "source": [
    "df_jala1[df_jala1['StreetNameComplete'].str.contains('GRIFFITHS',regex=True)]"
   ]
  },
  {
   "cell_type": "code",
   "execution_count": 370,
   "metadata": {},
   "outputs": [
    {
     "data": {
      "text/html": [
       "<div>\n",
       "<style scoped>\n",
       "    .dataframe tbody tr th:only-of-type {\n",
       "        vertical-align: middle;\n",
       "    }\n",
       "\n",
       "    .dataframe tbody tr th {\n",
       "        vertical-align: top;\n",
       "    }\n",
       "\n",
       "    .dataframe thead th {\n",
       "        text-align: right;\n",
       "    }\n",
       "</style>\n",
       "<table border=\"1\" class=\"dataframe\">\n",
       "  <thead>\n",
       "    <tr style=\"text-align: right;\">\n",
       "      <th></th>\n",
       "      <th>Last_Name</th>\n",
       "      <th>First_Name</th>\n",
       "      <th>House__</th>\n",
       "      <th>Apt</th>\n",
       "      <th>StreetNameComplete</th>\n",
       "      <th>Zip_Code</th>\n",
       "      <th>Under_7</th>\n",
       "      <th>Open</th>\n",
       "      <th>Unit</th>\n",
       "      <th>Size</th>\n",
       "      <th>c11</th>\n",
       "      <th>c12</th>\n",
       "      <th>c13</th>\n",
       "      <th>CSZ</th>\n",
       "      <th>orig_house</th>\n",
       "      <th>address_raw</th>\n",
       "    </tr>\n",
       "  </thead>\n",
       "  <tbody>\n",
       "    <tr>\n",
       "      <th>134</th>\n",
       "      <td>MORRIS</td>\n",
       "      <td>GLORIA</td>\n",
       "      <td>623</td>\n",
       "      <td>nan</td>\n",
       "      <td>CHAUTAUQUA ST</td>\n",
       "      <td>15214</td>\n",
       "      <td>1</td>\n",
       "      <td>nan</td>\n",
       "      <td>03-108</td>\n",
       "      <td>4T</td>\n",
       "      <td>nan</td>\n",
       "      <td>nan</td>\n",
       "      <td>nan</td>\n",
       "      <td>PITTSBURGH PA</td>\n",
       "      <td>623.5</td>\n",
       "      <td>623 CHAUTAUQUA ST PITTSBURGH PA 15214</td>\n",
       "    </tr>\n",
       "    <tr>\n",
       "      <th>253</th>\n",
       "      <td>KLEIN</td>\n",
       "      <td>STACEY</td>\n",
       "      <td>2503</td>\n",
       "      <td>nan</td>\n",
       "      <td>CHARLES ST N</td>\n",
       "      <td>15214</td>\n",
       "      <td>2</td>\n",
       "      <td>nan</td>\n",
       "      <td>04-114</td>\n",
       "      <td>3T</td>\n",
       "      <td>nan</td>\n",
       "      <td>nan</td>\n",
       "      <td>nan</td>\n",
       "      <td>PITTSBURGH PA</td>\n",
       "      <td>2503.5</td>\n",
       "      <td>2503 CHARLES ST N PITTSBURGH PA 15214</td>\n",
       "    </tr>\n",
       "    <tr>\n",
       "      <th>256</th>\n",
       "      <td>JOHNSON</td>\n",
       "      <td>ANTOINETTE</td>\n",
       "      <td>2507</td>\n",
       "      <td>nan</td>\n",
       "      <td>CHARLES ST N</td>\n",
       "      <td>15214</td>\n",
       "      <td>1</td>\n",
       "      <td>Y</td>\n",
       "      <td>01-105</td>\n",
       "      <td>3T</td>\n",
       "      <td>nan</td>\n",
       "      <td>nan</td>\n",
       "      <td>nan</td>\n",
       "      <td>PITTSBURGH PA</td>\n",
       "      <td>2507.5</td>\n",
       "      <td>2507 CHARLES ST N PITTSBURGH PA 15214</td>\n",
       "    </tr>\n",
       "    <tr>\n",
       "      <th>258</th>\n",
       "      <td>TYLER</td>\n",
       "      <td>TASHEENA</td>\n",
       "      <td>2509</td>\n",
       "      <td>nan</td>\n",
       "      <td>CHARLES ST N</td>\n",
       "      <td>15214</td>\n",
       "      <td>2</td>\n",
       "      <td>nan</td>\n",
       "      <td>05-113</td>\n",
       "      <td>3T</td>\n",
       "      <td>nan</td>\n",
       "      <td>nan</td>\n",
       "      <td>nan</td>\n",
       "      <td>PITTSBURGH PA</td>\n",
       "      <td>2509.5</td>\n",
       "      <td>2509 CHARLES ST N PITTSBURGH PA 15214</td>\n",
       "    </tr>\n",
       "    <tr>\n",
       "      <th>262</th>\n",
       "      <td>VACANT</td>\n",
       "      <td></td>\n",
       "      <td>2515</td>\n",
       "      <td>nan</td>\n",
       "      <td>CHARLES ST N</td>\n",
       "      <td>15214</td>\n",
       "      <td></td>\n",
       "      <td>nan</td>\n",
       "      <td>01-107</td>\n",
       "      <td>3T</td>\n",
       "      <td>nan</td>\n",
       "      <td>nan</td>\n",
       "      <td>nan</td>\n",
       "      <td>PITTSBURGH PA</td>\n",
       "      <td>2515.5</td>\n",
       "      <td>2515 CHARLES ST N PITTSBURGH PA 15214</td>\n",
       "    </tr>\n",
       "    <tr>\n",
       "      <th>265</th>\n",
       "      <td>TURNER</td>\n",
       "      <td>SASHA</td>\n",
       "      <td>2519</td>\n",
       "      <td>nan</td>\n",
       "      <td>CHARLES ST N</td>\n",
       "      <td>15214</td>\n",
       "      <td></td>\n",
       "      <td>nan</td>\n",
       "      <td>05-114</td>\n",
       "      <td>3T</td>\n",
       "      <td>nan</td>\n",
       "      <td>nan</td>\n",
       "      <td>nan</td>\n",
       "      <td>PITTSBURGH PA</td>\n",
       "      <td>2519.5</td>\n",
       "      <td>2519 CHARLES ST N PITTSBURGH PA 15214</td>\n",
       "    </tr>\n",
       "    <tr>\n",
       "      <th>267</th>\n",
       "      <td>HARRIS</td>\n",
       "      <td>STACEI</td>\n",
       "      <td>2521</td>\n",
       "      <td>nan</td>\n",
       "      <td>CHARLES ST N</td>\n",
       "      <td>15214</td>\n",
       "      <td></td>\n",
       "      <td>nan</td>\n",
       "      <td>01-111</td>\n",
       "      <td>3T</td>\n",
       "      <td>nan</td>\n",
       "      <td>nan</td>\n",
       "      <td>nan</td>\n",
       "      <td>PITTSBURGH PA</td>\n",
       "      <td>2521.5</td>\n",
       "      <td>2521 CHARLES ST N PITTSBURGH PA 15214</td>\n",
       "    </tr>\n",
       "    <tr>\n",
       "      <th>270</th>\n",
       "      <td>MAALIN</td>\n",
       "      <td>ISSA</td>\n",
       "      <td>2525</td>\n",
       "      <td>nan</td>\n",
       "      <td>CHARLES ST N</td>\n",
       "      <td>15214</td>\n",
       "      <td>4</td>\n",
       "      <td>nan</td>\n",
       "      <td>08-105</td>\n",
       "      <td>3T</td>\n",
       "      <td>nan</td>\n",
       "      <td>nan</td>\n",
       "      <td>nan</td>\n",
       "      <td>PITTSBURGH PA</td>\n",
       "      <td>2525.5</td>\n",
       "      <td>2525 CHARLES ST N PITTSBURGH PA 15214</td>\n",
       "    </tr>\n",
       "    <tr>\n",
       "      <th>273</th>\n",
       "      <td>FEDD</td>\n",
       "      <td>QUIANA</td>\n",
       "      <td>2529</td>\n",
       "      <td>nan</td>\n",
       "      <td>CHARLES ST N</td>\n",
       "      <td>15214</td>\n",
       "      <td>nan</td>\n",
       "      <td>Y</td>\n",
       "      <td>01-113</td>\n",
       "      <td>3T</td>\n",
       "      <td>nan</td>\n",
       "      <td>nan</td>\n",
       "      <td>nan</td>\n",
       "      <td>PITTSBURGH PA</td>\n",
       "      <td>2529.5</td>\n",
       "      <td>2529 CHARLES ST N PITTSBURGH PA 15214</td>\n",
       "    </tr>\n",
       "    <tr>\n",
       "      <th>275</th>\n",
       "      <td>HALEY</td>\n",
       "      <td>GIANNIE</td>\n",
       "      <td>2531</td>\n",
       "      <td>nan</td>\n",
       "      <td>CHARLES ST N</td>\n",
       "      <td>15214</td>\n",
       "      <td></td>\n",
       "      <td>nan</td>\n",
       "      <td>01-114</td>\n",
       "      <td>3T</td>\n",
       "      <td>nan</td>\n",
       "      <td>nan</td>\n",
       "      <td>nan</td>\n",
       "      <td>PITTSBURGH PA</td>\n",
       "      <td>2531.5</td>\n",
       "      <td>2531 CHARLES ST N PITTSBURGH PA 15214</td>\n",
       "    </tr>\n",
       "  </tbody>\n",
       "</table>\n",
       "</div>"
      ],
      "text/plain": [
       "    Last_Name  First_Name House__  Apt StreetNameComplete Zip_Code Under_7  \\\n",
       "134    MORRIS      GLORIA     623  nan      CHAUTAUQUA ST    15214       1   \n",
       "253     KLEIN      STACEY    2503  nan       CHARLES ST N    15214       2   \n",
       "256   JOHNSON  ANTOINETTE    2507  nan       CHARLES ST N    15214       1   \n",
       "258     TYLER    TASHEENA    2509  nan       CHARLES ST N    15214       2   \n",
       "262    VACANT                2515  nan       CHARLES ST N    15214           \n",
       "265    TURNER       SASHA    2519  nan       CHARLES ST N    15214           \n",
       "267    HARRIS      STACEI    2521  nan       CHARLES ST N    15214           \n",
       "270    MAALIN        ISSA    2525  nan       CHARLES ST N    15214       4   \n",
       "273      FEDD      QUIANA    2529  nan       CHARLES ST N    15214     nan   \n",
       "275     HALEY     GIANNIE    2531  nan       CHARLES ST N    15214           \n",
       "\n",
       "    Open    Unit Size  c11  c12  c13            CSZ orig_house  \\\n",
       "134  nan  03-108   4T  nan  nan  nan  PITTSBURGH PA      623.5   \n",
       "253  nan  04-114   3T  nan  nan  nan  PITTSBURGH PA     2503.5   \n",
       "256    Y  01-105   3T  nan  nan  nan  PITTSBURGH PA     2507.5   \n",
       "258  nan  05-113   3T  nan  nan  nan  PITTSBURGH PA     2509.5   \n",
       "262  nan  01-107   3T  nan  nan  nan  PITTSBURGH PA     2515.5   \n",
       "265  nan  05-114   3T  nan  nan  nan  PITTSBURGH PA     2519.5   \n",
       "267  nan  01-111   3T  nan  nan  nan  PITTSBURGH PA     2521.5   \n",
       "270  nan  08-105   3T  nan  nan  nan  PITTSBURGH PA     2525.5   \n",
       "273    Y  01-113   3T  nan  nan  nan  PITTSBURGH PA     2529.5   \n",
       "275  nan  01-114   3T  nan  nan  nan  PITTSBURGH PA     2531.5   \n",
       "\n",
       "                               address_raw  \n",
       "134  623 CHAUTAUQUA ST PITTSBURGH PA 15214  \n",
       "253  2503 CHARLES ST N PITTSBURGH PA 15214  \n",
       "256  2507 CHARLES ST N PITTSBURGH PA 15214  \n",
       "258  2509 CHARLES ST N PITTSBURGH PA 15214  \n",
       "262  2515 CHARLES ST N PITTSBURGH PA 15214  \n",
       "265  2519 CHARLES ST N PITTSBURGH PA 15214  \n",
       "267  2521 CHARLES ST N PITTSBURGH PA 15214  \n",
       "270  2525 CHARLES ST N PITTSBURGH PA 15214  \n",
       "273  2529 CHARLES ST N PITTSBURGH PA 15214  \n",
       "275  2531 CHARLES ST N PITTSBURGH PA 15214  "
      ]
     },
     "execution_count": 370,
     "metadata": {},
     "output_type": "execute_result"
    }
   ],
   "source": [
    "df_jala1[df_jala1.orig_house!=df_jala1.House__]"
   ]
  },
  {
   "cell_type": "code",
   "execution_count": null,
   "metadata": {},
   "outputs": [],
   "source": [
    "df_jala1[df_jala1.Apt!='nan']"
   ]
  },
  {
   "cell_type": "code",
   "execution_count": null,
   "metadata": {},
   "outputs": [],
   "source": [
    "out_path = \"partners/jala/SECROSTER_VOTING_ARW.csv\"\n",
    "out = open(out_path, 'w')\n",
    "# Write out header row.  First column doesn't have a column heading, next two are lat, lon, then each year\n",
    "out.write(\"Last Name,First Name,House #,Apt,Street Name,Zip Code,Unit,Size,Reg Voter LN,Reg Voter FN,DOB,Polling Place Name,Polling Place Address, Registered at\\n\")\n",
    "\n",
    "fail_set=set()\n",
    "for i in range(0,len(df_jala1)):\n",
    "    addr=df_jala1['address_raw'].iloc[i]\n",
    "    fn = df_jala1['First_Name'].iloc[i]\n",
    "    ln = df_jala1['Last_Name'].iloc[i]\n",
    "    \n",
    "    out.write(\"%s,%s,%s,%s,%s,%s,%s,%s,,,,,,\\n\"%(ln,fn,df_jala1['orig_house'].iloc[i],\n",
    "                                                df_jala1['Apt'].iloc[i].replace('nan',''),df_jala1['StreetNameComplete'].iloc[i],\n",
    "                                                df_jala1['Zip_Code'].iloc[i],df_jala1['Unit'].iloc[i],df_jala1['Size'].iloc[i]))\n",
    "\n",
    "    if(ln == 'VACANT' or fn == 'VACANT'):\n",
    "        continue\n",
    "    \n",
    "    if(addr in addr_to_mwd_map):\n",
    "        mwd_rec = addr_to_mwd_map[addr]\n",
    "        # Special case people with .5 house numbers\n",
    "        vdf = vdf_2018_10[vdf_2018_10.address_raw==addr].sort_values(['Last_Name','First_Name'])\n",
    "        if(df_jala1['House__'].iloc[i]!=df_jala1['orig_house'].iloc[i]):\n",
    "            vdf = vdf[vdf.HouseNoSuffix=='1/2']\n",
    "            orig_addr = addr.replace(df_jala1['House__'].iloc[i],df_jala1['orig_house'].iloc[i])\n",
    "            print \"1/2 addr: %s %s '%s'\"% (df_jala1['House__'].iloc[i],df_jala1['orig_house'].iloc[i],orig_addr)\n",
    "        elif(df_jala1['Apt'].iloc[i]!='nan'):\n",
    "            apt=df_jala1['Apt'].iloc[i]\n",
    "            vdf = vdf[vdf['Apt__']==apt]\n",
    "            print \"Apt: %s\"% (df_jala1['Apt'].iloc[i])\n",
    "        else:\n",
    "            orig_addr=addr\n",
    "        print \"SUCCESS: %d: %s %s '%s' = %s\" % (i,fn,ln,orig_addr,mwd_rec['2018-10'])\n",
    "        for j in range(0,len(vdf)):\n",
    "            print \"  %s %s %s %s %s\" % (vdf.Last_Name.iloc[j], vdf.First_Name.iloc[j],vdf.Date_Of_Birth.iloc[j],vdf.PollingPlaceDescript.iloc[j], vdf.PollPlaceAdd.iloc[j])\n",
    "            out.write(\",,,,,,,,\\\"%s\\\",\\\"%s\\\",\\\"%s\\\",\\\"%s\\\",\\\"%s\\\",\\n\"%(vdf.Last_Name.iloc[j], vdf.First_Name.iloc[j],vdf.Date_Of_Birth.iloc[j],vdf.PollingPlaceDescript.iloc[j], vdf.PollPlaceAdd.iloc[j]))\n",
    "    else:\n",
    "        print \"FAILED:  %d: %s %s '%s'\" % (i,fn,ln,addr)\n",
    "        if(not addr in special_cases):\n",
    "            out.write(\",,,,,,,,\\\"NONE\\\",,,,\\n\")\n",
    "        fail_set.add(addr)\n",
    "    \n",
    "    if(addr in special_cases):\n",
    "        vdf = special_cases[addr]['vdf']\n",
    "        for j in range(0,len(vdf)):\n",
    "            print \"  %s %s %s %s %s %s\" % (vdf.Last_Name.iloc[j], vdf.First_Name.iloc[j],vdf.Date_Of_Birth.iloc[j],\n",
    "                                           vdf.PollingPlaceDescript.iloc[j], vdf.PollPlaceAdd.iloc[j], vdf.address_raw.iloc[j])\n",
    "            out.write(\",,,,,,,,\\\"%s\\\",\\\"%s\\\",\\\"%s\\\",\\\"%s\\\",\\\"%s\\\",\\\"%s\\\"\\n\"%(vdf.Last_Name.iloc[j], vdf.First_Name.iloc[j],vdf.Date_Of_Birth.iloc[j],\n",
    "                                                                             vdf.PollingPlaceDescript.iloc[j], vdf.PollPlaceAdd.iloc[j], vdf.address_raw.iloc[j]))\n"
   ]
  },
  {
   "cell_type": "code",
   "execution_count": 303,
   "metadata": {},
   "outputs": [],
   "source": [
    "ri_arr=[16, 23, 24, 27, 28, 32, 44, 45, 47, 50, 51, 52, 56, 57, 59, 60, 61,\n",
    "        66, 67, 68, 69, 72, 76, 79, 82, 83, 97, 101, 104, 106, 109, 115, 117,\n",
    "        119, 126, 130, 134, 135, 136, 137, 139, 140, 146, 147, 152, 153, 155,\n",
    "        157, 158, 159, 162, 164, 165, 167, 176, 177, 178, 179, 182, 188, 193,\n",
    "        200, 201, 202, 207, 210, 211, 213, 214, 215, 216, 220, 221, 225, 227,\n",
    "        229, 232, 233, 236, 239, 242, 243, 245, 247, 252, 253, 255, 256, 258,\n",
    "        259, 263, 265, 266, 267, 268, 269, 270, 271, 272, 273, 275, 277, 281,\n",
    "        283, 284, 285, 289, 291, 292, 293, 296, 297, 298, 300, 301, 302, 304,\n",
    "        305, 306, 309, 311, 316, 319, 320, 321, 322]"
   ]
  },
  {
   "cell_type": "code",
   "execution_count": 316,
   "metadata": {},
   "outputs": [],
   "source": [
    "name_not_good_enough_arr=[23, 24, 56, 60, 72, 82, 83, 97, 101, 106, 117, 119, 126, 135,\n",
    "                          137, 139, 140, 147, 157, 158, 162, 167, 200, 213, 221, 227, 229,\n",
    "                          233, 236, 258, 263, 268, 275, 281, 292, 302, 316, 320, 321]"
   ]
  },
  {
   "cell_type": "code",
   "execution_count": null,
   "metadata": {},
   "outputs": [],
   "source": [
    "for i in ri_arr:\n",
    "    if i in name_not_good_enough_arr:\n",
    "        continue\n",
    "    addr=df_jala1['address_raw'].iloc[i]\n",
    "    fn = df_jala1['First_Name'].iloc[i]\n",
    "    ln = df_jala1['Last_Name'].iloc[i]\n",
    "    \n",
    "    #if(addr in special_cases):\n",
    "    #    continue\n",
    "    print \"%d: %s %s '%s'\" % (i,fn,ln,addr)\n",
    "\n",
    "    vdf = vdf_2018_10[(vdf_2018_10.Last_Name==ln)&(vdf_2018_10.First_Name==fn)].sort_values(['Last_Name','First_Name'])\n",
    "    special_cases[addr]={'vdf':vdf}\n",
    "    for j in range(0,len(vdf)):\n",
    "        print \"  %s %s %s %s %s %s\" % (vdf.Last_Name.iloc[j], vdf.First_Name.iloc[j],vdf.Date_Of_Birth.iloc[j],\n",
    "                                       vdf.PollingPlaceDescript.iloc[j], vdf.PollPlaceAdd.iloc[j], vdf.address_raw.iloc[j])\n"
   ]
  },
  {
   "cell_type": "code",
   "execution_count": null,
   "metadata": {},
   "outputs": [],
   "source": [
    "for i in name_not_good_enough_arr:\n",
    "    addr=df_jala1['address_raw'].iloc[i]\n",
    "    fn = df_jala1['First_Name'].iloc[i]\n",
    "    ln = df_jala1['Last_Name'].iloc[i]\n",
    "    \n",
    "    if(addr in special_cases):\n",
    "        continue\n",
    "    print \"%d: %s %s '%s'\" % (i,fn,ln,addr)"
   ]
  },
  {
   "cell_type": "code",
   "execution_count": 297,
   "metadata": {},
   "outputs": [
    {
     "data": {
      "text/plain": [
       "Last_Name                                             KLEIN\n",
       "First_Name                                           STACEY\n",
       "House__                                                2503\n",
       "Apt                                                     nan\n",
       "StreetNameComplete                             CHARLES ST N\n",
       "Zip_Code                                              15214\n",
       "Under_7                                                   2\n",
       "Open                                                    nan\n",
       "Unit                                                 04-114\n",
       "Size                                                     3T\n",
       "c11                                                     nan\n",
       "c12                                                     nan\n",
       "c13                                                     nan\n",
       "CSZ                                           PITTSBURGH PA\n",
       "orig_house                                           2503.5\n",
       "address_raw           2503 CHARLES ST N PITTSBURGH PA 15214\n",
       "Name: 253, dtype: object"
      ]
     },
     "execution_count": 297,
     "metadata": {},
     "output_type": "execute_result"
    }
   ],
   "source": [
    "df_jala1.iloc[253]"
   ]
  },
  {
   "cell_type": "code",
   "execution_count": 300,
   "metadata": {},
   "outputs": [
    {
     "data": {
      "text/plain": [
       "'2503.5 CHARLES ST N PITTSBURGH PA 15214'"
      ]
     },
     "execution_count": 300,
     "metadata": {},
     "output_type": "execute_result"
    }
   ],
   "source": [
    "i=253\n",
    "addr='2503 CHARLES ST N PITTSBURGH PA 15214'\n",
    "orig_addr = addr.replace(df_jala1['House__'].iloc[i],df_jala1['orig_house'].iloc[i])\n",
    "orig_addr"
   ]
  },
  {
   "cell_type": "code",
   "execution_count": 287,
   "metadata": {},
   "outputs": [
    {
     "data": {
      "text/plain": [
       "{'1005 LAMONT ST PITTSBURGH PA 15212',\n",
       " '1006 LAMONT ST PITTSBURGH PA 15212',\n",
       " '1008 MORRISON AVE PITTSBURGH PA 15212',\n",
       " '1202 KUNKLE AVE PITTSBURGH PA 15212',\n",
       " '1504 ARCH ST PITTSBURGH PA 15212',\n",
       " '1522 MARQUIS ST PITTSBURGH PA 15212',\n",
       " '1608 MONTEREY ST PITTSBURGH PA 15212',\n",
       " '1701 BRIGHTON PL PITTSBURGH PA 15212',\n",
       " '214 JACKSONIA ST PITTSBURGH PA 15212',\n",
       " '623 CHAUTAUQUA ST PITTSBURGH PA 15214',\n",
       " '631 CHAUTAUQUA ST PITTSBURGH PA 15214',\n",
       " '637 CHAUTAUQUA ST PITTSBURGH PA 15214',\n",
       " '941 LAMONT ST PITTSBURGH PA 15212'}"
      ]
     },
     "execution_count": 287,
     "metadata": {},
     "output_type": "execute_result"
    }
   ],
   "source": [
    "fail_set"
   ]
  },
  {
   "cell_type": "code",
   "execution_count": 165,
   "metadata": {},
   "outputs": [
    {
     "data": {
      "text/plain": [
       "{'2018-10': '1882502'}"
      ]
     },
     "execution_count": 165,
     "metadata": {},
     "output_type": "execute_result"
    }
   ],
   "source": [
    "addr_to_mwd_map['401 JEFFERSON ST W PITTSBURGH PA 15212']"
   ]
  },
  {
   "cell_type": "code",
   "execution_count": null,
   "metadata": {},
   "outputs": [],
   "source": [
    "vdf_2018_10[(vdf_2018_10.address_raw=='2521 CHARLES ST N PITTSBURGH PA 15214')]"
   ]
  },
  {
   "cell_type": "code",
   "execution_count": null,
   "metadata": {},
   "outputs": [],
   "source": [
    "vdf_2018_10[(vdf_2018_10.address_raw.str.contains('QUA'))&(vdf_2018_10.address_raw.str.contains('15214'))&(vdf_2018_10.Last_Name.str.contains('MORRIS'))]"
   ]
  },
  {
   "cell_type": "code",
   "execution_count": null,
   "metadata": {},
   "outputs": [],
   "source": [
    "vdf_2018_10[(vdf_2018_10.Last_Name =='VALERIE')&(vdf_2018_10.First_Name.str.contains('F'))]"
   ]
  },
  {
   "cell_type": "code",
   "execution_count": null,
   "metadata": {},
   "outputs": [],
   "source": [
    "vdf_2018_10[(vdf_2018_10.address_raw.str.contains(\"918 FIRST AVE CORAOPOLIS PA\"))]"
   ]
  },
  {
   "cell_type": "code",
   "execution_count": null,
   "metadata": {},
   "outputs": [],
   "source": [
    "vdf_2018_10[(vdf_2018_10.Last_Name.str.contains('WOOD'))&(vdf_2018_10.First_Name.str.contains('^S',regex=True))&(vdf_2018_10.address_raw.str.contains('15212'))]"
   ]
  },
  {
   "cell_type": "code",
   "execution_count": null,
   "metadata": {},
   "outputs": [],
   "source": [
    "vdf_2018_10[(vdf_2018_10.Last_Name.str.contains('^WOOD'))&(vdf_2018_10.First_Name.str.contains('^S',regex=True))&(vdf_2018_10.Date_Of_Birth.str.contains('1992'))]"
   ]
  },
  {
   "cell_type": "code",
   "execution_count": null,
   "metadata": {},
   "outputs": [],
   "source": [
    "vdf_2018_10[((vdf_2018_10.Last_Name.str.contains('DROPP',regex=True))&(vdf_2018_10.First_Name.str.contains('^JESS',regex=True)))|((vdf_2018_10.Last_Name.str.contains('FARROW',regex=True))&(vdf_2018_10.First_Name.str.contains('^EUGENE',regex=True)))]"
   ]
  },
  {
   "cell_type": "code",
   "execution_count": null,
   "metadata": {},
   "outputs": [],
   "source": [
    "vdf_2018_10[((vdf_2018_10.Last_Name.str.contains('FREEMAN',regex=True))&((vdf_2018_10.First_Name.str.contains('^BRE LYN',regex=True))))|((vdf_2018_10.Last_Name.str.contains('COPELAND',regex=True))&((vdf_2018_10.First_Name.str.contains('^TAYLOR',regex=True))))]"
   ]
  },
  {
   "cell_type": "code",
   "execution_count": null,
   "metadata": {},
   "outputs": [],
   "source": [
    "vdf_2018_10[((vdf_2018_10.Last_Name.str.contains('TAYLOR',regex=True))&((vdf_2018_10.First_Name.str.contains('^LATOYA',regex=True))))|((vdf_2018_10.Last_Name.str.contains('THORNTON',regex=True))&((vdf_2018_10.First_Name.str.contains('^RALPH',regex=True))))]"
   ]
  },
  {
   "cell_type": "code",
   "execution_count": null,
   "metadata": {},
   "outputs": [],
   "source": [
    "vdf_2018_10[(vdf_2018_10.Last_Name.str.contains('WASHINGTON',regex=True))&((vdf_2018_10.First_Name.str.contains('^TRAC',regex=True)))]"
   ]
  },
  {
   "cell_type": "code",
   "execution_count": 401,
   "metadata": {},
   "outputs": [],
   "source": [
    "# Special case people who are registered at other places\n",
    "special_cases={'1008 MORRISON AVE PITTSBURGH PA 15212':{'vdf':vdf_2018_10[(vdf_2018_10.Last_Name =='MORRIS')&(vdf_2018_10.First_Name.str.contains('DANIEAL'))]},\n",
    "               '521 ALPINE AVE PITTSBURGH PA 15212':{'vdf':vdf_2018_10[(vdf_2018_10.Last_Name =='MATTHEWS')&(vdf_2018_10.First_Name.str.contains('TYONIA'))]},\n",
    "               '1011 MORRISON AVE PITTSBURGH PA 15212':{'vdf':vdf_2018_10[(vdf_2018_10.address_raw=='2521 CHARLES ST N PITTSBURGH PA 15214')]},\n",
    "               '2209 WILSON AVE PITTSBURGH PA 15214':{'vdf':vdf_2018_10[(vdf_2018_10.Last_Name =='SALTER')&(vdf_2018_10.First_Name.str.contains('^MA',regex=True))]},\n",
    "               '1504 ARCH ST PITTSBURGH PA 15212':{'vdf':vdf_2018_10[(vdf_2018_10.Last_Name =='SALTER')&(vdf_2018_10.First_Name.str.contains('^MA',regex=True))]},\n",
    "               '521 ARMANDALE ST PITTSBURGH PA 15212':{'vdf':vdf_2018_10[(vdf_2018_10.Last_Name =='WILLIAMS')&(vdf_2018_10.First_Name.str.contains('SONYA',regex=True))&(vdf_2018_10.address_raw.str.contains('15212'))]},\n",
    "               '1704 BRIGHTON PL PITTSBURGH PA 15212':{'vdf':vdf_2018_10[(vdf_2018_10.Last_Name =='WOODRUFF')&(vdf_2018_10.First_Name.str.contains('JOURDAN'))]},\n",
    "               '1740 BRIGHTON PL PITTSBURGH PA 15212':{'vdf':vdf_2018_10[(vdf_2018_10.Last_Name =='HEARD')&(vdf_2018_10.First_Name.str.contains('^RAYCHEL',regex=True))]},\n",
    "               '850 BRIGHTRIDGE ST PITTSBURGH PA 15214':{'vdf':vdf_2018_10[(vdf_2018_10.Last_Name =='KLINGER')&(vdf_2018_10.First_Name.str.contains('^B',regex=True))]},\n",
    "               '854 BRIGHTRIDGE ST PITTSBURGH PA 15214':{'vdf':vdf_2018_10[(vdf_2018_10.Last_Name =='CRAVEN')&(vdf_2018_10.First_Name.str.contains('^TAN',regex=True))]},\n",
    "               '862 BRIGHTRIDGE ST PITTSBURGH PA 15214':{'vdf':vdf_2018_10[((vdf_2018_10.Last_Name =='JENNINGS')&(vdf_2018_10.First_Name.str.contains('^TYRONE',regex=True)))|((vdf_2018_10.Last_Name =='NEAL')&(vdf_2018_10.First_Name.str.contains('^N',regex=True))&(vdf_2018_10.address_raw.str.contains('15208')))]},\n",
    "               '842 CALIFORNIA AVE PITTSBURGH PA 15212':{'vdf':vdf_2018_10[(vdf_2018_10.Last_Name =='MCFARLAND')&(vdf_2018_10.First_Name.str.contains('^SHENIKA',regex=True))]},               \n",
    "               '112 HEMLOCK ST PITTSBURGH PA 15212':{'vdf':vdf_2018_10[(vdf_2018_10.Last_Name.str.contains('SMITH',regex=True))&(vdf_2018_10.First_Name.str.contains('^RAYNELL',regex=True))]},              \n",
    "               '1011 MORRISON AVE PITTSBURGH PA 15212':{'vdf':vdf_2018_10[(vdf_2018_10.Last_Name.str.contains('CHAMBERLISS',regex=True))&(vdf_2018_10.First_Name.str.contains('^[RA]',regex=True))]},\n",
    "               '1025 MORRISON AVE PITTSBURGH PA 15212':{'vdf':vdf_2018_10[((vdf_2018_10.Last_Name.str.contains('DROPP',regex=True))&(vdf_2018_10.First_Name.str.contains('^JESS',regex=True)))|((vdf_2018_10.Last_Name.str.contains('FARROW',regex=True))&(vdf_2018_10.First_Name.str.contains('^EUGENE',regex=True)))]},\n",
    "               '1121 MORRISON AVE PITTSBURGH PA 15212':{'vdf':vdf_2018_10[(vdf_2018_10.Last_Name.str.contains('EVANS',regex=True))&((vdf_2018_10.First_Name.str.contains('^WESLEY',regex=True))| (vdf_2018_10.First_Name.str.contains('^MACON',regex=True)))]},\n",
    "               '411 TAYLOR AVE N PITTSBURGH PA 15212':{'vdf':vdf_2018_10[((vdf_2018_10.Last_Name.str.contains('TAYLOR',regex=True))&((vdf_2018_10.First_Name.str.contains('^LATOYA',regex=True))))|((vdf_2018_10.Last_Name.str.contains('THORNTON',regex=True))&((vdf_2018_10.First_Name.str.contains('^RALPH',regex=True))))]},\n",
    "               '401 JEFFERSON ST W PITTSBURGH PA 15212':{'vdf':vdf_2018_10[(vdf_2018_10.Last_Name.str.contains('WASHINGTON',regex=True))&((vdf_2018_10.First_Name.str.contains('^TRAC',regex=True)))]},              }"
   ]
  },
  {
   "cell_type": "code",
   "execution_count": 402,
   "metadata": {},
   "outputs": [
    {
     "data": {
      "text/plain": [
       "['411 TAYLOR AVE N PITTSBURGH PA 15212',\n",
       " '521 ARMANDALE ST PITTSBURGH PA 15212',\n",
       " '1740 BRIGHTON PL PITTSBURGH PA 15212',\n",
       " '1011 MORRISON AVE PITTSBURGH PA 15212',\n",
       " '1025 MORRISON AVE PITTSBURGH PA 15212',\n",
       " '1504 ARCH ST PITTSBURGH PA 15212',\n",
       " '850 BRIGHTRIDGE ST PITTSBURGH PA 15214',\n",
       " '112 HEMLOCK ST PITTSBURGH PA 15212',\n",
       " '862 BRIGHTRIDGE ST PITTSBURGH PA 15214',\n",
       " '1121 MORRISON AVE PITTSBURGH PA 15212',\n",
       " '854 BRIGHTRIDGE ST PITTSBURGH PA 15214',\n",
       " '521 ALPINE AVE PITTSBURGH PA 15212',\n",
       " '2209 WILSON AVE PITTSBURGH PA 15214',\n",
       " '1008 MORRISON AVE PITTSBURGH PA 15212',\n",
       " '401 JEFFERSON ST W PITTSBURGH PA 15212',\n",
       " '842 CALIFORNIA AVE PITTSBURGH PA 15212',\n",
       " '1704 BRIGHTON PL PITTSBURGH PA 15212']"
      ]
     },
     "execution_count": 402,
     "metadata": {},
     "output_type": "execute_result"
    }
   ],
   "source": [
    "special_cases.keys()"
   ]
  },
  {
   "cell_type": "markdown",
   "metadata": {},
   "source": [
    "# Debug"
   ]
  },
  {
   "cell_type": "code",
   "execution_count": 470,
   "metadata": {},
   "outputs": [
    {
     "ename": "KeyError",
     "evalue": "'001402317-02'",
     "output_type": "error",
     "traceback": [
      "\u001b[0;31m---------------------------------------------------------------------------\u001b[0m",
      "\u001b[0;31mKeyError\u001b[0m                                  Traceback (most recent call last)",
      "\u001b[0;32m<ipython-input-470-5cf31df458f0>\u001b[0m in \u001b[0;36m<module>\u001b[0;34m()\u001b[0m\n\u001b[0;32m----> 1\u001b[0;31m \u001b[0mvoter_map\u001b[0m\u001b[0;34m[\u001b[0m\u001b[0;34m'001402317-02'\u001b[0m\u001b[0;34m]\u001b[0m\u001b[0;34m\u001b[0m\u001b[0m\n\u001b[0m",
      "\u001b[0;31mKeyError\u001b[0m: '001402317-02'"
     ]
    }
   ],
   "source": [
    "voter_map['001402317-02']"
   ]
  },
  {
   "cell_type": "code",
   "execution_count": 178,
   "metadata": {},
   "outputs": [
    {
     "data": {
      "text/plain": [
       "{'DOB': '8/19/1944',\n",
       " 'addresses': {'2017-11': '137 WILTSHIRE CIR MONROEVILLE PA 15146',\n",
       "  '2018-03': '137 WILTSHIRE CIR MONROEVILLE PA 15146',\n",
       "  '2018-08': '137 WILTSHIRE CIR MONROEVILLE PA 15146'},\n",
       " 'reg_date': '10/1/1974',\n",
       " 'reg_info': {'2017-11': {'party': 'R', 'status': 'A'},\n",
       "  '2018-03': {'party': 'R', 'status': 'A'},\n",
       "  '2018-08': {'party': 'R', 'status': 'A'}}}"
      ]
     },
     "execution_count": 178,
     "metadata": {},
     "output_type": "execute_result"
    }
   ],
   "source": [
    "voter_map['002171843-02']"
   ]
  },
  {
   "cell_type": "code",
   "execution_count": null,
   "metadata": {},
   "outputs": [],
   "source": [
    "# Find voters who changed affilliation\n",
    "changed_vids = []\n",
    "for vid in voter_map:\n",
    "    vrec = voter_map[vid]\n",
    "    if('2018-08' in vrec['addresses'] and not '15213' in vrec['addresses']['2018-08']):\n",
    "        continue\n",
    "    affil_changed = False\n",
    "    month_strs = sorted(vrec['reg_info'].keys())\n",
    "    affil_init = vrec['reg_info'][month_strs[0]]\n",
    "    for i in range(1,len(month_strs)):\n",
    "        if(vrec['reg_info'][month_strs[i]]!=affil_init):\n",
    "            changed_vids.append(vid)\n",
    "            print \"%s changed: [%s]=%r -> [%s]=%r\\n\\t%s\\n\\t%s\" % (vid, month_strs[0],affil_init, \n",
    "                                                                  month_strs[i],vrec['reg_info'][month_strs[i]],\n",
    "                                                                  vrec['addresses'][month_strs[0]],\n",
    "                                                                  vrec['addresses'][month_strs[i]])"
   ]
  },
  {
   "cell_type": "code",
   "execution_count": 17,
   "metadata": {},
   "outputs": [],
   "source": [
    "colnames_2018 = list(vdf_2018_08)"
   ]
  },
  {
   "cell_type": "code",
   "execution_count": null,
   "metadata": {},
   "outputs": [],
   "source": [
    "colnames_2018"
   ]
  },
  {
   "cell_type": "code",
   "execution_count": null,
   "metadata": {},
   "outputs": [],
   "source": [
    "vdf_2018_08[0:10]"
   ]
  },
  {
   "cell_type": "code",
   "execution_count": 24,
   "metadata": {},
   "outputs": [],
   "source": [
    "colnames_2017 = list(vdf_2017_11)"
   ]
  },
  {
   "cell_type": "code",
   "execution_count": 25,
   "metadata": {},
   "outputs": [
    {
     "data": {
      "text/plain": [
       "['Title',\n",
       " 'Last_Name',\n",
       " 'First_Name',\n",
       " 'Middle_Name',\n",
       " 'Suffix',\n",
       " 'Sex',\n",
       " 'Date_Of_Birth',\n",
       " 'Date_Registered',\n",
       " 'Voter_Status',\n",
       " 'StatusChangeDate',\n",
       " 'Political_Party',\n",
       " 'House__',\n",
       " 'HouseNoSuffix',\n",
       " 'StreetNameComplete',\n",
       " 'Apt__',\n",
       " 'Address_Line_2',\n",
       " 'City',\n",
       " 'State',\n",
       " 'Zip_Code',\n",
       " 'MAddress_Line_1',\n",
       " 'MAddress_Line_2',\n",
       " 'MCity',\n",
       " 'MState',\n",
       " 'MZip_Code',\n",
       " 'PollingPlaceDescript',\n",
       " 'PollPlaceAdd',\n",
       " 'PollPlaceCSZ',\n",
       " 'Last_Date_Voted',\n",
       " 'Dist1',\n",
       " 'Dist2',\n",
       " 'Dist3',\n",
       " 'Dist4',\n",
       " 'Dist5',\n",
       " 'Dist6',\n",
       " 'Dist7',\n",
       " 'Dist8',\n",
       " 'Dist9',\n",
       " 'Dist10',\n",
       " 'Dist11',\n",
       " 'Dist12',\n",
       " 'Dist13',\n",
       " 'Dist14',\n",
       " 'Dist15',\n",
       " 'CustomData1',\n",
       " 'Date_Last_Changed',\n",
       " 'PhoneNumHome',\n",
       " 'GN_11_07_17',\n",
       " 'GN_11_07_17_VM',\n",
       " 'PR_05_16_17',\n",
       " 'PR_05_16_17_VM',\n",
       " 'GN_11_08_16',\n",
       " 'GN_11_08_16_VM',\n",
       " 'PR_04_26_16',\n",
       " 'PR_04_26_16_VM',\n",
       " 'GN_11_03_15',\n",
       " 'GN_11_03_15_VM',\n",
       " 'PR_05_19_15',\n",
       " 'PR_05_19_15_VM',\n",
       " 'GN_11_04_14',\n",
       " 'GN_11_04_14_VM',\n",
       " 'PR_05_20_14',\n",
       " 'PR_05_20_14_VM',\n",
       " 'GN_11_05_13',\n",
       " 'GN_11_05_13_VM',\n",
       " 'PR_05_21_13',\n",
       " 'PR_05_21_13_VM',\n",
       " 'GN_11_06_12',\n",
       " 'GN_11_06_12_VM',\n",
       " 'SP_08_07_12',\n",
       " 'SP_08_07_12_VM',\n",
       " 'PR_04_24_12',\n",
       " 'PR_04_24_12_VM',\n",
       " 'GN_11_08_11',\n",
       " 'GN_11_08_11_VM',\n",
       " 'PR_05_17_11',\n",
       " 'PR_05_17_11_VM',\n",
       " 'GN_11_02_10',\n",
       " 'GN_11_02_10_VM',\n",
       " 'PR_05_18_10',\n",
       " 'PR_05_18_10_VM',\n",
       " 'GN_11_03_09',\n",
       " 'GN_11_03_09_VM',\n",
       " 'PR_05_19_09',\n",
       " 'PR_05_19_09_VM',\n",
       " 'GN_11_04_08',\n",
       " 'GN_11_04_08_VM',\n",
       " 'PR_04_22_08',\n",
       " 'PR_04_22_08_VM',\n",
       " 'GN_11_06_07',\n",
       " 'GN_11_06_07_VM',\n",
       " 'PR_05_15_07',\n",
       " 'PR_05_15_07_VM',\n",
       " 'GN_11_07_06',\n",
       " 'GN_11_07_06_VM',\n",
       " 'PR_05_16_06',\n",
       " 'PR_05_16_06_VM',\n",
       " 'GN_11_08_05',\n",
       " 'GN_11_08_05_VM',\n",
       " 'PR_05_17_05',\n",
       " 'PR_05_17_05_VM',\n",
       " 'GN_11_02_04',\n",
       " 'GN_11_02_04_VM',\n",
       " 'PR_04_27_04',\n",
       " 'PR_04_27_04_VM',\n",
       " 'CT_11_04_03',\n",
       " 'CT_11_04_03_VM',\n",
       " 'PR_05_20_03',\n",
       " 'PR_05_20_03_VM',\n",
       " 'GN_11_05_02',\n",
       " 'GN_11_05_02_VM',\n",
       " 'PR_05_21_02',\n",
       " 'PR_05_21_02_VM',\n",
       " 'GN_11_06_01',\n",
       " 'GN_11_06_01_VM',\n",
       " 'PR_05_15_01',\n",
       " 'PR_05_15_01_VM',\n",
       " 'GN_11_07_00',\n",
       " 'GN_11_07_00_VM',\n",
       " 'PR_04_04_00',\n",
       " 'PR_04_04_00_VM',\n",
       " 'GN_11_02_99',\n",
       " 'GN_11_02_99_VM',\n",
       " 'PR_05_18_99',\n",
       " 'PR_05_18_99_VM',\n",
       " 'GN_11_03_98',\n",
       " 'GN_11_03_98_VM',\n",
       " 'address_raw']"
      ]
     },
     "execution_count": 25,
     "metadata": {},
     "output_type": "execute_result"
    }
   ],
   "source": [
    "colnames_2017"
   ]
  },
  {
   "cell_type": "code",
   "execution_count": 39,
   "metadata": {},
   "outputs": [
    {
     "data": {
      "text/plain": [
       "2837001"
      ]
     },
     "execution_count": 39,
     "metadata": {},
     "output_type": "execute_result"
    }
   ],
   "source": [
    "945667*3"
   ]
  },
  {
   "cell_type": "markdown",
   "metadata": {},
   "source": [
    "# Save/load voter_map"
   ]
  },
  {
   "cell_type": "code",
   "execution_count": 31,
   "metadata": {},
   "outputs": [],
   "source": [
    "# Try to load voter_map \n",
    "#   voter_map_17_18_18.pickle has 'reg_date' as a string\n",
    "#   voter_map_17_18_18_b.pickle has 'reg_date' converted to datetime\n",
    "#   voter_map_09_17_18_18_c.pickle has data from 2009-07\n",
    "#   voter_map_09_17_18_18_d.pickle has census_block info (full for 15213, partial for all, need to do TODO addresses)\n",
    "#   voter_map_09_17_18_18_e.pickle has census_block info for all\n",
    "#   voter_map_09_17_18_18_f.pickle has census_block latlon info for all\n",
    "#   voter_map_09_17_18_18_g.pickle has fixups from processing of 2005-02 (delete pre-1900 DOB, deal with Date_Registered < DOB+18yrs)\n",
    "#   voter_map_05_09_13_17_18_18_18_h.pickle has voter history\n",
    "#   voter_map_05_09_13_17_18_18_18_i.pickle has census_block addresses resolutions for 2005-02 and 2013-02\n",
    "\n",
    "import pickle\n",
    "voter_map_file_path = 'voters/voter_map_05_09_13_17_18_18_18_i.pickle'"
   ]
  },
  {
   "cell_type": "code",
   "execution_count": 675,
   "metadata": {},
   "outputs": [],
   "source": [
    "# Save out voter_map\n",
    "with open(voter_map_file_path, 'wb') as handle:\n",
    "    pickle.dump(voter_map, handle, protocol=pickle.HIGHEST_PROTOCOL)"
   ]
  },
  {
   "cell_type": "code",
   "execution_count": 32,
   "metadata": {},
   "outputs": [],
   "source": [
    "# Load in voter_map\n",
    "with open(voter_map_file_path, 'rb') as handle:\n",
    "    voter_map = pickle.load(handle)"
   ]
  },
  {
   "cell_type": "code",
   "execution_count": 33,
   "metadata": {},
   "outputs": [
    {
     "data": {
      "text/plain": [
       "1379040"
      ]
     },
     "execution_count": 33,
     "metadata": {},
     "output_type": "execute_result"
    }
   ],
   "source": [
    "len(voter_map)"
   ]
  },
  {
   "cell_type": "markdown",
   "metadata": {},
   "source": [
    "# Census Blocks"
   ]
  },
  {
   "cell_type": "code",
   "execution_count": 676,
   "metadata": {},
   "outputs": [],
   "source": [
    "# The following was copied from http://localhost:8820/notebooks/projects/demographics/Voting-2018-obsolete-CB-proc.ipynb\n",
    "# and has not been tested here yet\n",
    "def addr_to_coords(caddr):\n",
    "    #caddr = canonicalize_string(addr)\n",
    "    # Try coords from census first\n",
    "    coords = get_canonical_coords(caddr)\n",
    "    if(not coords):\n",
    "        # Didn't work, try google\n",
    "        coords = get_canonical_coords_google(caddr)\n",
    "    #if(coords):\n",
    "    #    print \"%s: %s\" % (caddr,coords)\n",
    "    return coords"
   ]
  },
  {
   "cell_type": "code",
   "execution_count": 51,
   "metadata": {},
   "outputs": [
    {
     "ename": "NameError",
     "evalue": "name 'vdf_2018_08' is not defined",
     "output_type": "error",
     "traceback": [
      "\u001b[0;31m---------------------------------------------------------------------------\u001b[0m",
      "\u001b[0;31mNameError\u001b[0m                                 Traceback (most recent call last)",
      "\u001b[0;32m<ipython-input-51-26d063dd9238>\u001b[0m in \u001b[0;36m<module>\u001b[0;34m()\u001b[0m\n\u001b[1;32m      1\u001b[0m \u001b[0;31m# Create a GeoDataFrame that just has voter id and raw_address and has addr_to_coords as geometry\u001b[0m\u001b[0;34m\u001b[0m\u001b[0;34m\u001b[0m\u001b[0m\n\u001b[0;32m----> 2\u001b[0;31m \u001b[0mvdf_2018_08_gj\u001b[0m \u001b[0;34m=\u001b[0m \u001b[0mgpd\u001b[0m\u001b[0;34m.\u001b[0m\u001b[0mGeoDataFrame\u001b[0m\u001b[0;34m(\u001b[0m\u001b[0mvdf_2018_08\u001b[0m\u001b[0;34m[\u001b[0m\u001b[0;34m'address_raw'\u001b[0m\u001b[0;34m]\u001b[0m\u001b[0;34m,\u001b[0m \u001b[0mgeometry\u001b[0m\u001b[0;34m=\u001b[0m\u001b[0mvdf_2018_08\u001b[0m\u001b[0;34m[\u001b[0m\u001b[0;34m'address_raw'\u001b[0m\u001b[0;34m]\u001b[0m\u001b[0;34m.\u001b[0m\u001b[0mapply\u001b[0m\u001b[0;34m(\u001b[0m\u001b[0maddr_to_coords\u001b[0m\u001b[0;34m)\u001b[0m\u001b[0;34m,\u001b[0m\u001b[0mcrs\u001b[0m\u001b[0;34m=\u001b[0m\u001b[0;34m{\u001b[0m\u001b[0;34m'init'\u001b[0m\u001b[0;34m:\u001b[0m \u001b[0;34m'epsg:4326'\u001b[0m\u001b[0;34m}\u001b[0m\u001b[0;34m)\u001b[0m\u001b[0;34m\u001b[0m\u001b[0m\n\u001b[0m",
      "\u001b[0;31mNameError\u001b[0m: name 'vdf_2018_08' is not defined"
     ]
    }
   ],
   "source": [
    "# Create a GeoDataFrame that just has voter id and raw_address and has addr_to_coords as geometry\n",
    "vdf_2018_08_gj = gpd.GeoDataFrame(vdf_2018_08['address_raw'], geometry=vdf_2018_08['address_raw'].apply(addr_to_coords),crs={'init': 'epsg:4326'})"
   ]
  },
  {
   "cell_type": "code",
   "execution_count": 52,
   "metadata": {},
   "outputs": [],
   "source": [
    "# Load geojson for census blocks in Allegheny County, find census block for each voter\n",
    "ac_cb_gj = gpd.read_file('allegheny_county/tl_2010_42003_tabblock10.geojson')"
   ]
  },
  {
   "cell_type": "code",
   "execution_count": null,
   "metadata": {},
   "outputs": [],
   "source": [
    "# Get just the ones that geolocate successfully and do a spatial join with the census blocks\n",
    "vdf_ok_2018_08_gj = vdf_2018_08_gj[(~pd.isna(vdf_2018_08_gj.geometry))]\n",
    "vdf_ok_cb_2018_08_gj = gpd.sjoin(vdf_ok_2018_08_gj, ac_cb_gj, how=\"inner\", op='within')"
   ]
  },
  {
   "cell_type": "code",
   "execution_count": null,
   "metadata": {},
   "outputs": [],
   "source": [
    "# Keep only the index, 'address_raw', 'GEOID10', and geometry \n",
    "vdf_ok_cb_2018_08_out_gj = gpd.GeoDataFrame(vdf_ok_cb_2018_08_gj[['address_raw','GEOID10']], geometry=vdf_ok_cb_2018_08_gj.geometry, crs={'init': 'epsg:4326'})"
   ]
  },
  {
   "cell_type": "code",
   "execution_count": null,
   "metadata": {},
   "outputs": [],
   "source": [
    "# Save to file\n",
    "vdf_ok_cb_2018_08_out_gj.to_file('voters/vdf_ok_cb_2018_08_out_gj.geojson', driver=\"GeoJSON\")"
   ]
  },
  {
   "cell_type": "code",
   "execution_count": 50,
   "metadata": {},
   "outputs": [],
   "source": [
    "# Load geojson for vdf_ok_cb_2018_08_out_gj\n",
    "vdf_ok_cb_2018_08_out_gj = gpd.read_file('voters/vdf_ok_cb_2018_08_out_gj.geojson')"
   ]
  },
  {
   "cell_type": "code",
   "execution_count": null,
   "metadata": {},
   "outputs": [],
   "source": [
    "# Save the ones that do not geolocate successfully \n",
    "non_geolocatable_addrs = vdf_2018_08_gj[(pd.isna(vdf_2018_08_gj.geometry))].address_raw.unique()\n",
    "numpy.save(\"voters/non_geolocatable_addrs.npy\",non_geolocatable_addrs)"
   ]
  },
  {
   "cell_type": "code",
   "execution_count": 53,
   "metadata": {},
   "outputs": [],
   "source": [
    "# Load the ones that do not geolocate successfully \n",
    "non_geolocatable_addrs = numpy.load(\"voters/non_geolocatable_addrs.npy\")"
   ]
  },
  {
   "cell_type": "code",
   "execution_count": 54,
   "metadata": {},
   "outputs": [
    {
     "data": {
      "text/plain": [
       "9258"
      ]
     },
     "execution_count": 54,
     "metadata": {},
     "output_type": "execute_result"
    }
   ],
   "source": [
    "len(non_geolocatable_addrs)"
   ]
  },
  {
   "cell_type": "code",
   "execution_count": 51,
   "metadata": {},
   "outputs": [
    {
     "data": {
      "text/plain": [
       "[u'address_raw', u'GEOID10', 'geometry']"
      ]
     },
     "execution_count": 51,
     "metadata": {},
     "output_type": "execute_result"
    }
   ],
   "source": [
    "list(vdf_ok_cb_2018_08_out_gj)"
   ]
  },
  {
   "cell_type": "code",
   "execution_count": 62,
   "metadata": {},
   "outputs": [],
   "source": [
    "# Get rid of duplicates\n",
    "addrs_to_cb_2018 = vdf_ok_cb_2018_08_out_gj[~vdf_ok_cb_2018_08_out_gj['address_raw'].duplicated()].reset_index().copy()"
   ]
  },
  {
   "cell_type": "code",
   "execution_count": 55,
   "metadata": {},
   "outputs": [
    {
     "data": {
      "text/plain": [
       "410370"
      ]
     },
     "execution_count": 55,
     "metadata": {},
     "output_type": "execute_result"
    }
   ],
   "source": [
    "len(addrs_to_cb_2018)"
   ]
  },
  {
   "cell_type": "code",
   "execution_count": null,
   "metadata": {},
   "outputs": [],
   "source": [
    "addrs_to_cb_2018[0:10]"
   ]
  },
  {
   "cell_type": "code",
   "execution_count": 55,
   "metadata": {},
   "outputs": [],
   "source": [
    "def process_addrs_to_cb_into_cam(df):\n",
    "    start=arrow.now()\n",
    "    chunk_start_time=start\n",
    "    chunk_size=1000\n",
    "\n",
    "    for i in range(0,len(df)):\n",
    "        addr = df['address_raw'].iloc[i]\n",
    "        cb = df['GEOID10'].iloc[i]\n",
    "        latlon = df.geometry[i]\n",
    "        \n",
    "        if(not addr in canonical_addr_map):\n",
    "            # This is a new entry to this canonical_addr_map\n",
    "            canonical_addr_map[addr]={'canonical_in_census_db':False,'canonical_in_google_db': False, \n",
    "                                       'census_value':None, 'google_value':None}\n",
    "\n",
    "            \n",
    "        canonical_addr_map[addr]['census_block']=cb\n",
    "        canonical_addr_map[addr]['latlon']=latlon\n",
    "        \n",
    "        # Handle periodic debug message\n",
    "        if((i%chunk_size)==0 and i>0):\n",
    "            print \"%d-%d: processing %r, %s time elapsed\" %(i-(chunk_size-1), i, addr, arrow.now()-chunk_start_time)\n",
    "            addcnt=0\n",
    "            chunk_start_time=arrow.now()\n",
    "\n",
    "    end=arrow.now()\n",
    "    print \"Processing took %s for %d addresses\" % (str(end-start), len(df))\n"
   ]
  },
  {
   "cell_type": "code",
   "execution_count": null,
   "metadata": {},
   "outputs": [],
   "source": [
    "process_addrs_to_cb_into_cam(addrs_to_cb_2018)"
   ]
  },
  {
   "cell_type": "code",
   "execution_count": null,
   "metadata": {},
   "outputs": [],
   "source": [
    "canonical_addr_map[canonical_addr_map.keys()[0]]"
   ]
  },
  {
   "cell_type": "markdown",
   "metadata": {},
   "source": [
    "# Process voter address events"
   ]
  },
  {
   "cell_type": "code",
   "execution_count": 56,
   "metadata": {},
   "outputs": [],
   "source": [
    "# Copied from http://localhost:8820/notebooks/projects/demographics/Allegheny%20County%20Property%20Assessments-AW9.ipynb#\n",
    "# As of 10/23/18, this isn't used yet.\n",
    "\n",
    "# find_event_by_date takes a list of maps containg 'date' fields and looks for one the the last one that's before\n",
    "# search_date or the first which is simultaneous (in case of multiple simultaneous records).  \n",
    "# Returns -1 if the search_date is earlier than any existing item.  It assumes that each map in the event list \n",
    "# contains a 'date' field and that they're in sorted order from earliest to latest.\n",
    "def find_event_index_by_date(event_list, search_date):\n",
    "    match_index=-1\n",
    "    for i in range(0,len(event_list)):\n",
    "        if(event_list[i]['date']<search_date):\n",
    "            # This happened before the date we're looking for, update match_index\n",
    "            match_index=i\n",
    "        elif(event_list[i]['date']==search_date):\n",
    "            # This is the first exact match, return i\n",
    "            return(i)\n",
    "        else:\n",
    "            # This happened after the date we're looking for, return match_index\n",
    "            return match_index\n",
    "    # If we get to here, there is no event after this date.  Return match_index\n",
    "    return match_index\n",
    "\n",
    "def find_event_index_by_date_and_asofdate(event_list, search_date, asofdate):\n",
    "    match_index=-1\n",
    "    for i in range(0,len(event_list)):\n",
    "        if(event_list[i]['date']<search_date):\n",
    "            # This happened before the date we're looking for, update match_index\n",
    "            match_index=i\n",
    "        elif(event_list[i]['date']==search_date):\n",
    "            if(event_list[i]['asofdate']==asofdate):\n",
    "                # This is an exact match, return i\n",
    "                return(i)\n",
    "            elif(event_list[i]['asofdate']<asofdate):\n",
    "                # This happened on the same search_date and before the asoifdate \n",
    "                # we're looking for, update match_index\n",
    "                match_index=i\n",
    "\n",
    "        else:\n",
    "            # This happened after the date we're looking for, return match_index\n",
    "            return match_index\n",
    "    # If we get to here, there is no event after this date.  Return match_index\n",
    "    return match_index\n",
    "\n",
    "# This takes an existing event list and either inserts a given event_map and returns True, or \n",
    "# decides that the event is a duplicate and returns false\n",
    "def insert_event(event_list, event_map):\n",
    "    # Find the index of the element already in the list which precedes the date in event_map.  \n",
    "    # If not found, match_index is -1, so we should insert it at the beginning of event_list and return True\n",
    "    # If found, check if the record matches what we already have (TODO: see if we need something\n",
    "    # more sophisticated than ==).  If it matches what we already have, return False and do not modify the list.\n",
    "    # If it doesn't match what we have insert it.  Note that list.insert takes the arg of the element to insert\n",
    "    # before, so we use match_index+1\n",
    "    match_index = find_event_index_by_date(event_list, event_map['date'])\n",
    "    if(match_index==-1):\n",
    "        #print \"No match, insert at beginning\"\n",
    "        # No match.  Insert at the beginning, return True\n",
    "        event_list.insert(0, event_map)\n",
    "        return True\n",
    "    # We've got a matching or preceeding event, compare it with this and any other potentially \n",
    "    # simultaneous events\n",
    "    #print \"Time match at %d\" % (match_index)\n",
    "    for i in range(match_index, len(event_list)):\n",
    "        if(event_map == event_list[i]):\n",
    "            # This is a duplicate, ignore it\n",
    "            #print \"Found duplicate match at %d (%r)\" % (i,event_list[i])\n",
    "            return False\n",
    "        elif(event_map['date'] == event_list[i]['date'] and 'asofdate' in event_map and 'asofdate' in event_list[i] and event_map['asofdate'] == event_list[i]['asofdate']):\n",
    "            # This is an event from the same sale date and asofdate, but it doesn't match exactly.\n",
    "            # Have the new event supercede the old one.  Return true.\n",
    "            #print \"Found superceded version at %d (%r -> %r)\" % (i,event_list[i], event_map)\n",
    "            event_list[i]=event_map\n",
    "            return True\n",
    "        elif(event_map['date']<event_list[i]['date'] or ((event_map['date'] == event_list[i]['date'] and 'asofdate' in event_map and 'asofdate' in event_list[i] and event_map['asofdate'] < event_list[i]['asofdate']))):\n",
    "            # We're past any simultaneous events that might have matched, continue\n",
    "            # Note that this version only works if the asofdates within a given sale date \n",
    "            # are always kept sorted\n",
    "            #print \"Hit a later item at %d (%r)\" % (i,match_index)\n",
    "            break\n",
    "        #print \"Didn't match at %d (%r), keep trying\" % (i,event_list[i])\n",
    "        match_index=i\n",
    "    # We've got a preceeding or simultaneous event that doesnt match.  Insert this \n",
    "    # new item just past match_index\n",
    "    #print \"Inserting after %d\" % (match_index)\n",
    "    event_list.insert(match_index+1, event_map)\n",
    "    return True\n",
    "\n",
    "# This takes an existing event list and either deletes a given event_map and returns True, or \n",
    "# decides that the event is not there and returns False\n",
    "def delete_event(event_list, event_map):\n",
    "    # Find the index of the element already in the list which matches or precedes the date in event_map.  \n",
    "    # If not found, match_index is -1, so we should return False\n",
    "    # If found, check if the record matches what we already have.  If it matches, delete and return True\n",
    "    match_index = find_event_index_by_date(event_list, event_map['date'])\n",
    "    if(match_index==-1 or event_map['date']>event_list[match_index]['date']):\n",
    "        #print \"No match\"        \n",
    "        return False\n",
    "    # We've got a matching date for this event, compare it with this and any other potentially \n",
    "    # simultaneous events\n",
    "    #print \"Time match at %d\" % (match_index)\n",
    "    for i in range(match_index, len(event_list)):\n",
    "        if(event_map == event_list[i]):\n",
    "            #print \"Found match at %d (%r), deleting\" % (i,event_list[i])\n",
    "            del event_list[i]\n",
    "            return True\n",
    "        elif(event_map['date'] == event_list[i]['date'] and 'asofdate' in event_map and 'asofdate' in event_list[i] and event_map['asofdate'] == event_list[i]['asofdate']):\n",
    "            # This is an event from the same sale date and asofdate, delete and return true.\n",
    "            #print \"Found matching date and asofdate at %d, deleting\" % (i)\n",
    "            del event_list[i]\n",
    "            return True\n",
    "        elif(event_map['date']<event_list[i]['date']):\n",
    "            # We're past any simultaneous events that might have matched, break and return False\n",
    "            break\n",
    "    #print \"No match\"\n",
    "    return True\n"
   ]
  },
  {
   "cell_type": "code",
   "execution_count": 679,
   "metadata": {},
   "outputs": [],
   "source": [
    "# Keep track of what addresses are in use but don't yet have a computed blockgroup\n",
    "addrs_to_blocks_todo_set=set()\n",
    "# These two arrays should both be added to at the same time, and only when an address both geolocates and isn't already in addrs_to_blocks_todo_set\n",
    "addrs_to_blocks=[]\n",
    "coords_to_blocks=[]\n",
    "# Keep track of which voter ID's need updating when a given address is mapped\n",
    "# Key is address, value is set of voter ID's\n",
    "addrs_to_blocks_update_map={}\n"
   ]
  },
  {
   "cell_type": "code",
   "execution_count": 75,
   "metadata": {},
   "outputs": [],
   "source": [
    "# Keep track of what addresses are non-geolocatable.  Initialize this from the saved list from \n",
    "# processing all of 2018-08 if it is reset.\n",
    "non_geolocatable_addrs_set=set(list(non_geolocatable_addrs))"
   ]
  },
  {
   "cell_type": "code",
   "execution_count": 238,
   "metadata": {},
   "outputs": [],
   "source": [
    "# Keep track of what addresses are geolocatable but fail to resolve into census blocks when spatially joined with the \n",
    "# Census block geojson.  This is updated by the TODO resolution steps below\n",
    "uncomputable_census_block_addrs_set=set()"
   ]
  },
  {
   "cell_type": "code",
   "execution_count": 34,
   "metadata": {},
   "outputs": [],
   "source": [
    "# Set up paths to save/restore sets accumulating what addresses fail for \n",
    "# geolocation and/or census block computation\n",
    "import pickle\n",
    "pickle_failset_path_t = 'assessments/fail_addr_{}_set.pickle'"
   ]
  },
  {
   "cell_type": "code",
   "execution_count": 444,
   "metadata": {},
   "outputs": [],
   "source": [
    "# Save out fail addr sets\n",
    "with open(pickle_failset_path_t.format('geo'), 'wb') as handle:\n",
    "    pickle.dump(non_geolocatable_addrs_set, handle, protocol=pickle.HIGHEST_PROTOCOL)\n",
    "with open(pickle_failset_path_t.format('cb'), 'wb') as handle:\n",
    "    pickle.dump(uncomputable_census_block_addrs_set, handle, protocol=pickle.HIGHEST_PROTOCOL)"
   ]
  },
  {
   "cell_type": "code",
   "execution_count": 35,
   "metadata": {},
   "outputs": [],
   "source": [
    "# Load in fail addr sets\n",
    "with open(pickle_failset_path_t.format('geo'), 'rb') as handle:\n",
    "    non_geolocatable_addrs_set = pickle.load(handle)\n",
    "with open(pickle_failset_path_t.format('cb'), 'rb') as handle:\n",
    "    uncomputable_census_block_addrs_set = pickle.load(handle)"
   ]
  },
  {
   "cell_type": "code",
   "execution_count": 36,
   "metadata": {},
   "outputs": [
    {
     "data": {
      "text/plain": [
       "11035"
      ]
     },
     "execution_count": 36,
     "metadata": {},
     "output_type": "execute_result"
    }
   ],
   "source": [
    "len(non_geolocatable_addrs_set)"
   ]
  },
  {
   "cell_type": "code",
   "execution_count": 37,
   "metadata": {},
   "outputs": [
    {
     "data": {
      "text/plain": [
       "493"
      ]
     },
     "execution_count": 37,
     "metadata": {},
     "output_type": "execute_result"
    }
   ],
   "source": [
    "len(uncomputable_census_block_addrs_set)"
   ]
  },
  {
   "cell_type": "code",
   "execution_count": 48,
   "metadata": {},
   "outputs": [],
   "source": [
    "# Only call this for addreses that are already known to be geolocatable.\n",
    "# This will add the addr to be processed into census block.\n",
    "def queue_todo_addr(vid, this_addr, coords):\n",
    "    # Check if we really need to geolocate this address\n",
    "    if(this_addr in non_geolocatable_addrs_set or this_addr in uncomputable_census_block_addrs_set or not coords):\n",
    "        # We already know it can't be geolocated\n",
    "        return False\n",
    "\n",
    "    # If addr is not already in addrs_to_blocks_todo_set, \n",
    "    # add to addrs_to_blocks_todo_set, addrs_to_blocks, and coords_to_blocks\n",
    "    # Either way, add vid to addrs_to_blocks_update_map\n",
    "    if(not this_addr in addrs_to_blocks_todo_set):\n",
    "        # Don't have this one yet\n",
    "        addrs_to_blocks_todo_set.add(this_addr)\n",
    "        addrs_to_blocks.append(this_addr)\n",
    "        coords_to_blocks.append(coords)\n",
    "        addrs_to_blocks_update_map[this_addr]=set([vid])\n",
    "\n",
    "    # We've got this one queued up to process later, add entry in addrs_to_blocks_update_map\n",
    "    addrs_to_blocks_update_map[this_addr].add(vid)\n",
    "    \n",
    "    return True\n",
    "\n",
    "# Check if this voter moved away, meaning that they were present in an earlier\n",
    "# version of the DB and disappeared in later versions\n",
    "\n",
    "def check_voter_moved_away(vid):\n",
    "    if(not vid in voter_map):\n",
    "        print \"WARNING: %s not in voter_map\" % (vid)\n",
    "        return None\n",
    "    \n",
    "    vrec = voter_map[vid]\n",
    "    \n",
    "    # Get the month_str values in sorted order for this voter\n",
    "    month_strs = sorted(vrec['reg_info'].keys())\n",
    "    last_ms = month_str[-1]\n",
    "    \n",
    "    # Find the index of the last month we have info on this voter\n",
    "    # in the active_month_str_arr listing in order all the \n",
    "    # datasets we have incorporated into voter_map\n",
    "    last_ms = month_strs[-1]\n",
    "    last_idx = active_month_str_arr.index(last_ms)\n",
    "    moved_ms=None\n",
    "    if(last_idx<len(active_month_str_arr)-1):\n",
    "        moved_ms=active_month_str_arr[last_idx+1]\n",
    "    return(moved_ms)\n",
    "\n",
    "def voter_process_address_history(vid, force_update):\n",
    "    # Given a voter ID, process the adresses into an order list of start date -> addr\n",
    "    # The start date for the first address is 'reg_date'.\n",
    "    # The start date of subsequent addresses is monthstr_to_date_map[month_str] if the address changed\n",
    "    # from before.\n",
    "    # This needs to be recomputed by force after the import of a new voter DB instance.  In that case, \n",
    "    # pass in true for force_update.  For subsequent runs it can be false and just used the cached version\n",
    "    if(not vid in voter_map):\n",
    "        return None\n",
    "    vrec = voter_map[vid]\n",
    "    if(not force_update and 'addr_arr' in vrec):\n",
    "        return vrec['addr_arr']\n",
    "\n",
    "    # Need to compute addr_arr\n",
    "    addr_arr=[]\n",
    "    \n",
    "    # Get the month_str values in sorted order for this voter\n",
    "    month_strs = sorted(vrec['reg_info'].keys())\n",
    "    last_addr = None\n",
    "    \n",
    "    # Check if this voter moved away, meaning that they were present in an earlier\n",
    "    # version of the DB and disappeared in later versions\n",
    "    \n",
    "    \n",
    "    for j in range(0,len(month_strs)):\n",
    "        month_str = month_strs[j]\n",
    "\n",
    "        # By default, use the date of the first dataset as the start date, \n",
    "        # and get the address for this month for comparing and potentially \n",
    "        # creating a new addr_arr entry\n",
    "        start_date = monthstr_to_date_map[month_str]\n",
    "        this_addr = vrec['addresses'][month_str]\n",
    "        \n",
    "        # The first address is special because it uses reg_date and the \n",
    "        # address is always used.  After that, if the address hasn't changed\n",
    "        # we just skip to the next month.\n",
    "        if(j==0):\n",
    "            start_date = vrec['reg_date']\n",
    "        else:\n",
    "            if(this_addr == last_addr):\n",
    "                # Address hasn't changed, skip to the next month_str\n",
    "                continue\n",
    "                \n",
    "        # Set last_addr to this_addr for comparison next time through loop\n",
    "        last_addr = this_addr\n",
    "                \n",
    "        # We need to create a new entry\n",
    "        addr_event={'date': start_date, 'address':this_addr}\n",
    "        \n",
    "        # Check if we need to geolocate this address\n",
    "        if(this_addr in non_geolocatable_addrs_set or this_addr in uncomputable_census_block_addrs_set):\n",
    "            # We already know it can't be geolocated\n",
    "            addr_event['census_block']=None\n",
    "            # We're done with this address now, record and go on to the next one\n",
    "            addr_arr.append(addr_event)\n",
    "            continue\n",
    "        elif(this_addr in addrs_to_blocks_todo_set):\n",
    "            # We've already got this one queued up, add entry in addrs_to_blocks_update_map\n",
    "            addrs_to_blocks_update_map[this_addr].add(vid)\n",
    "            # We're done with this address now, record and go on to the next one\n",
    "            addr_arr.append(addr_event)\n",
    "            continue\n",
    "        elif(this_addr in canonical_addr_map):\n",
    "            # We have an entry in canonical_addr_map, see if we know the census block ID\n",
    "            if('census_block' in canonical_addr_map[this_addr]):\n",
    "                addr_event['census_block']=canonical_addr_map[this_addr]['census_block']\n",
    "                # We're done with this address now, record and go on to the next one\n",
    "                addr_arr.append(addr_event)\n",
    "                continue\n",
    "            # If we don't already know the census block ID, fall through to \n",
    "            # dealing with it after this if/else section\n",
    "        else:\n",
    "            # We don't have an entry in canonical_addr_map yet.  Create one and fall through\n",
    "            canonical_addr_map[this_addr]={'canonical_in_census_db':False,'canonical_in_google_db': False,\n",
    "                                           'census_value':None, 'google_value':None}\n",
    "\n",
    "        # At this point, we know there is an entry in canonical_addr_map (which we may)\n",
    "        # have just created, and this address doesn't have a census block recorded for \n",
    "        # it yet.  Set up to calculate the census block.\n",
    "        coords = addr_to_coords(this_addr)\n",
    "        if(coords):\n",
    "            # It is geolocatable, add to addrs_to_blocks_todo_set, \n",
    "            # addrs_to_blocks, coords_to_blocks, and addrs_to_blocks_update_map\n",
    "            addrs_to_blocks_todo_set.add(this_addr)\n",
    "            addrs_to_blocks.append(this_addr)\n",
    "            coords_to_blocks.append(coords)\n",
    "            addrs_to_blocks_update_map[this_addr]=set([vid])\n",
    "            # addr_event['census_block'] will get updated later \n",
    "        else:\n",
    "            # It is not geolocatable, add to non_geolocatable_addrs_set\n",
    "            # and update canonical_addr_map to have census_block = None\n",
    "            non_geolocatable_addrs_set.add(this_addr)\n",
    "            canonical_addr_map[this_addr]['census_block']=None\n",
    "            canonical_addr_map[this_addr]['latlon']=None\n",
    "            addr_event['census_block']=None\n",
    "                    \n",
    "        addr_arr.append(addr_event)\n",
    "\n",
    "    # Done with month_str loop, add addr_arr to vrec and return\n",
    "    vrec['addr_arr']=addr_arr\n",
    "    return addr_arr\n",
    "\n",
    "# Find entries in addr_arr and make sure ones that are missing\n",
    "# 'census_block' are properly recorded in \n",
    "# addrs_to_blocks_update_map={} and friends\n",
    "def voter_crosscheck_address_history_array(vid_arr):\n",
    "    start=arrow.now()\n",
    "    chunk_start_time=start\n",
    "    chunk_size=10000\n",
    "    num_added = 0\n",
    "    \n",
    "    for i in range(0,len(vid_arr)):\n",
    "        vid = vid_arr[i]\n",
    "        if(not vid in voter_map):\n",
    "            print \"WARNING: %s not in voter_map\" % (vid)\n",
    "            continue\n",
    "        vrec = voter_map[vid]\n",
    "        if(not 'addr_arr' in vrec):\n",
    "            print \"WARNING: %s missing addr_arr in voter_map, re-run voter_process_address_history_array\" % (vid)\n",
    "            continue\n",
    "            \n",
    "        \n",
    "        addr_arr = vrec['addr_arr']\n",
    "        for j in range(0,len(addr_arr)):\n",
    "            addr_rec = vrec['addr_arr'][j]\n",
    "            if(not 'census_block' in addr_rec):\n",
    "                # Add this entry to the queue to compute census block\n",
    "                this_addr = addr_rec['address']\n",
    "                coords = addr_to_coords(this_addr)\n",
    "                if(queue_todo_addr(vid, this_addr, coords)):\n",
    "                    num_added=num_added + 1\n",
    "                else:\n",
    "                    print \"WARNING %s: '%s' lacks 'census_block' but queue_todo_addr fails, setting to None\" % (vid, this_addr)\n",
    "                    addr_rec['census_block']=None\n",
    "        \n",
    "        # Handle periodic debug message\n",
    "        if((i%chunk_size)==0 and i>0):\n",
    "            print \"%d-%d: processing %r, %d added, %s time elapsed\" %(i-(chunk_size-1), i, vid, num_added, arrow.now()-chunk_start_time)\n",
    "            addcnt=0\n",
    "            chunk_start_time=arrow.now()\n",
    "\n",
    "    end=arrow.now()\n",
    "    print \"Processing took %s for %d addresses, %d added to addrs_to_blocks_update_map\" % (str(end-start), len(vid_arr), num_added)\n",
    "\n",
    "def voter_process_address_history_array(vid_arr, force_update):\n",
    "    start=arrow.now()\n",
    "    chunk_start_time=start\n",
    "    chunk_size=10000\n",
    "\n",
    "    for i in range(0,len(vid_arr)):\n",
    "        vid = vid_arr[i]\n",
    "        voter_process_address_history(vid, force_update)\n",
    "        \n",
    "        # Handle periodic debug message\n",
    "        if((i%chunk_size)==0 and i>0):\n",
    "            print \"%d-%d: processing %r, %d in todo set, %d non-geolocatable, %s time elapsed\" %(i-(chunk_size-1), i, vid, \n",
    "                                                                                                 len(addrs_to_blocks_todo_set), len(non_geolocatable_addrs_set),\n",
    "                                                                                                 arrow.now()-chunk_start_time)\n",
    "            addcnt=0\n",
    "            chunk_start_time=arrow.now()\n",
    "\n",
    "    end=arrow.now()\n",
    "    print \"Processing took %s for %d addresses\" % (str(end-start), len(vid_arr))"
   ]
  },
  {
   "cell_type": "code",
   "execution_count": 108,
   "metadata": {},
   "outputs": [],
   "source": [
    "all_vids=sorted(voter_map.keys())"
   ]
  },
  {
   "cell_type": "code",
   "execution_count": null,
   "metadata": {},
   "outputs": [],
   "source": [
    "voter_process_address_history_array(all_vids,True)"
   ]
  },
  {
   "cell_type": "code",
   "execution_count": null,
   "metadata": {},
   "outputs": [],
   "source": [
    "voter_crosscheck_address_history_array(all_vids)"
   ]
  },
  {
   "cell_type": "code",
   "execution_count": 113,
   "metadata": {},
   "outputs": [
    {
     "data": {
      "text/plain": [
       "0"
      ]
     },
     "execution_count": 113,
     "metadata": {},
     "output_type": "execute_result"
    }
   ],
   "source": [
    "len(addrs_to_blocks_todo_set)"
   ]
  },
  {
   "cell_type": "code",
   "execution_count": 63,
   "metadata": {},
   "outputs": [
    {
     "data": {
      "text/plain": [
       "967"
      ]
     },
     "execution_count": 63,
     "metadata": {},
     "output_type": "execute_result"
    }
   ],
   "source": [
    "len(addrs_to_blocks)"
   ]
  },
  {
   "cell_type": "code",
   "execution_count": 76,
   "metadata": {},
   "outputs": [
    {
     "data": {
      "text/plain": [
       "['5847 MERIDIAN RD GIBSONIA PA 15044']"
      ]
     },
     "execution_count": 76,
     "metadata": {},
     "output_type": "execute_result"
    }
   ],
   "source": [
    "addrs_to_blocks"
   ]
  },
  {
   "cell_type": "code",
   "execution_count": 79,
   "metadata": {},
   "outputs": [
    {
     "data": {
      "text/plain": [
       "{'canonical_in_census_db': True,\n",
       " 'canonical_in_google_db': True,\n",
       " 'census_block': u'420034080012051',\n",
       " 'census_value': u'{\"result\": {\"addressMatches\": [{\"tigerLine\": {\"tigerLineId\": \"630042568\", \"side\": \"R\"}, \"coordinates\": {\"y\": 40.65425, \"x\": -79.960495}, \"matchedAddress\": \"5847 MERIDIAN RD, GIBSONIA, PA, 15044\", \"addressComponents\": {\"suffixType\": \"RD\", \"zip\": \"15044\", \"toAddress\": \"5829\", \"preQualifier\": \"\", \"preDirection\": \"\", \"city\": \"GIBSONIA\", \"preType\": \"\", \"state\": \"PA\", \"suffixQualifier\": \"\", \"fromAddress\": \"5849\", \"streetName\": \"MERIDIAN\", \"suffixDirection\": \"\"}}], \"input\": {\"benchmark\": {\"benchmarkName\": \"Public_AR_Current\", \"id\": \"4\", \"isDefault\": false, \"benchmarkDescription\": \"Public Address Ranges - Current Benchmark\"}, \"address\": {\"address\": \"5847 MERIDIAN RD GIBSONIA PA 15044\"}}}}',\n",
       " 'google_value': u'{\"status\": \"OK\", \"results\": [{\"geometry\": {\"location_type\": \"ROOFTOP\", \"bounds\": {\"northeast\": {\"lat\": 40.6541931, \"lng\": -79.96048669999999}, \"southwest\": {\"lat\": 40.6534307, \"lng\": -79.9613317}}, \"viewport\": {\"northeast\": {\"lat\": 40.6551608802915, \"lng\": -79.95956021970848}, \"southwest\": {\"lat\": 40.6524629197085, \"lng\": -79.9622581802915}}, \"location\": {\"lat\": 40.6538573, \"lng\": -79.9609746}}, \"address_components\": [{\"long_name\": \"5847\", \"types\": [\"street_number\"], \"short_name\": \"5847\"}, {\"long_name\": \"South Meridian Road\", \"types\": [\"route\"], \"short_name\": \"S Meridian Rd\"}, {\"long_name\": \"Gibsonia\", \"types\": [\"locality\", \"political\"], \"short_name\": \"Gibsonia\"}, {\"long_name\": \"Richland Township\", \"types\": [\"administrative_area_level_3\", \"political\"], \"short_name\": \"Richland Township\"}, {\"long_name\": \"Allegheny County\", \"types\": [\"administrative_area_level_2\", \"political\"], \"short_name\": \"Allegheny County\"}, {\"long_name\": \"Pennsylvania\", \"types\": [\"administrative_area_level_1\", \"political\"], \"short_name\": \"PA\"}, {\"long_name\": \"United States\", \"types\": [\"country\", \"political\"], \"short_name\": \"US\"}, {\"long_name\": \"15044\", \"types\": [\"postal_code\"], \"short_name\": \"15044\"}, {\"long_name\": \"9450\", \"types\": [\"postal_code_suffix\"], \"short_name\": \"9450\"}], \"place_id\": \"ChIJ7R3aS6aPNIgR0Azr6KHhiys\", \"formatted_address\": \"5847 S Meridian Rd, Gibsonia, PA 15044, USA\", \"types\": [\"premise\"]}]}',\n",
       " 'latlon': <shapely.geometry.point.Point at 0x7f4d0d9ccb10>}"
      ]
     },
     "execution_count": 79,
     "metadata": {},
     "output_type": "execute_result"
    }
   ],
   "source": [
    "canonical_addr_map['5847 MERIDIAN RD GIBSONIA PA 15044']"
   ]
  },
  {
   "cell_type": "code",
   "execution_count": 80,
   "metadata": {},
   "outputs": [
    {
     "data": {
      "text/plain": [
       "['001002451-02']"
      ]
     },
     "execution_count": 80,
     "metadata": {},
     "output_type": "execute_result"
    }
   ],
   "source": [
    "all_vids[0:1]"
   ]
  },
  {
   "cell_type": "code",
   "execution_count": 84,
   "metadata": {},
   "outputs": [
    {
     "data": {
      "text/plain": [
       "True"
      ]
     },
     "execution_count": 84,
     "metadata": {},
     "output_type": "execute_result"
    }
   ],
   "source": [
    "'census_block' in voter_map['001002451-02']['addr_arr'][0]"
   ]
  },
  {
   "cell_type": "code",
   "execution_count": 23,
   "metadata": {},
   "outputs": [
    {
     "data": {
      "text/plain": [
       "{'DOB': '4/15/1986',\n",
       " 'addr_arr': [{'address': '807 BEACON CIR OAKDALE PA 15071',\n",
       "   'census_block': u'420034580002086',\n",
       "   'date': datetime.datetime(2018, 8, 24, 0, 0)}],\n",
       " 'addresses': {'2018-08': '807 BEACON CIR OAKDALE PA 15071'},\n",
       " 'reg_date': datetime.datetime(2018, 8, 24, 0, 0),\n",
       " 'reg_info': {'2018-08': {'party': 'NF', 'status': 'A'}}}"
      ]
     },
     "execution_count": 23,
     "metadata": {},
     "output_type": "execute_result"
    }
   ],
   "source": [
    "voter_map['109188400-02']"
   ]
  },
  {
   "cell_type": "code",
   "execution_count": 24,
   "metadata": {},
   "outputs": [
    {
     "data": {
      "text/plain": [
       "True"
      ]
     },
     "execution_count": 24,
     "metadata": {},
     "output_type": "execute_result"
    }
   ],
   "source": [
    "'807 BEACON CIR OAKDALE PA 15071' in non_geolocatable_addrs_set"
   ]
  },
  {
   "cell_type": "code",
   "execution_count": 25,
   "metadata": {},
   "outputs": [
    {
     "data": {
      "text/plain": [
       "False"
      ]
     },
     "execution_count": 25,
     "metadata": {},
     "output_type": "execute_result"
    }
   ],
   "source": [
    "'807 BEACON CIR OAKDALE PA 15071' in uncomputable_census_block_addrs_set"
   ]
  },
  {
   "cell_type": "code",
   "execution_count": 50,
   "metadata": {},
   "outputs": [
    {
     "data": {
      "text/plain": [
       "{u'results': [{u'address_components': [{u'long_name': u'807',\n",
       "     u'short_name': u'807',\n",
       "     u'types': [u'street_number']},\n",
       "    {u'long_name': u'Beacon Circle',\n",
       "     u'short_name': u'Beacon Cir',\n",
       "     u'types': [u'route']},\n",
       "    {u'long_name': u'Oakdale',\n",
       "     u'short_name': u'Oakdale',\n",
       "     u'types': [u'locality', u'political']},\n",
       "    {u'long_name': u'Collier Township',\n",
       "     u'short_name': u'Collier Township',\n",
       "     u'types': [u'administrative_area_level_3', u'political']},\n",
       "    {u'long_name': u'Allegheny County',\n",
       "     u'short_name': u'Allegheny County',\n",
       "     u'types': [u'administrative_area_level_2', u'political']},\n",
       "    {u'long_name': u'Pennsylvania',\n",
       "     u'short_name': u'PA',\n",
       "     u'types': [u'administrative_area_level_1', u'political']},\n",
       "    {u'long_name': u'United States',\n",
       "     u'short_name': u'US',\n",
       "     u'types': [u'country', u'political']},\n",
       "    {u'long_name': u'15071',\n",
       "     u'short_name': u'15071',\n",
       "     u'types': [u'postal_code']}],\n",
       "   u'formatted_address': u'807 Beacon Cir, Oakdale, PA 15071, USA',\n",
       "   u'geometry': {u'bounds': {u'northeast': {u'lat': 40.3930951,\n",
       "      u'lng': -80.1582646},\n",
       "     u'southwest': {u'lat': 40.3929375, u'lng': -80.1584087}},\n",
       "    u'location': {u'lat': 40.393051, u'lng': -80.15833959999999},\n",
       "    u'location_type': u'ROOFTOP',\n",
       "    u'viewport': {u'northeast': {u'lat': 40.39436528029149,\n",
       "      u'lng': -80.1569876697085},\n",
       "     u'southwest': {u'lat': 40.3916673197085, u'lng': -80.1596856302915}}},\n",
       "   u'place_id': u'ChIJYR1LvcZZNIgR6VSw3nXXpAo',\n",
       "   u'types': [u'premise']}],\n",
       " u'status': u'OK'}"
      ]
     },
     "execution_count": 50,
     "metadata": {},
     "output_type": "execute_result"
    }
   ],
   "source": [
    "geocode_address_google('807 BEACON CIR OAKDALE PA 15071')"
   ]
  },
  {
   "cell_type": "code",
   "execution_count": 37,
   "metadata": {},
   "outputs": [],
   "source": [
    "get_canonical_coords('807 BEACON CIR OAKDALE PA 15071')"
   ]
  },
  {
   "cell_type": "code",
   "execution_count": 41,
   "metadata": {},
   "outputs": [
    {
     "data": {
      "image/svg+xml": [
       "<svg xmlns=\"http://www.w3.org/2000/svg\" xmlns:xlink=\"http://www.w3.org/1999/xlink\" width=\"100.0\" height=\"100.0\" viewBox=\"-81.1583396 39.393051 2.0 2.0\" preserveAspectRatio=\"xMinYMin meet\"><g transform=\"matrix(1,0,0,-1,0,80.786102)\"><circle cx=\"-80.1583396\" cy=\"40.393051\" r=\"0.06\" stroke=\"#555555\" stroke-width=\"0.02\" fill=\"#66cc99\" opacity=\"0.6\" /></g></svg>"
      ],
      "text/plain": [
       "<shapely.geometry.point.Point at 0x7f4d2ce24510>"
      ]
     },
     "execution_count": 41,
     "metadata": {},
     "output_type": "execute_result"
    }
   ],
   "source": [
    "get_canonical_coords_google('807 BEACON CIR OAKDALE PA 15071')"
   ]
  },
  {
   "cell_type": "code",
   "execution_count": 53,
   "metadata": {},
   "outputs": [
    {
     "data": {
      "image/svg+xml": [
       "<svg xmlns=\"http://www.w3.org/2000/svg\" xmlns:xlink=\"http://www.w3.org/1999/xlink\" width=\"100.0\" height=\"100.0\" viewBox=\"-81.1583396 39.393051 2.0 2.0\" preserveAspectRatio=\"xMinYMin meet\"><g transform=\"matrix(1,0,0,-1,0,80.786102)\"><circle cx=\"-80.1583396\" cy=\"40.393051\" r=\"0.06\" stroke=\"#555555\" stroke-width=\"0.02\" fill=\"#66cc99\" opacity=\"0.6\" /></g></svg>"
      ],
      "text/plain": [
       "<shapely.geometry.point.Point at 0x7f4d993a3450>"
      ]
     },
     "execution_count": 53,
     "metadata": {},
     "output_type": "execute_result"
    }
   ],
   "source": [
    "addr_to_coords('807 BEACON CIR OAKDALE PA 15071')"
   ]
  },
  {
   "cell_type": "code",
   "execution_count": 51,
   "metadata": {},
   "outputs": [
    {
     "data": {
      "text/plain": [
       "{'canonical_in_census_db': False,\n",
       " 'canonical_in_google_db': True,\n",
       " 'census_block': u'420034580002086',\n",
       " 'census_value': None,\n",
       " 'google_value': u'{\"status\": \"OK\", \"results\": [{\"geometry\": {\"location_type\": \"ROOFTOP\", \"bounds\": {\"northeast\": {\"lat\": 40.3930951, \"lng\": -80.1582646}, \"southwest\": {\"lat\": 40.3929375, \"lng\": -80.1584087}}, \"viewport\": {\"northeast\": {\"lat\": 40.39436528029149, \"lng\": -80.1569876697085}, \"southwest\": {\"lat\": 40.3916673197085, \"lng\": -80.1596856302915}}, \"location\": {\"lat\": 40.393051, \"lng\": -80.15833959999999}}, \"address_components\": [{\"long_name\": \"807\", \"types\": [\"street_number\"], \"short_name\": \"807\"}, {\"long_name\": \"Beacon Circle\", \"types\": [\"route\"], \"short_name\": \"Beacon Cir\"}, {\"long_name\": \"Oakdale\", \"types\": [\"locality\", \"political\"], \"short_name\": \"Oakdale\"}, {\"long_name\": \"Collier Township\", \"types\": [\"administrative_area_level_3\", \"political\"], \"short_name\": \"Collier Township\"}, {\"long_name\": \"Allegheny County\", \"types\": [\"administrative_area_level_2\", \"political\"], \"short_name\": \"Allegheny County\"}, {\"long_name\": \"Pennsylvania\", \"types\": [\"administrative_area_level_1\", \"political\"], \"short_name\": \"PA\"}, {\"long_name\": \"United States\", \"types\": [\"country\", \"political\"], \"short_name\": \"US\"}, {\"long_name\": \"15071\", \"types\": [\"postal_code\"], \"short_name\": \"15071\"}], \"place_id\": \"ChIJYR1LvcZZNIgR6VSw3nXXpAo\", \"formatted_address\": \"807 Beacon Cir, Oakdale, PA 15071, USA\", \"types\": [\"premise\"]}]}'}"
      ]
     },
     "execution_count": 51,
     "metadata": {},
     "output_type": "execute_result"
    }
   ],
   "source": [
    "canonical_addr_map['807 BEACON CIR OAKDALE PA 15071']"
   ]
  },
  {
   "cell_type": "code",
   "execution_count": 28,
   "metadata": {},
   "outputs": [
    {
     "data": {
      "image/svg+xml": [
       "<svg xmlns=\"http://www.w3.org/2000/svg\" xmlns:xlink=\"http://www.w3.org/1999/xlink\" width=\"100.0\" height=\"100.0\" viewBox=\"-81.1583396 39.393051 2.0 2.0\" preserveAspectRatio=\"xMinYMin meet\"><g transform=\"matrix(1,0,0,-1,0,80.786102)\"><circle cx=\"-80.1583396\" cy=\"40.393051\" r=\"0.06\" stroke=\"#555555\" stroke-width=\"0.02\" fill=\"#66cc99\" opacity=\"0.6\" /></g></svg>"
      ],
      "text/plain": [
       "<shapely.geometry.point.Point at 0x7f4d2ce24dd0>"
      ]
     },
     "execution_count": 28,
     "metadata": {},
     "output_type": "execute_result"
    }
   ],
   "source": [
    "addr_to_coords('807 BEACON CIR OAKDALE PA 15071')"
   ]
  },
  {
   "cell_type": "code",
   "execution_count": 29,
   "metadata": {},
   "outputs": [
    {
     "data": {
      "text/plain": [
       "{'DOB': '4/15/1986',\n",
       " 'addr_arr': [{'address': '807 BEACON CIR OAKDALE PA 15071',\n",
       "   'census_block': u'420034580002086',\n",
       "   'date': datetime.datetime(2018, 8, 24, 0, 0)}],\n",
       " 'addresses': {'2018-08': '807 BEACON CIR OAKDALE PA 15071'},\n",
       " 'reg_date': datetime.datetime(2018, 8, 24, 0, 0),\n",
       " 'reg_info': {'2018-08': {'party': 'NF', 'status': 'A'}}}"
      ]
     },
     "execution_count": 29,
     "metadata": {},
     "output_type": "execute_result"
    }
   ],
   "source": [
    "voter_map['109188400-02']"
   ]
  },
  {
   "cell_type": "code",
   "execution_count": 52,
   "metadata": {},
   "outputs": [],
   "source": [
    "# Reset\n",
    "canonical_addr_map['807 BEACON CIR OAKDALE PA 15071']={'canonical_in_census_db': False,\n",
    " 'canonical_in_google_db': False,\n",
    " 'census_block': u'420034580002086',\n",
    " 'census_value': None,\n",
    " 'google_value': None}\n"
   ]
  },
  {
   "cell_type": "markdown",
   "metadata": {},
   "source": [
    "# Process addrs_to_blocks_todo_set"
   ]
  },
  {
   "cell_type": "code",
   "execution_count": 64,
   "metadata": {},
   "outputs": [],
   "source": [
    "# Construct GeoDataFrame from addrs_to_blocks and coords_to_blocks\n",
    "todo_addrs_df = pd.DataFrame(addrs_to_blocks, columns=['address_raw'])\n",
    "todo_geom_df = pd.Series(coords_to_blocks)"
   ]
  },
  {
   "cell_type": "code",
   "execution_count": 65,
   "metadata": {},
   "outputs": [],
   "source": [
    "todo_gj = gpd.GeoDataFrame(todo_addrs_df, geometry=todo_geom_df,crs={'init': 'epsg:4326'})"
   ]
  },
  {
   "cell_type": "code",
   "execution_count": 66,
   "metadata": {},
   "outputs": [
    {
     "data": {
      "text/plain": [
       "<matplotlib.axes._subplots.AxesSubplot at 0x7fce07213f10>"
      ]
     },
     "execution_count": 66,
     "metadata": {},
     "output_type": "execute_result"
    },
    {
     "data": {
      "image/png": "[encoded data removed]",
      "text/plain": [
       "<Figure size 432x288 with 1 Axes>"
      ]
     },
     "metadata": {},
     "output_type": "display_data"
    }
   ],
   "source": [
    "todo_gj.plot()"
   ]
  },
  {
   "cell_type": "code",
   "execution_count": 67,
   "metadata": {},
   "outputs": [],
   "source": [
    "# Do spatial join to get census block for each address \n",
    "# Example from:\n",
    "#    http://localhost:8820/notebooks/projects/demographics/Census-Planning-DB-2018.ipynb\n",
    "# mob_blkgroups_gj = gpd.sjoin(blkgrps_cent_gj, mob_gj, how=\"inner\", op='within')\n",
    "todo_cb_gj = gpd.sjoin(todo_gj, ac_cb_gj, how=\"inner\", op='within')"
   ]
  },
  {
   "cell_type": "code",
   "execution_count": 68,
   "metadata": {},
   "outputs": [],
   "source": [
    "todo_cb_gj=todo_cb_gj.reset_index()"
   ]
  },
  {
   "cell_type": "code",
   "execution_count": null,
   "metadata": {},
   "outputs": [],
   "source": [
    "todo_cb_gj"
   ]
  },
  {
   "cell_type": "code",
   "execution_count": 70,
   "metadata": {},
   "outputs": [
    {
     "name": "stdout",
     "output_type": "stream",
     "text": [
      "Processing took 0:00:00.117206 for 964 addresses\n"
     ]
    }
   ],
   "source": [
    "# Process all the newly processed census blocks into canonical_addr_map\n",
    "process_addrs_to_cb_into_cam(todo_cb_gj)"
   ]
  },
  {
   "cell_type": "code",
   "execution_count": 229,
   "metadata": {},
   "outputs": [
    {
     "data": {
      "text/plain": [
       "['205 BROOK ST MC DONALD PA 15057']"
      ]
     },
     "execution_count": 229,
     "metadata": {},
     "output_type": "execute_result"
    }
   ],
   "source": [
    "list(todo_cb_gj.address_raw)"
   ]
  },
  {
   "cell_type": "code",
   "execution_count": 71,
   "metadata": {},
   "outputs": [],
   "source": [
    "# Make a copy of addrs_to_blocks_todo_set to keep track of what addresses are left\n",
    "# after we process the ones that came back with valid census blocks\n",
    "failed_census_block_addrs = addrs_to_blocks_todo_set\n",
    "\n",
    "# Remove all the elements that successfully generated census blocks\n",
    "map(failed_census_block_addrs.remove, list(todo_cb_gj.address_raw))\n",
    "\n",
    "# Update the vids in addrs_to_blocks_update_map={}\n",
    "for addr in addrs_to_blocks_update_map:\n",
    "    census_block = None\n",
    "    # Check if this is a failed address\n",
    "    if addr in failed_census_block_addrs:\n",
    "        # Record 'census_block'=None in canonical_addr_map if not already recorded\n",
    "        if(not 'census_block' in canonical_addr_map[addr]):\n",
    "            canonical_addr_map[addr]['census_block']=None\n",
    "    else:\n",
    "        # Make sure addr is in canonical_addr_map\n",
    "        if(not addr in canonical_addr_map or not 'census_block' in canonical_addr_map[addr]):\n",
    "            print \"ERROR: Trying to find census block for %s, but missing from canonical_addr_map\" % (addr)\n",
    "            continue\n",
    "        # It is in canonical_addr_map, record the census block\n",
    "        census_block = canonical_addr_map[addr]['census_block']\n",
    "        \n",
    "    # census_block should either be None or set to a valid value, record it in the relevant voter IDs.\n",
    "    for vid in addrs_to_blocks_update_map[addr]:\n",
    "        # Make sure vid is in voter_map\n",
    "        if(not vid in voter_map):\n",
    "            print \"ERROR: Trying to update %s with census block %s, but missing from voter_map \" % (vid, census_block)\n",
    "            continue\n",
    "        vrec = voter_map[vid]\n",
    "        if(not 'addr_arr' in vrec):\n",
    "            print \"ERROR: Trying to update %s with census block %s, but 'addr_arr' missing from voter_map \" % (vid, census_block)\n",
    "            continue\n",
    "        # Find the entry in addr_arr matching this address\n",
    "        for i in range(0,len(voter_map[vid]['addr_arr'])):\n",
    "            if(addr == voter_map[vid]['addr_arr'][i]['address']):\n",
    "                # Matches! Update census block\n",
    "                voter_map[vid]['addr_arr'][i]['census_block'] = census_block"
   ]
  },
  {
   "cell_type": "code",
   "execution_count": 233,
   "metadata": {},
   "outputs": [
    {
     "data": {
      "text/plain": [
       "True"
      ]
     },
     "execution_count": 233,
     "metadata": {},
     "output_type": "execute_result"
    }
   ],
   "source": [
    "'1741 BRODHEAD RD MOON TWP PA 15108' in addrs_to_blocks_update_map"
   ]
  },
  {
   "cell_type": "code",
   "execution_count": 72,
   "metadata": {},
   "outputs": [
    {
     "data": {
      "text/plain": [
       "{'61 OLD JACKS RUN RD IRWIN PA 15642',\n",
       " '620 TULLAMORE TRAIL MARS PA 16046',\n",
       " '9441 NOBLESTOWN RD MC DONALD PA 15057'}"
      ]
     },
     "execution_count": 72,
     "metadata": {},
     "output_type": "execute_result"
    }
   ],
   "source": [
    "failed_census_block_addrs"
   ]
  },
  {
   "cell_type": "code",
   "execution_count": 76,
   "metadata": {},
   "outputs": [
    {
     "data": {
      "text/plain": [
       "{'canonical_in_census_db': True,\n",
       " 'canonical_in_google_db': True,\n",
       " 'census_block': None,\n",
       " 'census_value': '{\"result\": {\"addressMatches\": [], \"input\": {\"benchmark\": {\"benchmarkName\": \"Public_AR_Current\", \"id\": \"4\", \"isDefault\": false, \"benchmarkDescription\": \"Public Address Ranges - Current Benchmark\"}, \"address\": {\"address\": \"620 TULLAMORE TRAIL MARS PA 16046\"}}}}',\n",
       " 'google_value': '{\"status\": \"OK\", \"results\": [{\"geometry\": {\"location_type\": \"APPROXIMATE\", \"bounds\": {\"northeast\": {\"lat\": 40.702338, \"lng\": -80.00406799999999}, \"southwest\": {\"lat\": 40.6913781, \"lng\": -80.0243249}}, \"viewport\": {\"northeast\": {\"lat\": 40.702338, \"lng\": -80.00406799999999}, \"southwest\": {\"lat\": 40.6913781, \"lng\": -80.0243249}}, \"location\": {\"lat\": 40.6958996, \"lng\": -80.0117254}}, \"formatted_address\": \"Mars, PA 16046, USA\", \"place_id\": \"ChIJ_VcUBgaGNIgRYWufKCeQGg0\", \"address_components\": [{\"long_name\": \"Mars\", \"types\": [\"locality\", \"political\"], \"short_name\": \"Mars\"}, {\"long_name\": \"Adams Township\", \"types\": [\"administrative_area_level_3\", \"political\"], \"short_name\": \"Adams Township\"}, {\"long_name\": \"Butler County\", \"types\": [\"administrative_area_level_2\", \"political\"], \"short_name\": \"Butler County\"}, {\"long_name\": \"Pennsylvania\", \"types\": [\"administrative_area_level_1\", \"political\"], \"short_name\": \"PA\"}, {\"long_name\": \"United States\", \"types\": [\"country\", \"political\"], \"short_name\": \"US\"}, {\"long_name\": \"16046\", \"types\": [\"postal_code\"], \"short_name\": \"16046\"}], \"partial_match\": true, \"types\": [\"locality\", \"political\"]}]}'}"
      ]
     },
     "execution_count": 76,
     "metadata": {},
     "output_type": "execute_result"
    }
   ],
   "source": [
    "canonical_addr_map['620 TULLAMORE TRAIL MARS PA 16046']"
   ]
  },
  {
   "cell_type": "code",
   "execution_count": 79,
   "metadata": {},
   "outputs": [
    {
     "name": "stdout",
     "output_type": "stream",
     "text": [
      "40.366776 -80.284990\n"
     ]
    }
   ],
   "source": [
    "coords = addr_to_coords('9441 NOBLESTOWN RD MC DONALD PA 15057')\n",
    "print \"%f %f\" % (coords.y, coords.x)"
   ]
  },
  {
   "cell_type": "code",
   "execution_count": 80,
   "metadata": {},
   "outputs": [
    {
     "name": "stdout",
     "output_type": "stream",
     "text": [
      "Added 3 addrs to uncomputable_census_block_addrs_set, size now 271\n"
     ]
    }
   ],
   "source": [
    "# Add failed_census_block_addrs to uncomputable_census_block_addrs_set\n",
    "uncomputable_census_block_addrs_set = uncomputable_census_block_addrs_set.union(failed_census_block_addrs)\n",
    "print \"Added %d addrs to uncomputable_census_block_addrs_set, size now %d\" % (len(failed_census_block_addrs), len(uncomputable_census_block_addrs_set))"
   ]
  },
  {
   "cell_type": "code",
   "execution_count": 81,
   "metadata": {},
   "outputs": [],
   "source": [
    "# Reset TODO related variables to be empty\n",
    "addrs_to_blocks_todo_set=set()\n",
    "addrs_to_blocks=[]\n",
    "coords_to_blocks=[]\n",
    "addrs_to_blocks_update_map={}\n"
   ]
  },
  {
   "cell_type": "code",
   "execution_count": 196,
   "metadata": {},
   "outputs": [],
   "source": [
    "# From ~/education/earthtime/voting/update_vids_in_addrs_to_blocks_update_map_out.txt\n",
    "# These appear to be addresses that did not match to any of the census blocks\n",
    "reprocess_addrs = ['14 BEECH ST AMBRIDGE PA 15003',\n",
    "'245 ERMA ST RD1 MONONGAHELA PA 15063',\n",
    "'915 INDIANA AVE GLASSPORT PA 15045',\n",
    "'234 CENTER AVE CECIL PA 15321',\n",
    "'896 CLINTON FRANKFORT RD BOX CLINTON PA 15026',\n",
    "'1036 OLD ORCHARD CT GIBSONIA PA 15044',\n",
    "'1268 US ROUTE 30 CLINTON PA 15026',\n",
    "'124 FINLEYVILLE R D 4 BOX FINLEYVILLE PA 15332',\n",
    "'501 EASTVIEW DR IRWIN PA 15642',\n",
    "'491 EASTVIEW DR IRWIN PA 15642',\n",
    "'320 MILLERS-HILL RD RD2 BOX NEW KENSINGTON PA 15068',\n",
    "'78 BEECH ST AMBRIDGE PA 15003',\n",
    "'131 MAIN ST PO BOX RUSSELLTON PA 15076',\n",
    "'277 STATE RTE 30 CLINTON PA 15026',\n",
    "'1171 CAMBIER DR CRESCENT PA 15046',\n",
    "'187 AIRPORT RD BELLE VERNON PA 15012',\n",
    "'170 OLD JACKS RUN RD IRWIN PA 15642',\n",
    "'106 DAVIS LN SEWICKLEY PA 15143',\n",
    "'LOGANS FERRY RD NEW KENSINGTON PA 15068',\n",
    "'405 PATRICKS PL MARS PA 16046',\n",
    "'100 RIDGE RD RD1 MARS PA 16046',\n",
    "'14 BEAVER ST AMBRIDGE PA 15003',\n",
    "'2734 MILFORD DR BETHEL PARK PA 15102',\n",
    "'961 CLINTON FRANKFORT RD BOX CLINTON PA 15026',\n",
    "'205 BROOK ST MC DONALD PA 15057',\n",
    "'101 PLEASANT RISE DR MCDONALD PA 15057',\n",
    "'6 BEECH ST AMBRIDGE PA 15003',\n",
    "'110 HIMALAYA RD MONROEVILLE PA 15146',\n",
    "'337 COAL ST MCDONALD PA 15057',\n",
    "'513 TUSCARORA RD MARS PA 16046',\n",
    "'302 STATE RTE 8 BOX BAKERSTOWN PA 15007',\n",
    "'162 RICHLAND MOBILE HOME PARK GIBSONIA PA 15044',\n",
    "'FOX HILL BLACKBURN RD SEWICKLEY PA 15143',\n",
    "'648 MILLERS RUN RD CECIL PA 15321',\n",
    "'257 COLLINS AVE P O BOX CLAIRTON PA 15025',\n",
    "'533 5TH ST TRAFFORD PA 15085',\n",
    "'139 CHRISTY RD BOX TARENTUM PA 15084',\n",
    "'STATE RTE 136 RD3 BOX MONONGAHELA PA 15063',\n",
    "'1963 LINCOLN HWY NORTH VERSAILLES PA 15137',\n",
    "'2100 SHORT ST FINLEYVILLE PA 15332',\n",
    "'147 STATE RTE 30 CLINTON PA 15026',\n",
    "'206 STATE RTE 51 RD4 BOX ELIZABETH PA 15037',\n",
    "'500 BEAGLE CLUB RD MCDONALD PA 15057',\n",
    "'1252 STATE RTE 30 CLINTON PA 15026',\n",
    "'126 WOODLAWN AVE CECIL PA 15321',\n",
    "'81 RIDGE RD MONONGAHELA PA 15063',\n",
    "'224 RIDGE RD RD1 MARS PA 16046',\n",
    "'22 FORBES RD TRAFFORD PA 15085',\n",
    "'105 GRANT ST MCDONALD PA 15057',\n",
    "'51 CHARLES ST CECIL PA 15321',\n",
    "'4117 WINTERBURN AVE PITTSBURGH PA 15207',\n",
    "'476 BEAGLE CLUB RD MC DONALD PA 15057',\n",
    "'3780 FAIRVIEW DR MURRYSVILLE PA 15668',\n",
    "'128 WOODLAWN AVE CECIL PA 15321',\n",
    "'4 KRISTOFF LN MCDONALD PA 15057',\n",
    "'145 RIDGE RD MONONGAHELA PA 15063',\n",
    "'1385 STATE RTE 30 CLINTON PA 15026',\n",
    "'979 CLINTON FRANKFORT RD BOX CLINTON PA 15026',\n",
    "'1248 US ROUTE 30 CLINTON PA 15026',\n",
    "'4305 WINTERBURN AVE PITTSBURGH PA 15207',\n",
    "'5066 IMPALA DR PITTSBURGH PA 15239',\n",
    "'172 CANNON HILL RD SAXONBURG PA 16056',\n",
    "'1285 STATE RTE 30 CLINTON PA 15026',\n",
    "'404 PATRICKS PL MARS PA 16046',\n",
    "'119 RIDGE RD MONONGAHELA PA 15063',\n",
    "'8 BEECH ST AMBRIDGE PA 15003',\n",
    "'3401 LOGANS FERRY RD MURRYSVILLE PA 15668',\n",
    "'590 OLD JACKS RUN RD IRWIN PA 15642',\n",
    "'1971 GREENSBURG RD NEW KENSINGTON PA 15068',\n",
    "'678 PRINCETON BLVD PITTSBURGH PA 15221',\n",
    "'1297 STATE RTE 30 CLINTON PA 15026',\n",
    "'1281 STATE RTE 30 CLINTON PA 15026',\n",
    "'4 BEECH ST AMBRIDGE PA 15003',\n",
    "'114 RIDGE RD MONONGAHELA PA 15063',\n",
    "'1282 STATE RTE 30 CLINTON PA 15026',\n",
    "'131 RIDGE RD MONONGAHELA PA 15063',\n",
    "'1368 STATE RTE 30 CLINTON PA 15026',\n",
    "'2 CENTER AVE RD1 BOX MONONGAHELA PA 15063',\n",
    "'138 HIGH ST MC DONALD PA 15057',\n",
    "'1035 BIG SEWICKLEY CREEK RD SEWICKLEY PA 15143',\n",
    "'123 RIDGE RD MONONGAHELA PA 15063',\n",
    "'218 MONONGAHELA R D MONONGAHELA PA 15063',\n",
    "'2900 COULTERVILLE RD MCKEESPORT PA 15131',\n",
    "'476 BEAGLE CLUB RD MCDONALD PA 15057',\n",
    "'181 ROBINSON RUN RD RD6 MCDONALD PA 15057',\n",
    "'242 BLYTHE RD BOX MCDONALD PA 15057',\n",
    "'185 GAYDOS LN SEWICKLEY PA 15143',\n",
    "'490 OLD JACKS RUN RD IRWIN PA 15642',\n",
    "'864 HILL ST NEW KENSINGTON PA 15068',\n",
    "'54 CHARLES ST CECIL PA 15321',\n",
    "'106 HIMALAYA RD MONROEVILLE PA 15146',\n",
    "'230 CENTER AVE CECIL PA 15321',\n",
    "'MANOWN RD PO BOX MONONGAHELA PA 15063',\n",
    "'2104 SHORT ST FINLEYVILLE PA 15332',\n",
    "'527 5TH ST TRAFFORD PA 15085',\n",
    "'1039 BIG SEWICKLEY CREEK RD SEWICKLEY PA 15143',\n",
    "'44 ROBINSON RUN RD MC DONALD PA 15057',\n",
    "'347 CENTER AVE MCDONALD PA 15057',\n",
    "'116 RIDGE RD MONONGAHELA PA 15063',\n",
    "'715 SCHOOL ST MC KEES ROCKS PA 15136',\n",
    "'188 STATE RTE 136 RD3 BOX MONONGAHELA PA 15063',\n",
    "'201 WARRENDALE RD MARS PA 16046',\n",
    "'339 COAL ST MCDONALD PA 15057',\n",
    "'1005 CONOVER DR NEW KENSINGTON PA 15068',\n",
    "'225 STATE RTE 136 RD3 BOX MONONGAHELA PA 15063',\n",
    "'215 KIRKWOOD DR PITTSBURGH PA 15215',\n",
    "'142 CHRISTY RD TARENTUM PA 15084',\n",
    "'236 CENTER AVE CECIL PA 15321',\n",
    "'135 RIDGE RD MONONGAHELA PA 15063',\n",
    "'164 CANNON HILL RD SAXONBURG PA 16056',\n",
    "'10 NOBLESTOWN RD OAKDALE PA 15071',\n",
    "'1360 US ROUTE 30 CLINTON PA 15026',\n",
    "'337 CENTER AVE MC DONALD PA 15057',\n",
    "'116 GRANT ST MC DONALD PA 15057',\n",
    "'134 CHRISTY RD BOX TARENTUM PA 15084',\n",
    "'113 RIDGE RD MONONGAHELA PA 15063',\n",
    "'122 WOODLAWN AVE CECIL PA 15321',\n",
    "'1285 US ROUTE 30 CLINTON PA 15026',\n",
    "'1927 DIXIE LN MONONGAHELA PA 15063',\n",
    "'118 RIDGE RD MONONGAHELA PA 15063',\n",
    "'2 KRISTOFF LN MC DONALD PA 15057',\n",
    "'491 OLD JACKS RUN RD IRWIN PA 15642',\n",
    "'110 GRANT ST MCDONALD PA 15057',\n",
    "'4218 LOGANS FERRY RD MURRYSVILLE PA 15668',\n",
    "'145 STATE RTE 8 BOX VALENCIA PA 16059',\n",
    "'343 COAL ST MCDONALD PA 15057',\n",
    "'65 RIDGE RD MONONGAHELA PA 15063',\n",
    "'118 WOODLAWN AVE CECIL PA 15321',\n",
    "'WARRENDALE AMBRIDGE RD BADEN PA 15005',\n",
    "'102 MONTROSE AVE FREEPORT PA 16229',\n",
    "'116 HIMALAYA RD MONROEVILLE PA 15146',\n",
    "'330 DEER CREEK RD GIBSONIA PA 15044',\n",
    "'814 WETTACH ST PITTSBURGH PA 15212',\n",
    "'120 WOODLAWN AVE CECIL PA 15321',\n",
    "'325 COAL ST MCDONALD PA 15057',\n",
    "'500 BEAGLE CLUB RD MC DONALD PA 15057',\n",
    "'115 GRANT ST MCDONALD PA 15057',\n",
    "'178 AIRPORT RD BELLE VERNON PA 15012',\n",
    "'219 STATE RTE 136 RD3 BOX MONONGAHELA PA 15063',\n",
    "'1132 BIG SEWICKLEY CREEK RD SEWICKLEY PA 15143',\n",
    "'67 ROBINSON RUN RD MC DONALD PA 15057',\n",
    "'109 RIDGE RD MONONGAHELA PA 15063',\n",
    "'144 CENTER AVE CECIL PA 15321',\n",
    "'238 STATE RTE 51 FINLEYVILLE PA 15332',\n",
    "'95 GLASGOW RD RD1 BOX VALENCIA PA 16059',\n",
    "'1787 SILLVIEW DR PITTSBURGH PA 15243',\n",
    "'1272 US ROUTE 30 CLINTON PA 15026',\n",
    "'208 TECH RD PITTSBURGH PA 15205',\n",
    "'327 COAL ST MC DONALD PA 15057',\n",
    "'226 CENTER AVE CECIL PA 15321',\n",
    "'1109 BIG SEWICKLEY CREEK RD SEWICKLEY PA 15143',\n",
    "'2821 BEECHWOOD BLVD PITTSBURGH PA 15217',\n",
    "'WALKER RD RD MCDONALD PA 15057',\n",
    "'60 CHARLES ST CECIL PA 15321',\n",
    "'150 WILDFLOWER LN MARS PA 16046',\n",
    "'36 BLYTHEDALE (BAD ADD) BLYTHDALE PA 15013',\n",
    "'1370 STEWART RD MC DONALD PA 15057',\n",
    "'184 ALDER ST RD3 BOX TARENTUM PA 15084',\n",
    "'1270 STATE RTE 30 CLINTON PA 15026',\n",
    "'404 MARBLE DR CRESCENT PA 15046',\n",
    "'450 OLD JACKS RUN RD IRWIN PA 15642',\n",
    "'71 STATE RTE 136 RD3 BOX MONONGAHELA PA 15063',\n",
    "'236 STATE RTE 51 FINLEYVILLE PA 15332',\n",
    "'196 WILMOT ST DUQUESNE PA 15110',\n",
    "'126 RIDGE RD MONONGAHELA PA 15063',\n",
    "'1081 BIG SEWICKLEY CREEK RD SEWICKLEY PA 15143',\n",
    "'298 STATE RTE 136 RD3 BOX MONONGAHELA PA 15063',\n",
    "'16 BEAVER ST AMBRIDGE PA 15003',\n",
    "'100 RIDGE RD MONONGAHELA PA 15063',\n",
    "'1929 DIXIE LN MONONGAHELA PA 15063',\n",
    "'1360 STEWART RD MCDONALD PA 15057',\n",
    "'2020 SNOWDEN RD FINLEYVILLE PA 15332',\n",
    "'BLYTHEDALE (BAD ADD) BLYTHDALE PA 15013',\n",
    "'245 KRAMER RD SOUTH PARK PA 15129',\n",
    "'335 STATE RTE 136 RD3 BOX MONONGAHELA PA 15063',\n",
    "'3629 LOGANS FERRY RD MURRYSVILLE PA 15668',\n",
    "'52 STATE RTE 136 RD3 BOX MONONGAHELA PA 15063',\n",
    "'245 SPRING ST MCDONALD PA 15057',\n",
    "'538 BEAGLE CLUB RD MC DONALD PA 15057',\n",
    "'1469 STATE RTE 30 CLINTON PA 15026',\n",
    "'BROADHEAD TR CT LOT CORAOPOLIS PA 15108',\n",
    "'PARK RD CECIL PA 15321',\n",
    "'400 OLD JACKS RUN RD IRWIN PA 15642',\n",
    "'1282 US ROUTE 30 CLINTON PA 15026',\n",
    "'1926 DIXIE LN MONONGAHELA PA 15063',\n",
    "'1963 BLYTHEDALE RD BUENA VISTA PA 15018',\n",
    "'27 MAIN ST MCDONALD PA 15057',\n",
    "'538 BEAGLE CLUB RD MCDONALD PA 15057',\n",
    "'351 STATE RTE 30 CLINTON PA 15026',\n",
    "'43 STATE RTE 136 RD3 BOX MONONGAHELA PA 15063',\n",
    "'403 PATRICKS PL MARS PA 16046',\n",
    "'104 RIDGE RD MONONGAHELA PA 15063',\n",
    "'204 CRESCENT GARDEN DR PITTSBURGH PA 15235',\n",
    "'228 CENTER AVE CECIL PA 15321',\n",
    "'67 STATE RTE 8 BOX VALENCIA PA 16059',\n",
    "'2020 HOOKSTOWN GRADE RD CLINTON PA 15026',\n",
    "'203 WARRENDALE RD MARS PA 16046',\n",
    "'60 DODDS AVE VALENCIA PA 16059',\n",
    "'4 KRISTOFF LN MC DONALD PA 15057',\n",
    "'1557 STATE RTE 30 CLINTON PA 15026',\n",
    "'421 OLD JACKS RUN RD IRWIN PA 15642',\n",
    "'139 STATE RTE 906 RD ELIZABETH PA 15037',\n",
    "'543 5TH ST TRAFFORD PA 15085',\n",
    "'345 SUNSET DR BADEN PA 15005',\n",
    "'7536 MELROSE ST PITTSBURGH PA 15218',\n",
    "'114 HIMALAYA RD MONROEVILLE PA 15146',\n",
    "'2955 COULTERVILLE RD MCKEESPORT PA 15131',\n",
    "'24 BEECH ST AMBRIDGE PA 15003',\n",
    "'1270 US ROUTE 30 CLINTON PA 15026',\n",
    "'1281 US ROUTE 30 CLINTON PA 15026',\n",
    "'500 CENTER AVE CECIL PA 15321',\n",
    "'234 RIDGE RD RD1 MARS PA 16046',\n",
    "'1360 STATE RTE 30 CLINTON PA 15026',\n",
    "'1223 COLLINS AVE JEFFERSON HILLS PA 15025',\n",
    "'204 WARRENDALE RD MARS PA 16046',\n",
    "'451 OLD JACKS RUN RD IRWIN PA 15642',\n",
    "'323 COAL ST MCDONALD PA 15057',\n",
    "'51 DEER CREEK RD GIBSONIA PA 15044',\n",
    "'551 5TH ST TRAFFORD PA 15085',\n",
    "'392 MILLERS RUN RD MORGAN PA 15064',\n",
    "'508 TUSCARORA RD MARS PA 16046',\n",
    "'130 RIDGE RD MONONGAHELA PA 15063',\n",
    "'53 RIDGE RD MONONGAHELA PA 15063',\n",
    "'57 RIDGE RD VALENCIA PA 16059',\n",
    "'112 HIMALAYA RD MONROEVILLE PA 15146',\n",
    "'289 CHARLES ST CECIL PA 15321',\n",
    "'330 CENTER AVE MCDONALD PA 15057',\n",
    "'101 PLEASANT RISE DR MC DONALD PA 15057',\n",
    "'1403 STATE RTE 30 CLINTON PA 15026',\n",
    "'78 STATE RTE 136 RD3 BOX MONONGAHELA PA 15063',\n",
    "'97 BOCKTOWN RD RD1 BOX CLINTON PA 15026',\n",
    "'369 OLD JACKS RUN RD IRWIN PA 15642',\n",
    "'67 ROBINSON RUN RD MCDONALD PA 15057',\n",
    "'1213 COLLINS AVE JEFFERSON HILLS PA 15025',\n",
    "'8 CLINTON BOCKTOWN RD CLINTON PA 15026',\n",
    "'1477 STATE RTE 30 CLINTON PA 15026',\n",
    "'481 EASTVIEW DR IRWIN PA 15642',\n",
    "'101 HILL ST MC DONALD PA 15057',\n",
    "'200 WARRENDALE RD MARS PA 16046',\n",
    "'1283 STATE RTE 30 CLINTON PA 15026',\n",
    "'440 OLD JACKS RUN RD IRWIN PA 15642',\n",
    "'202 WARRENDALE RD MARS PA 16046',\n",
    "'2 KRISTOFF LN MCDONALD PA 15057',\n",
    "'101 HILL ST MCDONALD PA 15057',\n",
    "'212 CRAWFORD CT MARS PA 16046',\n",
    "'508 SCENIC RIDGE DR FINLEYVILLE PA 15332',\n",
    "'715 SCHOOL ST MCKEES ROCKS PA 15136',\n",
    "'330 CENTER AVE MC DONALD PA 15057',\n",
    "'10 RIDGE RD RD1 MARS PA 16046',\n",
    "'123 STATE RTE 30 CLINTON PA 15026',\n",
    "'44 ROBINSON RUN RD MCDONALD PA 15057',\n",
    "'2 BEECH ST AMBRIDGE PA 15003',\n",
    "'114 GRANT ST MCDONALD PA 15057',\n",
    "'337 CENTER AVE MCDONALD PA 15057',\n",
    "'232 CENTER AVE CECIL PA 15321',\n",
    "'1136 US ROUTE 30 CLINTON PA 15026',\n",
    "'402 SOUTHPOINT CT MCDONALD PA 15057',\n",
    "'7 2ND ST PITTSBURGH PA 15215',\n",
    "'535 5TH ST TRAFFORD PA 15085',\n",
    "'1268 STATE RTE 30 CLINTON PA 15026',\n",
    "'240 BLYTHE RD BOX MCDONALD PA 15057',\n",
    "'499 CENTER AVE CECIL PA 15321',\n",
    "'10 BEECH ST AMBRIDGE PA 15003',\n",
    "'273 BOCKTOWN RD PO BOX CRESCENT PA 15046',\n",
    "'215 STATE RTE 136 RD3 BOX MONONGAHELA PA 15063',\n",
    "'201 MURRYSVILLE RD NEW KENSINGTON PA 15068',\n",
    "'CHRISTY COR NEW KENSINGTON PA 15068',\n",
    "'101 RIDGE RD MONONGAHELA PA 15063',\n",
    "'1280 US ROUTE 30 CLINTON PA 15026']\n"
   ]
  },
  {
   "cell_type": "code",
   "execution_count": 200,
   "metadata": {},
   "outputs": [],
   "source": [
    "reprocess_vids = set()"
   ]
  },
  {
   "cell_type": "code",
   "execution_count": 208,
   "metadata": {},
   "outputs": [],
   "source": [
    "for this_addr in reprocess_addrs:\n",
    "    map(reprocess_vids.add,addrs_to_blocks_update_map[this_addr])"
   ]
  },
  {
   "cell_type": "code",
   "execution_count": 210,
   "metadata": {},
   "outputs": [
    {
     "data": {
      "text/plain": [
       "474"
      ]
     },
     "execution_count": 210,
     "metadata": {},
     "output_type": "execute_result"
    }
   ],
   "source": [
    "len(reprocess_vids)"
   ]
  },
  {
   "cell_type": "code",
   "execution_count": 212,
   "metadata": {},
   "outputs": [
    {
     "name": "stdout",
     "output_type": "stream",
     "text": [
      "Processing took 0:00:00.038317 for 474 addresses\n"
     ]
    }
   ],
   "source": [
    "voter_process_address_history_array(list(reprocess_vids),True)"
   ]
  },
  {
   "cell_type": "markdown",
   "metadata": {},
   "source": [
    "# Test voter_process_address_history_array components"
   ]
  },
  {
   "cell_type": "code",
   "execution_count": 86,
   "metadata": {},
   "outputs": [],
   "source": [
    "voter_map[voter_map.keys()[0]]={'DOB': '1/8/1944',\n",
    " 'addresses': {'2009-07': '415 CHESTNUT ST SPRINGDALE PA 15144',\n",
    "  '2017-11': '415 CHESTNUT ST SPRINGDALE PA 15144',\n",
    "  '2018-03': '415 CHESTNUT ST SPRINGDALE PA 15144',\n",
    "  '2018-08': '415 CHESTNUT ST SPRINGDALE PA 15144'},\n",
    " 'reg_date': datetime.datetime(1993, 4, 1, 0, 0),\n",
    " 'reg_info': {'2009-07': {'party': 'D', 'status': 'A'},\n",
    "  '2017-11': {'party': 'D', 'status': 'A'},\n",
    "  '2018-03': {'party': 'D', 'status': 'A'},\n",
    "  '2018-08': {'party': 'D', 'status': 'A'}}}"
   ]
  },
  {
   "cell_type": "code",
   "execution_count": 119,
   "metadata": {},
   "outputs": [],
   "source": [
    "voter_map[voter_map.keys()[3]]={'DOB': '8/29/1972',\n",
    " 'addresses': {'2009-07': '1500 SUGARLOAF DR PITTSBURGH PA 15239',\n",
    "  '2017-11': '3014 SETTLERS CT MURRYSVILLE PA 15668',\n",
    "  '2018-03': '3014 SETTLERS CT MURRYSVILLE PA 15668',\n",
    "  '2018-08': '509 OCTOBER CT PLUM PA 15239'},\n",
    " 'reg_date': datetime.datetime(1990, 10, 1, 0, 0),\n",
    " 'reg_info': {'2009-07': {'party': 'R', 'status': 'A'},\n",
    "  '2017-11': {'party': 'R', 'status': 'A'},\n",
    "  '2018-03': {'party': 'R', 'status': 'A'},\n",
    "  '2018-08': {'party': 'R', 'status': 'A'}}}"
   ]
  },
  {
   "cell_type": "code",
   "execution_count": 120,
   "metadata": {
    "scrolled": true
   },
   "outputs": [
    {
     "data": {
      "text/plain": [
       "{'DOB': '8/29/1972',\n",
       " 'addresses': {'2009-07': '1500 SUGARLOAF DR PITTSBURGH PA 15239',\n",
       "  '2017-11': '3014 SETTLERS CT MURRYSVILLE PA 15668',\n",
       "  '2018-03': '3014 SETTLERS CT MURRYSVILLE PA 15668',\n",
       "  '2018-08': '509 OCTOBER CT PLUM PA 15239'},\n",
       " 'reg_date': datetime.datetime(1990, 10, 1, 0, 0),\n",
       " 'reg_info': {'2009-07': {'party': 'R', 'status': 'A'},\n",
       "  '2017-11': {'party': 'R', 'status': 'A'},\n",
       "  '2018-03': {'party': 'R', 'status': 'A'},\n",
       "  '2018-08': {'party': 'R', 'status': 'A'}}}"
      ]
     },
     "execution_count": 120,
     "metadata": {},
     "output_type": "execute_result"
    }
   ],
   "source": [
    "i=3\n",
    "voter_map[voter_map.keys()[i]]"
   ]
  },
  {
   "cell_type": "code",
   "execution_count": 127,
   "metadata": {},
   "outputs": [
    {
     "data": {
      "text/plain": [
       "[{'address': '1500 SUGARLOAF DR PITTSBURGH PA 15239',\n",
       "  'census_block': u'420035263012005',\n",
       "  'date': datetime.datetime(1990, 10, 1, 0, 0)},\n",
       " {'address': '3014 SETTLERS CT MURRYSVILLE PA 15668',\n",
       "  'date': datetime.datetime(2017, 11, 30, 0, 0)},\n",
       " {'address': '509 OCTOBER CT PLUM PA 15239',\n",
       "  'census_block': None,\n",
       "  'date': datetime.datetime(2018, 8, 14, 0, 0)}]"
      ]
     },
     "execution_count": 127,
     "metadata": {},
     "output_type": "execute_result"
    }
   ],
   "source": [
    "voter_process_address_history(voter_map.keys()[i], True)"
   ]
  },
  {
   "cell_type": "code",
   "execution_count": 153,
   "metadata": {},
   "outputs": [
    {
     "data": {
      "text/plain": [
       "{'DOB': '8/29/1972',\n",
       " 'addr_arr': [{'address': '1500 SUGARLOAF DR PITTSBURGH PA 15239',\n",
       "   'census_block': u'420035263012005',\n",
       "   'date': datetime.datetime(1990, 10, 1, 0, 0)},\n",
       "  {'address': '3014 SETTLERS CT MURRYSVILLE PA 15668',\n",
       "   'census_block': u'420035263011014',\n",
       "   'date': datetime.datetime(2017, 11, 30, 0, 0)},\n",
       "  {'address': '509 OCTOBER CT PLUM PA 15239',\n",
       "   'census_block': None,\n",
       "   'date': datetime.datetime(2018, 8, 14, 0, 0)}],\n",
       " 'addresses': {'2009-07': '1500 SUGARLOAF DR PITTSBURGH PA 15239',\n",
       "  '2017-11': '3014 SETTLERS CT MURRYSVILLE PA 15668',\n",
       "  '2018-03': '3014 SETTLERS CT MURRYSVILLE PA 15668',\n",
       "  '2018-08': '509 OCTOBER CT PLUM PA 15239'},\n",
       " 'reg_date': datetime.datetime(1990, 10, 1, 0, 0),\n",
       " 'reg_info': {'2009-07': {'party': 'R', 'status': 'A'},\n",
       "  '2017-11': {'party': 'R', 'status': 'A'},\n",
       "  '2018-03': {'party': 'R', 'status': 'A'},\n",
       "  '2018-08': {'party': 'R', 'status': 'A'}}}"
      ]
     },
     "execution_count": 153,
     "metadata": {},
     "output_type": "execute_result"
    }
   ],
   "source": [
    "voter_map[voter_map.keys()[3]]"
   ]
  },
  {
   "cell_type": "code",
   "execution_count": 129,
   "metadata": {},
   "outputs": [
    {
     "data": {
      "text/plain": [
       "{'3014 SETTLERS CT MURRYSVILLE PA 15668'}"
      ]
     },
     "execution_count": 129,
     "metadata": {},
     "output_type": "execute_result"
    }
   ],
   "source": [
    "addrs_to_blocks_todo_set"
   ]
  },
  {
   "cell_type": "code",
   "execution_count": 130,
   "metadata": {},
   "outputs": [
    {
     "data": {
      "text/plain": [
       "['3014 SETTLERS CT MURRYSVILLE PA 15668']"
      ]
     },
     "execution_count": 130,
     "metadata": {},
     "output_type": "execute_result"
    }
   ],
   "source": [
    "addrs_to_blocks"
   ]
  },
  {
   "cell_type": "code",
   "execution_count": 131,
   "metadata": {},
   "outputs": [
    {
     "data": {
      "text/plain": [
       "[<shapely.geometry.point.Point at 0x7fccd0576a50>]"
      ]
     },
     "execution_count": 131,
     "metadata": {},
     "output_type": "execute_result"
    }
   ],
   "source": [
    "coords_to_blocks"
   ]
  },
  {
   "cell_type": "code",
   "execution_count": 132,
   "metadata": {},
   "outputs": [
    {
     "data": {
      "text/plain": [
       "{'3014 SETTLERS CT MURRYSVILLE PA 15668': {'002323758-02'}}"
      ]
     },
     "execution_count": 132,
     "metadata": {},
     "output_type": "execute_result"
    }
   ],
   "source": [
    "addrs_to_blocks_update_map"
   ]
  },
  {
   "cell_type": "markdown",
   "metadata": {},
   "source": [
    "# Compute vote moved since last vote"
   ]
  },
  {
   "cell_type": "code",
   "execution_count": 402,
   "metadata": {},
   "outputs": [],
   "source": [
    "# Keep track of which current voters are still voted_since_move==False\n",
    "# with their most current address and still registered\n",
    "# Returns true or false\n",
    "def voter_moved_since_last_vote(vid):\n",
    "    if (not vid in voter_map or not 'addr_arr' in voter_map[vid] or not 'vote_info' in voter_map[vid]):\n",
    "        return (unknown_color, max_datetime)\n",
    "    \n",
    "    vrec = voter_map[vid]\n",
    "     \n",
    "    if(len(vrec['addr_arr'])<1):\n",
    "        return(False)\n",
    "    \n",
    "    # Check if they moved away\n",
    "    moved_ms = check_voter_moved_away(vid)\n",
    "    if(moved_ms):\n",
    "        #print\"%s: False, moved away\"%(vid)\n",
    "        return(False)\n",
    "    \n",
    "    latest_addr_rec = vrec['addr_arr'][-1]\n",
    "\n",
    "    # Get the start time for this address.\n",
    "    addr_start_date = latest_addr_rec['date']\n",
    "\n",
    "    # Get the next vote after addr_start_date\n",
    "    next_vote_rec=get_next_vote_str_rec_after_date(vrec['vote_info'], addr_start_date)\n",
    "    if(next_vote_rec):\n",
    "        #print\"%s: False, voted %s > %s\"%(vid, next_vote_rec[1]['date'], addr_start_date)\n",
    "        return(False)\n",
    "    \n",
    "    # No vote record more recent than the first known instance of the current addres.\n",
    "    #print\"%s: True, no vote after %s\"%(vid, addr_start_date)\n",
    "    return(True)"
   ]
  },
  {
   "cell_type": "code",
   "execution_count": 403,
   "metadata": {},
   "outputs": [
    {
     "name": "stdout",
     "output_type": "stream",
     "text": [
      "108927574-02\n",
      "002184557-02\n"
     ]
    }
   ],
   "source": [
    "for vid in list(vdf_2018_10[0:10].index):\n",
    "        mslv = voter_moved_since_last_vote(vid)\n",
    "        if(mslv):\n",
    "            print \"%s\" % (vid)"
   ]
  },
  {
   "cell_type": "code",
   "execution_count": null,
   "metadata": {},
   "outputs": [],
   "source": [
    "voter_map['002184557-02']"
   ]
  },
  {
   "cell_type": "code",
   "execution_count": 399,
   "metadata": {},
   "outputs": [],
   "source": [
    "vt = vdf_2018_10[0:10].copy()"
   ]
  },
  {
   "cell_type": "code",
   "execution_count": 400,
   "metadata": {},
   "outputs": [
    {
     "name": "stdout",
     "output_type": "stream",
     "text": [
      "108927574-02: True, no vote after 2018-08-14 00:00:00\n",
      "103133442-02: False, voted 2011-11-08 00:00:00 > 2011-07-24 00:00:00\n",
      "102892955-02: False, voted 2010-11-02 00:00:00 > 2010-09-28 00:00:00\n",
      "020340986-02: False, voted 2016-11-08 00:00:00 > 2013-02-19 00:00:00\n",
      "003007111-02: False, voted 1984-05-16 00:00:00 > 1984-03-01 00:00:00\n",
      "020029602-02: False, voted 2003-11-06 00:00:00 > 2003-10-25 00:00:00\n",
      "002171843-02: False, voted 1984-11-06 00:00:00 > 1974-10-01 00:00:00\n",
      "002184557-02: True, no vote after 2017-11-30 00:00:00\n",
      "107205165-02: False, voted 2016-11-08 00:00:00 > 2016-03-31 00:00:00\n",
      "102729360-02: False, voted 2012-11-06 00:00:00 > 2010-03-09 00:00:00\n"
     ]
    }
   ],
   "source": [
    "vt['moved_since_voted'] = vt.index.map(voter_moved_since_last_vote)"
   ]
  },
  {
   "cell_type": "code",
   "execution_count": 404,
   "metadata": {},
   "outputs": [],
   "source": [
    "vdf_2018_10['moved_since_voted'] = vdf_2018_10.index.map(voter_moved_since_last_vote)"
   ]
  },
  {
   "cell_type": "code",
   "execution_count": 406,
   "metadata": {},
   "outputs": [],
   "source": [
    "vdf_2018_10_msv = vdf_2018_10[vdf_2018_10['moved_since_voted']].copy()"
   ]
  },
  {
   "cell_type": "markdown",
   "metadata": {},
   "source": [
    "#### Get Polling Place info"
   ]
  },
  {
   "cell_type": "code",
   "execution_count": 424,
   "metadata": {},
   "outputs": [],
   "source": [
    "pp_info={}"
   ]
  },
  {
   "cell_type": "code",
   "execution_count": 434,
   "metadata": {},
   "outputs": [],
   "source": [
    "for i in range(0,len(pp_2018_11)):\n",
    "    mwd = str(pp_2018_11['MWD2'].iloc[i])\n",
    "    pp_info[mwd]={'muni_name':pp_2018_11['MuniName'].iloc[i],\n",
    "                  'ward':pp_2018_11['Ward'].iloc[i],\n",
    "                  'district':pp_2018_11['District'].iloc[i],\n",
    "                  'loc_name':pp_2018_11['LocName'].iloc[i],\n",
    "                  'address':'%s %s, PA %s'%(pp_2018_11['NewAddress'].iloc[i],\n",
    "                                            pp_2018_11['City'].iloc[i],\n",
    "                                            pp_2018_11['Zip'].iloc[i])\n",
    "                 }\n",
    "    "
   ]
  },
  {
   "cell_type": "code",
   "execution_count": 435,
   "metadata": {},
   "outputs": [
    {
     "data": {
      "text/plain": [
       "{'address': u'8351 PIERCE ST VERONA, PA 15147',\n",
       " 'district': 5,\n",
       " 'loc_name': u'HILLTOP COMM ALLIANCE CH.',\n",
       " 'muni_name': u'PENN HILLS',\n",
       " 'ward': 9}"
      ]
     },
     "execution_count": 435,
     "metadata": {},
     "output_type": "execute_result"
    }
   ],
   "source": [
    "pp_info['1850905']"
   ]
  },
  {
   "cell_type": "code",
   "execution_count": 436,
   "metadata": {},
   "outputs": [],
   "source": [
    "# Manually add missing values\n",
    "pp_info['1370700']={'muni_name':'ELIZABETH TP',\n",
    "                  'ward':7,\n",
    "                  'district':0,\n",
    "                  'loc_name':'BLAINE HILL VOL FIRE CO',\n",
    "                  'address':'409 OXFORD AVE ELIZABETH, PA 15037'}"
   ]
  },
  {
   "cell_type": "code",
   "execution_count": 437,
   "metadata": {},
   "outputs": [],
   "source": [
    "pp_info['1450203']={'muni_name':'FRANKLIN PK',\n",
    "                  'ward':2,\n",
    "                  'district':3,\n",
    "                  'loc_name':'ST JOHN NEUMANN',\n",
    "                  'address':'2230 ROCHESTER ROAD PITTSBURGH, PA 15237'}"
   ]
  },
  {
   "cell_type": "code",
   "execution_count": 420,
   "metadata": {},
   "outputs": [
    {
     "data": {
      "text/html": [
       "<div>\n",
       "<style scoped>\n",
       "    .dataframe tbody tr th:only-of-type {\n",
       "        vertical-align: middle;\n",
       "    }\n",
       "\n",
       "    .dataframe tbody tr th {\n",
       "        vertical-align: top;\n",
       "    }\n",
       "\n",
       "    .dataframe thead th {\n",
       "        text-align: right;\n",
       "    }\n",
       "</style>\n",
       "<table border=\"1\" class=\"dataframe\">\n",
       "  <thead>\n",
       "    <tr style=\"text-align: right;\">\n",
       "      <th></th>\n",
       "      <th>OBJECTID_1</th>\n",
       "      <th>OBJECTID</th>\n",
       "      <th>Muni</th>\n",
       "      <th>Ward</th>\n",
       "      <th>District</th>\n",
       "      <th>LocName</th>\n",
       "      <th>Prefix</th>\n",
       "      <th>House</th>\n",
       "      <th>Fraction</th>\n",
       "      <th>Street</th>\n",
       "      <th>Suffix1</th>\n",
       "      <th>Suffix2</th>\n",
       "      <th>City</th>\n",
       "      <th>UnitDesc</th>\n",
       "      <th>UnitNumber</th>\n",
       "      <th>Zip</th>\n",
       "      <th>Parcel</th>\n",
       "      <th>Accessible</th>\n",
       "      <th>Leadman</th>\n",
       "      <th>Region</th>\n",
       "      <th>Coordinate</th>\n",
       "      <th>Coordina_1</th>\n",
       "      <th>DistrictCO</th>\n",
       "      <th>DistrictSE</th>\n",
       "      <th>DistrictLE</th>\n",
       "      <th>EditDate</th>\n",
       "      <th>MuniName</th>\n",
       "      <th>OrigAddres</th>\n",
       "      <th>MWD</th>\n",
       "      <th>POINT_X</th>\n",
       "      <th>POINT_Y</th>\n",
       "      <th>MWD2</th>\n",
       "      <th>NewAddress</th>\n",
       "      <th>geometry</th>\n",
       "    </tr>\n",
       "  </thead>\n",
       "  <tbody>\n",
       "    <tr>\n",
       "      <th>1099</th>\n",
       "      <td>777</td>\n",
       "      <td>778.0</td>\n",
       "      <td>185</td>\n",
       "      <td>9</td>\n",
       "      <td>5</td>\n",
       "      <td>HILLTOP COMM ALLIANCE CH.</td>\n",
       "      <td>None</td>\n",
       "      <td>8351</td>\n",
       "      <td>None</td>\n",
       "      <td>PIERCE</td>\n",
       "      <td>ST</td>\n",
       "      <td>None</td>\n",
       "      <td>VERONA</td>\n",
       "      <td>None</td>\n",
       "      <td>None</td>\n",
       "      <td>15147</td>\n",
       "      <td>0294J00075000000</td>\n",
       "      <td>None</td>\n",
       "      <td>35</td>\n",
       "      <td>3</td>\n",
       "      <td>1.380659e+06</td>\n",
       "      <td>422868.906355</td>\n",
       "      <td>14.0</td>\n",
       "      <td>43.0</td>\n",
       "      <td>32.0</td>\n",
       "      <td>None</td>\n",
       "      <td>PENN HILLS</td>\n",
       "      <td>8351 PIERCE STREET</td>\n",
       "      <td>1850905</td>\n",
       "      <td>1.380659e+06</td>\n",
       "      <td>422868.906355</td>\n",
       "      <td>1850905</td>\n",
       "      <td>8351 PIERCE ST</td>\n",
       "      <td>POINT (-79.86320909954804 40.47484364147486)</td>\n",
       "    </tr>\n",
       "  </tbody>\n",
       "</table>\n",
       "</div>"
      ],
      "text/plain": [
       "      OBJECTID_1  OBJECTID  Muni  Ward  District                    LocName  \\\n",
       "1099         777     778.0   185     9         5  HILLTOP COMM ALLIANCE CH.   \n",
       "\n",
       "     Prefix House Fraction  Street Suffix1 Suffix2    City UnitDesc  \\\n",
       "1099   None  8351     None  PIERCE      ST    None  VERONA     None   \n",
       "\n",
       "     UnitNumber    Zip            Parcel Accessible Leadman Region  \\\n",
       "1099       None  15147  0294J00075000000       None      35      3   \n",
       "\n",
       "        Coordinate     Coordina_1  DistrictCO  DistrictSE  DistrictLE  \\\n",
       "1099  1.380659e+06  422868.906355        14.0        43.0        32.0   \n",
       "\n",
       "     EditDate    MuniName          OrigAddres      MWD       POINT_X  \\\n",
       "1099     None  PENN HILLS  8351 PIERCE STREET  1850905  1.380659e+06   \n",
       "\n",
       "            POINT_Y     MWD2      NewAddress  \\\n",
       "1099  422868.906355  1850905  8351 PIERCE ST   \n",
       "\n",
       "                                          geometry  \n",
       "1099  POINT (-79.86320909954804 40.47484364147486)  "
      ]
     },
     "execution_count": 420,
     "metadata": {},
     "output_type": "execute_result"
    }
   ],
   "source": [
    "pp_2018_11[pp_2018_11.MWD2==1850905]"
   ]
  },
  {
   "cell_type": "code",
   "execution_count": 441,
   "metadata": {},
   "outputs": [
    {
     "data": {
      "text/plain": [
       "1322"
      ]
     },
     "execution_count": 441,
     "metadata": {},
     "output_type": "execute_result"
    }
   ],
   "source": [
    "len(pp_2018_11)"
   ]
  },
  {
   "cell_type": "markdown",
   "metadata": {},
   "source": [
    "#### Group by precinct"
   ]
  },
  {
   "cell_type": "code",
   "execution_count": 442,
   "metadata": {},
   "outputs": [
    {
     "name": "stdout",
     "output_type": "stream",
     "text": [
      " 476       ALEPPO 00 01 (1010001)\n",
      " 364    ASPINWALL 00 01 (1020001)\n",
      " 238    ASPINWALL 00 02 (1020002)\n",
      " 303    ASPINWALL 00 03 (1020003)\n",
      " 489       AVALON 01 00 (1030100)\n",
      " 296       AVALON 02 01 (1030201)\n",
      " 207       AVALON 02 02 (1030202)\n",
      " 107       AVALON 03 01 (1030301)\n",
      " 210       AVALON 03 02 (1030302)\n",
      " 227       AVALON 03 03 (1030303)\n",
      " 160   BALDWIN BR 00 01 (1040001)\n",
      " 302   BALDWIN BR 00 02 (1040002)\n",
      " 276   BALDWIN BR 00 03 (1040003)\n",
      " 205   BALDWIN BR 00 04 (1040004)\n",
      " 264   BALDWIN BR 00 05 (1040005)\n",
      " 230   BALDWIN BR 00 06 (1040006)\n",
      " 226   BALDWIN BR 00 07 (1040007)\n",
      " 251   BALDWIN BR 00 08 (1040008)\n",
      " 185   BALDWIN BR 00 09 (1040009)\n",
      " 549   BALDWIN BR 00 10 (1040010)\n",
      " 613   BALDWIN BR 00 11 (1040011)\n",
      " 163   BALDWIN BR 00 12 (1040012)\n",
      " 138   BALDWIN BR 00 13 (1040013)\n",
      " 201   BALDWIN BR 00 14 (1040014)\n",
      " 189   BALDWIN BR 00 15 (1040015)\n",
      " 275   BALDWIN BR 00 16 (1040016)\n",
      " 204   BALDWIN BR 00 17 (1040017)\n",
      " 232   BALDWIN BR 00 18 (1040018)\n",
      " 169   BALDWIN TP 00 01 (1050001)\n",
      " 198   BALDWIN TP 00 02 (1050002)\n",
      " 295   BELL ACRES 00 01 (1060001)\n",
      " 485     BELLEVUE 01 01 (1070101)\n",
      " 465     BELLEVUE 01 02 (1070102)\n",
      " 553     BELLEVUE 02 01 (1070201)\n",
      " 467     BELLEVUE 02 02 (1070202)\n",
      " 433     BELLEVUE 03 01 (1070301)\n",
      " 376     BELLEVUE 03 02 (1070302)\n",
      " 137     BEN AVON 00 01 (1080001)\n",
      " 328     BEN AVON 00 02 (1080002)\n",
      "  51     BEN AVON 00 01 (1090001)\n",
      " 204  BETHEL PARK 01 01 (1100101)\n",
      " 198  BETHEL PARK 01 02 (1100102)\n",
      " 166  BETHEL PARK 01 03 (1100103)\n",
      " 123  BETHEL PARK 02 01 (1100201)\n",
      " 161  BETHEL PARK 02 02 (1100202)\n",
      " 307  BETHEL PARK 02 03 (1100203)\n",
      " 106  BETHEL PARK 03 01 (1100301)\n",
      " 225  BETHEL PARK 03 02 (1100302)\n",
      " 192  BETHEL PARK 03 03 (1100303)\n",
      " 282  BETHEL PARK 04 01 (1100401)\n",
      " 241  BETHEL PARK 04 02 (1100402)\n",
      " 194  BETHEL PARK 04 03 (1100403)\n",
      " 122  BETHEL PARK 05 01 (1100501)\n",
      " 208  BETHEL PARK 05 02 (1100502)\n",
      " 453  BETHEL PARK 05 03 (1100503)\n",
      " 312  BETHEL PARK 06 01 (1100601)\n",
      " 181  BETHEL PARK 06 02 (1100602)\n",
      " 189  BETHEL PARK 06 03 (1100603)\n",
      " 192  BETHEL PARK 07 01 (1100701)\n",
      " 301  BETHEL PARK 07 02 (1100702)\n",
      " 142  BETHEL PARK 07 03 (1100703)\n",
      "  92  BETHEL PARK 08 01 (1100801)\n",
      " 188  BETHEL PARK 08 02 (1100802)\n",
      " 205  BETHEL PARK 08 03 (1100803)\n",
      "  91  BETHEL PARK 08 04 (1100804)\n",
      "  83  BETHEL PARK 09 01 (1100901)\n",
      " 202  BETHEL PARK 09 02 (1100902)\n",
      " 244  BETHEL PARK 09 03 (1100903)\n",
      " 432      BLAWNOX 00 01 (1110001)\n",
      " 200 BRACKENRIDGE 01 00 (1120100)\n",
      " 259 BRACKENRIDGE 02 00 (1120200)\n",
      " 253 BRACKENRIDGE 03 00 (1120300)\n",
      " 248     BRADDOCK 01 00 (1130100)\n",
      " 275     BRADDOCK 02 00 (1130200)\n",
      " 251     BRADDOCK 03 00 (1130300)\n",
      " 352  BRADDOCK HL 00 01 (1140001)\n",
      " 165  BRADDOCK HL 00 02 (1140002)\n",
      " 292 BRADFORDWOOD 00 01 (1150001)\n",
      " 171    BRENTWOOD 00 01 (1160001)\n",
      " 275    BRENTWOOD 00 02 (1160002)\n",
      " 187    BRENTWOOD 00 03 (1160003)\n",
      " 279    BRENTWOOD 00 04 (1160004)\n",
      " 328    BRENTWOOD 00 05 (1160005)\n",
      " 329    BRENTWOOD 00 06 (1160006)\n",
      " 266    BRENTWOOD 00 07 (1160007)\n",
      " 218    BRENTWOOD 00 08 (1160008)\n",
      " 210    BRENTWOOD 00 09 (1160009)\n",
      " 195    BRENTWOOD 00 10 (1160010)\n",
      " 277  BRIDGEVILLE 00 01 (1170001)\n",
      " 294  BRIDGEVILLE 00 02 (1170002)\n",
      " 215  BRIDGEVILLE 00 03 (1170003)\n",
      " 325  BRIDGEVILLE 00 04 (1170004)\n",
      " 204     CARNEGIE 01 01 (1180101)\n",
      " 439     CARNEGIE 01 02 (1180102)\n",
      " 269     CARNEGIE 01 03 (1180103)\n",
      " 191     CARNEGIE 01 04 (1180104)\n",
      " 241     CARNEGIE 02 01 (1180201)\n",
      " 192     CARNEGIE 02 02 (1180202)\n",
      "  83     CARNEGIE 02 03 (1180203)\n",
      " 405     CARNEGIE 02 04 (1180204)\n",
      " 532 CASL SHANNON 00 01 (1190001)\n",
      " 292 CASL SHANNON 00 02 (1190002)\n",
      " 316 CASL SHANNON 00 03 (1190003)\n",
      " 189 CASL SHANNON 00 04 (1190004)\n",
      " 180 CASL SHANNON 00 05 (1190005)\n",
      " 143 CASL SHANNON 00 06 (1190006)\n",
      " 203 CASL SHANNON 00 07 (1190007)\n",
      " 129 CASL SHANNON 00 08 (1190008)\n",
      " 185     CHALFANT 00 01 (1200001)\n",
      " 164     CHESWICK 00 01 (1210001)\n",
      " 148     CHESWICK 00 02 (1210002)\n",
      " 186    CHURCHILL 00 01 (1220001)\n",
      " 183    CHURCHILL 00 02 (1220002)\n",
      " 143    CHURCHILL 00 03 (1220003)\n",
      " 168    CHURCHILL 00 04 (1220004)\n",
      " 208     CLAIRTON 01 01 (1230101)\n",
      " 167     CLAIRTON 01 02 (1230102)\n",
      " 165     CLAIRTON 01 03 (1230103)\n",
      "  52     CLAIRTON 02 01 (1230201)\n",
      " 134     CLAIRTON 02 02 (1230202)\n",
      " 186     CLAIRTON 02 03 (1230203)\n",
      " 162     CLAIRTON 03 01 (1230301)\n",
      " 173     CLAIRTON 03 02 (1230302)\n",
      " 242     CLAIRTON 03 03 (1230303)\n",
      " 178     CLAIRTON 04 01 (1230401)\n",
      " 159     CLAIRTON 04 02 (1230402)\n",
      " 154     CLAIRTON 04 03 (1230403)\n",
      " 361      COLLIER 00 01 (1240001)\n",
      " 288      COLLIER 00 02 (1240002)\n",
      " 334      COLLIER 00 03 (1240003)\n",
      " 214      COLLIER 00 04 (1240004)\n",
      " 219      COLLIER 00 05 (1240005)\n",
      " 465      COLLIER 00 06 (1240006)\n",
      " 200   CORAOPOLIS 01 01 (1250101)\n",
      " 219   CORAOPOLIS 01 02 (1250102)\n",
      " 382   CORAOPOLIS 02 00 (1250200)\n",
      " 182   CORAOPOLIS 03 01 (1250301)\n",
      " 225   CORAOPOLIS 03 02 (1250302)\n",
      " 164   CORAOPOLIS 04 01 (1250401)\n",
      " 183   CORAOPOLIS 04 02 (1250402)\n",
      " 377      CRAFTON 01 01 (1260101)\n",
      " 262      CRAFTON 01 02 (1260102)\n",
      " 194      CRAFTON 02 01 (1260201)\n",
      " 334      CRAFTON 02 02 (1260202)\n",
      " 368      CRAFTON 03 01 (1260301)\n",
      " 214      CRAFTON 03 02 (1260302)\n",
      " 312     CRESCENT 01 00 (1270100)\n",
      " 161     CRESCENT 02 00 (1270200)\n",
      " 254      DORMONT 00 01 (1280001)\n",
      " 143      DORMONT 00 02 (1280002)\n",
      " 451      DORMONT 00 03 (1280003)\n",
      " 240      DORMONT 00 04 (1280004)\n",
      " 433      DORMONT 00 05 (1280005)\n",
      " 207      DORMONT 00 06 (1280006)\n",
      " 174      DORMONT 00 07 (1280007)\n",
      " 128      DORMONT 00 08 (1280008)\n",
      " 230      DORMONT 00 09 (1280009)\n",
      " 228      DORMONT 00 10 (1280010)\n",
      " 222   DRAVOSBURG 00 01 (1290001)\n",
      " 129   DRAVOSBURG 00 02 (1290002)\n",
      " 107   DRAVOSBURG 00 03 (1290003)\n",
      " 237     DUQUESNE 01 01 (1300101)\n",
      " 311     DUQUESNE 01 02 (1300102)\n",
      " 192     DUQUESNE 01 03 (1300103)\n",
      " 137     DUQUESNE 01 04 (1300104)\n",
      " 180     DUQUESNE 02 01 (1300201)\n",
      " 266     Duquesne 02 02 (1300202)\n",
      " 234     DUQUESNE 02 03 (1300203)\n",
      " 135     DUQUESNE 03 01 (1300301)\n",
      "  96     DUQUESNE 03 02 (1300302)\n",
      " 268     DUQUESNE 03 03 (1300303)\n",
      " 134    EAST DEER 01 00 (1310100)\n",
      " 238    EAST DEER 02 00 (1310200)\n",
      " 163 E MCKEESPORT 00 01 (1320001)\n",
      " 258 E MCKEESPORT 00 02 (1320002)\n",
      " 251 E MCKEESPORT 00 03 (1320003)\n",
      " 177 E PITTSBURGH 01 00 (1330100)\n",
      " 197 E PITTSBURGH 02 00 (1330200)\n",
      " 307 E PITTSBURGH 03 00 (1330300)\n",
      " 350     EDGEWOOD 00 01 (1340001)\n",
      " 251     EDGEWOOD 00 02 (1340002)\n",
      " 282     EDGEWOOD 00 03 (1340003)\n",
      " 145    EDGEWORTH 00 01 (1350001)\n",
      " 152    EDGEWORTH 00 02 (1350002)\n",
      " 319 ELIZABETH BR 00 01 (1360001)\n",
      " 115 ELIZABETH TP 01 01 (1370101)\n",
      " 181 ELIZABETH TP 01 02 (1370102)\n",
      " 305 ELIZABETH TP 02 00 (1370200)\n",
      " 293 ELIZABETH TP 03 00 (1370300)\n",
      " 313 ELIZABETH TP 04 01 (1370401)\n",
      " 102 ELIZABETH TP 04 02 (1370402)\n",
      " 163 ELIZABETH TP 05 01 (1370501)\n",
      " 286 ELIZABETH TP 05 02 (1370502)\n",
      " 126 ELIZABETH TP 06 01 (1370601)\n",
      " 179 ELIZABETH TP 06 02 (1370602)\n",
      " 254 ELIZABETH TP 07 00 (1370700)\n",
      " 263     EMSWORTH 00 01 (1380001)\n",
      " 414     EMSWORTH 00 02 (1380002)\n",
      " 316         ETNA 01 00 (1390100)\n",
      " 324         ETNA 02 00 (1390200)\n",
      " 251         ETNA 03 00 (1390300)\n",
      " 160         FAWN 00 01 (1400001)\n",
      " 193         FAWN 00 02 (1400002)\n",
      " 545      FINDLAY 00 01 (1410001)\n",
      " 514      FINDLAY 00 02 (1410002)\n",
      " 274      FINDLAY 00 03 (1410003)\n",
      " 121 FOREST HILLS 00 01 (1420001)\n",
      " 164 FOREST HILLS 00 02 (1420002)\n",
      " 145 FOREST HILLS 00 03 (1420003)\n",
      " 237 FOREST HILLS 00 04 (1420004)\n",
      " 165 FOREST HILLS 00 05 (1420005)\n",
      " 114 FOREST HILLS 00 06 (1420006)\n",
      " 330 FOREST HILLS 00 07 (1420007)\n",
      " 180 FOREST HILLS 00 08 (1420008)\n",
      "  85      FORWARD 00 01 (1430001)\n",
      " 232      FORWARD 00 02 (1430002)\n",
      "  89      FORWARD 00 03 (1430003)\n",
      "  96      FORWARD 00 04 (1430004)\n",
      " 196   FOX CHAPEL 00 01 (1440001)\n",
      " 236   FOX CHAPEL 00 02 (1440002)\n",
      " 165   FOX CHAPEL 00 03 (1440003)\n",
      " 285   FOX CHAPEL 00 04 (1440004)\n",
      " 227   FOX CHAPEL 00 05 (1440005)\n",
      " 327  FRANKLIN PK 01 01 (1450101)\n",
      " 545  FRANKLIN PK 01 02 (1450102)\n",
      " 365  FRANKLIN PK 01 03 (1450103)\n",
      " 323  FRANKLIN PK 02 01 (1450201)\n",
      " 334  FRANKLIN PK 02 02 (1450202)\n",
      " 329  FRANKLIN PK 02 03 (1450203)\n",
      " 302  FRANKLIN PK 03 01 (1450301)\n",
      " 180  FRANKLIN PK 03 02 (1450302)\n",
      " 282  FRANKLIN PK 03 03 (1450303)\n",
      " 198       FRAZER 00 01 (1460001)\n",
      " 155    GLASSPORT 00 01 (1470001)\n",
      " 221    GLASSPORT 00 02 (1470002)\n",
      " 226    GLASSPORT 00 03 (1470003)\n",
      " 102    GLASSPORT 00 04 (1470004)\n",
      " 159    GLASSPORT 00 05 (1470005)\n",
      " 163    GLASSPORT 00 06 (1470006)\n",
      "  44    GLENFIELD 00 01 (1480001)\n",
      " 173    GREENTREE 00 01 (1490001)\n",
      " 298    GREENTREE 00 02 (1490002)\n",
      " 321    GREENTREE 00 03 (1490003)\n",
      " 299    GREENTREE 00 04 (1490004)\n",
      " 278      HAMPTON 00 01 (1500001)\n",
      " 352      HAMPTON 00 02 (1500002)\n",
      " 365      HAMPTON 00 03 (1500003)\n",
      " 186      HAMPTON 00 04 (1500004)\n",
      " 160      HAMPTON 00 05 (1500005)\n",
      " 187      HAMPTON 00 06 (1500006)\n",
      " 353      HAMPTON 00 07 (1500007)\n",
      " 237      HAMPTON 00 08 (1500008)\n",
      " 407      HAMPTON 00 09 (1500009)\n",
      " 519      HAMPTON 00 10 (1500010)\n",
      " 424      HAMPTON 00 11 (1500011)\n",
      " 210      HAMPTON 00 12 (1500012)\n",
      " 193      HAMPTON 00 13 (1500013)\n",
      " 460       HARMAR 00 01 (1510001)\n",
      " 243       HARMAR 00 02 (1510002)\n",
      "  98       HARMAR 00 03 (1510003)\n",
      "  64     HARRISON 01 01 (1520101)\n",
      " 145     HARRISON 01 02 (1520102)\n",
      " 201     HARRISON 01 03 (1520103)\n",
      " 116     HARRISON 02 01 (1520201)\n",
      " 270     HARRISON 02 02 (1520202)\n",
      " 310     HARRISON 03 01 (1520301)\n",
      " 228     HARRISON 03 02 (1520302)\n",
      " 197     HARRISON 04 01 (1520401)\n",
      " 200     HARRISON 04 02 (1520402)\n",
      " 284     HARRISON 05 01 (1520501)\n",
      " 252     HARRISON 05 02 (1520502)\n",
      "  21    HAYSVILLE 00 01 (1530001)\n",
      " 333   HEIDELBERG 00 01 (1540001)\n",
      " 306    HOMESTEAD 01 01 (1550101)\n",
      " 189    HOMESTEAD 01 02 (1550102)\n",
      " 273    HOMESTEAD 02 01 (1550201)\n",
      " 121    HOMESTEAD 02 02 (1550202)\n",
      " 297    HOMESTEAD 03 01 (1550301)\n",
      " 162    HOMESTEAD 03 02 (1550302)\n",
      " 300      INDIANA 00 01 (1560001)\n",
      " 239      INDIANA 00 02 (1560002)\n",
      " 424      INDIANA 00 03 (1560003)\n",
      " 279      INDIANA 00 04 (1560004)\n",
      " 197      INDIANA 00 05 (1560005)\n",
      " 279       INGRAM 00 01 (1570001)\n",
      " 243       INGRAM 00 02 (1570002)\n",
      " 303       INGRAM 00 03 (1570003)\n",
      " 447 JEFFERSON HL 00 01 (1580001)\n",
      " 250 JEFFERSON HL 00 02 (1580002)\n",
      " 176 JEFFERSON HL 00 03 (1580003)\n",
      " 302 JEFFERSON HL 00 04 (1580004)\n",
      " 680 JEFFERSON HL 00 05 (1580005)\n",
      " 208 JEFFERSON HL 00 06 (1580006)\n",
      "  99 JEFFERSON HL 00 07 (1580007)\n",
      " 368 JEFFERSON HL 00 08 (1580008)\n",
      " 463      KENNEDY 00 01 (1590001)\n",
      " 440      KENNEDY 00 02 (1590002)\n",
      " 291      KENNEDY 00 03 (1590003)\n",
      " 150      KENNEDY 00 04 (1590004)\n",
      " 516      KENNEDY 00 05 (1590005)\n",
      " 388      KENNEDY 00 06 (1590006)\n",
      " 127      KENNEDY 00 07 (1590007)\n",
      " 133      KILBUCK 00 01 (1600001)\n",
      " 116         LEET 00 01 (1610001)\n",
      " 179         LEET 00 02 (1610002)\n",
      " 227    LEETSDALE 00 01 (1620001)\n",
      " 347      LIBERTY 00 01 (1630001)\n",
      " 280      LIBERTY 00 02 (1630002)\n",
      " 188      LINCOLN 00 01 (1640001)\n",
      " 168     MARSHALL 00 01 (1650001)\n",
      " 287     MARSHALL 00 02 (1650002)\n",
      " 257     MARSHALL 00 03 (1650003)\n",
      " 350     MARSHALL 00 04 (1650004)\n",
      " 867     MARSHALL 00 05 (1650005)\n",
      " 267     MARSHALL 00 06 (1650006)\n",
      " 242   MCCANDLESS 01 01 (1660101)\n",
      " 314   MCCANDLESS 01 02 (1660102)\n",
      " 542   MCCANDLESS 01 03 (1660103)\n",
      " 416   MCCANDLESS 02 01 (1660201)\n",
      " 266   MCCANDLESS 02 02 (1660202)\n",
      " 216   MCCANDLESS 02 03 (1660203)\n",
      " 206   MCCANDLESS 03 01 (1660301)\n",
      " 280   MCCANDLESS 03 02 (1660302)\n",
      " 251   MCCANDLESS 03 03 (1660303)\n",
      " 361   MCCANDLESS 04 01 (1660401)\n",
      " 338   MCCANDLESS 04 02 (1660402)\n",
      " 145   MCCANDLESS 04 03 (1660403)\n",
      " 179   MCCANDLESS 05 01 (1660501)\n",
      " 547   MCCANDLESS 05 02 (1660502)\n",
      " 218   MCCANDLESS 05 03 (1660503)\n",
      " 133   MCCANDLESS 06 01 (1660601)\n",
      " 240   MCCANDLESS 06 02 (1660602)\n",
      " 560   MCCANDLESS 06 03 (1660603)\n",
      " 572   MCCANDLESS 07 01 (1660701)\n",
      " 210   MCCANDLESS 07 02 (1660702)\n",
      " 103   MCCANDLESS 07 03 (1660703)\n",
      "  85     MCDONALD 00 05 (1670005)\n",
      "  12   MCKEESPORT 01 00 (1680100)\n",
      " 178   MCKEESPORT 02 00 (1680200)\n",
      " 168   MCKEESPORT 03 01 (1680301)\n",
      "  75   MCKEESPORT 03 02 (1680302)\n",
      " 234   MCKEESPORT 04 00 (1680400)\n",
      " 325   MCKEESPORT 05 00 (1680500)\n",
      " 286   MCKEESPORT 06 01 (1680601)\n",
      " 179   MCKEESPORT 06 02 (1680602)\n",
      " 250   MCKEESPORT 07 01 (1680701)\n",
      " 155   MCKEESPORT 07 02 (1680702)\n",
      " 211   MCKEESPORT 07 03 (1680703)\n",
      " 296   MCKEESPORT 07 04 (1680704)\n",
      " 285   MCKEESPORT 07 05 (1680705)\n",
      " 287   MCKEESPORT 07 06 (1680706)\n",
      " 208   MCKEESPORT 07 07 (1680707)\n",
      " 153   MCKEESPORT 08 01 (1680801)\n",
      " 240   MCKEESPORT 08 02 (1680802)\n",
      " 357   MCKEESPORT 08 03 (1680803)\n",
      " 214   MCKEESPORT 08 04 (1680804)\n",
      " 368   MCKEESPORT 08 05 (1680805)\n",
      " 120   MCKEESPORT 08 06 (1680806)\n",
      " 223   MCKEESPORT 09 01 (1680901)\n",
      " 292   MCKEESPORT 09 02 (1680902)\n",
      " 213   MCKEESPORT 09 03 (1680903)\n",
      " 189   MCKEESPORT 10 01 (1681001)\n",
      " 153   MCKEESPORT 10 02 (1681002)\n",
      " 231   MCKEESPORT 11 01 (1681101)\n",
      " 198   MCKEESPORT 11 02 (1681102)\n",
      "  96   MCKEESPORT 11 03 (1681103)\n",
      " 140   MCKEESPORT 12 01 (1681201)\n",
      " 142   MCKEESPORT 12 02 (1681202)\n",
      " 169   MCKEESPORT 12 03 (1681203)\n",
      " 189 MCKEES ROCKS 01 01 (1690101)\n",
      " 355 MCKEES ROCKS 01 02 (1690102)\n",
      " 445 MCKEES ROCKS 02 01 (1690201)\n",
      " 404 MCKEES ROCKS 02 02 (1690202)\n",
      " 357 MCKEES ROCKS 03 01 (1690301)\n",
      " 372 MCKEES ROCKS 03 02 (1690302)\n",
      " 345 MCKEES ROCKS 03 03 (1690303)\n",
      " 284     MILLVALE 00 01 (1700001)\n",
      " 232     MILLVALE 00 02 (1700002)\n",
      " 231     MILLVALE 00 03 (1700003)\n",
      " 176     MILLVALE 00 04 (1700004)\n",
      " 188     MILLVALE 00 05 (1700005)\n",
      " 241  MONROEVILLE 01 01 (1710101)\n",
      " 174  MONROEVILLE 01 02 (1710102)\n",
      " 169  MONROEVILLE 01 03 (1710103)\n",
      " 514  MONROEVILLE 01 04 (1710104)\n",
      " 168  MONROEVILLE 02 01 (1710201)\n",
      " 233  MONROEVILLE 02 02 (1710202)\n",
      " 212  MONROEVILLE 02 03 (1710203)\n",
      " 336  MONROEVILLE 03 01 (1710301)\n",
      " 161  MONROEVILLE 03 02 (1710302)\n",
      " 187  MONROEVILLE 03 03 (1710303)\n",
      " 179  MONROEVILLE 03 04 (1710304)\n",
      " 177  MONROEVILLE 04 01 (1710401)\n",
      " 340  MONROEVILLE 04 02 (1710402)\n",
      " 239  MONROEVILLE 04 03 (1710403)\n",
      " 214  MONROEVILLE 05 01 (1710501)\n",
      " 483  MONROEVILLE 05 02 (1710502)\n",
      " 316  MONROEVILLE 05 03 (1710503)\n",
      " 385  MONROEVILLE 05 04 (1710504)\n",
      " 216  MONROEVILLE 06 01 (1710601)\n",
      " 309  MONROEVILLE 06 02 (1710602)\n",
      " 598  MONROEVILLE 06 03 (1710603)\n",
      " 178  MONROEVILLE 06 04 (1710604)\n",
      " 422  MONROEVILLE 07 01 (1710701)\n",
      " 253  MONROEVILLE 07 02 (1710702)\n",
      " 204  MONROEVILLE 07 03 (1710703)\n",
      " 662         MOON 00 01 (1720001)\n",
      " 576         MOON 00 02 (1720002)\n",
      " 695         MOON 00 03 (1720003)\n",
      " 277         MOON 00 04 (1720004)\n",
      " 741         MOON 00 05 (1720005)\n",
      " 734         MOON 00 06 (1720006)\n",
      " 789         MOON 00 07 (1720007)\n",
      " 293         MOON 00 08 (1720008)\n",
      " 856         MOON 00 09 (1720009)\n",
      " 265         MOON 00 10 (1720010)\n",
      " 366         MOON 00 11 (1720011)\n",
      " 249         MOON 00 12 (1720012)\n",
      " 206         MOON 00 13 (1720013)\n",
      " 125   MT LEBANON 01 01 (1730101)\n",
      " 252   MT LEBANON 01 02 (1730102)\n",
      " 133   MT LEBANON 01 03 (1730103)\n",
      " 144   MT LEBANON 01 04 (1730104)\n",
      "  85   MT LEBANON 01 05 (1730105)\n",
      " 247   MT LEBANON 01 06 (1730106)\n",
      " 223   MT LEBANON 01 07 (1730107)\n",
      " 171   MT LEBANON 02 01 (1730201)\n",
      "  95   MT LEBANON 02 02 (1730202)\n",
      " 107   MT LEBANON 02 03 (1730203)\n",
      "  90   MT LEBANON 02 04 (1730204)\n",
      " 104   MT LEBANON 02 05 (1730205)\n",
      "  88   MT LEBANON 02 06 (1730206)\n",
      " 100   MT LEBANON 02 07 (1730207)\n",
      " 235   MT LEBANON 02 08 (1730208)\n",
      "  89   MT LEBANON 03 01 (1730301)\n",
      " 166   MT LEBANON 03 02 (1730302)\n",
      " 106   MT LEBANON 03 03 (1730303)\n",
      " 208   MT LEBANON 03 04 (1730304)\n",
      " 106   MT LEBANON 03 05 (1730305)\n",
      "  80   MT LEBANON 03 06 (1730306)\n",
      " 183   MT LEBANON 03 07 (1730307)\n",
      "  47   MT LEBANON 03 08 (1730308)\n",
      " 268   MT LEBANON 04 01 (1730401)\n",
      " 255   MT LEBANON 04 02 (1730402)\n",
      " 215   MT LEBANON 04 03 (1730403)\n",
      "  77   MT LEBANON 04 04 (1730404)\n",
      " 102   MT LEBANON 04 05 (1730405)\n",
      " 122   MT LEBANON 04 06 (1730406)\n",
      " 292   MT LEBANON 04 07 (1730407)\n",
      " 159   MT LEBANON 05 01 (1730501)\n",
      " 202   MT LEBANON 05 02 (1730502)\n",
      " 153   MT LEBANON 05 03 (1730503)\n",
      " 117   MT LEBANON 05 04 (1730504)\n",
      " 112   MT LEBANON 05 05 (1730505)\n",
      "  76   MT LEBANON 05 06 (1730506)\n",
      " 139   MT LEBANON 05 07 (1730507)\n",
      " 347   MT LEBANON 05 08 (1730508)\n",
      " 448    MT OLIVER 00 01 (1740001)\n",
      " 407    MT OLIVER 00 02 (1740002)\n",
      " 248    MT OLIVER 00 03 (1740003)\n",
      " 133    MT OLIVER 00 04 (1740004)\n",
      " 300      MUNHALL 00 01 (1750001)\n",
      " 289      MUNHALL 00 02 (1750002)\n",
      " 295      MUNHALL 00 03 (1750003)\n",
      " 212      MUNHALL 00 04 (1750004)\n",
      " 347      MUNHALL 00 05 (1750005)\n",
      " 273      MUNHALL 00 06 (1750006)\n",
      " 489      MUNHALL 00 07 (1750007)\n",
      " 193      MUNHALL 00 08 (1750008)\n",
      " 271      MUNHALL 00 09 (1750009)\n",
      " 216      MUNHALL 00 10 (1750010)\n",
      " 331      MUNHALL 00 11 (1750011)\n",
      " 164      MUNHALL 00 12 (1750012)\n",
      "  99      NEVILLE 01 00 (1760100)\n",
      " 120      NEVILLE 02 00 (1760200)\n",
      "  75      NEVILLE 03 00 (1760300)\n",
      " 101   N BRADDOCK 01 01 (1770101)\n",
      " 281   N BRADDOCK 01 02 (1770102)\n",
      " 278   N BRADDOCK 01 03 (1770103)\n",
      " 224   N BRADDOCK 02 01 (1770201)\n",
      " 306   N BRADDOCK 02 02 (1770202)\n",
      " 215   N BRADDOCK 03 01 (1770301)\n",
      " 262   N BRADDOCK 03 02 (1770302)\n",
      " 654    N FAYETTE 00 01 (1780001)\n",
      "1018    N FAYETTE 00 02 (1780002)\n",
      " 815    N FAYETTE 00 03 (1780003)\n",
      " 461    N FAYETTE 00 04 (1780004)\n",
      " 865    N FAYETTE 00 05 (1780005)\n",
      " 265 N VERSAILLES 01 01 (1790101)\n",
      " 209 N VERSAILLES 01 02 (1790102)\n",
      " 224 N VERSAILLES 02 01 (1790201)\n",
      "  89 N VERSAILLES 02 02 (1790202)\n",
      " 183 N VERSAILLES 03 01 (1790301)\n",
      " 259 N VERSAILLES 03 02 (1790302)\n",
      " 184 N VERSAILLES 04 01 (1790401)\n",
      " 163 N VERSAILLES 04 02 (1790402)\n",
      " 294 N VERSAILLES 05 01 (1790501)\n",
      " 173 N VERSAILLES 05 02 (1790502)\n",
      " 268 N VERSAILLES 06 01 (1790601)\n",
      " 153 N VERSAILLES 06 02 (1790602)\n",
      " 281 N VERSAILLES 07 00 (1790700)\n",
      " 167      OAKDALE 00 01 (1800001)\n",
      "  84      OAKDALE 00 02 (1800002)\n",
      " 255      OAKMONT 00 01 (1810001)\n",
      " 285      OAKMONT 00 02 (1810002)\n",
      " 250      OAKMONT 00 03 (1810003)\n",
      " 329      OAKMONT 00 04 (1810004)\n",
      " 245      OAKMONT 00 05 (1810005)\n",
      " 544      OAKMONT 00 06 (1810006)\n",
      " 487        OHARA 01 01 (1820101)\n",
      " 208        OHARA 01 02 (1820102)\n",
      " 118        OHARA 02 01 (1820201)\n",
      " 274        OHARA 02 02 (1820202)\n",
      " 175        OHARA 03 01 (1820301)\n",
      " 192        OHARA 03 02 (1820302)\n",
      " 167        OHARA 04 01 (1820401)\n",
      " 172        OHARA 04 02 (1820402)\n",
      " 196        OHARA 05 01 (1820501)\n",
      " 169        OHARA 05 02 (1820502)\n",
      " 432         OHIO 00 01 (1830001)\n",
      " 655         OHIO 00 02 (1830002)\n",
      " 913         OHIO 00 03 (1830003)\n",
      " 113      OSBORNE 00 01 (1840001)\n",
      " 258   PENN HILLS 01 01 (1850101)\n",
      " 231   PENN HILLS 01 02 (1850102)\n",
      " 227   PENN HILLS 01 03 (1850103)\n",
      " 178   PENN HILLS 01 04 (1850104)\n",
      " 104   PENN HILLS 01 05 (1850105)\n",
      " 307   PENN HILLS 02 01 (1850201)\n",
      " 285   PENN HILLS 02 02 (1850202)\n",
      " 294   PENN HILLS 02 03 (1850203)\n",
      " 158   PENN HILLS 02 04 (1850204)\n",
      " 284   PENN HILLS 03 01 (1850301)\n",
      " 175   PENN HILLS 03 02 (1850302)\n",
      " 235   PENN HILLS 03 03 (1850303)\n",
      " 293   PENN HILLS 03 04 (1850304)\n",
      " 217   PENN HILLS 03 05 (1850305)\n",
      " 172   PENN HILLS 03 06 (1850306)\n",
      " 213   PENN HILLS 04 01 (1850401)\n",
      " 283   PENN HILLS 04 02 (1850402)\n",
      " 281   PENN HILLS 04 03 (1850403)\n",
      " 218   PENN HILLS 04 04 (1850404)\n",
      " 195   PENN HILLS 04 05 (1850405)\n",
      " 277   PENN HILLS 05 01 (1850501)\n",
      " 281   PENN HILLS 05 02 (1850502)\n",
      " 235   PENN HILLS 05 03 (1850503)\n",
      " 198   PENN HILLS 05 04 (1850504)\n",
      " 140   PENN HILLS 05 05 (1850505)\n",
      " 253   PENN HILLS 05 06 (1850506)\n",
      " 222   PENN HILLS 06 01 (1850601)\n",
      " 212   PENN HILLS 06 02 (1850602)\n",
      " 134   PENN HILLS 06 03 (1850603)\n",
      " 263   PENN HILLS 06 04 (1850604)\n",
      " 256   PENN HILLS 06 05 (1850605)\n",
      " 156   PENN HILLS 06 06 (1850606)\n",
      " 206   PENN HILLS 07 01 (1850701)\n",
      " 281   PENN HILLS 07 02 (1850702)\n",
      " 282   PENN HILLS 07 03 (1850703)\n",
      " 192   PENN HILLS 07 04 (1850704)\n",
      " 244   PENN HILLS 07 05 (1850705)\n",
      " 289   PENN HILLS 07 06 (1850706)\n",
      " 292   PENN HILLS 07 07 (1850707)\n",
      " 157   PENN HILLS 08 01 (1850801)\n",
      " 174   PENN HILLS 08 02 (1850802)\n",
      " 136   PENN HILLS 08 03 (1850803)\n",
      " 137   PENN HILLS 08 04 (1850804)\n",
      " 323   PENN HILLS 08 05 (1850805)\n",
      " 140   PENN HILLS 08 06 (1850806)\n",
      " 126   PENN HILLS 09 01 (1850901)\n",
      " 172   PENN HILLS 09 02 (1850902)\n",
      " 258   PENN HILLS 09 03 (1850903)\n",
      " 166   PENN HILLS 09 04 (1850904)\n",
      " 118   PENN HILLS 09 05 (1850905)\n",
      " 430         PINE 00 01 (1860001)\n",
      " 573         PINE 00 02 (1860002)\n",
      " 121         PINE 00 03 (1860003)\n",
      " 309         PINE 00 04 (1860004)\n",
      " 726         PINE 00 05 (1860005)\n",
      " 233         PINE 00 06 (1860006)\n",
      " 524         PINE 00 07 (1860007)\n",
      " 261         PINE 00 08 (1860008)\n",
      " 460     PITCAIRN 00 01 (1870001)\n",
      " 312     PITCAIRN 00 02 (1870002)\n",
      " 174     PITCAIRN 00 03 (1870003)\n",
      "1977   PITTSBURGH 01 01 (1880101)\n",
      " 326   PITTSBURGH 01 02 (1880102)\n",
      "1053   PITTSBURGH 02 01 (1880201)\n",
      " 692   PITTSBURGH 02 02 (1880202)\n",
      " 140   PITTSBURGH 03 01 (1880301)\n",
      " 239   PITTSBURGH 03 02 (1880302)\n",
      " 145   PITTSBURGH 03 03 (1880303)\n",
      " 412   PITTSBURGH 03 04 (1880304)\n",
      " 253   PITTSBURGH 03 05 (1880305)\n",
      " 178   PITTSBURGH 04 01 (1880401)\n",
      " 342   PITTSBURGH 04 02 (1880402)\n",
      " 168   PITTSBURGH 04 03 (1880403)\n",
      " 111   PITTSBURGH 04 04 (1880404)\n",
      " 598   PITTSBURGH 04 05 (1880405)\n",
      " 444   PITTSBURGH 04 06 (1880406)\n",
      "1595   PITTSBURGH 04 07 (1880407)\n",
      "2849   PITTSBURGH 04 08 (1880408)\n",
      " 329   PITTSBURGH 04 09 (1880409)\n",
      " 273   PITTSBURGH 04 10 (1880410)\n",
      " 175   PITTSBURGH 04 11 (1880411)\n",
      " 182   PITTSBURGH 04 12 (1880412)\n",
      " 510   PITTSBURGH 04 13 (1880413)\n",
      " 661   PITTSBURGH 04 14 (1880414)\n",
      " 425   PITTSBURGH 04 15 (1880415)\n",
      " 751   PITTSBURGH 04 16 (1880416)\n",
      " 250   PITTSBURGH 04 17 (1880417)\n",
      " 229   PITTSBURGH 04 18 (1880418)\n",
      " 132   PITTSBURGH 04 19 (1880419)\n",
      " 133   PITTSBURGH 05 01 (1880501)\n",
      " 167   PITTSBURGH 05 02 (1880502)\n",
      "  56   PITTSBURGH 05 03 (1880503)\n",
      " 124   PITTSBURGH 05 04 (1880504)\n",
      " 101   PITTSBURGH 05 05 (1880505)\n",
      " 335   PITTSBURGH 05 06 (1880506)\n",
      " 193   PITTSBURGH 05 07 (1880507)\n",
      " 161   PITTSBURGH 05 08 (1880508)\n",
      " 464   PITTSBURGH 05 09 (1880509)\n",
      " 163   PITTSBURGH 05 10 (1880510)\n",
      " 204   PITTSBURGH 05 11 (1880511)\n",
      " 147   PITTSBURGH 05 12 (1880512)\n",
      " 110   PITTSBURGH 05 13 (1880513)\n",
      " 149   PITTSBURGH 05 14 (1880514)\n",
      " 205   PITTSBURGH 05 15 (1880515)\n",
      " 149   PITTSBURGH 05 16 (1880516)\n",
      " 124   PITTSBURGH 05 17 (1880517)\n",
      "  27   PITTSBURGH 05 18 (1880518)\n",
      " 553   PITTSBURGH 06 01 (1880601)\n",
      " 339   PITTSBURGH 06 02 (1880602)\n",
      " 423   PITTSBURGH 06 03 (1880603)\n",
      " 215   PITTSBURGH 06 04 (1880604)\n",
      " 221   PITTSBURGH 06 05 (1880605)\n",
      " 194   PITTSBURGH 07 01 (1880701)\n",
      " 352   PITTSBURGH 07 02 (1880702)\n",
      " 356   PITTSBURGH 07 03 (1880703)\n",
      " 525   PITTSBURGH 07 04 (1880704)\n",
      " 336   PITTSBURGH 07 05 (1880705)\n",
      " 324   PITTSBURGH 07 06 (1880706)\n",
      " 336   PITTSBURGH 07 07 (1880707)\n",
      " 357   PITTSBURGH 07 08 (1880708)\n",
      " 381   PITTSBURGH 07 09 (1880709)\n",
      " 450   PITTSBURGH 07 10 (1880710)\n",
      " 538   PITTSBURGH 07 11 (1880711)\n",
      " 470   PITTSBURGH 07 12 (1880712)\n",
      " 235   PITTSBURGH 07 13 (1880713)\n",
      " 190   PITTSBURGH 07 14 (1880714)\n",
      " 162   PITTSBURGH 08 01 (1880801)\n",
      " 231   PITTSBURGH 08 02 (1880802)\n",
      " 391   PITTSBURGH 08 03 (1880803)\n",
      " 363   PITTSBURGH 08 04 (1880804)\n",
      " 241   PITTSBURGH 08 05 (1880805)\n",
      " 193   PITTSBURGH 08 06 (1880806)\n",
      " 396   PITTSBURGH 08 07 (1880807)\n",
      " 270   PITTSBURGH 08 08 (1880808)\n",
      " 450   PITTSBURGH 08 09 (1880809)\n",
      " 311   PITTSBURGH 08 10 (1880810)\n",
      " 366   PITTSBURGH 08 11 (1880811)\n",
      " 271   PITTSBURGH 08 12 (1880812)\n",
      " 334   PITTSBURGH 08 13 (1880813)\n",
      " 316   PITTSBURGH 09 01 (1880901)\n",
      " 307   PITTSBURGH 09 02 (1880902)\n",
      " 308   PITTSBURGH 09 03 (1880903)\n",
      " 314   PITTSBURGH 09 04 (1880904)\n",
      " 264   PITTSBURGH 09 05 (1880905)\n",
      " 207   PITTSBURGH 09 06 (1880906)\n",
      " 206   PITTSBURGH 09 07 (1880907)\n",
      " 301   PITTSBURGH 09 08 (1880908)\n",
      " 328   PITTSBURGH 09 09 (1880909)\n",
      " 273   PITTSBURGH 10 01 (1881001)\n",
      " 335   PITTSBURGH 10 02 (1881002)\n",
      " 313   PITTSBURGH 10 03 (1881003)\n",
      " 110   PITTSBURGH 10 04 (1881004)\n",
      " 187   PITTSBURGH 10 05 (1881005)\n",
      " 203   PITTSBURGH 10 06 (1881006)\n",
      " 175   PITTSBURGH 10 07 (1881007)\n",
      " 174   PITTSBURGH 10 08 (1881008)\n",
      " 158   PITTSBURGH 10 09 (1881009)\n",
      " 113   PITTSBURGH 10 10 (1881010)\n",
      " 175   PITTSBURGH 10 11 (1881011)\n",
      " 167   PITTSBURGH 10 12 (1881012)\n",
      " 189   PITTSBURGH 10 13 (1881013)\n",
      " 154   PITTSBURGH 10 14 (1881014)\n",
      " 134   PITTSBURGH 10 15 (1881015)\n",
      " 185   PITTSBURGH 10 16 (1881016)\n",
      " 226   PITTSBURGH 10 17 (1881017)\n",
      " 255   PITTSBURGH 10 18 (1881018)\n",
      " 202   PITTSBURGH 10 19 (1881019)\n",
      " 233   PITTSBURGH 11 01 (1881101)\n",
      " 250   PITTSBURGH 11 02 (1881102)\n",
      " 218   PITTSBURGH 11 03 (1881103)\n",
      " 288   PITTSBURGH 11 04 (1881104)\n",
      " 299   PITTSBURGH 11 05 (1881105)\n",
      " 414   PITTSBURGH 11 06 (1881106)\n",
      " 239   PITTSBURGH 11 07 (1881107)\n",
      " 291   PITTSBURGH 11 08 (1881108)\n",
      " 227   PITTSBURGH 11 09 (1881109)\n",
      "  91   PITTSBURGH 11 10 (1881110)\n",
      " 267   PITTSBURGH 11 11 (1881111)\n",
      " 245   PITTSBURGH 11 12 (1881112)\n",
      " 208   PITTSBURGH 11 13 (1881113)\n",
      " 307   PITTSBURGH 11 14 (1881114)\n",
      " 134   PITTSBURGH 11 15 (1881115)\n",
      " 316   PITTSBURGH 11 16 (1881116)\n",
      " 356   PITTSBURGH 11 17 (1881117)\n",
      " 281   PITTSBURGH 11 18 (1881118)\n",
      " 160   PITTSBURGH 12 01 (1881201)\n",
      " 131   PITTSBURGH 12 02 (1881202)\n",
      " 108   PITTSBURGH 12 03 (1881203)\n",
      " 138   PITTSBURGH 12 04 (1881204)\n",
      "  73   PITTSBURGH 12 05 (1881205)\n",
      " 107   PITTSBURGH 12 06 (1881206)\n",
      " 134   PITTSBURGH 12 07 (1881207)\n",
      "  91   PITTSBURGH 12 08 (1881208)\n",
      " 166   PITTSBURGH 12 09 (1881209)\n",
      " 173   PITTSBURGH 12 10 (1881210)\n",
      " 219   PITTSBURGH 12 11 (1881211)\n",
      " 353   PITTSBURGH 12 12 (1881212)\n",
      " 172   PITTSBURGH 12 13 (1881213)\n",
      " 137   PITTSBURGH 12 14 (1881214)\n",
      " 206   PITTSBURGH 12 15 (1881215)\n",
      " 152   PITTSBURGH 12 16 (1881216)\n",
      " 127   PITTSBURGH 13 01 (1881301)\n",
      " 160   PITTSBURGH 13 02 (1881302)\n",
      " 135   PITTSBURGH 13 03 (1881303)\n",
      " 146   PITTSBURGH 13 04 (1881304)\n",
      " 164   PITTSBURGH 13 05 (1881305)\n",
      " 151   PITTSBURGH 13 06 (1881306)\n",
      " 202   PITTSBURGH 13 07 (1881307)\n",
      " 154   PITTSBURGH 13 08 (1881308)\n",
      " 150   PITTSBURGH 13 09 (1881309)\n",
      " 108   PITTSBURGH 13 10 (1881310)\n",
      " 262   PITTSBURGH 13 11 (1881311)\n",
      " 182   PITTSBURGH 13 12 (1881312)\n",
      " 143   PITTSBURGH 13 13 (1881313)\n",
      " 121   PITTSBURGH 13 14 (1881314)\n",
      " 159   PITTSBURGH 13 15 (1881315)\n",
      " 124   PITTSBURGH 13 16 (1881316)\n",
      " 467   PITTSBURGH 13 17 (1881317)\n",
      " 143   PITTSBURGH 13 18 (1881318)\n",
      " 146   PITTSBURGH 13 19 (1881319)\n",
      " 291   PITTSBURGH 14 01 (1881401)\n",
      " 409   PITTSBURGH 14 02 (1881402)\n",
      " 225   PITTSBURGH 14 03 (1881403)\n",
      " 233   PITTSBURGH 14 04 (1881404)\n",
      " 190   PITTSBURGH 14 05 (1881405)\n",
      " 238   PITTSBURGH 14 06 (1881406)\n",
      "1086   PITTSBURGH 14 07 (1881407)\n",
      " 179   PITTSBURGH 14 08 (1881408)\n",
      " 157   PITTSBURGH 14 09 (1881409)\n",
      " 177   PITTSBURGH 14 10 (1881410)\n",
      " 188   PITTSBURGH 14 11 (1881411)\n",
      " 439   PITTSBURGH 14 12 (1881412)\n",
      " 285   PITTSBURGH 14 13 (1881413)\n",
      " 311   PITTSBURGH 14 14 (1881414)\n",
      " 306   PITTSBURGH 14 15 (1881415)\n",
      " 131   PITTSBURGH 14 16 (1881416)\n",
      "  99   PITTSBURGH 14 17 (1881417)\n",
      " 258   PITTSBURGH 14 18 (1881418)\n",
      " 157   PITTSBURGH 14 19 (1881419)\n",
      " 168   PITTSBURGH 14 20 (1881420)\n",
      " 162   PITTSBURGH 14 21 (1881421)\n",
      " 226   PITTSBURGH 14 22 (1881422)\n",
      " 168   PITTSBURGH 14 23 (1881423)\n",
      " 173   PITTSBURGH 14 24 (1881424)\n",
      " 259   PITTSBURGH 14 25 (1881425)\n",
      " 136   PITTSBURGH 14 26 (1881426)\n",
      " 105   PITTSBURGH 14 27 (1881427)\n",
      " 106   PITTSBURGH 14 28 (1881428)\n",
      " 226   PITTSBURGH 14 29 (1881429)\n",
      " 180   PITTSBURGH 14 30 (1881430)\n",
      " 382   PITTSBURGH 14 31 (1881431)\n",
      " 328   PITTSBURGH 14 32 (1881432)\n",
      " 278   PITTSBURGH 14 33 (1881433)\n",
      " 304   PITTSBURGH 14 34 (1881434)\n",
      " 228   PITTSBURGH 14 35 (1881435)\n",
      " 308   PITTSBURGH 14 36 (1881436)\n",
      " 207   PITTSBURGH 14 37 (1881437)\n"
     ]
    },
    {
     "name": "stdout",
     "output_type": "stream",
     "text": [
      " 134   PITTSBURGH 14 38 (1881438)\n",
      " 183   PITTSBURGH 14 39 (1881439)\n",
      " 240   PITTSBURGH 14 40 (1881440)\n",
      "  21   PITTSBURGH 14 41 (1881441)\n",
      " 260   PITTSBURGH 15 01 (1881501)\n",
      " 289   PITTSBURGH 15 02 (1881502)\n",
      " 225   PITTSBURGH 15 03 (1881503)\n",
      " 237   PITTSBURGH 15 04 (1881504)\n",
      " 229   PITTSBURGH 15 05 (1881505)\n",
      " 168   PITTSBURGH 15 06 (1881506)\n",
      " 226   PITTSBURGH 15 07 (1881507)\n",
      " 212   PITTSBURGH 15 08 (1881508)\n",
      "  65   PITTSBURGH 15 09 (1881509)\n",
      " 192   PITTSBURGH 15 10 (1881510)\n",
      " 170   PITTSBURGH 15 11 (1881511)\n",
      " 154   PITTSBURGH 15 12 (1881512)\n",
      " 243   PITTSBURGH 15 13 (1881513)\n",
      " 144   PITTSBURGH 15 14 (1881514)\n",
      " 213   PITTSBURGH 15 15 (1881515)\n",
      " 200   PITTSBURGH 15 16 (1881516)\n",
      "   8   PITTSBURGH 15 17 (1881517)\n",
      " 223   PITTSBURGH 15 18 (1881518)\n",
      " 228   PITTSBURGH 15 19 (1881519)\n",
      " 475   PITTSBURGH 16 01 (1881601)\n",
      " 731   PITTSBURGH 16 02 (1881602)\n",
      " 515   PITTSBURGH 16 03 (1881603)\n",
      " 203   PITTSBURGH 16 04 (1881604)\n",
      " 291   PITTSBURGH 16 05 (1881605)\n",
      " 190   PITTSBURGH 16 06 (1881606)\n",
      " 182   PITTSBURGH 16 07 (1881607)\n",
      " 117   PITTSBURGH 16 08 (1881608)\n",
      " 215   PITTSBURGH 16 09 (1881609)\n",
      " 152   PITTSBURGH 16 10 (1881610)\n",
      " 172   PITTSBURGH 16 11 (1881611)\n",
      " 106   PITTSBURGH 17 01 (1881701)\n",
      " 475   PITTSBURGH 17 02 (1881702)\n",
      " 320   PITTSBURGH 17 03 (1881703)\n",
      " 407   PITTSBURGH 17 04 (1881704)\n",
      " 278   PITTSBURGH 17 05 (1881705)\n",
      " 232   PITTSBURGH 17 06 (1881706)\n",
      " 202   PITTSBURGH 17 07 (1881707)\n",
      " 245   PITTSBURGH 17 08 (1881708)\n",
      " 173   PITTSBURGH 18 01 (1881801)\n",
      " 164   PITTSBURGH 18 02 (1881802)\n",
      " 146   PITTSBURGH 18 03 (1881803)\n",
      " 202   PITTSBURGH 18 04 (1881804)\n",
      " 414   PITTSBURGH 18 05 (1881805)\n",
      " 200   PITTSBURGH 18 06 (1881806)\n",
      " 203   PITTSBURGH 18 07 (1881807)\n",
      " 152   PITTSBURGH 18 08 (1881808)\n",
      " 382   PITTSBURGH 18 09 (1881809)\n",
      "  33   PITTSBURGH 18 10 (1881810)\n",
      " 280   PITTSBURGH 18 11 (1881811)\n",
      " 183   PITTSBURGH 19 01 (1881901)\n",
      " 317   PITTSBURGH 19 02 (1881902)\n",
      " 227   PITTSBURGH 19 03 (1881903)\n",
      " 165   PITTSBURGH 19 04 (1881904)\n",
      " 199   PITTSBURGH 19 05 (1881905)\n",
      " 229   PITTSBURGH 19 06 (1881906)\n",
      " 111   PITTSBURGH 19 07 (1881907)\n",
      " 307   PITTSBURGH 19 08 (1881908)\n",
      " 265   PITTSBURGH 19 09 (1881909)\n",
      " 363   PITTSBURGH 19 10 (1881910)\n",
      " 288   PITTSBURGH 19 11 (1881911)\n",
      " 104   PITTSBURGH 19 12 (1881912)\n",
      " 247   PITTSBURGH 19 13 (1881913)\n",
      " 302   PITTSBURGH 19 14 (1881914)\n",
      " 235   PITTSBURGH 19 15 (1881915)\n",
      " 241   PITTSBURGH 19 16 (1881916)\n",
      " 224   PITTSBURGH 19 17 (1881917)\n",
      " 209   PITTSBURGH 19 18 (1881918)\n",
      " 221   PITTSBURGH 19 19 (1881919)\n",
      " 187   PITTSBURGH 19 20 (1881920)\n",
      " 247   PITTSBURGH 19 21 (1881921)\n",
      " 229   PITTSBURGH 19 22 (1881922)\n",
      " 226   PITTSBURGH 19 23 (1881923)\n",
      " 201   PITTSBURGH 19 24 (1881924)\n",
      " 153   PITTSBURGH 19 25 (1881925)\n",
      " 175   PITTSBURGH 19 26 (1881926)\n",
      " 182   PITTSBURGH 19 27 (1881927)\n",
      " 184   PITTSBURGH 19 28 (1881928)\n",
      " 181   PITTSBURGH 19 29 (1881929)\n",
      " 187   PITTSBURGH 19 30 (1881930)\n",
      " 176   PITTSBURGH 19 31 (1881931)\n",
      " 195   PITTSBURGH 19 32 (1881932)\n",
      " 155   PITTSBURGH 19 33 (1881933)\n",
      " 217   PITTSBURGH 19 34 (1881934)\n",
      " 164   PITTSBURGH 19 35 (1881935)\n",
      " 216   PITTSBURGH 19 36 (1881936)\n",
      " 153   PITTSBURGH 19 37 (1881937)\n",
      " 264   PITTSBURGH 19 38 (1881938)\n",
      " 188   PITTSBURGH 20 01 (1882001)\n",
      "  83   PITTSBURGH 20 02 (1882002)\n",
      " 231   PITTSBURGH 20 03 (1882003)\n",
      "  35   PITTSBURGH 20 04 (1882004)\n",
      " 240   PITTSBURGH 20 05 (1882005)\n",
      " 263   PITTSBURGH 20 06 (1882006)\n",
      " 327   PITTSBURGH 20 07 (1882007)\n",
      " 336   PITTSBURGH 20 08 (1882008)\n",
      " 102   PITTSBURGH 20 09 (1882009)\n",
      " 344   PITTSBURGH 20 10 (1882010)\n",
      " 284   PITTSBURGH 20 11 (1882011)\n",
      " 442   PITTSBURGH 20 12 (1882012)\n",
      " 149   PITTSBURGH 20 13 (1882013)\n",
      " 382   PITTSBURGH 20 14 (1882014)\n",
      " 579   PITTSBURGH 20 15 (1882015)\n",
      " 224   PITTSBURGH 20 16 (1882016)\n",
      " 104   PITTSBURGH 20 17 (1882017)\n",
      " 181   PITTSBURGH 20 18 (1882018)\n",
      " 214   PITTSBURGH 21 01 (1882101)\n",
      " 193   PITTSBURGH 21 02 (1882102)\n",
      " 260   PITTSBURGH 21 03 (1882103)\n",
      " 278   PITTSBURGH 21 04 (1882104)\n",
      " 303   PITTSBURGH 22 01 (1882201)\n",
      " 283   PITTSBURGH 22 02 (1882202)\n",
      " 359   PITTSBURGH 22 03 (1882203)\n",
      " 619   PITTSBURGH 22 04 (1882204)\n",
      " 696   PITTSBURGH 23 01 (1882301)\n",
      " 406   PITTSBURGH 23 02 (1882302)\n",
      " 228   PITTSBURGH 23 03 (1882303)\n",
      " 156   PITTSBURGH 24 01 (1882401)\n",
      " 188   PITTSBURGH 24 02 (1882402)\n",
      " 137   PITTSBURGH 24 03 (1882403)\n",
      " 241   PITTSBURGH 24 04 (1882404)\n",
      " 275   PITTSBURGH 24 05 (1882405)\n",
      " 237   PITTSBURGH 24 06 (1882406)\n",
      " 203   PITTSBURGH 25 01 (1882501)\n",
      " 186   PITTSBURGH 25 02 (1882502)\n",
      " 286   PITTSBURGH 25 03 (1882503)\n",
      " 189   PITTSBURGH 25 04 (1882504)\n",
      " 203   PITTSBURGH 25 05 (1882505)\n",
      " 232   PITTSBURGH 25 06 (1882506)\n",
      " 139   PITTSBURGH 25 07 (1882507)\n",
      " 235   PITTSBURGH 26 01 (1882601)\n",
      " 250   PITTSBURGH 26 02 (1882602)\n",
      " 178   PITTSBURGH 26 03 (1882603)\n",
      " 167   PITTSBURGH 26 04 (1882604)\n",
      " 282   PITTSBURGH 26 05 (1882605)\n",
      " 201   PITTSBURGH 26 06 (1882606)\n",
      " 137   PITTSBURGH 26 07 (1882607)\n",
      " 392   PITTSBURGH 26 08 (1882608)\n",
      " 123   PITTSBURGH 26 09 (1882609)\n",
      " 287   PITTSBURGH 26 10 (1882610)\n",
      " 267   PITTSBURGH 26 11 (1882611)\n",
      " 206   PITTSBURGH 26 12 (1882612)\n",
      " 210   PITTSBURGH 26 13 (1882613)\n",
      " 148   PITTSBURGH 26 14 (1882614)\n",
      " 193   PITTSBURGH 26 15 (1882615)\n",
      " 306   PITTSBURGH 26 16 (1882616)\n",
      "  84   PITTSBURGH 26 17 (1882617)\n",
      " 234   PITTSBURGH 27 01 (1882701)\n",
      " 208   PITTSBURGH 27 02 (1882702)\n",
      " 248   PITTSBURGH 27 03 (1882703)\n",
      " 317   PITTSBURGH 27 04 (1882704)\n",
      " 241   PITTSBURGH 27 05 (1882705)\n",
      " 405   PITTSBURGH 27 06 (1882706)\n",
      " 223   PITTSBURGH 27 07 (1882707)\n",
      " 251   PITTSBURGH 27 08 (1882708)\n",
      " 328   PITTSBURGH 27 09 (1882709)\n",
      " 277   PITTSBURGH 27 10 (1882710)\n",
      " 304   PITTSBURGH 27 11 (1882711)\n",
      " 276   PITTSBURGH 27 12 (1882712)\n",
      " 259   PITTSBURGH 27 13 (1882713)\n",
      " 276   PITTSBURGH 28 01 (1882801)\n",
      " 244   PITTSBURGH 28 02 (1882802)\n",
      " 303   PITTSBURGH 28 03 (1882803)\n",
      " 207   PITTSBURGH 28 04 (1882804)\n",
      " 318   PITTSBURGH 28 05 (1882805)\n",
      " 249   PITTSBURGH 28 06 (1882806)\n",
      " 410   PITTSBURGH 28 07 (1882807)\n",
      " 277   PITTSBURGH 28 08 (1882808)\n",
      " 226   PITTSBURGH 28 09 (1882809)\n",
      " 337   PITTSBURGH 28 10 (1882810)\n",
      "  64   PITTSBURGH 28 11 (1882811)\n",
      " 292   PITTSBURGH 29 01 (1882901)\n",
      " 185   PITTSBURGH 29 02 (1882902)\n",
      " 182   PITTSBURGH 29 03 (1882903)\n",
      " 249   PITTSBURGH 29 04 (1882904)\n",
      " 308   PITTSBURGH 29 05 (1882905)\n",
      " 244   PITTSBURGH 29 06 (1882906)\n",
      " 290   PITTSBURGH 29 07 (1882907)\n",
      " 266   PITTSBURGH 29 08 (1882908)\n",
      " 226   PITTSBURGH 29 09 (1882909)\n",
      " 179   PITTSBURGH 29 10 (1882910)\n",
      " 245   PITTSBURGH 29 11 (1882911)\n",
      " 293   PITTSBURGH 29 12 (1882912)\n",
      " 217   PITTSBURGH 30 01 (1883001)\n",
      " 165   PITTSBURGH 30 02 (1883002)\n",
      " 196   PITTSBURGH 30 03 (1883003)\n",
      " 304   PITTSBURGH 30 04 (1883004)\n",
      " 370   PITTSBURGH 30 05 (1883005)\n",
      "  70   PITTSBURGH 31 01 (1883101)\n",
      "  91   PITTSBURGH 31 02 (1883102)\n",
      " 166   PITTSBURGH 31 03 (1883103)\n",
      " 169   PITTSBURGH 31 04 (1883104)\n",
      " 205   PITTSBURGH 31 05 (1883105)\n",
      " 167   PITTSBURGH 31 06 (1883106)\n",
      "  33   PITTSBURGH 31 07 (1883107)\n",
      " 169   PITTSBURGH 32 01 (1883201)\n",
      " 250   PITTSBURGH 32 02 (1883202)\n",
      " 195   PITTSBURGH 32 03 (1883203)\n",
      " 130   PITTSBURGH 32 04 (1883204)\n",
      " 180   PITTSBURGH 32 05 (1883205)\n",
      " 193   PITTSBURGH 32 06 (1883206)\n",
      " 185   PITTSBURGH 32 07 (1883207)\n",
      " 202   PITTSBURGH 32 08 (1883208)\n",
      " 286  PLEASANT HL 00 01 (1890001)\n",
      " 135  PLEASANT HL 00 02 (1890002)\n",
      " 109  PLEASANT HL 00 03 (1890003)\n",
      " 131  PLEASANT HL 00 04 (1890004)\n",
      " 248  PLEASANT HL 00 05 (1890005)\n",
      " 185  PLEASANT HL 00 06 (1890006)\n",
      " 104  PLEASANT HL 00 07 (1890007)\n",
      "  89  PLEASANT HL 00 08 (1890008)\n",
      " 109  PLEASANT HL 00 09 (1890009)\n",
      "  93  PLEASANT HL 00 10 (1890010)\n",
      " 489         PLUM 00 01 (1900001)\n",
      " 190         PLUM 00 02 (1900002)\n",
      " 328         PLUM 00 03 (1900003)\n",
      " 227         PLUM 00 04 (1900004)\n",
      " 314         PLUM 00 05 (1900005)\n",
      " 320         PLUM 00 06 (1900006)\n",
      " 336         PLUM 00 07 (1900007)\n",
      " 137         PLUM 00 08 (1900008)\n",
      " 255         PLUM 00 09 (1900009)\n",
      " 189         PLUM 00 10 (1900010)\n",
      " 165         PLUM 00 11 (1900011)\n",
      " 239         PLUM 00 12 (1900012)\n",
      " 155         PLUM 00 13 (1900013)\n",
      " 256         PLUM 00 14 (1900014)\n",
      " 373         PLUM 00 15 (1900015)\n",
      " 142         PLUM 00 16 (1900016)\n",
      " 242         PLUM 00 17 (1900017)\n",
      " 186         PLUM 00 18 (1900018)\n",
      " 619         PLUM 00 19 (1900019)\n",
      " 327         PLUM 00 20 (1900020)\n",
      " 143         PLUM 00 21 (1900021)\n",
      " 291     PORT VUE 00 01 (1910001)\n",
      " 231     PORT VUE 00 02 (1910002)\n",
      " 202     PORT VUE 00 03 (1910003)\n",
      " 343     PORT VUE 00 04 (1910004)\n",
      " 223       RANKIN 01 00 (1920100)\n",
      " 258       RANKIN 02 00 (1920200)\n",
      " 369       RANKIN 03 00 (1920300)\n",
      " 179      RESERVE 01 00 (1930100)\n",
      " 165      RESERVE 02 00 (1930200)\n",
      " 138      RESERVE 03 00 (1930300)\n",
      " 278      RESERVE 04 00 (1930400)\n",
      " 340     RICHLAND 00 01 (1940001)\n",
      " 348     RICHLAND 00 02 (1940002)\n",
      " 330     RICHLAND 00 03 (1940003)\n",
      " 275     RICHLAND 00 04 (1940004)\n",
      " 242     RICHLAND 00 05 (1940005)\n",
      " 260     RICHLAND 00 06 (1940006)\n",
      " 263     RICHLAND 00 07 (1940007)\n",
      " 323     RICHLAND 00 08 (1940008)\n",
      " 390     ROBINSON 00 01 (1950001)\n",
      " 279     ROBINSON 00 02 (1950002)\n",
      " 157     ROBINSON 00 03 (1950003)\n",
      " 354     ROBINSON 00 04 (1950004)\n",
      " 125     ROBINSON 00 05 (1950005)\n",
      " 350     ROBINSON 00 06 (1950006)\n",
      " 284     ROBINSON 00 07 (1950007)\n",
      " 681     ROBINSON 00 08 (1950008)\n",
      " 818     ROBINSON 00 09 (1950009)\n",
      " 183         ROSS 01 01 (1960101)\n",
      " 187         ROSS 01 02 (1960102)\n",
      " 173         ROSS 01 03 (1960103)\n",
      " 247         ROSS 01 04 (1960104)\n",
      " 439         ROSS 02 01 (1960201)\n",
      " 196         ROSS 02 02 (1960202)\n",
      " 183         ROSS 02 03 (1960203)\n",
      " 212         ROSS 03 01 (1960301)\n",
      " 157         ROSS 03 02 (1960302)\n",
      " 180         ROSS 03 03 (1960303)\n",
      " 211         ROSS 03 04 (1960304)\n",
      " 229         ROSS 04 01 (1960401)\n",
      " 366         ROSS 04 02 (1960402)\n",
      " 155         ROSS 04 03 (1960403)\n",
      " 176         ROSS 04 04 (1960404)\n",
      " 146         ROSS 05 01 (1960501)\n",
      " 104         ROSS 05 02 (1960502)\n",
      " 234         ROSS 05 03 (1960503)\n",
      " 221         ROSS 05 04 (1960504)\n",
      " 152         ROSS 06 01 (1960601)\n",
      " 405         ROSS 06 02 (1960602)\n",
      " 262         ROSS 06 03 (1960603)\n",
      " 175         ROSS 06 04 (1960604)\n",
      " 164         ROSS 07 01 (1960701)\n",
      " 279         ROSS 07 02 (1960702)\n",
      " 204         ROSS 07 03 (1960703)\n",
      " 206         ROSS 07 04 (1960704)\n",
      " 739         ROSS 08 01 (1960801)\n",
      " 163         ROSS 08 02 (1960802)\n",
      " 128         ROSS 08 03 (1960803)\n",
      " 168         ROSS 09 01 (1960901)\n",
      " 265         ROSS 09 02 (1960902)\n",
      " 308         ROSS 09 03 (1960903)\n",
      "  65 ROSSLYN FARM 00 01 (1970001)\n",
      " 235        SCOTT 01 01 (1980101)\n",
      " 241        SCOTT 01 02 (1980102)\n",
      " 154        SCOTT 02 01 (1980201)\n",
      "  98        SCOTT 02 02 (1980202)\n",
      " 111        SCOTT 03 01 (1980301)\n",
      " 169        SCOTT 03 02 (1980302)\n",
      " 139        SCOTT 04 01 (1980401)\n",
      " 118        SCOTT 04 02 (1980402)\n",
      " 152        SCOTT 05 01 (1980501)\n",
      " 160        SCOTT 05 02 (1980502)\n",
      " 248        SCOTT 06 01 (1980601)\n",
      " 192        SCOTT 06 02 (1980602)\n",
      " 285        SCOTT 07 01 (1980701)\n",
      " 115        SCOTT 07 02 (1980702)\n",
      "  84        SCOTT 08 01 (1980801)\n",
      " 243        SCOTT 08 02 (1980802)\n",
      " 120        SCOTT 09 01 (1980901)\n",
      "  78        SCOTT 09 02 (1980902)\n",
      " 331    SEWICKLEY 01 00 (1990100)\n",
      " 183    SEWICKLEY 02 01 (1990201)\n",
      " 191    SEWICKLEY 02 02 (1990202)\n",
      " 468    SEWICKLEY 03 00 (1990300)\n",
      " 272 SEWICKLEY HT 00 01 (2000001)\n",
      " 111 SEWICKLEY HL 00 01 (2010001)\n",
      " 119       SHALER 01 01 (2020101)\n",
      " 166       SHALER 01 02 (2020102)\n",
      " 235       SHALER 01 03 (2020103)\n",
      " 143       SHALER 01 04 (2020104)\n",
      " 293       SHALER 01 05 (2020105)\n",
      " 211       SHALER 02 01 (2020201)\n",
      " 192       SHALER 02 02 (2020202)\n",
      " 229       SHALER 02 03 (2020203)\n",
      " 188       SHALER 02 04 (2020204)\n",
      "  90       SHALER 02 05 (2020205)\n",
      " 128       SHALER 03 01 (2020301)\n",
      " 115       SHALER 03 02 (2020302)\n",
      " 111       SHALER 03 03 (2020303)\n",
      " 149       SHALER 03 04 (2020304)\n",
      " 143       SHALER 03 05 (2020305)\n",
      " 198       SHALER 04 01 (2020401)\n",
      " 171       SHALER 04 02 (2020402)\n",
      " 154       SHALER 04 03 (2020403)\n",
      " 149       SHALER 04 04 (2020404)\n",
      " 182       SHALER 04 05 (2020405)\n",
      " 178       SHALER 05 01 (2020501)\n",
      " 146       SHALER 05 02 (2020502)\n",
      " 118       SHALER 05 03 (2020503)\n",
      "  74       SHALER 05 04 (2020504)\n",
      " 183       SHALER 05 05 (2020505)\n",
      " 163       SHALER 06 01 (2020601)\n",
      " 165       SHALER 06 02 (2020602)\n",
      " 149       SHALER 06 03 (2020603)\n",
      "  62       SHALER 06 04 (2020604)\n",
      "  99       SHALER 06 05 (2020605)\n",
      " 202       SHALER 07 01 (2020701)\n",
      " 227       SHALER 07 02 (2020702)\n",
      " 266       SHALER 07 03 (2020703)\n",
      " 317       SHALER 07 04 (2020704)\n",
      " 331   SHARPSBURG 00 01 (2030001)\n",
      " 463   SHARPSBURG 00 02 (2030002)\n",
      " 409   SHARPSBURG 00 03 (2030003)\n",
      "  91    S FAYETTE 00 01 (2040001)\n",
      " 260    S FAYETTE 00 02 (2040002)\n",
      " 475    S FAYETTE 00 03 (2040003)\n",
      " 205    S FAYETTE 00 04 (2040004)\n",
      " 290    S FAYETTE 00 05 (2040005)\n",
      " 420    S FAYETTE 00 06 (2040006)\n",
      " 147    S FAYETTE 00 07 (2040007)\n",
      " 332    S FAYETTE 00 08 (2040008)\n",
      " 241    S FAYETTE 00 09 (2040009)\n",
      " 192    S FAYETTE 00 10 (2040010)\n",
      " 305    S FAYETTE 00 11 (2040011)\n",
      " 229    S FAYETTE 00 12 (2040012)\n",
      " 132   SOUTH PARK 00 01 (2050001)\n",
      " 172   SOUTH PARK 00 02 (2050002)\n",
      " 158   SOUTH PARK 00 03 (2050003)\n",
      " 156   SOUTH PARK 00 04 (2050004)\n",
      " 172   SOUTH PARK 00 05 (2050005)\n",
      " 236   SOUTH PARK 00 06 (2050006)\n",
      " 288   SOUTH PARK 00 07 (2050007)\n",
      "  87   SOUTH PARK 00 08 (2050008)\n",
      " 212   SOUTH PARK 00 09 (2050009)\n",
      " 178   SOUTH PARK 00 10 (2050010)\n",
      " 202   SOUTH PARK 00 11 (2050011)\n",
      " 119   SOUTH PARK 00 12 (2050012)\n",
      " 232   SOUTH PARK 00 13 (2050013)\n",
      "  56 S VERSAILLES 00 01 (2060001)\n",
      " 232 SPRINGDAL BR 00 01 (2070001)\n",
      " 167 SPRINGDAL BR 00 02 (2070002)\n",
      " 189 SPRINGDAL BR 00 03 (2070003)\n",
      " 134 SPRINGDAL BR 00 04 (2070004)\n",
      " 328 SPRINGDAL TP 00 01 (2080001)\n",
      " 209        STOWE 01 00 (2090100)\n",
      "  98        STOWE 02 01 (2090201)\n",
      " 385        STOWE 02 02 (2090202)\n",
      " 200        STOWE 03 00 (2090300)\n",
      " 173        STOWE 04 01 (2090401)\n",
      " 103        STOWE 04 02 (2090402)\n",
      " 290        STOWE 05 00 (2090500)\n",
      " 272        STOWE 06 00 (2090600)\n",
      " 212        STOWE 07 00 (2090700)\n",
      " 301        STOWE 08 00 (2090800)\n",
      " 206        STOWE 09 00 (2090900)\n",
      " 533    SWISSVALE 00 01 (2100001)\n",
      " 394    SWISSVALE 00 02 (2100002)\n",
      " 397    SWISSVALE 00 03 (2100003)\n",
      " 280    SWISSVALE 00 04 (2100004)\n",
      " 329    SWISSVALE 00 05 (2100005)\n",
      " 216    SWISSVALE 00 06 (2100006)\n",
      " 277    SWISSVALE 00 07 (2100007)\n",
      " 386    SWISSVALE 00 08 (2100008)\n",
      " 288    SWISSVALE 00 09 (2100009)\n",
      " 129    SWISSVALE 00 10 (2100010)\n",
      " 225    SWISSVALE 00 11 (2100011)\n",
      " 331     TARENTUM 01 01 (2110101)\n",
      " 160     TARENTUM 01 02 (2110102)\n",
      " 267     TARENTUM 02 00 (2110200)\n",
      " 135     TARENTUM 03 01 (2110301)\n",
      " 262     TARENTUM 03 02 (2110302)\n",
      "  68    THORNBURG 00 01 (2120001)\n",
      " 205    THORNBURG 00 02 (2120002)\n",
      "  36     TRAFFORD 00 01 (2130001)\n",
      " 371 TURTLE CREEK 01 01 (2140101)\n",
      " 167 TURTLE CREEK 01 02 (2140102)\n",
      " 359 TURTLE CREEK 02 01 (2140201)\n",
      " 171 TURTLE CREEK 02 02 (2140202)\n",
      " 331 TURTLE CREEK 03 01 (2140301)\n",
      " 213 TURTLE CREEK 03 02 (2140302)\n",
      " 124  UP ST CLAIR 01 01 (2150101)\n",
      " 154  UP ST CLAIR 01 02 (2150102)\n",
      " 216  UP ST CLAIR 01 03 (2150103)\n",
      " 124  UP ST CLAIR 01 04 (2150104)\n",
      " 200  UP ST CLAIR 02 01 (2150201)\n",
      " 131  UP ST CLAIR 02 02 (2150202)\n",
      " 246  UP ST CLAIR 02 03 (2150203)\n",
      "  77  UP ST CLAIR 02 04 (2150204)\n",
      " 274  UP ST CLAIR 03 01 (2150301)\n",
      " 153  UP ST CLAIR 03 02 (2150302)\n",
      " 207  UP ST CLAIR 03 03 (2150303)\n",
      " 156  UP ST CLAIR 04 01 (2150401)\n",
      " 143  UP ST CLAIR 04 02 (2150402)\n",
      " 101  UP ST CLAIR 04 03 (2150403)\n",
      " 280  UP ST CLAIR 04 04 (2150404)\n",
      " 242  UP ST CLAIR 05 01 (2150501)\n",
      " 139  UP ST CLAIR 05 02 (2150502)\n",
      " 171  UP ST CLAIR 05 03 (2150503)\n",
      " 225       VERONA 00 01 (2160001)\n",
      " 236       VERONA 00 02 (2160002)\n",
      " 204       VERONA 00 03 (2160003)\n",
      " 262   VERSAILLES 00 01 (2170001)\n",
      " 249   VERSAILLES 00 02 (2170002)\n",
      " 154         WALL 00 01 (2180001)\n",
      " 397    WEST DEER 00 01 (2190001)\n",
      " 208    WEST DEER 00 02 (2190002)\n",
      " 285    WEST DEER 00 03 (2190003)\n",
      " 179    WEST DEER 00 04 (2190004)\n",
      " 378    WEST DEER 00 05 (2190005)\n",
      " 220    WEST DEER 00 06 (2190006)\n",
      " 514    WEST DEER 00 07 (2190007)\n",
      " 457    WEST DEER 00 08 (2190008)\n",
      "  95  W ELIZABETH 00 01 (2200001)\n",
      " 308  W HOMESTEAD 00 01 (2210001)\n",
      "  84  W HOMESTEAD 00 02 (2210002)\n",
      " 111  W HOMESTEAD 00 03 (2210003)\n",
      " 221 WEST MIFFLIN 00 01 (2220001)\n",
      " 160 WEST MIFFLIN 00 02 (2220002)\n",
      " 150 WEST MIFFLIN 00 03 (2220003)\n",
      " 290 WEST MIFFLIN 00 04 (2220004)\n",
      " 215 WEST MIFFLIN 00 05 (2220005)\n",
      " 112 WEST MIFFLIN 00 06 (2220006)\n",
      " 211 WEST MIFFLIN 00 07 (2220007)\n",
      " 241 WEST MIFFLIN 00 08 (2220008)\n",
      " 250 WEST MIFFLIN 00 09 (2220009)\n",
      " 170 WEST MIFFLIN 00 10 (2220010)\n",
      " 309 WEST MIFFLIN 00 11 (2220011)\n",
      " 380 WEST MIFFLIN 00 12 (2220012)\n",
      " 229 WEST MIFFLIN 00 13 (2220013)\n",
      " 198 WEST MIFFLIN 00 14 (2220014)\n",
      " 179 WEST MIFFLIN 00 15 (2220015)\n",
      " 277 WEST MIFFLIN 00 16 (2220016)\n",
      " 138 WEST MIFFLIN 00 17 (2220017)\n",
      " 225 WEST MIFFLIN 00 18 (2220018)\n",
      " 142 WEST MIFFLIN 00 19 (2220019)\n",
      " 105 WEST MIFFLIN 00 20 (2220020)\n",
      " 188 WEST MIFFLIN 00 21 (2220021)\n",
      " 231    WEST VIEW 00 01 (2230001)\n",
      " 256    WEST VIEW 00 02 (2230002)\n",
      " 207    WEST VIEW 00 03 (2230003)\n",
      " 154    WEST VIEW 00 04 (2230004)\n",
      " 247    WEST VIEW 00 05 (2230005)\n",
      " 213    WEST VIEW 00 06 (2230006)\n",
      " 193    WEST VIEW 00 07 (2230007)\n",
      " 133     WHITAKER 00 01 (2240001)\n",
      " 177     WHITAKER 00 02 (2240002)\n",
      " 122    WHITEHALL 00 01 (2250001)\n",
      " 133    WHITEHALL 00 02 (2250002)\n",
      " 145    WHITEHALL 00 03 (2250003)\n",
      " 125    WHITEHALL 00 04 (2250004)\n",
      " 144    WHITEHALL 00 05 (2250005)\n",
      " 608    WHITEHALL 00 06 (2250006)\n",
      " 137    WHITEHALL 00 07 (2250007)\n",
      " 144    WHITEHALL 00 08 (2250008)\n",
      " 167    WHITEHALL 00 09 (2250009)\n",
      " 138    WHITEHALL 00 10 (2250010)\n",
      " 110    WHITEHALL 00 11 (2250011)\n",
      " 124    WHITEHALL 00 12 (2250012)\n",
      " 117    WHITEHALL 00 13 (2250013)\n",
      " 113    WHITEHALL 00 14 (2250014)\n",
      " 261    WHITEHALL 00 15 (2250015)\n",
      " 126    WHITEHALL 00 16 (2250016)\n",
      " 309    WHITE OAK 00 01 (2260001)\n",
      " 312    WHITE OAK 00 02 (2260002)\n",
      " 368    WHITE OAK 00 03 (2260003)\n",
      " 215    WHITE OAK 00 04 (2260004)\n",
      " 246    WHITE OAK 00 05 (2260005)\n",
      " 290    WHITE OAK 00 06 (2260006)\n",
      " 432    WHITE OAK 00 07 (2260007)\n",
      " 304      WILKINS 01 01 (2270101)\n",
      " 134      WILKINS 01 02 (2270102)\n",
      " 183      WILKINS 01 03 (2270103)\n",
      " 146      WILKINS 01 04 (2270104)\n",
      " 205      WILKINS 01 05 (2270105)\n",
      " 183      WILKINS 02 01 (2270201)\n",
      " 341      WILKINS 02 02 (2270202)\n",
      " 522  WILKINSBURG 01 01 (2280101)\n",
      " 367  WILKINSBURG 01 02 (2280102)\n",
      " 240  WILKINSBURG 01 03 (2280103)\n",
      " 199  WILKINSBURG 01 04 (2280104)\n",
      " 212  WILKINSBURG 01 05 (2280105)\n",
      " 571  WILKINSBURG 01 06 (2280106)\n",
      " 397  WILKINSBURG 02 01 (2280201)\n",
      " 331  WILKINSBURG 02 02 (2280202)\n",
      " 451  WILKINSBURG 02 03 (2280203)\n",
      " 291  WILKINSBURG 02 04 (2280204)\n",
      " 464  WILKINSBURG 02 05 (2280205)\n",
      " 235  WILKINSBURG 03 01 (2280301)\n",
      " 312  WILKINSBURG 03 02 (2280302)\n",
      " 423  WILKINSBURG 03 03 (2280303)\n",
      " 571  WILKINSBURG 03 04 (2280304)\n",
      " 605  WILKINSBURG 03 05 (2280305)\n",
      " 280  WILKINSBURG 03 06 (2280306)\n",
      " 316   WILMERDING 00 01 (2290001)\n",
      " 329   WILMERDING 00 02 (2290002)\n"
     ]
    }
   ],
   "source": [
    "msv_per_precinct = vdf_2018_10_msv.groupby(['Dist1'])\n",
    "for precinct,group in msv_per_precinct:\n",
    "    pp=pp_info[precinct]\n",
    "    print \"%4d %12s %02d %02d (%s)\" % (len(group), pp['muni_name'], int(pp['ward']), int(pp['district']), precinct)"
   ]
  },
  {
   "cell_type": "code",
   "execution_count": 440,
   "metadata": {},
   "outputs": [
    {
     "data": {
      "text/plain": [
       "1322"
      ]
     },
     "execution_count": 440,
     "metadata": {},
     "output_type": "execute_result"
    }
   ],
   "source": [
    "len(msv_per_precinct)"
   ]
  },
  {
   "cell_type": "markdown",
   "metadata": {},
   "source": [
    "# Generate random points in census blocks"
   ]
  },
  {
   "cell_type": "code",
   "execution_count": 82,
   "metadata": {},
   "outputs": [],
   "source": [
    "# From http://localhost:8820/notebooks/projects/demographics/Get%20random%20census%20block%20points%20from%20prototiles.ipynb\n",
    "import numpy as np\n",
    "numpy_record_type = [('x','<f4'), ('y','<f4'), ('blockIdx', '<i4'), ('subIdx', '<i4')]\n",
    "all_pts = np.memmap('prototiles/master-sorted-by-block.bin', dtype=numpy_record_type)\n",
    "\n",
    "def find_point_idx(block_idx):\n",
    "    min_idx = 0\n",
    "    max_idx = len(all_pts) - 1\n",
    "    while min_idx <= max_idx:\n",
    "        test_idx = int((min_idx + max_idx) / 2)\n",
    "        if block_idx > all_pts[test_idx][2]:\n",
    "            min_idx = test_idx + 1\n",
    "        elif block_idx < all_pts[test_idx][2] or all_pts[test_idx][3] != 0:\n",
    "            max_idx = test_idx - 1\n",
    "        else:\n",
    "            return test_idx\n",
    "    return [min_idx, max_idx]\n",
    "\n",
    "        \n",
    "def block_points(block_idx):\n",
    "    ret = []\n",
    "    idx = find_point_idx(block_idx)\n",
    "    assert all_pts[idx][2] == block_idx and all_pts[idx][3] == 0\n",
    "    while idx < len(all_pts):\n",
    "        if all_pts[idx][2] == block_idx:\n",
    "            ret.append({'x':all_pts[idx][0], 'y':all_pts[idx][1]})\n",
    "        else:\n",
    "            break\n",
    "        idx += 1\n",
    "    return ret"
   ]
  },
  {
   "cell_type": "code",
   "execution_count": 83,
   "metadata": {},
   "outputs": [],
   "source": [
    "import json\n",
    "block_geoids_2010 = json.load(open('block_geoids_2010.json'))\n",
    "\n",
    "geoid2idx = {}\n",
    "for i in range(0, len(block_geoids_2010)):\n",
    "    geoid2idx[block_geoids_2010[i]] = i+1"
   ]
  },
  {
   "cell_type": "code",
   "execution_count": 84,
   "metadata": {},
   "outputs": [],
   "source": [
    "# For each census block, keep track of what voter each index has been assigned to\n",
    "# Top level key is census block number, secondary key is 'next' for keeping track of the next index to be assigned,\n",
    "# 'points' for the value returned by block_points, and voter ID: index for other entries\n",
    "block_id_use_map={}"
   ]
  },
  {
   "cell_type": "code",
   "execution_count": 85,
   "metadata": {},
   "outputs": [],
   "source": [
    "# Keep track of which census blocks overflowed the number of points\n",
    "block_id_overflow_set=set()"
   ]
  },
  {
   "cell_type": "code",
   "execution_count": 86,
   "metadata": {},
   "outputs": [],
   "source": [
    "def block_get_voter_coords(census_block, vid):\n",
    "    if(not census_block in block_id_use_map):\n",
    "        # Need to create an entry, set 'next' to 0, initialize points\n",
    "        # First convert from GEOID10 to the index into the block_idx\n",
    "        block_idx = geoid2idx[census_block]\n",
    "        point_arr = block_points(block_idx)\n",
    "        block_id_use_map[census_block]={'next':0, 'points':point_arr, 'numpoints':len(point_arr)}\n",
    "    # We know census_block is in block_id_use_map (which we may have just added)\n",
    "    # Check if this voter ID is already registered\n",
    "    if(vid in block_id_use_map[census_block]):\n",
    "        # Already assigned, just use the same index as before\n",
    "        point_idx=block_id_use_map[census_block][vid]\n",
    "    else:\n",
    "        # Not yet assigned, take the next available \n",
    "        # and increment 'next'\n",
    "        point_idx = block_id_use_map[census_block]['next']\n",
    "        if(point_idx>block_id_use_map[census_block]['numpoints']-1):\n",
    "            # Overflow\n",
    "            if(not census_block in block_id_overflow_set):\n",
    "                block_id_overflow_set.add(census_block)\n",
    "                print \"WARNING: overflow in census block %s\" % (census_block)\n",
    "            # For now, just start reassigning numbers back at 0\n",
    "            point_idx=0\n",
    "            block_id_use_map[census_block]['next']=0\n",
    "        block_id_use_map[census_block]['next'] = point_idx + 1\n",
    "        block_id_use_map[census_block][vid] = point_idx\n",
    "        \n",
    "    # Retrieve the webmercator point from the points array.\n",
    "    # Convert it to lat lon and create a Point to return.\n",
    "    # Note that WebMercatorToLonLat(x,y) returns [lon, lat]\n",
    "    # the args to create a Point are also (lon, lat)\n",
    "    point_xy = block_id_use_map[census_block]['points'][point_idx]\n",
    "    ll_arr = WebMercatorToLonLat(point_xy['x'],point_xy['y'])\n",
    "    return Point(ll_arr[0], ll_arr[1])"
   ]
  },
  {
   "cell_type": "code",
   "execution_count": 87,
   "metadata": {},
   "outputs": [],
   "source": [
    "def voter_get_coords_for_addr_history(vid, force_update):\n",
    "    if(not vid in voter_map):\n",
    "        print \"WARNING: %s not in voter_map\" % (vid)\n",
    "        return\n",
    "    vrec = voter_map[vid]\n",
    "    if(not 'addr_arr' in vrec):\n",
    "        print \"WARNING: %s missing addr_arr in voter_map, re-run voter_process_address_history_array\" % (vid)\n",
    "        return\n",
    "\n",
    "    addr_arr = vrec['addr_arr']\n",
    "    for j in range(0,len(addr_arr)):\n",
    "        addr_rec = vrec['addr_arr'][j]\n",
    "        if(not 'census_block' in addr_rec):\n",
    "            print \"WARNING %s: '%s' lacks 'census_block', skipping\" % (vid, this_addr)\n",
    "            continue\n",
    "        # census_block might be None, in which case don't get coords\n",
    "        if(addr_rec['census_block']==None):\n",
    "            continue\n",
    "        try:\n",
    "            coords = block_get_voter_coords(addr_rec['census_block'], vid)\n",
    "            #print \"Assigning %r to %s[%d]='%s'\"%(coords, vid,j,addr_rec['census_block'])\n",
    "            #voter_map[vid]['addr_arr'][j]['latlon'] = coords\n",
    "            addr_rec['latlon'] = coords\n",
    "        except Exception as e:\n",
    "            print \"ERROR: Exception getting coords for %s[%d]='%s': %s\"%(vid,j,addr_rec['census_block'],e)\n",
    "\n",
    "def voter_get_coords_for_addr_history_array(vid_arr, force_update):\n",
    "    start=arrow.now()\n",
    "    chunk_start_time=start\n",
    "    chunk_size=10000\n",
    "\n",
    "    for i in range(0,len(vid_arr)):\n",
    "        vid = vid_arr[i]\n",
    "        voter_get_coords_for_addr_history(vid, force_update)\n",
    "        \n",
    "        # Handle periodic debug message\n",
    "        if((i%chunk_size)==0 and i>0):\n",
    "            print \"%d-%d: processing %r, %d in todo set, %d non-geolocatable, %s time elapsed\" %(i-(chunk_size-1), i, vid, \n",
    "                                                                                                 len(addrs_to_blocks_todo_set), len(non_geolocatable_addrs_set),\n",
    "                                                                                                 arrow.now()-chunk_start_time)\n",
    "            addcnt=0\n",
    "            chunk_start_time=arrow.now()\n",
    "\n",
    "    end=arrow.now()\n",
    "    print \"Processing took %s for %d addresses\" % (str(end-start), len(vid_arr))"
   ]
  },
  {
   "cell_type": "code",
   "execution_count": null,
   "metadata": {},
   "outputs": [],
   "source": [
    "voter_get_coords_for_addr_history_array(all_vids, False)"
   ]
  },
  {
   "cell_type": "code",
   "execution_count": 353,
   "metadata": {},
   "outputs": [
    {
     "data": {
      "text/plain": [
       "90"
      ]
     },
     "execution_count": 353,
     "metadata": {},
     "output_type": "execute_result"
    }
   ],
   "source": [
    "len(block_id_overflow_set)"
   ]
  },
  {
   "cell_type": "code",
   "execution_count": 368,
   "metadata": {},
   "outputs": [],
   "source": [
    "overflow_block_ids=list(block_id_overflow_set)\n",
    "numpoints = map(lambda x: block_id_use_map[x]['numpoints'], overflow_block_ids)\n",
    "numvoters = map(lambda x: len(block_id_use_map[x])-3, overflow_block_ids)"
   ]
  },
  {
   "cell_type": "code",
   "execution_count": 369,
   "metadata": {},
   "outputs": [],
   "source": [
    "overflow_blocks_df=pd.DataFrame(zip(overflow_block_ids,numpoints,numvoters),columns=['GEOID10','numpoints','numvoters'])"
   ]
  },
  {
   "cell_type": "code",
   "execution_count": 373,
   "metadata": {},
   "outputs": [],
   "source": [
    "overflow_blocks_df=pd.DataFrame(zip(numpoints,numvoters),columns=['numpoints','numvoters'],index=overflow_block_ids)"
   ]
  },
  {
   "cell_type": "code",
   "execution_count": null,
   "metadata": {},
   "outputs": [],
   "source": [
    "overflow_blocks_df"
   ]
  },
  {
   "cell_type": "code",
   "execution_count": 375,
   "metadata": {},
   "outputs": [],
   "source": [
    "overflow_blocks_df.to_csv('voters/overflow_blocks_df.csv')"
   ]
  },
  {
   "cell_type": "markdown",
   "metadata": {},
   "source": [
    "## Debug census block dots"
   ]
  },
  {
   "cell_type": "code",
   "execution_count": 378,
   "metadata": {},
   "outputs": [
    {
     "data": {
      "text/plain": [
       "{'DOB': '9/29/1926',\n",
       " 'addr_arr': [{'address': '500 CHAPEL HARBOR DR PITTSBURGH PA 15238',\n",
       "   'census_block': None,\n",
       "   'date': datetime.datetime(1956, 1, 1, 0, 0)},\n",
       "  {'address': '1094 FOX CHAPEL RD PITTSBURGH PA 15238',\n",
       "   'census_block': u'420034220001019',\n",
       "   'date': datetime.datetime(2018, 8, 14, 0, 0),\n",
       "   'latlon': <shapely.geometry.point.Point at 0x7f4babaa1e90>}],\n",
       " 'addresses': {'2017-11': '500 CHAPEL HARBOR DR PITTSBURGH PA 15238',\n",
       "  '2018-03': '500 CHAPEL HARBOR DR PITTSBURGH PA 15238',\n",
       "  '2018-08': '1094 FOX CHAPEL RD PITTSBURGH PA 15238'},\n",
       " 'reg_date': datetime.datetime(1956, 1, 1, 0, 0),\n",
       " 'reg_info': {'2017-11': {'party': 'R', 'status': 'A'},\n",
       "  '2018-03': {'party': 'R', 'status': 'A'},\n",
       "  '2018-08': {'party': 'R', 'status': 'A'}}}"
      ]
     },
     "execution_count": 378,
     "metadata": {},
     "output_type": "execute_result"
    }
   ],
   "source": [
    "voter_map[all_vids[1]]"
   ]
  },
  {
   "cell_type": "code",
   "execution_count": 326,
   "metadata": {},
   "outputs": [
    {
     "data": {
      "text/plain": [
       "u'420034220001019'"
      ]
     },
     "execution_count": 326,
     "metadata": {},
     "output_type": "execute_result"
    }
   ],
   "source": [
    "census_block = voter_map[all_vids[1]]['addr_arr'][1]['census_block']\n",
    "census_block"
   ]
  },
  {
   "cell_type": "code",
   "execution_count": 330,
   "metadata": {},
   "outputs": [
    {
     "data": {
      "text/plain": [
       "'POINT (-79.86298799514771 40.53353520356066)'"
      ]
     },
     "execution_count": 330,
     "metadata": {},
     "output_type": "execute_result"
    }
   ],
   "source": [
    "str(block_get_voter_coords(census_block, all_vids[1]))"
   ]
  },
  {
   "cell_type": "code",
   "execution_count": 345,
   "metadata": {},
   "outputs": [
    {
     "data": {
      "text/plain": [
       "60"
      ]
     },
     "execution_count": 345,
     "metadata": {},
     "output_type": "execute_result"
    }
   ],
   "source": [
    "len(block_id_use_map['420030201001005']['points'])"
   ]
  },
  {
   "cell_type": "code",
   "execution_count": 347,
   "metadata": {},
   "outputs": [
    {
     "data": {
      "text/plain": [
       "184"
      ]
     },
     "execution_count": 347,
     "metadata": {},
     "output_type": "execute_result"
    }
   ],
   "source": [
    "block_id_use_map['420030201001005']['next']"
   ]
  },
  {
   "cell_type": "code",
   "execution_count": 327,
   "metadata": {},
   "outputs": [
    {
     "data": {
      "text/plain": [
       "8118177"
      ]
     },
     "execution_count": 327,
     "metadata": {},
     "output_type": "execute_result"
    }
   ],
   "source": [
    "block_idx = geoid2idx[census_block]\n",
    "block_idx"
   ]
  },
  {
   "cell_type": "code",
   "execution_count": null,
   "metadata": {},
   "outputs": [],
   "source": [
    "block_points(block_idx)"
   ]
  },
  {
   "cell_type": "markdown",
   "metadata": {},
   "source": [
    "# Write out dots files"
   ]
  },
  {
   "cell_type": "code",
   "execution_count": 244,
   "metadata": {},
   "outputs": [
    {
     "data": {
      "text/plain": [
       "instance"
      ]
     },
     "execution_count": 244,
     "metadata": {},
     "output_type": "execute_result"
    }
   ],
   "source": [
    "c=Colormap([\n",
    "    '#414141',\n",
    "    '#ff0000',\n",
    "    '#ffff00',\n",
    "    '#00ff00'\n",
    "])\n",
    "type(c[255])"
   ]
  },
  {
   "cell_type": "code",
   "execution_count": 245,
   "metadata": {},
   "outputs": [
    {
     "data": {
      "text/plain": [
       "True"
      ]
     },
     "execution_count": 245,
     "metadata": {},
     "output_type": "execute_result"
    }
   ],
   "source": [
    "isinstance(c[255], Color)"
   ]
  },
  {
   "cell_type": "code",
   "execution_count": 251,
   "metadata": {},
   "outputs": [
    {
     "data": {
      "text/plain": [
       "array([  0, 255,   0, 255], dtype=uint8)"
      ]
     },
     "execution_count": 251,
     "metadata": {},
     "output_type": "execute_result"
    }
   ],
   "source": [
    "varr = c[255].array()\n",
    "pack_color({'r': 17 * int(c[0:1], 16),\n",
    "                               'g': 17 * int(c[1:2], 16),\n",
    "                               'b': 17 * int(c[2:3], 16)})"
   ]
  },
  {
   "cell_type": "code",
   "execution_count": 252,
   "metadata": {},
   "outputs": [],
   "source": [
    "exec_ipynb('colormaps.ipynb')"
   ]
  },
  {
   "cell_type": "code",
   "execution_count": 255,
   "metadata": {},
   "outputs": [
    {
     "data": {
      "text/plain": [
       "65280.0"
      ]
     },
     "execution_count": 255,
     "metadata": {},
     "output_type": "execute_result"
    }
   ],
   "source": [
    "parse_color(c[255])"
   ]
  },
  {
   "cell_type": "code",
   "execution_count": 44,
   "metadata": {},
   "outputs": [],
   "source": [
    "def color_from_floats(r,g,b):\n",
    "    return r + g * 256.0 + b * 256.0 * 256.0\n",
    "\n",
    "def pack_color(color):\n",
    "    return color['r'] + color['g'] * 256.0 + color['b'] * 256.0 * 256.0;\n",
    "\n",
    "def parse_color(color):\n",
    "    if(isinstance(color, Color)):\n",
    "        return color.float()\n",
    "        \n",
    "    color = color.strip()\n",
    "    c = color\n",
    "    try:\n",
    "        if c[0] == '#':\n",
    "            c = c[1:]\n",
    "        if len(c) == 3:\n",
    "            return pack_color({'r': 17 * int(c[0:1], 16),\n",
    "                               'g': 17 * int(c[1:2], 16),\n",
    "                               'b': 17 * int(c[2:3], 16)})\n",
    "        if len(c) == 6:\n",
    "            return pack_color({'r': int(c[0:2], 16),\n",
    "                               'g': int(c[2:4], 16),\n",
    "                               'b': int(c[4:6], 16)})\n",
    "    except:\n",
    "        pass\n",
    "    raise InvalidUsage('Cannot parse color <code><b>%s</b></code> from spreadsheet.<br><br>Color must be in standard web form, <code><b>#RRGGBB</b></code>, where RR, GG, and BB are each two-digit hexadecimal numbers between 00 and FF.<br><br>See <a href=\"https://www.w3schools.com/colors/colors_picker.asp\">HTML Color Picker</a>' % color)\n",
    "\n",
    "def parse_colors(colors):\n",
    "    packed = [parse_color(color) for color in colors]\n",
    "    return numpy.array(packed, dtype = numpy.float32)"
   ]
  },
  {
   "cell_type": "code",
   "execution_count": 111,
   "metadata": {},
   "outputs": [],
   "source": [
    "out_suffix=\"05_09_13_17_18_18_18\""
   ]
  },
  {
   "cell_type": "markdown",
   "metadata": {},
   "source": [
    "## Party registration to color"
   ]
  },
  {
   "cell_type": "code",
   "execution_count": 43,
   "metadata": {},
   "outputs": [],
   "source": [
    "max_datetime = dateparser.parse('12/31/3000')\n",
    "two_years_from_now = datetime.datetime.now() + timedelta(days=365*2)\n",
    "\n",
    "start=arrow.now()\n",
    "\n",
    "dem_a_color = '#0000fb'\n",
    "rep_a_color = '#db0404'\n",
    "dem_i_color = '#254b87'\n",
    "rep_i_color = '#821616'\n",
    "#other_color = '#decc64'\n",
    "other_color = '#505050'\n",
    "unknown_color = '#303030'\n",
    "\n",
    "def vid_to_color(vid, month_str):\n",
    "    if (not vid in voter_map):\n",
    "        return unknown_color\n",
    "    vrec = voter_map[vid]\n",
    "    if(month_str in vrec['reg_info']):\n",
    "        rrec = vrec['reg_info'][month_str]\n",
    "        if(rrec['party']=='D' and rrec['status']=='A'):\n",
    "            return dem_a_color\n",
    "        elif(rrec['party']=='D' and rrec['status']=='I'):\n",
    "            return dem_i_color\n",
    "        elif(rrec['party']=='R' and rrec['status']=='A'):\n",
    "            return rep_a_color\n",
    "        elif(rrec['party']=='R' and rrec['status']=='I'):\n",
    "            return rep_i_color\n",
    "        else:\n",
    "            return other_color\n",
    "    return unknown_color"
   ]
  },
  {
   "cell_type": "markdown",
   "metadata": {},
   "source": [
    "## Num moves to color"
   ]
  },
  {
   "cell_type": "code",
   "execution_count": 45,
   "metadata": {},
   "outputs": [],
   "source": [
    "# Takes the Voter ID and a date to generate a color for; \n",
    "# returns a tuple of (color,next_date)\n",
    "vol_colors = ['#a50026','#cd2827','#e75436','#f7804b','#fdad61','#fed788','#ffffbf','#b9e0ed','#8dc0db','#699fca','#4d7db9','#3e5aa7','#313695']\n",
    "def num_moves_to_color(vid, color_date):\n",
    "    if (not vid in voter_map):\n",
    "        return unknown_color\n",
    "    vrec = voter_map[vid]\n",
    "    \n",
    "    color = unknown_color\n",
    "    addr_index=None\n",
    "    \n",
    "    # Find the index of the first address with addr_end_date > color_date\n",
    "    for a_i in range(0,len(vrec['addr_arr'])):\n",
    "        addr_rec = vrec['addr_arr'][a_i]\n",
    "\n",
    "        # Get the start time for this address.\n",
    "        addr_start_date = vrec['addr_arr'][a_i]['date']\n",
    "\n",
    "        # Find the end time for this address.\n",
    "        # If this is the last address \n",
    "        # and the voter hasn't moved away, set end_date to max\n",
    "        addr_end_date=max_datetime\n",
    "        if(a_i<len(vrec['addr_arr'])-1):\n",
    "            # There's another address after this one, set end_date\n",
    "            # to the start of the next address\n",
    "            addr_end_date = vrec['addr_arr'][a_i+1]['date']\n",
    "        else:\n",
    "            # Check if they moved away\n",
    "            moved_ms = check_voter_moved_away(vid)\n",
    "            if(moved_ms):\n",
    "                addr_end_date = monthstr_to_date_map[moved_ms]\n",
    "        if(addr_end_date>color_date):\n",
    "            addr_index=a_i\n",
    "            break\n",
    "            \n",
    "    if(not addr_index==None):\n",
    "        # We have a valid value, get the color\n",
    "    \n",
    "        if (addr_index < 1):\n",
    "            color = vol_colors[0]\n",
    "        #elif (volume < 3):\n",
    "        #    return parse_color(vol_colors[1]) \n",
    "        #elif (volume < 4):\n",
    "        #    return parse_color(vol_colors[2]) \n",
    "        #elif (volume < 5):\n",
    "        #    return parse_color(vol_colors[3]) \n",
    "        elif (addr_index < 2):\n",
    "            color = vol_colors[4]\n",
    "        #elif (volume < 20):\n",
    "        #    return parse_color(vol_colors[5]) \n",
    "        #elif (addr_index < 3):\n",
    "        #    color = vol_colors[6]\n",
    "        elif (addr_index < 3):\n",
    "            color = vol_colors[7] \n",
    "        #elif (addr_index < 5):\n",
    "        #    return parse_color(vol_colors[8]) \n",
    "        elif (addr_index < 4):\n",
    "            color = vol_colors[9]\n",
    "        #elif (volume < 300):\n",
    "        #    return parse_color(vol_colors[10]) \n",
    "        #elif (volume < 500):\n",
    "        #    return parse_color(vol_colors[11]) \n",
    "        else:\n",
    "            color = vol_colors[12]\n",
    "        \n",
    "    return(color,addr_end_date)"
   ]
  },
  {
   "cell_type": "code",
   "execution_count": 46,
   "metadata": {},
   "outputs": [
    {
     "name": "stdout",
     "output_type": "stream",
     "text": [
      "#a50026, 2009-07-22 00:00:00\n"
     ]
    },
    {
     "data": {
      "text/plain": [
       "('#699fca', datetime.datetime(2018, 8, 14, 0, 0))"
      ]
     },
     "execution_count": 46,
     "metadata": {},
     "output_type": "execute_result"
    }
   ],
   "source": [
    "start_date=dateparser.parse('1990-12-01')\n",
    "(color, next_start_date) = num_moves_to_color('002015745-02', start_date)\n",
    "print \"%s, %s\" % (color, next_start_date)\n",
    "\n",
    "start_date=dateparser.parse('2017-11-30')\n",
    "num_moves_to_color('002015745-02', start_date)"
   ]
  },
  {
   "cell_type": "code",
   "execution_count": 49,
   "metadata": {},
   "outputs": [
    {
     "data": {
      "text/plain": [
       "('#313695', datetime.datetime(3000, 12, 31, 0, 0))"
      ]
     },
     "execution_count": 49,
     "metadata": {},
     "output_type": "execute_result"
    }
   ],
   "source": [
    "start_date=dateparser.parse('2018-08-14')\n",
    "num_moves_to_color('002015745-02', start_date)"
   ]
  },
  {
   "cell_type": "markdown",
   "metadata": {},
   "source": [
    "## Moving recency"
   ]
  },
  {
   "cell_type": "code",
   "execution_count": 351,
   "metadata": {},
   "outputs": [],
   "source": [
    "# Moving recency, voted since move =yes color map\n",
    "mr_vy_cmap = Colormap(['#9e5df7','#9244ff','#4f14a0'])\n",
    "# Moving recency, voted since move =no color map\n",
    "mr_vn_cmap = Colormap(['#ffffff','#fcf883','#f7ef00'])\n",
    "unknown_color = Color('#303030')\n",
    "\n",
    "# Number of years since last move when we bottom out on the color map\n",
    "mr_sat_yrs = 10\n",
    "\n",
    "def mr_yrs_to_idx(years):\n",
    "    # Saturate at mr_sat_yrs\n",
    "    years=min(years, float(mr_sat_yrs))\n",
    "    idx = int(float(years)*255.0/(float(mr_sat_yrs)))\n",
    "    return(idx)\n",
    "\n",
    "# Takes the Voter ID and a date to generate a color for; \n",
    "# returns a tuple of (color,next_date)\n",
    "\n",
    "def move_recency_to_color(vid, color_date):\n",
    "    if (not vid in voter_map or not 'addr_arr' in voter_map[vid] or not 'vote_info' in voter_map[vid]):\n",
    "        return (unknown_color, max_datetime)\n",
    "    \n",
    "    vrec = voter_map[vid]\n",
    "    \n",
    "    color = unknown_color\n",
    "    addr_index=None\n",
    "    \n",
    "    # Find the index of the first address with addr_end_date > color_date\n",
    "    for a_i in range(0,len(vrec['addr_arr'])):\n",
    "        addr_rec = vrec['addr_arr'][a_i]\n",
    "\n",
    "        # Get the start time for this address.\n",
    "        addr_start_date = vrec['addr_arr'][a_i]['date']\n",
    "\n",
    "        # Find the end time for this address.\n",
    "        # If this is the last address \n",
    "        # and the voter hasn't moved away, set end_date to max\n",
    "        addr_end_date=max_datetime\n",
    "        if(a_i<len(vrec['addr_arr'])-1):\n",
    "            # There's another address after this one, set end_date\n",
    "            # to the start of the next address\n",
    "            addr_end_date = vrec['addr_arr'][a_i+1]['date']\n",
    "        else:\n",
    "            # Check if they moved away\n",
    "            moved_ms = check_voter_moved_away(vid)\n",
    "            if(moved_ms):\n",
    "                addr_end_date = monthstr_to_date_map[moved_ms]\n",
    "        if(addr_end_date>color_date):\n",
    "            addr_index=a_i\n",
    "            break\n",
    "            \n",
    "    if(addr_index==None):\n",
    "        # Don't have an address for this person yet, return unknown_color and max_datetype\n",
    "        return(unknown_color, max_datetime)\n",
    "    \n",
    "    # We do have an address for this person starting at addr_start_date.\n",
    "    # Check to see if this person has voted since moving there\n",
    "    vote_info_map=voter_map[vid]['vote_info']\n",
    "    voted_since_move=False\n",
    "    \n",
    "    next_vote_rec=get_next_vote_str_rec_after_date(vote_info_map, addr_start_date)\n",
    "    next_vote_date=None\n",
    "    if(next_vote_rec):\n",
    "        next_vote_date = next_vote_rec[1]['date']\n",
    "        if(next_vote_date<=color_date):\n",
    "            voted_since_move=True\n",
    "    \n",
    "    # Calculate how long ago they moved\n",
    "    timedelta_since_last_move = color_date-addr_start_date\n",
    "    yrs_ago= float(timedelta_since_last_move.days)/365.0\n",
    "       \n",
    "    # Calculate the index for this color\n",
    "    color_idx = mr_yrs_to_idx(yrs_ago)\n",
    "    \n",
    "    # Use the color map based on voted_since_move\n",
    "    color = mr_vy_cmap[color_idx] if voted_since_move else mr_vn_cmap[color_idx]\n",
    "    \n",
    "    #print \"%s: %s [%s] curr addr %s->%s [%d], vote_date=%s (%s), %f years since last move\" % (color_date, color, voted_since_move,\n",
    "    #                                                                                          addr_start_date, addr_end_date, addr_index, \n",
    "    #                                                                                          next_vote_date, next_vote_rec[0] if next_vote_rec else 'None',\n",
    "    #                                                                                          yrs_ago)\n",
    "\n",
    "    # Compute the end time for this color.  \n",
    "    td_1yr = timedelta(days=365)\n",
    "    next_year = color_date+td_1yr\n",
    "    next_date = min(addr_end_date if addr_end_date else max_datetime, \n",
    "                    next_vote_date if next_vote_date and next_vote_date>color_date and not voted_since_move else max_datetime)\n",
    "\n",
    "    if(next_date < next_year):\n",
    "        # Address/vote comes sooner than a year from now, use that\n",
    "        return(color,next_date)\n",
    "    elif(next_year>=two_years_from_now):\n",
    "        # Next year is too far in the future. End now\n",
    "        return(color,max_datetime)\n",
    "    elif(yrs_ago<mr_sat_yrs):\n",
    "        # The next move/voting event is more than a year away and \n",
    "        # we have not yet hit rock bottom.\n",
    "        # Just use next_year as the return value[1]\n",
    "        return(color,next_year)\n",
    "\n",
    "    # We have hit rock bottom, return next_date    \n",
    "    return(color,next_date)\n",
    "\n",
    "    "
   ]
  },
  {
   "cell_type": "code",
   "execution_count": 375,
   "metadata": {},
   "outputs": [
    {
     "name": "stdout",
     "output_type": "stream",
     "text": [
      "#ffffffff, 2014-11-04 00:00:00\n"
     ]
    }
   ],
   "source": [
    "test_vid = '104103802-02'\n",
    "start_date=voter_map[test_vid]['reg_date']\n",
    "(color, next_start_date) = move_recency_to_color(test_vid, start_date)\n",
    "print \"%s, %s\" % (color, next_start_date)\n"
   ]
  },
  {
   "cell_type": "code",
   "execution_count": 376,
   "metadata": {},
   "outputs": [
    {
     "data": {
      "text/html": [
       "<table><tr><td>%<div style=\"display: inline-block; width: 10px; height: 10px; background-color: #9c58f8ff\"></div> #9c58f8ff</td><td>2015-11-04 00:00:00</td></tr><tr><td>%<div style=\"display: inline-block; width: 10px; height: 10px; background-color: #9953faff\"></div> #9953faff</td><td>2016-11-03 00:00:00</td></tr><tr><td>%<div style=\"display: inline-block; width: 10px; height: 10px; background-color: #974efcff\"></div> #974efcff</td><td>2017-11-03 00:00:00</td></tr><tr><td>%<div style=\"display: inline-block; width: 10px; height: 10px; background-color: #9549fdff\"></div> #9549fdff</td><td>2018-11-03 00:00:00</td></tr><tr><td>%<div style=\"display: inline-block; width: 10px; height: 10px; background-color: #9244ffff\"></div> #9244ffff</td><td>2019-11-03 00:00:00</td></tr><tr><td>%<div style=\"display: inline-block; width: 10px; height: 10px; background-color: #863bedff\"></div> #863bedff</td><td>3000-12-31 00:00:00</td></tr></table>"
      ],
      "text/plain": [
       "<IPython.core.display.HTML object>"
      ]
     },
     "metadata": {},
     "output_type": "display_data"
    }
   ],
   "source": [
    "html_str = [\"<table>\"]\n",
    "while(next_start_date and next_start_date<max_datetime):\n",
    "    (color, next_start_date) = move_recency_to_color(test_vid, next_start_date)\n",
    "    html_str.append(\"<tr><td>%\")\n",
    "    html_str.append(color._repr_html_())\n",
    "    html_str.append(\"</td><td>\")\n",
    "    html_str.append(\"%s\" % (next_start_date))                 \n",
    "    html_str.append(\"</td></tr>\")\n",
    "    \n",
    "html_str.append(\"</table>\")\n",
    "display(HTML(''.join(html_str)))"
   ]
  },
  {
   "cell_type": "code",
   "execution_count": 340,
   "metadata": {},
   "outputs": [
    {
     "name": "stdout",
     "output_type": "stream",
     "text": [
      "#fefee7ff, 1952-12-31 00:00:00\n",
      "#fefccdff, 1953-12-31 00:00:00\n",
      "#fdfbb5ff, 1954-12-31 00:00:00\n",
      "#fdf99cff, 1955-12-31 00:00:00\n",
      "#fcf883ff, 1956-12-30 00:00:00\n",
      "#fbf669ff, 1957-12-30 00:00:00\n",
      "#faf44fff, 1958-12-30 00:00:00\n",
      "#f9f334ff, 1959-12-30 00:00:00\n",
      "#f8f11bff, 1960-12-29 00:00:00\n",
      "#f7ef00ff, 2004-11-02 00:00:00\n",
      "#4f14a0ff, 2013-02-19 00:00:00\n",
      "#303030, 3000-12-31 00:00:00\n"
     ]
    }
   ],
   "source": [
    "while(next_start_date and next_start_date<max_datetime):\n",
    "    (color, next_start_date) = move_recency_to_color(test_vid, next_start_date)\n",
    "    print \"%s, %s\" % (color, next_start_date)\n",
    " "
   ]
  },
  {
   "cell_type": "code",
   "execution_count": 349,
   "metadata": {},
   "outputs": [
    {
     "data": {
      "text/plain": [
       "{'DOB': '11/15/1983',\n",
       " 'addr_arr': [{'address': '4319 GRANDVIEW DR GIBSONIA PA 15044',\n",
       "   'census_block': u'420034080021000',\n",
       "   'date': datetime.datetime(2013, 11, 30, 0, 0),\n",
       "   'latlon': <shapely.geometry.point.Point at 0x7f4d48b91410>}],\n",
       " 'addresses': {'2017-11': '4319 GRANDVIEW DR GIBSONIA PA 15044',\n",
       "  '2018-03': '4319 GRANDVIEW DR GIBSONIA PA 15044',\n",
       "  '2018-08': '4319 GRANDVIEW DR GIBSONIA PA 15044',\n",
       "  '2018-10': '4319 GRANDVIEW DR GIBSONIA PA 15044'},\n",
       " 'reg_date': datetime.datetime(2013, 11, 30, 0, 0),\n",
       " 'reg_info': {'2017-11': {'party': 'D', 'status': 'A'},\n",
       "  '2018-03': {'party': 'D', 'status': 'A'},\n",
       "  '2018-08': {'party': 'D', 'status': 'A'},\n",
       "  '2018-10': {'party': 'D', 'status': 'A'}},\n",
       " 'vote_info': {'GN_11_04_14': {'how': 'AP', 'party': 'D'},\n",
       "  'GN_11_08_16': {'how': 'AB', 'party': 'D'},\n",
       "  'PR_04_26_16': {'how': 'AP', 'party': 'D'},\n",
       "  'PR_05_15_18': {'how': 'AP', 'party': 'D'},\n",
       "  'PR_05_16_17': {'how': 'AP', 'party': 'D'}}}"
      ]
     },
     "execution_count": 349,
     "metadata": {},
     "output_type": "execute_result"
    }
   ],
   "source": [
    "voter_map[test_vid]"
   ]
  },
  {
   "cell_type": "code",
   "execution_count": 374,
   "metadata": {},
   "outputs": [
    {
     "data": {
      "text/html": [
       "<table><tr><td>0:<div style=\"display: inline-block; width: 10px; height: 10px; background-color: #9e5df7ff\"></div> #9e5df7ff</td><td><div style=\"display: inline-block; width: 10px; height: 10px; background-color: #ffffffff\"></div> #ffffffff</td></tr><tr><td>1:<div style=\"display: inline-block; width: 10px; height: 10px; background-color: #9c58f9ff\"></div> #9c58f9ff</td><td><div style=\"display: inline-block; width: 10px; height: 10px; background-color: #fefee7ff\"></div> #fefee7ff</td></tr><tr><td>2:<div style=\"display: inline-block; width: 10px; height: 10px; background-color: #9953faff\"></div> #9953faff</td><td><div style=\"display: inline-block; width: 10px; height: 10px; background-color: #fefccdff\"></div> #fefccdff</td></tr><tr><td>3:<div style=\"display: inline-block; width: 10px; height: 10px; background-color: #974efcff\"></div> #974efcff</td><td><div style=\"display: inline-block; width: 10px; height: 10px; background-color: #fdfbb5ff\"></div> #fdfbb5ff</td></tr><tr><td>4:<div style=\"display: inline-block; width: 10px; height: 10px; background-color: #9449fdff\"></div> #9449fdff</td><td><div style=\"display: inline-block; width: 10px; height: 10px; background-color: #fdf99cff\"></div> #fdf99cff</td></tr><tr><td>5:<div style=\"display: inline-block; width: 10px; height: 10px; background-color: #9244ffff\"></div> #9244ffff</td><td><div style=\"display: inline-block; width: 10px; height: 10px; background-color: #fcf883ff\"></div> #fcf883ff</td></tr><tr><td>6:<div style=\"display: inline-block; width: 10px; height: 10px; background-color: #853aecff\"></div> #853aecff</td><td><div style=\"display: inline-block; width: 10px; height: 10px; background-color: #fbf669ff\"></div> #fbf669ff</td></tr><tr><td>7:<div style=\"display: inline-block; width: 10px; height: 10px; background-color: #7731d9ff\"></div> #7731d9ff</td><td><div style=\"display: inline-block; width: 10px; height: 10px; background-color: #faf44fff\"></div> #faf44fff</td></tr><tr><td>8:<div style=\"display: inline-block; width: 10px; height: 10px; background-color: #6a27c6ff\"></div> #6a27c6ff</td><td><div style=\"display: inline-block; width: 10px; height: 10px; background-color: #f9f334ff\"></div> #f9f334ff</td></tr><tr><td>9:<div style=\"display: inline-block; width: 10px; height: 10px; background-color: #5d1eb3ff\"></div> #5d1eb3ff</td><td><div style=\"display: inline-block; width: 10px; height: 10px; background-color: #f8f11bff\"></div> #f8f11bff</td></tr></table>"
      ],
      "text/plain": [
       "<IPython.core.display.HTML object>"
      ]
     },
     "metadata": {},
     "output_type": "display_data"
    }
   ],
   "source": [
    "html_str = [\"<table>\"]\n",
    "for i in range(0,mr_sat_yrs):\n",
    "    html_str.append(\"<tr><td>%d:\"%i)\n",
    "    html_str.append(mr_vy_cmap[mr_yrs_to_idx(i)]._repr_html_())\n",
    "    html_str.append(\"</td><td>\")\n",
    "    html_str.append(mr_vn_cmap[mr_yrs_to_idx(i)]._repr_html_())                 \n",
    "    html_str.append(\"</td></tr>\")\n",
    "    \n",
    "html_str.append(\"</table>\")\n",
    "display(HTML(''.join(html_str)))\n",
    "    "
   ]
  },
  {
   "cell_type": "markdown",
   "metadata": {},
   "source": [
    "## Voting recency"
   ]
  },
  {
   "cell_type": "code",
   "execution_count": 240,
   "metadata": {},
   "outputs": [],
   "source": [
    "vr_cmap = Colormap(['#ffffff','#00ff00','#008b00'])\n",
    "# Number of years since last vote when we bottom out on the color map\n",
    "vr_sat_yrs = 10\n",
    "\n",
    "def vr_yrs_to_idx(years):\n",
    "    # Saturate at vr_sat_yrs\n",
    "    years=min(years, vr_sat_yrs)\n",
    "    idx = int(float(years)*255.0/(float(vr_sat_yrs)))\n",
    "    return(idx)\n",
    "    \n",
    "# Takes the Voter ID and a date to generate a color for; \n",
    "# returns a tuple of (color,next_date)\n",
    "\n",
    "# Keep track of the last color index and start date\n",
    "# for each voter ID\n",
    "# Key is vid, value is (last_vote_rec, next_vote_rec)\n",
    "last_vr_color_state_map = {}\n",
    "\n",
    "def voting_recency_vid_to_color(vid, color_date):\n",
    "    if (not vid in voter_map or not 'vote_info' in voter_map[vid]):\n",
    "        return(unknown_color, max_datetime)\n",
    "\n",
    "    vrec = voter_map[vid]\n",
    "    vote_info_map=voter_map[vid]['vote_info']\n",
    "    \n",
    "    last_vote_date=None\n",
    "    next_vote_date=None\n",
    "\n",
    "    # Check if we remember an earlier vote\n",
    "    reset_color_state=True\n",
    "    if(vid in last_vr_color_state_map):\n",
    "        # We have a record, but it might be from a previous run\n",
    "        (last_vote_rec,next_vote_rec) = last_vr_color_state_map[vid]\n",
    "        if(last_vote_rec and last_vote_rec[1]['date']<=color_date):\n",
    "            # It's from this run, keep it\n",
    "            reset_color_state=False\n",
    "            if(last_vote_rec):\n",
    "                last_vote_date =last_vote_rec[1]['date']\n",
    "            if(next_vote_rec):\n",
    "                next_vote_date =next_vote_rec[1]['date']\n",
    "            \n",
    "    if(reset_color_state):\n",
    "        # Start from scratch\n",
    "        last_vote_rec=get_vote_str_rec_on_or_after_date(vote_info_map, color_date)\n",
    "        if(last_vote_rec):\n",
    "            last_vote_date =last_vote_rec[1]['date']\n",
    "        next_vote_rec=get_next_vote_str_rec_after_date(vote_info_map, last_vote_date)\n",
    "        if(next_vote_rec):\n",
    "            next_vote_date =next_vote_rec[1]['date']\n",
    "            \n",
    "    # If last_vote_rec is None, that means we've run out of votes, return unknown_color and end of time\n",
    "    if(not last_vote_rec):\n",
    "        return(unknown_color, max_datetime)\n",
    "    \n",
    "    # If last_vote_date is still earlier than color_date, then the first vote hasn't happend yet.\n",
    "    # Save last_vote_rec and next_vote_rec for next time and return unknown_color\n",
    "    if(last_vote_date>color_date):\n",
    "        #print \"%s: last=%s (%s) hasn't started yet\" % (color_date, last_vote_date, last_vote_rec[0])\n",
    "\n",
    "        # Save state for next time\n",
    "        last_vr_color_state_map[vid]=(last_vote_rec, next_vote_rec)\n",
    "        return(unknown_color, last_vote_date)\n",
    "    \n",
    "    # We have a last_vote_rec, see if we need to update to the next one\n",
    "    while(next_vote_rec and next_vote_date<=color_date):\n",
    "        last_vote_rec = next_vote_rec\n",
    "        last_vote_date= next_vote_date\n",
    "        next_vote_rec=get_next_vote_str_rec_after_date(vote_info_map, last_vote_date)\n",
    "        if(next_vote_rec):\n",
    "            next_vote_date =next_vote_rec[1]['date']\n",
    "        else:\n",
    "            next_vote_date=None\n",
    "        \n",
    "    # last_vote_rec is the last available at or before color_date\n",
    "    timedelta_since_last_vote = color_date-last_vote_date\n",
    "    years_since_last_vote=int(timedelta_since_last_vote.days/365)\n",
    "    \n",
    "    #print \"%s: last=%s (%s), next=%s (%s), %d years since last vote\" % (color_date, last_vote_date, last_vote_rec[0],next_vote_date, \n",
    "    #                                                                    next_vote_rec[0] if next_vote_rec else 'None',years_since_last_vote)\n",
    "    \n",
    "    # Save state for next time\n",
    "    last_vr_color_state_map[vid]=(last_vote_rec, next_vote_rec)\n",
    "        \n",
    "    # color_idx=0 (brightest) when < 1 year since last vote, darkest when >=vr_sat_yrs ago\n",
    "    yrs_ago = min(years_since_last_vote, vr_sat_yrs)\n",
    "    color_idx = vr_yrs_to_idx(yrs_ago)\n",
    "    color=vr_cmap[color_idx]\n",
    "    \n",
    "    # Compute the end time for this color.  If next_vote_date and it's < 1 from color_date, then use that.\n",
    "    # Otherwise use color_date+1 year\n",
    "    next_date = next_vote_date\n",
    "    td_1yr = timedelta(days=365)\n",
    "    next_year = color_date+td_1yr\n",
    "    # If there is a next_date, and if it's sooner than a year from now, use it.\n",
    "    # If there is no next_date and yrs_ago<vr_sat_yrs, then keep going with future \n",
    "    # years until yrs_ago==vr_sat_yrs or next_date >= two_years_from_now\n",
    "    if(not next_date):\n",
    "        # Check if they moved away\n",
    "        moved_ms = check_voter_moved_away(vid)\n",
    "        if(moved_ms):\n",
    "            addr_end_date = monthstr_to_date_map[moved_ms]\n",
    "            if(color_date>=addr_end_date):\n",
    "                # Already painted the dot to the move date, return unknown_color to max_datetime\n",
    "                return(unknown_color, max_datetime)\n",
    "            elif(addr_end_date<next_year):\n",
    "                # Moved away before the next year ends.  End at addr_end_date\n",
    "                return(color, addr_end_date)\n",
    "        # Didn't move away before next year\n",
    "        if(yrs_ago<vr_sat_yrs and next_year<two_years_from_now):\n",
    "            # Keep going with next_year\n",
    "            next_date = next_year\n",
    "        elif(not next_date or next_year>=two_years_from_now):\n",
    "            # End now\n",
    "            next_date = max_datetime\n",
    "    elif(next_year<next_date and yrs_ago<vr_sat_yrs):\n",
    "        # The next voting event is more than a year away and we have not yet hit rock bottom.\n",
    "        # Just use next_year as the return value[1]\n",
    "        next_date = next_year\n",
    "    elif(yrs_ago == vr_sat_yrs):\n",
    "        # We have hit rock bottom, return next_date\n",
    "        pass\n",
    "    elif(next_date<next_year and yrs_ago==0):\n",
    "        # The next voting event is less than a year away and we're already at max engagement, \n",
    "        # keep checking until we find a gap > 1 yr long\n",
    "        \n",
    "        #print \"Found a max engagement streak starting at %s\" % (color_date)\n",
    "        while(next_vote_rec and (next_vote_date-last_vote_date).days<365):\n",
    "            last_vote_rec = next_vote_rec\n",
    "            last_vote_date= next_vote_date\n",
    "            next_vote_rec=get_next_vote_str_rec_after_date(vote_info_map, last_vote_date)\n",
    "            if(next_vote_rec):\n",
    "                next_vote_date =next_vote_rec[1]['date']\n",
    "            else:\n",
    "                next_vote_date=None\n",
    "                #print \"  Ended at %s (Last vote record)\" % (last_vote_date)\n",
    "                # Return last_vote_date + 1 year\n",
    "                next_date = last_vote_date + timedelta(days=365)\n",
    "                \n",
    "\n",
    "        if(next_vote_date):\n",
    "            #print \"  Ended at %s (%d days -> %s)\" % (last_vote_date, (next_vote_date-last_vote_date).days, \n",
    "            #                                         next_vote_date)\n",
    "            # Return the date of the last chunk that had a gap <= 1 year apart\n",
    "            next_date = last_vote_date\n",
    "\n",
    "\n",
    "        # Save state for next time\n",
    "        last_vr_color_state_map[vid]=(last_vote_rec, next_vote_rec)\n",
    "\n",
    "        \n",
    "    #print \"  color = %s (%d), next_date=%s\"% (color, color_idx, next_date)\n",
    "    return(color, next_date)"
   ]
  },
  {
   "cell_type": "code",
   "execution_count": 242,
   "metadata": {},
   "outputs": [
    {
     "data": {
      "text/html": [
       "<div style=\"display: inline-block; width: 10px; height: 10px; background-color: #ffffffff\"></div> #ffffffff"
      ],
      "text/plain": [
       "<__main__.Color instance at 0x7f49f7c643b0>"
      ]
     },
     "metadata": {},
     "output_type": "display_data"
    },
    {
     "data": {
      "text/html": [
       "<div style=\"display: inline-block; width: 10px; height: 10px; background-color: #cdffcdff\"></div> #cdffcdff"
      ],
      "text/plain": [
       "<__main__.Color instance at 0x7f49f7c643b0>"
      ]
     },
     "metadata": {},
     "output_type": "display_data"
    },
    {
     "data": {
      "text/html": [
       "<div style=\"display: inline-block; width: 10px; height: 10px; background-color: #99ff99ff\"></div> #99ff99ff"
      ],
      "text/plain": [
       "<__main__.Color instance at 0x7f49f7c643b0>"
      ]
     },
     "metadata": {},
     "output_type": "display_data"
    },
    {
     "data": {
      "text/html": [
       "<div style=\"display: inline-block; width: 10px; height: 10px; background-color: #67ff67ff\"></div> #67ff67ff"
      ],
      "text/plain": [
       "<__main__.Color instance at 0x7f49f7c643b0>"
      ]
     },
     "metadata": {},
     "output_type": "display_data"
    },
    {
     "data": {
      "text/html": [
       "<div style=\"display: inline-block; width: 10px; height: 10px; background-color: #33ff33ff\"></div> #33ff33ff"
      ],
      "text/plain": [
       "<__main__.Color instance at 0x7f49f7c643b0>"
      ]
     },
     "metadata": {},
     "output_type": "display_data"
    },
    {
     "data": {
      "text/html": [
       "<div style=\"display: inline-block; width: 10px; height: 10px; background-color: #01ff01ff\"></div> #01ff01ff"
      ],
      "text/plain": [
       "<__main__.Color instance at 0x7f49f7c643b0>"
      ]
     },
     "metadata": {},
     "output_type": "display_data"
    },
    {
     "data": {
      "text/html": [
       "<div style=\"display: inline-block; width: 10px; height: 10px; background-color: #00e800ff\"></div> #00e800ff"
      ],
      "text/plain": [
       "<__main__.Color instance at 0x7f49f7c643b0>"
      ]
     },
     "metadata": {},
     "output_type": "display_data"
    },
    {
     "data": {
      "text/html": [
       "<div style=\"display: inline-block; width: 10px; height: 10px; background-color: #00d100ff\"></div> #00d100ff"
      ],
      "text/plain": [
       "<__main__.Color instance at 0x7f49f7c643b0>"
      ]
     },
     "metadata": {},
     "output_type": "display_data"
    },
    {
     "data": {
      "text/html": [
       "<div style=\"display: inline-block; width: 10px; height: 10px; background-color: #00b900ff\"></div> #00b900ff"
      ],
      "text/plain": [
       "<__main__.Color instance at 0x7f49f7c643b0>"
      ]
     },
     "metadata": {},
     "output_type": "display_data"
    },
    {
     "data": {
      "text/html": [
       "<div style=\"display: inline-block; width: 10px; height: 10px; background-color: #00a300ff\"></div> #00a300ff"
      ],
      "text/plain": [
       "<__main__.Color instance at 0x7f49f7c643b0>"
      ]
     },
     "metadata": {},
     "output_type": "display_data"
    }
   ],
   "source": [
    "for i in range(0,vr_sat_yrs):\n",
    "    display(vr_cmap[vr_yrs_to_idx(i)])"
   ]
  },
  {
   "cell_type": "code",
   "execution_count": 234,
   "metadata": {},
   "outputs": [
    {
     "name": "stdout",
     "output_type": "stream",
     "text": [
      "#303030, 2014-11-04 00:00:00\n"
     ]
    },
    {
     "data": {
      "text/plain": [
       "(('GN_11_04_14',\n",
       "  {'date': datetime.datetime(2014, 11, 4, 0, 0),\n",
       "   'date_type': 'exact',\n",
       "   'month_strs': {'2018-10'}}),\n",
       " ('PR_04_26_16',\n",
       "  {'date': datetime.datetime(2016, 4, 26, 0, 0),\n",
       "   'date_type': 'exact',\n",
       "   'month_strs': {'2018-10'}}))"
      ]
     },
     "execution_count": 234,
     "metadata": {},
     "output_type": "execute_result"
    }
   ],
   "source": [
    "test_vid = '104103802-02'\n",
    "start_date=dateparser.parse('2013-01-01 00:00:00')\n",
    "(color, next_start_date) = voting_recency_vid_to_color(test_vid, start_date)\n",
    "print \"%s, %s\" % (color, next_start_date)\n",
    "\n",
    "last_vr_color_state_map['104103802-02']"
   ]
  },
  {
   "cell_type": "code",
   "execution_count": 194,
   "metadata": {},
   "outputs": [
    {
     "name": "stdout",
     "output_type": "stream",
     "text": [
      "#313695, 2015-11-04 00:00:00\n",
      "#3e5aa7, 2016-04-26 00:00:00\n",
      "#313695, 2019-05-15 00:00:00\n",
      "#3e5aa7, 2020-05-14 00:00:00\n",
      "#4d7db9, 3000-12-31 00:00:00\n"
     ]
    }
   ],
   "source": [
    "while(next_start_date and next_start_date<max_datetime):\n",
    "    (color, next_start_date) = voting_recency_vid_to_color(test_vid, next_start_date)\n",
    "    print \"%s, %s\" % (color, next_start_date)"
   ]
  },
  {
   "cell_type": "code",
   "execution_count": 148,
   "metadata": {},
   "outputs": [
    {
     "data": {
      "text/plain": [
       "{'DOB': '08/22/1978',\n",
       " 'addr_arr': [{'address': '126 SYCAMORE ST W PITTSBURGH PA 15211',\n",
       "   'census_block': u'420031914001009',\n",
       "   'date': datetime.datetime(1996, 8, 1, 0, 0),\n",
       "   'latlon': <shapely.geometry.point.Point at 0x7f4cf36502d0>}],\n",
       " 'addresses': {'2009-07': '126 SYCAMORE ST W PITTSBURGH PA 15211'},\n",
       " 'reg_date': datetime.datetime(1996, 8, 1, 0, 0),\n",
       " 'reg_info': {'2009-07': {'party': 'D', 'status': 'A'}}}"
      ]
     },
     "execution_count": 148,
     "metadata": {},
     "output_type": "execute_result"
    }
   ],
   "source": [
    "voter_map['001020958-02']"
   ]
  },
  {
   "cell_type": "code",
   "execution_count": 125,
   "metadata": {},
   "outputs": [
    {
     "data": {
      "text/plain": [
       "'2017-11'"
      ]
     },
     "execution_count": 125,
     "metadata": {},
     "output_type": "execute_result"
    }
   ],
   "source": [
    "check_voter_moved_away('001908830-02')"
   ]
  },
  {
   "cell_type": "markdown",
   "metadata": {},
   "source": [
    "## Registration recency"
   ]
  },
  {
   "cell_type": "code",
   "execution_count": 273,
   "metadata": {},
   "outputs": [],
   "source": [
    "rr_cmap = Colormap(['#ffffff','#00ff00','#008b00'])\n",
    "# Number of years since last vote when we bottom out on the color map\n",
    "rr_sat_yrs = 10\n",
    "\n",
    "def rr_yrs_to_idx(years):\n",
    "    # Saturate at vr_sat_yrs\n",
    "    years=min(years, rr_sat_yrs)\n",
    "    idx = int(float(years)*255.0/(float(rr_sat_yrs)))\n",
    "    return(idx)\n",
    "\n",
    "# Takes the Voter ID and a date to generate a color for; \n",
    "# returns a tuple of (color,next_date)\n",
    "\n",
    "# Keep track of the last color index and start date\n",
    "# for each voter ID\n",
    "\n",
    "def registration_recency_vid_to_color(vid, color_date):\n",
    "    if (not vid in voter_map or not 'reg_date' in voter_map[vid]):\n",
    "        return(unknown_color, max_datetime)\n",
    "\n",
    "    vrec = voter_map[vid]\n",
    "    reg_date = voter_map[vid]['reg_date']\n",
    "   \n",
    "    # If reg_date is still earlier than color_date, then hasn't registered yet.\n",
    "    # Return unknown_color\n",
    "    if(reg_date>color_date):\n",
    "        #print \"%s: last=%s (%s) hasn't started yet\" % (color_date, last_vote_date, last_vote_rec[0])\n",
    "        return(unknown_color, reg_date)\n",
    "    \n",
    "    # last_vote_rec is the last available at or before color_date\n",
    "    timedelta_since_reg = color_date-reg_date\n",
    "    years_since_reg=int(timedelta_since_reg.days/365)\n",
    "    \n",
    "    #print \"%s: last=%s (%s), next=%s (%s), %d years since last vote\" % (color_date, last_vote_date, last_vote_rec[0],next_vote_date, \n",
    "    #                                                                    next_vote_rec[0] if next_vote_rec else 'None',years_since_reg)\n",
    "    \n",
    "    # color_idx=0 (brightest) when < 1 year since registration, darkest when >=rr_sat_yrs ago\n",
    "    yrs_ago = min(years_since_reg, rr_sat_yrs)\n",
    "    color_idx = rr_yrs_to_idx(yrs_ago)\n",
    "    color=vr_cmap[color_idx]\n",
    "    \n",
    "    # Compute the end time for this color.  \n",
    "    td_1yr = timedelta(days=365)\n",
    "    next_year = color_date+td_1yr\n",
    "    next_date = next_year\n",
    "    \n",
    "    # Check if they moved away\n",
    "    moved_ms = check_voter_moved_away(vid)\n",
    "    if(moved_ms):\n",
    "        addr_end_date = monthstr_to_date_map[moved_ms]\n",
    "        if(color_date>=addr_end_date):\n",
    "            # Already painted the dot to the move date, return unknown_color to max_datetime\n",
    "            return(unknown_color, max_datetime)\n",
    "        elif(addr_end_date<next_year):\n",
    "            # Moved away before the next year ends.  End at addr_end_date\n",
    "            return(color, addr_end_date)\n",
    "\n",
    "    # Didn't move away before next year\n",
    "    if(yrs_ago<vr_sat_yrs and next_year<two_years_from_now):\n",
    "        # Keep going with next_year\n",
    "        next_date = next_year\n",
    "    elif(next_year>=two_years_from_now):\n",
    "        # End now\n",
    "        next_date = max_datetime\n",
    "    elif(yrs_ago<vr_sat_yrs):\n",
    "        # The next voting event is more than a year away and we have not yet hit rock bottom.\n",
    "        # Just use next_year as the return value[1]\n",
    "        next_date = next_year\n",
    "    elif(yrs_ago == rr_sat_yrs):\n",
    "        # We have hit rock bottom, return max_datetime\n",
    "        next_date = max_datetime\n",
    "        \n",
    "    #print \"  color = %s (%d), next_date=%s\"% (color, color_idx, next_date)\n",
    "    return(color, next_date)"
   ]
  },
  {
   "cell_type": "code",
   "execution_count": 274,
   "metadata": {},
   "outputs": [
    {
     "data": {
      "text/html": [
       "<div style=\"display: inline-block; width: 10px; height: 10px; background-color: #ffffffff\"></div> #ffffffff"
      ],
      "text/plain": [
       "<__main__.Color instance at 0x7f4bc9e3b128>"
      ]
     },
     "metadata": {},
     "output_type": "display_data"
    },
    {
     "data": {
      "text/html": [
       "<div style=\"display: inline-block; width: 10px; height: 10px; background-color: #cdffcdff\"></div> #cdffcdff"
      ],
      "text/plain": [
       "<__main__.Color instance at 0x7f4bc9e3b128>"
      ]
     },
     "metadata": {},
     "output_type": "display_data"
    },
    {
     "data": {
      "text/html": [
       "<div style=\"display: inline-block; width: 10px; height: 10px; background-color: #99ff99ff\"></div> #99ff99ff"
      ],
      "text/plain": [
       "<__main__.Color instance at 0x7f4bc9e3b128>"
      ]
     },
     "metadata": {},
     "output_type": "display_data"
    },
    {
     "data": {
      "text/html": [
       "<div style=\"display: inline-block; width: 10px; height: 10px; background-color: #67ff67ff\"></div> #67ff67ff"
      ],
      "text/plain": [
       "<__main__.Color instance at 0x7f4bc9e3b128>"
      ]
     },
     "metadata": {},
     "output_type": "display_data"
    },
    {
     "data": {
      "text/html": [
       "<div style=\"display: inline-block; width: 10px; height: 10px; background-color: #33ff33ff\"></div> #33ff33ff"
      ],
      "text/plain": [
       "<__main__.Color instance at 0x7f4bc9e3b128>"
      ]
     },
     "metadata": {},
     "output_type": "display_data"
    },
    {
     "data": {
      "text/html": [
       "<div style=\"display: inline-block; width: 10px; height: 10px; background-color: #01ff01ff\"></div> #01ff01ff"
      ],
      "text/plain": [
       "<__main__.Color instance at 0x7f4bc9e3b128>"
      ]
     },
     "metadata": {},
     "output_type": "display_data"
    },
    {
     "data": {
      "text/html": [
       "<div style=\"display: inline-block; width: 10px; height: 10px; background-color: #00e800ff\"></div> #00e800ff"
      ],
      "text/plain": [
       "<__main__.Color instance at 0x7f4bc9e3b128>"
      ]
     },
     "metadata": {},
     "output_type": "display_data"
    },
    {
     "data": {
      "text/html": [
       "<div style=\"display: inline-block; width: 10px; height: 10px; background-color: #00d100ff\"></div> #00d100ff"
      ],
      "text/plain": [
       "<__main__.Color instance at 0x7f4bc9e3b128>"
      ]
     },
     "metadata": {},
     "output_type": "display_data"
    },
    {
     "data": {
      "text/html": [
       "<div style=\"display: inline-block; width: 10px; height: 10px; background-color: #00b900ff\"></div> #00b900ff"
      ],
      "text/plain": [
       "<__main__.Color instance at 0x7f4bc9e3b128>"
      ]
     },
     "metadata": {},
     "output_type": "display_data"
    },
    {
     "data": {
      "text/html": [
       "<div style=\"display: inline-block; width: 10px; height: 10px; background-color: #00a300ff\"></div> #00a300ff"
      ],
      "text/plain": [
       "<__main__.Color instance at 0x7f4bc9e3b128>"
      ]
     },
     "metadata": {},
     "output_type": "display_data"
    }
   ],
   "source": [
    "for i in range(0,rr_sat_yrs):\n",
    "    display(rr_cmap[rr_yrs_to_idx(i)])"
   ]
  },
  {
   "cell_type": "code",
   "execution_count": 275,
   "metadata": {},
   "outputs": [
    {
     "name": "stdout",
     "output_type": "stream",
     "text": [
      "#ffffffff, 1984-01-01 00:00:00\n"
     ]
    }
   ],
   "source": [
    "test_vid = '002965853-02'\n",
    "start_date=dateparser.parse('1983-01-01 00:00:00')\n",
    "(color, next_start_date) = registration_recency_vid_to_color(test_vid, start_date)\n",
    "print \"%s, %s\" % (color, next_start_date)"
   ]
  },
  {
   "cell_type": "code",
   "execution_count": 276,
   "metadata": {},
   "outputs": [
    {
     "name": "stdout",
     "output_type": "stream",
     "text": [
      "#cdffcdff, 1984-12-31 00:00:00\n",
      "#99ff99ff, 1985-12-31 00:00:00\n",
      "#67ff67ff, 1986-12-31 00:00:00\n",
      "#33ff33ff, 1987-12-31 00:00:00\n",
      "#01ff01ff, 1988-12-30 00:00:00\n",
      "#00e800ff, 1989-12-30 00:00:00\n",
      "#00d100ff, 1990-12-30 00:00:00\n",
      "#00b900ff, 1991-12-30 00:00:00\n",
      "#00a300ff, 1992-12-29 00:00:00\n",
      "#008b00ff, 3000-12-31 00:00:00\n"
     ]
    }
   ],
   "source": [
    "while(next_start_date and next_start_date<max_datetime):\n",
    "    (color, next_start_date) = registration_recency_vid_to_color(test_vid, next_start_date)\n",
    "    print \"%s, %s\" % (color, next_start_date)"
   ]
  },
  {
   "cell_type": "markdown",
   "metadata": {},
   "source": [
    "# Output voter dots"
   ]
  },
  {
   "cell_type": "code",
   "execution_count": 51,
   "metadata": {},
   "outputs": [],
   "source": [
    "# color_func(vid, color_date) returns (color, next_date)\n",
    "\n",
    "def output_voter_reg_dots_f(vid_arr, color_func, suffix):\n",
    "    # If vid_arr not specified, do all of the keys in voter_map\n",
    "    if(len(vid_arr)==0):\n",
    "        vid_arr=voter_map.keys()\n",
    "        \n",
    "    # Write out voter registration for each voter in vid_arr\n",
    "    points = []\n",
    "    start=arrow.now()\n",
    "    chunk_start_time=arrow.now()\n",
    "    chunk_size=10000\n",
    "    dot_cnt=0\n",
    "    \n",
    "    for v_i in range(0,len(vid_arr)):\n",
    "        try:\n",
    "            vid = vid_arr[v_i]\n",
    "            if(not vid in voter_map):\n",
    "                continue\n",
    "            vrec = voter_map[vid]\n",
    "\n",
    "            if(not 'addr_arr' in vrec):\n",
    "                continue\n",
    "\n",
    "            # Get the month_str values in sorted order for this voter\n",
    "            month_strs = sorted(vrec['reg_info'].keys())\n",
    "\n",
    "            # Keep track of the date of the last datapoint. \n",
    "            # Initialize last_date to be the registration date for this voter\n",
    "\n",
    "            last_date = vrec['reg_date']\n",
    "            last_color=0\n",
    "\n",
    "\n",
    "            # Keep track of the index of the next month_str\n",
    "            next_month_str_i=0\n",
    "\n",
    "            # Iterate over the addresses in addr_arr\n",
    "            for a_i in range(0,len(vrec['addr_arr'])):\n",
    "                addr_rec = vrec['addr_arr'][a_i]\n",
    "                # If addr_rec is not plottable, skip it\n",
    "                if(not 'latlon' in addr_rec):\n",
    "                    continue\n",
    "\n",
    "                # We have lat/lon for this address, continue\n",
    "                centroid = addr_rec['latlon']\n",
    "                if(not centroid):\n",
    "                    continue\n",
    "\n",
    "                # Get the start time for this address.\n",
    "                addr_start_date = vrec['addr_arr'][a_i]['date']\n",
    "\n",
    "                # Find the end time for this address.\n",
    "                # If this is the last address \n",
    "                # and the voter hasn't moved away, set end_date to max\n",
    "                addr_end_date=max_datetime\n",
    "                if(a_i<len(vrec['addr_arr'])-1):\n",
    "                    # There's another address after this one, set end_date\n",
    "                    # to the start of the next address\n",
    "                    addr_end_date = vrec['addr_arr'][a_i+1]['date']\n",
    "                else:\n",
    "                    # Check if they moved away\n",
    "                    moved_ms = check_voter_moved_away(vid)\n",
    "                    if(moved_ms):\n",
    "                        addr_end_date = monthstr_to_date_map[moved_ms]\n",
    "                        if((v_i%chunk_size)==0):\n",
    "                            print \"%s moved away by %s (%s)\" % (vid, moved_ms,addr_end_date)\n",
    "\n",
    "                if((v_i%chunk_size)==0):\n",
    "                    print \"%s[%d]: %s - %s [%s]\" % (vid, a_i, addr_start_date, addr_end_date, last_date)\n",
    "\n",
    "                # Call color_func and output dots until the date returned by color_func goes past the end of this address\n",
    "                while(last_date<=addr_end_date):                    \n",
    "                    did_output_dot=False\n",
    "\n",
    "                    # Get color for this next chunk of time\n",
    "                    (color, next_start_date) = color_func(vid, last_date)\n",
    "                    \n",
    "                    # Get range of dates for this color\n",
    "                    startdate_epoch = GetEpoch(last_date)\n",
    "                    enddate_epoch = GetEpoch(next_start_date)\n",
    "                    if(color != None):\n",
    "                        points += PointToPixelXY(centroid)     \n",
    "                        points.append(parse_color(color))\n",
    "                        points.append(float(startdate_epoch))\n",
    "                        points.append(float(enddate_epoch))\n",
    "                        if((v_i%chunk_size)==0):\n",
    "                            print \"  %s[%s]: %s - %s = %s\" % (vid, a_i, last_date, next_start_date, color)\n",
    "                    else:\n",
    "                        print \"Color of %s is None\"\n",
    "\n",
    "                    # Set last_date and last_color for next loop\n",
    "                    last_date = next_start_date\n",
    "                    last_color= color\n",
    "                    did_output_dot=True\n",
    "                    dot_cnt=dot_cnt+1\n",
    "                    # Special case when next_start_date==addr_end_date\n",
    "                    # to break out of the loop \n",
    "                    if(next_start_date>=addr_end_date):\n",
    "                        break\n",
    "                    # End of inner color_func loop\n",
    "                # End of middle address_loop\n",
    "            # End of try block at level of vid\n",
    "        except:\n",
    "            print \"Unexpected error processing [%d] %s:\" % (v_i, vid), sys.exc_info()[0]\n",
    "            raise\n",
    "\n",
    "        # Handle periodic debug message\n",
    "        if((v_i%chunk_size)==0 and v_i>0):\n",
    "            print \"%d-%d: processing %r, %s time elapsed\" %(v_i-(chunk_size-1), v_i, vid, arrow.now()-chunk_start_time)\n",
    "            chunk_start_time=arrow.now()\n",
    "                \n",
    "    array.array('f', points).tofile(open(('voting/voter_%s.bin'%suffix), 'wb'))\n",
    "\n",
    "    end=arrow.now()\n",
    "    print \"Processing took %s for %d dots\" % (str(end-start), dot_cnt)\n",
    "    "
   ]
  },
  {
   "cell_type": "markdown",
   "metadata": {},
   "source": [
    "#### 15213"
   ]
  },
  {
   "cell_type": "code",
   "execution_count": 53,
   "metadata": {},
   "outputs": [],
   "source": [
    "# Get the voter ids for 15213\n",
    "vids_15213=list(vdf_2018_10[vdf_2018_10['Zip_Code']=='15213'].index)"
   ]
  },
  {
   "cell_type": "code",
   "execution_count": 54,
   "metadata": {},
   "outputs": [
    {
     "name": "stdout",
     "output_type": "stream",
     "text": [
      "102892955-02[0]: 2010-09-28 00:00:00 - 3000-12-31 00:00:00 [2010-09-28 00:00:00]\n",
      "  102892955-02[0]: 2010-09-28 00:00:00 - 3000-12-31 00:00:00 = #a50026\n",
      "Processing took 0:00:00.099407 for 1340 dots\n"
     ]
    }
   ],
   "source": [
    "output_voter_reg_dots_f(vids_15213[0:1000], num_moves_to_color, \"num_moves_05_09_13_17_18_18_18_15213_g8\")"
   ]
  },
  {
   "cell_type": "code",
   "execution_count": null,
   "metadata": {},
   "outputs": [],
   "source": [
    "output_voter_reg_dots_f(vids_15213, move_recency_to_color, \"move_recency_05_09_13_17_18_18_18_15213_g7\")"
   ]
  },
  {
   "cell_type": "code",
   "execution_count": null,
   "metadata": {},
   "outputs": [],
   "source": [
    "output_voter_reg_dots_f(vids_15213, voting_recency_vid_to_color, \"vote_recency_05_09_13_17_18_18_18_15213_g1\")"
   ]
  },
  {
   "cell_type": "code",
   "execution_count": null,
   "metadata": {},
   "outputs": [],
   "source": [
    "output_voter_reg_dots_b(vids_15213, \"1810_15213_c\")"
   ]
  },
  {
   "cell_type": "markdown",
   "metadata": {},
   "source": [
    "### All independents"
   ]
  },
  {
   "cell_type": "code",
   "execution_count": 283,
   "metadata": {},
   "outputs": [],
   "source": [
    "vdf_all_inds_2018_10 = vdf_2018_10[(~((vdf_2018_10['Political_Party']=='D')|(vdf_2018_10['Political_Party']=='R')))]"
   ]
  },
  {
   "cell_type": "code",
   "execution_count": 284,
   "metadata": {},
   "outputs": [
    {
     "data": {
      "text/plain": [
       "132445"
      ]
     },
     "execution_count": 284,
     "metadata": {},
     "output_type": "execute_result"
    }
   ],
   "source": [
    "len(vdf_all_inds_2018_10)"
   ]
  },
  {
   "cell_type": "code",
   "execution_count": null,
   "metadata": {},
   "outputs": [],
   "source": [
    "output_voter_reg_dots_f(list(vdf_all_inds_2018_10.index), registration_recency_vid_to_color, \"reg_recency_05_09_13_17_18_18_18_all_inds_g5\")"
   ]
  },
  {
   "cell_type": "code",
   "execution_count": null,
   "metadata": {},
   "outputs": [],
   "source": [
    "output_voter_reg_dots_f(list(vdf_all_inds_2018_10.index), voting_recency_vid_to_color, \"vote_recency_05_09_13_17_18_18_18_all_inds_g6\")"
   ]
  },
  {
   "cell_type": "markdown",
   "metadata": {},
   "source": [
    "#### Active independents"
   ]
  },
  {
   "cell_type": "code",
   "execution_count": 202,
   "metadata": {},
   "outputs": [],
   "source": [
    "vdf_active_inds_2018_10 = vdf_2018_10[(~((vdf_2018_10['Political_Party']=='D')|(vdf_2018_10['Political_Party']=='R')))&(vdf_2018_10['Voter_Status']=='A')]"
   ]
  },
  {
   "cell_type": "code",
   "execution_count": 203,
   "metadata": {},
   "outputs": [
    {
     "data": {
      "text/plain": [
       "112817"
      ]
     },
     "execution_count": 203,
     "metadata": {},
     "output_type": "execute_result"
    }
   ],
   "source": [
    "len(vdf_active_inds_2018_10)"
   ]
  },
  {
   "cell_type": "code",
   "execution_count": null,
   "metadata": {},
   "outputs": [],
   "source": [
    "output_voter_reg_dots_f(list(vdf_active_inds_2018_10.index), registration_recency_vid_to_color, \"reg_recency_05_09_13_17_18_18_18_a_inds_g5\")"
   ]
  },
  {
   "cell_type": "code",
   "execution_count": null,
   "metadata": {},
   "outputs": [],
   "source": [
    "output_voter_reg_dots_f(list(vdf_active_inds_2018_10.index), voting_recency_vid_to_color, \"vote_recency_05_09_13_17_18_18_18_a_inds_g5\")"
   ]
  },
  {
   "cell_type": "markdown",
   "metadata": {},
   "source": [
    "#### All Republicans"
   ]
  },
  {
   "cell_type": "code",
   "execution_count": 267,
   "metadata": {},
   "outputs": [],
   "source": [
    "vdf_all_reps_2018_10 = vdf_2018_10[(vdf_2018_10['Political_Party']=='R')]"
   ]
  },
  {
   "cell_type": "code",
   "execution_count": 268,
   "metadata": {},
   "outputs": [
    {
     "data": {
      "text/plain": [
       "240439"
      ]
     },
     "execution_count": 268,
     "metadata": {},
     "output_type": "execute_result"
    }
   ],
   "source": [
    "len(vdf_active_reps_2018_10)"
   ]
  },
  {
   "cell_type": "code",
   "execution_count": null,
   "metadata": {},
   "outputs": [],
   "source": [
    "output_voter_reg_dots_f(list(vdf_all_reps_2018_10.index), registration_recency_vid_to_color, \"reg_recency_05_09_13_17_18_18_18_all_reps_g6\")"
   ]
  },
  {
   "cell_type": "code",
   "execution_count": null,
   "metadata": {},
   "outputs": [],
   "source": [
    "output_voter_reg_dots_f(list(vdf_all_reps_2018_10.index), voting_recency_vid_to_color, \"vote_recency_05_09_13_17_18_18_18_all_reps_g6\")"
   ]
  },
  {
   "cell_type": "markdown",
   "metadata": {},
   "source": [
    "#### Active Republicans"
   ]
  },
  {
   "cell_type": "code",
   "execution_count": 200,
   "metadata": {},
   "outputs": [],
   "source": [
    "vdf_active_reps_2018_10 = vdf_2018_10[(vdf_2018_10['Political_Party']=='R')&(vdf_2018_10['Voter_Status']=='A')]"
   ]
  },
  {
   "cell_type": "code",
   "execution_count": 201,
   "metadata": {},
   "outputs": [
    {
     "data": {
      "text/plain": [
       "240439"
      ]
     },
     "execution_count": 201,
     "metadata": {},
     "output_type": "execute_result"
    }
   ],
   "source": [
    "len(vdf_active_reps_2018_10)"
   ]
  },
  {
   "cell_type": "code",
   "execution_count": null,
   "metadata": {},
   "outputs": [],
   "source": [
    "output_voter_reg_dots_f(list(vdf_active_reps_2018_10.index), registration_recency_vid_to_color, \"reg_recency_05_09_13_17_18_18_18_a_reps_g4\")"
   ]
  },
  {
   "cell_type": "code",
   "execution_count": null,
   "metadata": {},
   "outputs": [],
   "source": [
    "output_voter_reg_dots_f(list(vdf_active_reps_2018_10.index), voting_recency_vid_to_color, \"vote_recency_05_09_13_17_18_18_18_a_reps_g4\")"
   ]
  },
  {
   "cell_type": "markdown",
   "metadata": {},
   "source": [
    "#### All Democrats"
   ]
  },
  {
   "cell_type": "code",
   "execution_count": 262,
   "metadata": {},
   "outputs": [],
   "source": [
    "vdf_all_dems_2018_10 = vdf_2018_10[(vdf_2018_10['Political_Party']=='D')]"
   ]
  },
  {
   "cell_type": "code",
   "execution_count": 263,
   "metadata": {},
   "outputs": [
    {
     "data": {
      "text/plain": [
       "546626"
      ]
     },
     "execution_count": 263,
     "metadata": {},
     "output_type": "execute_result"
    }
   ],
   "source": [
    "len(vdf_all_dems_2018_10)"
   ]
  },
  {
   "cell_type": "code",
   "execution_count": null,
   "metadata": {},
   "outputs": [],
   "source": [
    "output_voter_reg_dots_f(list(vdf_all_dems_2018_10.index), registration_recency_vid_to_color, \"reg_recency_05_09_13_17_18_18_18_all_dems_g6\")"
   ]
  },
  {
   "cell_type": "code",
   "execution_count": null,
   "metadata": {},
   "outputs": [],
   "source": [
    "output_voter_reg_dots_f(list(vdf_all_dems_2018_10.index), voting_recency_vid_to_color, \"vote_recency_05_09_13_17_18_18_18_all_dems_g6\")"
   ]
  },
  {
   "cell_type": "markdown",
   "metadata": {},
   "source": [
    "#### Active Democrats"
   ]
  },
  {
   "cell_type": "code",
   "execution_count": 197,
   "metadata": {},
   "outputs": [],
   "source": [
    "vdf_active_dems_2018_10 = vdf_2018_10[(vdf_2018_10['Political_Party']=='D')&(vdf_2018_10['Voter_Status']=='A')]"
   ]
  },
  {
   "cell_type": "code",
   "execution_count": 199,
   "metadata": {},
   "outputs": [
    {
     "data": {
      "text/plain": [
       "489802"
      ]
     },
     "execution_count": 199,
     "metadata": {},
     "output_type": "execute_result"
    }
   ],
   "source": [
    "len(vdf_active_dems_2018_10)"
   ]
  },
  {
   "cell_type": "code",
   "execution_count": null,
   "metadata": {},
   "outputs": [],
   "source": [
    "output_voter_reg_dots_f(list(vdf_active_dems_2018_10.index), registration_recency_vid_to_color, \"reg_recency_05_09_13_17_18_18_18_a_dems_g3\")"
   ]
  },
  {
   "cell_type": "code",
   "execution_count": null,
   "metadata": {},
   "outputs": [],
   "source": [
    "output_voter_reg_dots_f(list(vdf_active_dems_2018_10.index), voting_recency_vid_to_color, \"vote_recency_05_09_13_17_18_18_18_a_dems_g3\")"
   ]
  },
  {
   "cell_type": "markdown",
   "metadata": {},
   "source": [
    "#### Whole county"
   ]
  },
  {
   "cell_type": "code",
   "execution_count": 57,
   "metadata": {},
   "outputs": [],
   "source": [
    "all_vids=sorted(voter_map.keys())"
   ]
  },
  {
   "cell_type": "code",
   "execution_count": 58,
   "metadata": {},
   "outputs": [
    {
     "data": {
      "text/plain": [
       "1379040"
      ]
     },
     "execution_count": 58,
     "metadata": {},
     "output_type": "execute_result"
    }
   ],
   "source": [
    "len(all_vids)"
   ]
  },
  {
   "cell_type": "code",
   "execution_count": null,
   "metadata": {},
   "outputs": [],
   "source": [
    "output_voter_reg_dots_f(all_vids, move_recency_to_color, \"move_recency_05_09_13_17_18_18_18_g7\")"
   ]
  },
  {
   "cell_type": "code",
   "execution_count": null,
   "metadata": {},
   "outputs": [],
   "source": [
    "output_voter_reg_dots_f(all_vids, registration_recency_vid_to_color, \"reg_recency_05_09_13_17_18_18_18_g6\")"
   ]
  },
  {
   "cell_type": "code",
   "execution_count": null,
   "metadata": {},
   "outputs": [],
   "source": [
    "output_voter_reg_dots_f(all_vids, voting_recency_vid_to_color, \"vote_recency_05_09_13_17_18_18_18_g2\")"
   ]
  },
  {
   "cell_type": "code",
   "execution_count": null,
   "metadata": {},
   "outputs": [],
   "source": [
    "# Output all the voter dots for Allegheny County\n",
    "# 17_18_18_18_c is all census_block points with independents in yellow\n",
    "# 17_18_18_18_d is all census_block points with independents in dark grey\n",
    "# 09_17_18_18_18_e is all census_block points with independents in dark grey and moved away checking\n",
    "# num_moves_05_09_13_17_18_18_18_15213_g8 has additional years (05 and 13)\n",
    "output_voter_reg_dots_f(all_vids, num_moves_to_color, \"num_moves_05_09_13_17_18_18_18_15213_g8\")"
   ]
  },
  {
   "cell_type": "code",
   "execution_count": null,
   "metadata": {},
   "outputs": [],
   "source": [
    "# Output all the voter dots for Allegheny County\n",
    "output_voter_reg_dots(all_vids, \"17_18_18_b\")"
   ]
  },
  {
   "cell_type": "markdown",
   "metadata": {},
   "source": [
    "# Archive"
   ]
  },
  {
   "cell_type": "code",
   "execution_count": 194,
   "metadata": {},
   "outputs": [
    {
     "name": "stdout",
     "output_type": "stream",
     "text": [
      "352013: 002748431-02 failed: Input type must be str or unicode\n",
      "\t{'DOB': '2/22/1943', 'reg_date': nan, 'addresses': {'2018-08': '3080 FELIX DR SOUTH PARK PA 15129', '2018-03': '3080 FELIX DR SOUTH PARK PA 15129', '2017-11': '3080 FELIX DR SOUTH PARK PA 15129'}, 'reg_info': {'2018-08': {'status': 'A', 'party': 'D'}, '2018-03': {'status': 'A', 'party': 'D'}, '2017-11': {'status': 'A', 'party': 'D'}}}\n"
     ]
    }
   ],
   "source": [
    "failed_vids = []\n",
    "for i in range(0,len(all_vids)):\n",
    "    try:\n",
    "        vid = all_vids[i]\n",
    "        vrec = voter_map[vid]\n",
    "        month_strs = sorted(vrec['reg_info'].keys())\n",
    "        last_date = dateparser.parse(vrec['reg_date'])\n",
    "    except Exception as e:\n",
    "        print \"%d: %s failed: %s\\n\\t%r\" % (i,vid,e,vrec)\n",
    "        failed_vids.append(i)"
   ]
  },
  {
   "cell_type": "code",
   "execution_count": 195,
   "metadata": {},
   "outputs": [],
   "source": [
    "# Manually fixup Robert Felix to not have a nan reg_date\n",
    "voter_map['002748431-02']['reg_date']=\"09/01/1944\""
   ]
  },
  {
   "cell_type": "code",
   "execution_count": 199,
   "metadata": {},
   "outputs": [],
   "source": [
    "# Convert all the vrec['reg_date'] to be parsed dates: This only had to be done once!\n",
    "#for vid in voter_map:\n",
    "#    voter_map[vid]['reg_date'] = dateparser.parse(voter_map[vid]['reg_date'])"
   ]
  },
  {
   "cell_type": "code",
   "execution_count": 453,
   "metadata": {},
   "outputs": [
    {
     "data": {
      "text/plain": [
       "1217523"
      ]
     },
     "execution_count": 453,
     "metadata": {},
     "output_type": "execute_result"
    }
   ],
   "source": [
    "len(voter_map)"
   ]
  },
  {
   "cell_type": "code",
   "execution_count": 409,
   "metadata": {},
   "outputs": [],
   "source": [
    "# Get the voter ids for 15213\n",
    "vids_15213=list(vdf_2018_10[vdf_2018_10['Zip_Code']=='15213'].index)"
   ]
  },
  {
   "cell_type": "code",
   "execution_count": 410,
   "metadata": {},
   "outputs": [
    {
     "data": {
      "text/plain": [
       "28484"
      ]
     },
     "execution_count": 410,
     "metadata": {},
     "output_type": "execute_result"
    }
   ],
   "source": [
    "len(vids_15213)"
   ]
  },
  {
   "cell_type": "code",
   "execution_count": null,
   "metadata": {},
   "outputs": [],
   "source": [
    "output_voter_reg_dots(vids_15213, \"1808_15213_b\")"
   ]
  },
  {
   "cell_type": "code",
   "execution_count": 104,
   "metadata": {},
   "outputs": [
    {
     "data": {
      "text/plain": [
       "'3990 A 5TH AVE PITT TOWERS PITTSBURGH PA 15213'"
      ]
     },
     "execution_count": 104,
     "metadata": {},
     "output_type": "execute_result"
    }
   ],
   "source": [
    "voter_map['102892955-02']['addresses']['2018-08']"
   ]
  },
  {
   "cell_type": "code",
   "execution_count": null,
   "metadata": {},
   "outputs": [],
   "source": [
    "vdf_2018_08.loc['002021371-02']"
   ]
  },
  {
   "cell_type": "code",
   "execution_count": 110,
   "metadata": {},
   "outputs": [
    {
     "ename": "KeyError",
     "evalue": "'3725 SUTHERLAND DR PITTSBURGH PA 15213'",
     "output_type": "error",
     "traceback": [
      "\u001b[0;31m---------------------------------------------------------------------------\u001b[0m",
      "\u001b[0;31mKeyError\u001b[0m                                  Traceback (most recent call last)",
      "\u001b[0;32m<ipython-input-110-4d07443f8751>\u001b[0m in \u001b[0;36m<module>\u001b[0;34m()\u001b[0m\n\u001b[0;32m----> 1\u001b[0;31m \u001b[0mcanonical_addr_map\u001b[0m\u001b[0;34m[\u001b[0m\u001b[0;34m'3725 SUTHERLAND DR PITTSBURGH PA 15213'\u001b[0m\u001b[0;34m]\u001b[0m\u001b[0;34m\u001b[0m\u001b[0m\n\u001b[0m",
      "\u001b[0;31mKeyError\u001b[0m: '3725 SUTHERLAND DR PITTSBURGH PA 15213'"
     ]
    }
   ],
   "source": [
    "canonical_addr_map['3725 SUTHERLAND DR PITTSBURGH PA 15213']"
   ]
  },
  {
   "cell_type": "code",
   "execution_count": 105,
   "metadata": {},
   "outputs": [],
   "source": [
    "get_canonical_coords(voter_map['102892955-02']['addresses']['2018-08'])"
   ]
  },
  {
   "cell_type": "code",
   "execution_count": 106,
   "metadata": {},
   "outputs": [],
   "source": [
    "get_canonical_coords_google(voter_map['102892955-02']['addresses']['2018-08'])"
   ]
  },
  {
   "cell_type": "code",
   "execution_count": 83,
   "metadata": {},
   "outputs": [],
   "source": [
    "vid_to_coords('021189057-02','2018-08')"
   ]
  },
  {
   "cell_type": "markdown",
   "metadata": {},
   "source": [
    "# Archive"
   ]
  },
  {
   "cell_type": "code",
   "execution_count": null,
   "metadata": {},
   "outputs": [],
   "source": [
    "# This version predates addition of addr_arr and census_block IDs to voter map\n",
    "start=arrow.now()\n",
    "\n",
    "dem_a_color = '#0000fb'\n",
    "rep_a_color = '#db0404'\n",
    "dem_i_color = '#254b87'\n",
    "rep_i_color = '#821616'\n",
    "other_color = '#decc64'\n",
    "unknown_color = '#303030'\n",
    "\n",
    "def vid_to_color(vid, month_str):\n",
    "    if (not vid in voter_map):\n",
    "        return unknown_color\n",
    "    vrec = voter_map[vid]\n",
    "    if(month_str in vrec['reg_info']):\n",
    "        rrec = vrec['reg_info'][month_str]\n",
    "        if(rrec['party']=='D' and rrec['status']=='A'):\n",
    "            return dem_a_color\n",
    "        elif(rrec['party']=='D' and rrec['status']=='I'):\n",
    "            return dem_i_color\n",
    "        elif(rrec['party']=='R' and rrec['status']=='A'):\n",
    "            return rep_a_color\n",
    "        elif(rrec['party']=='R' and rrec['status']=='I'):\n",
    "            return rep_i_color\n",
    "        else:\n",
    "            return other_color\n",
    "    return unknown_color\n",
    "\n",
    "def vid_to_coords(vid, month_str):\n",
    "    if (not vid in voter_map):\n",
    "        return None\n",
    "    vrec = voter_map[vid]\n",
    "    if(month_str in vrec['addresses']):\n",
    "        addr = vrec['addresses'][month_str]\n",
    "        # Try coords from census first\n",
    "        coords = get_canonical_coords(addr)\n",
    "        if(not coords):\n",
    "            # Didn't work, try google\n",
    "            coords = get_canonical_coords_google(addr)\n",
    "    return coords\n",
    "\n",
    "def output_voter_reg_dots(vid_arr, suffix):\n",
    "    # If vid_arr not specified, do all of the keys in voter_map\n",
    "    if(len(vid_arr)==0):\n",
    "        vid_arr=voter_map.keys()\n",
    "        \n",
    "    # Write out voter registration for each voter in vid_arr\n",
    "    points = []\n",
    "    start=arrow.now()\n",
    "    chunk_start_time=arrow.now()\n",
    "    chunk_size=1000\n",
    "    chunk_cnt=0\n",
    "    \n",
    "    for vid in vid_arr:\n",
    "        if(not vid in voter_map):\n",
    "            continue\n",
    "        vrec = voter_map[vid]\n",
    "        \n",
    "        # Get the month_str values in sorted order for this voter\n",
    "        month_strs = sorted(vrec['reg_info'].keys())\n",
    "\n",
    "        # Keep track of the date of the last datapoint. \n",
    "        # Initialize last_date to be the registration date for this voter\n",
    "        \n",
    "        # Initially, 'reg_date' was a string.  The conversion here was taking \n",
    "        # too long, so I converted it to be output from dateparser.parse(vrec['reg_date']) \n",
    "        # at ~9am 10/22/18 (_b.pickle and later).  Double check here\n",
    "        # that the stored type isn't a string and skip if it is.\n",
    "        if(isinstance(vrec['reg_date'], basestring)):\n",
    "            print \"Unconverted reg_date for %s: %s, skipping\" % (vid, vrec['reg_date'])\n",
    "            continue\n",
    "            \n",
    "        last_date = vrec['reg_date']\n",
    "        last_color=0\n",
    "\n",
    "        for j in range(0,len(month_strs)):\n",
    "            month_str = month_strs[j]\n",
    "            centroid=None\n",
    "            did_output_dot=False\n",
    "            try:\n",
    "                centroid = vid_to_coords(vid, month_str)\n",
    "                if(not centroid):\n",
    "                    print \"Cannot compute coords for %s, %s = %r, skipping\" % (vid, month_str, vrec['addresses'][month_str])\n",
    "                    continue\n",
    "            except:\n",
    "                print \"Error computing coords for %s, %s, skipping\" % (vid, month_str)\n",
    "                continue\n",
    "\n",
    "            try:\n",
    "                # Handle periodic debug message\n",
    "                if((chunk_cnt%chunk_size)==0 and chunk_cnt>0):\n",
    "                    print \"%d-%d: processing %r, %s time elapsed\" %(chunk_cnt-(chunk_size-1), chunk_cnt, vid, arrow.now()-chunk_start_time)\n",
    "                    addcnt=0\n",
    "                    chunk_start_time=arrow.now()\n",
    "\n",
    "                # Get color for this registration event\n",
    "                color = vid_to_color(vid, month_str)\n",
    "\n",
    "                if((chunk_cnt%chunk_size)==0):\n",
    "                    print \"  %s: %s = %s\" % (vid, month_str, color)\n",
    "\n",
    "                # Get range of dates for this color\n",
    "                startdate_epoch = GetEpoch(last_date)\n",
    "                # If this is the last month, set enddate_epoch to the far future.  Otherwise set it to month_str.\n",
    "                end_date = dateparser.parse(month_str)\n",
    "                enddate_epoch = GetEpoch(end_date)\n",
    "                if(j==len(month_strs)-1):\n",
    "                    enddate_epoch = float(1e38)\n",
    "                if(color != None):\n",
    "                    points += PointToPixelXY(centroid)     \n",
    "                    points.append(parse_color(color))\n",
    "                    # Put epoch time for SALEDATE as start valid time, and next_date as end valid time\n",
    "                    points.append(float(startdate_epoch))\n",
    "                    points.append(float(enddate_epoch))\n",
    "                    #print \"  %s: %s - %s = %s (len %d)\" % (parid, event_date, next_date, color, len(points))\n",
    "                else:\n",
    "                    print \"Color of \" + str(vid) + \" is None\"\n",
    "\n",
    "                # Set last_date and last_color for next loop\n",
    "                last_date = end_date\n",
    "                last_color= color\n",
    "                did_output_dot=True\n",
    "            except:\n",
    "                print \"Unexpected error processing %s:\" % (vid), sys.exc_info()[0]\n",
    "                raise\n",
    "\n",
    "            #Increment debug message counter\n",
    "            if(did_output_dot):\n",
    "                chunk_cnt = chunk_cnt+1\n",
    "\n",
    "    array.array('f', points).tofile(open(('voting/voter_reg_%s.bin'%suffix), 'wb'))\n",
    "\n",
    "    end=arrow.now()\n",
    "    print \"Processing took %s for %d dots\" % (str(end-start), chunk_cnt)\n",
    "    "
   ]
  },
  {
   "cell_type": "markdown",
   "metadata": {},
   "source": [
    "# Lookup registration info"
   ]
  },
  {
   "cell_type": "code",
   "execution_count": 78,
   "metadata": {},
   "outputs": [
    {
     "data": {
      "text/plain": [
       "Last_Name                                               AUMAN\n",
       "First_Name                                             AUDREY\n",
       "Date_Of_Birth                                      10/22/1955\n",
       "address_raw             110 FREMONT AVE N PITTSBURGH PA 15202\n",
       "Date_Registered                                      4/1/1983\n",
       "StatusChangeDate                            1/20/2017 11:7:26\n",
       "PollingPlaceDescript               FAIRVIEW VOLUNTEER FIRE CO\n",
       "PollPlaceAdd                                 44 E FOREST AVE \n",
       "PollPlaceCSZ                                       ROSS, PA  \n",
       "Last_Date_Voted                                     5/17/2011\n",
       "Dist1                                                 1960603\n",
       "Name: 002301600-02, dtype: object"
      ]
     },
     "execution_count": 78,
     "metadata": {},
     "output_type": "execute_result"
    }
   ],
   "source": [
    "vdf_2018_10[(vdf_2018_10.Last_Name =='AUMAN')&(vdf_2018_10.First_Name.str.contains('AUDREY'))][['Last_Name','First_Name','Date_Of_Birth','address_raw','Date_Registered','StatusChangeDate','PollingPlaceDescript','PollPlaceAdd','PollPlaceCSZ','Last_Date_Voted','Dist1']].iloc[0]"
   ]
  },
  {
   "cell_type": "code",
   "execution_count": 67,
   "metadata": {},
   "outputs": [
    {
     "data": {
      "text/html": [
       "<div>\n",
       "<style scoped>\n",
       "    .dataframe tbody tr th:only-of-type {\n",
       "        vertical-align: middle;\n",
       "    }\n",
       "\n",
       "    .dataframe tbody tr th {\n",
       "        vertical-align: top;\n",
       "    }\n",
       "\n",
       "    .dataframe thead th {\n",
       "        text-align: right;\n",
       "    }\n",
       "</style>\n",
       "<table border=\"1\" class=\"dataframe\">\n",
       "  <thead>\n",
       "    <tr style=\"text-align: right;\">\n",
       "      <th></th>\n",
       "      <th>Last_Name</th>\n",
       "      <th>First_Name</th>\n",
       "      <th>Date_Of_Birth</th>\n",
       "      <th>address_raw</th>\n",
       "      <th>Date_Registered</th>\n",
       "      <th>StatusChangeDate</th>\n",
       "      <th>PollingPlaceDescript</th>\n",
       "      <th>PollPlaceAdd</th>\n",
       "      <th>PollPlaceCSZ</th>\n",
       "      <th>Last_Date_Voted</th>\n",
       "      <th>Dist1</th>\n",
       "    </tr>\n",
       "    <tr>\n",
       "      <th>ID_Number</th>\n",
       "      <th></th>\n",
       "      <th></th>\n",
       "      <th></th>\n",
       "      <th></th>\n",
       "      <th></th>\n",
       "      <th></th>\n",
       "      <th></th>\n",
       "      <th></th>\n",
       "      <th></th>\n",
       "      <th></th>\n",
       "      <th></th>\n",
       "    </tr>\n",
       "  </thead>\n",
       "  <tbody>\n",
       "    <tr>\n",
       "      <th>002946955-02</th>\n",
       "      <td>GREENE</td>\n",
       "      <td>ALVIN</td>\n",
       "      <td>12/21/1958</td>\n",
       "      <td>3158 GRIFFITHS ST PITTSBURGH PA 15213</td>\n",
       "      <td>1/1/2000</td>\n",
       "      <td>1/1/2000 0:0:0</td>\n",
       "      <td>ST REGIS CHURCH HALL</td>\n",
       "      <td>3250 PARKVIEW AVE</td>\n",
       "      <td>PITTSBURGH, PA  15213</td>\n",
       "      <td>11/8/2016</td>\n",
       "      <td>1880417</td>\n",
       "    </tr>\n",
       "  </tbody>\n",
       "</table>\n",
       "</div>"
      ],
      "text/plain": [
       "             Last_Name First_Name Date_Of_Birth  \\\n",
       "ID_Number                                         \n",
       "002946955-02    GREENE      ALVIN    12/21/1958   \n",
       "\n",
       "                                        address_raw Date_Registered  \\\n",
       "ID_Number                                                             \n",
       "002946955-02  3158 GRIFFITHS ST PITTSBURGH PA 15213        1/1/2000   \n",
       "\n",
       "             StatusChangeDate  PollingPlaceDescript        PollPlaceAdd  \\\n",
       "ID_Number                                                                 \n",
       "002946955-02   1/1/2000 0:0:0  ST REGIS CHURCH HALL  3250 PARKVIEW AVE    \n",
       "\n",
       "                       PollPlaceCSZ Last_Date_Voted    Dist1  \n",
       "ID_Number                                                     \n",
       "002946955-02  PITTSBURGH, PA  15213       11/8/2016  1880417  "
      ]
     },
     "execution_count": 67,
     "metadata": {},
     "output_type": "execute_result"
    }
   ],
   "source": [
    "vdf_2018_10[(vdf_2018_10.Last_Name.str.contains('GREEN'))&(vdf_2018_10.First_Name.str.contains('^ALV',regex=True))][['Last_Name','First_Name','Date_Of_Birth','address_raw','Date_Registered','StatusChangeDate','PollingPlaceDescript','PollPlaceAdd','PollPlaceCSZ','Last_Date_Voted','Dist1']]"
   ]
  },
  {
   "cell_type": "code",
   "execution_count": 70,
   "metadata": {},
   "outputs": [
    {
     "data": {
      "text/plain": [
       "Last_Name                                              GREENE\n",
       "First_Name                                              ALVIN\n",
       "Date_Of_Birth                                      12/21/1958\n",
       "address_raw             3158 GRIFFITHS ST PITTSBURGH PA 15213\n",
       "Date_Registered                                      1/1/2000\n",
       "StatusChangeDate                               1/1/2000 0:0:0\n",
       "PollingPlaceDescript                     ST REGIS CHURCH HALL\n",
       "PollPlaceAdd                               3250 PARKVIEW AVE \n",
       "PollPlaceCSZ                            PITTSBURGH, PA  15213\n",
       "Last_Date_Voted                                     11/8/2016\n",
       "Dist1                                                 1880417\n",
       "Name: 002946955-02, dtype: object"
      ]
     },
     "execution_count": 70,
     "metadata": {},
     "output_type": "execute_result"
    }
   ],
   "source": [
    "vdf_2018_10[(vdf_2018_10.Last_Name.str.contains('GREEN'))&(vdf_2018_10.First_Name.str.contains('^ALV',regex=True))][['Last_Name','First_Name','Date_Of_Birth','address_raw','Date_Registered','StatusChangeDate','PollingPlaceDescript','PollPlaceAdd','PollPlaceCSZ','Last_Date_Voted','Dist1']].iloc[0]"
   ]
  },
  {
   "cell_type": "code",
   "execution_count": 71,
   "metadata": {},
   "outputs": [
    {
     "data": {
      "text/plain": [
       "Last_Name                                          GREENE\n",
       "First_Name                                       KWEILYNN\n",
       "Date_Of_Birth                                    5/5/1982\n",
       "address_raw             703 LENOX AVE PITTSBURGH PA 15221\n",
       "Date_Registered                                  7/1/2002\n",
       "StatusChangeDate                           7/1/2002 0:0:0\n",
       "PollingPlaceDescript                  FOREST HILLS V.F.D.\n",
       "PollPlaceAdd                           2067 ARDMORE BLVD \n",
       "PollPlaceCSZ                        PITTSBURGH, PA  15221\n",
       "Last_Date_Voted                                 5/15/2018\n",
       "Dist1                                             1420007\n",
       "Name: 002722638-02, dtype: object"
      ]
     },
     "execution_count": 71,
     "metadata": {},
     "output_type": "execute_result"
    }
   ],
   "source": [
    "vdf_2018_10[(vdf_2018_10.Last_Name.str.contains('GREEN'))&(vdf_2018_10.First_Name.str.contains('^KW',regex=True))][['Last_Name','First_Name','Date_Of_Birth','address_raw','Date_Registered','StatusChangeDate','PollingPlaceDescript','PollPlaceAdd','PollPlaceCSZ','Last_Date_Voted','Dist1']].iloc[0]"
   ]
  },
  {
   "cell_type": "code",
   "execution_count": 73,
   "metadata": {},
   "outputs": [
    {
     "data": {
      "text/plain": [
       "Last_Name                                      NZONGOLA\n",
       "First_Name                                        KELLY\n",
       "Date_Of_Birth                                 6/25/1984\n",
       "address_raw             612 DAVIDSON DR VERONA PA 15147\n",
       "Date_Registered                                4/1/2002\n",
       "StatusChangeDate                       7/9/2013 12:7:51\n",
       "PollingPlaceDescript      ST GERARD MAJELLA CHURCH HALL\n",
       "PollPlaceAdd                               121 DAWN DR \n",
       "PollPlaceCSZ            PENN HILLS               , PA  \n",
       "Last_Date_Voted                               5/16/2017\n",
       "Dist1                                           1850801\n",
       "Name: 002839529-02, dtype: object"
      ]
     },
     "execution_count": 73,
     "metadata": {},
     "output_type": "execute_result"
    }
   ],
   "source": [
    "vdf_2018_10[(vdf_2018_10.Last_Name.str.contains('NZONGOLA'))&(vdf_2018_10.First_Name.str.contains('^[KP]',regex=True))][['Last_Name','First_Name','Date_Of_Birth','address_raw','Date_Registered','StatusChangeDate','PollingPlaceDescript','PollPlaceAdd','PollPlaceCSZ','Last_Date_Voted','Dist1']].iloc[0]"
   ]
  },
  {
   "cell_type": "code",
   "execution_count": 76,
   "metadata": {},
   "outputs": [
    {
     "data": {
      "text/plain": [
       "Last_Name                                            GREENE\n",
       "First_Name                                           EVELYN\n",
       "Date_Of_Birth                                    12/15/1930\n",
       "address_raw             111 TECUMSEH ST PITTSBURGH PA 15207\n",
       "Date_Registered                                    8/1/1991\n",
       "StatusChangeDate                            10/7/2008 6:0:2\n",
       "PollingPlaceDescript                     ENGINE COMPANY #13\n",
       "PollPlaceAdd                               200 FLOWERS AVE \n",
       "PollPlaceCSZ                          PITTSBURGH, PA  15207\n",
       "Last_Date_Voted                                         NaN\n",
       "Dist1                                               1881513\n",
       "Name: 001974553-02, dtype: object"
      ]
     },
     "execution_count": 76,
     "metadata": {},
     "output_type": "execute_result"
    }
   ],
   "source": [
    "vdf_2018_10[(vdf_2018_10.Last_Name.str.contains('GREENE'))&(vdf_2018_10.First_Name.str.contains('^EV',regex=True))&(vdf_2018_10.Zip_Code.str.contains('15207',regex=True))][['Last_Name','First_Name','Date_Of_Birth','address_raw','Date_Registered','StatusChangeDate','PollingPlaceDescript','PollPlaceAdd','PollPlaceCSZ','Last_Date_Voted','Dist1']].iloc[0]"
   ]
  },
  {
   "cell_type": "code",
   "execution_count": 81,
   "metadata": {},
   "outputs": [
    {
     "data": {
      "text/plain": [
       "Last_Name                                           GREENE\n",
       "First_Name                                          ASHLEY\n",
       "Date_Of_Birth                                   10/21/1987\n",
       "address_raw             1644 VISTA VIEW DR VERONA PA 15147\n",
       "Date_Registered                                  8/18/2005\n",
       "StatusChangeDate                          10/15/2005 8:5:8\n",
       "PollingPlaceDescript       ROSEDALE UN METH CH SOCIAL HALL\n",
       "PollPlaceAdd                                  5501 3RD ST \n",
       "PollPlaceCSZ                              PENN HILLS, PA  \n",
       "Last_Date_Voted                                  5/21/2013\n",
       "Dist1                                              1850901\n",
       "Name: 020579394-02, dtype: object"
      ]
     },
     "execution_count": 81,
     "metadata": {},
     "output_type": "execute_result"
    }
   ],
   "source": [
    "vdf_2018_10[(vdf_2018_10.Last_Name.str.contains('GREENE'))&(vdf_2018_10.First_Name.str.contains('^ASH',regex=True))&(vdf_2018_10.Zip_Code.str.contains('15147',regex=True))][['Last_Name','First_Name','Date_Of_Birth','address_raw','Date_Registered','StatusChangeDate','PollingPlaceDescript','PollPlaceAdd','PollPlaceCSZ','Last_Date_Voted','Dist1']].iloc[0]"
   ]
  },
  {
   "cell_type": "code",
   "execution_count": 84,
   "metadata": {},
   "outputs": [
    {
     "data": {
      "text/html": [
       "<div>\n",
       "<style scoped>\n",
       "    .dataframe tbody tr th:only-of-type {\n",
       "        vertical-align: middle;\n",
       "    }\n",
       "\n",
       "    .dataframe tbody tr th {\n",
       "        vertical-align: top;\n",
       "    }\n",
       "\n",
       "    .dataframe thead th {\n",
       "        text-align: right;\n",
       "    }\n",
       "</style>\n",
       "<table border=\"1\" class=\"dataframe\">\n",
       "  <thead>\n",
       "    <tr style=\"text-align: right;\">\n",
       "      <th></th>\n",
       "      <th>Title</th>\n",
       "      <th>Last_Name</th>\n",
       "      <th>First_Name</th>\n",
       "      <th>Middle_Name</th>\n",
       "      <th>Suffix</th>\n",
       "      <th>Sex</th>\n",
       "      <th>Date_Of_Birth</th>\n",
       "      <th>Date_Registered</th>\n",
       "      <th>Voter_Status</th>\n",
       "      <th>StatusChangeDate</th>\n",
       "      <th>Political_Party</th>\n",
       "      <th>House__</th>\n",
       "      <th>HouseNoSuffix</th>\n",
       "      <th>StreetNameComplete</th>\n",
       "      <th>Apt__</th>\n",
       "      <th>Address_Line_2</th>\n",
       "      <th>City</th>\n",
       "      <th>State</th>\n",
       "      <th>Zip_Code</th>\n",
       "      <th>MAddress_Line_1</th>\n",
       "      <th>MAddress_Line_2</th>\n",
       "      <th>MCity</th>\n",
       "      <th>MState</th>\n",
       "      <th>MZip_Code</th>\n",
       "      <th>PollingPlaceDescript</th>\n",
       "      <th>PollPlaceAdd</th>\n",
       "      <th>PollPlaceCSZ</th>\n",
       "      <th>Last_Date_Voted</th>\n",
       "      <th>Dist1</th>\n",
       "      <th>Dist2</th>\n",
       "      <th>Dist3</th>\n",
       "      <th>Dist4</th>\n",
       "      <th>Dist5</th>\n",
       "      <th>Dist6</th>\n",
       "      <th>Dist7</th>\n",
       "      <th>Dist8</th>\n",
       "      <th>Dist9</th>\n",
       "      <th>Dist10</th>\n",
       "      <th>Dist11</th>\n",
       "      <th>Dist12</th>\n",
       "      <th>Dist13</th>\n",
       "      <th>Dist14</th>\n",
       "      <th>Dist15</th>\n",
       "      <th>CustomData1</th>\n",
       "      <th>Date_Last_Changed</th>\n",
       "      <th>PhoneNumHome</th>\n",
       "      <th>PR_05_15_18</th>\n",
       "      <th>PR_05_15_18_VM</th>\n",
       "      <th>SP_03_13_18</th>\n",
       "      <th>SP_03_13_18_VM</th>\n",
       "      <th>SP_03_06_18</th>\n",
       "      <th>SP_03_06_18_VM</th>\n",
       "      <th>SP_01_23_18</th>\n",
       "      <th>SP_01_23_18_VM</th>\n",
       "      <th>GN_11_07_17</th>\n",
       "      <th>GN_11_07_17_VM</th>\n",
       "      <th>PR_05_16_17</th>\n",
       "      <th>PR_05_16_17_VM</th>\n",
       "      <th>GN_11_08_16</th>\n",
       "      <th>GN_11_08_16_VM</th>\n",
       "      <th>PR_04_26_16</th>\n",
       "      <th>PR_04_26_16_VM</th>\n",
       "      <th>GN_11_03_15</th>\n",
       "      <th>GN_11_03_15_VM</th>\n",
       "      <th>PR_05_19_15</th>\n",
       "      <th>PR_05_19_15_VM</th>\n",
       "      <th>GN_11_04_14</th>\n",
       "      <th>GN_11_04_14_VM</th>\n",
       "      <th>PR_05_20_14</th>\n",
       "      <th>PR_05_20_14_VM</th>\n",
       "      <th>GN_11_05_13</th>\n",
       "      <th>GN_11_05_13_VM</th>\n",
       "      <th>PR_05_21_13</th>\n",
       "      <th>PR_05_21_13_VM</th>\n",
       "      <th>GN_11_06_12</th>\n",
       "      <th>GN_11_06_12_VM</th>\n",
       "      <th>SP_08_07_12</th>\n",
       "      <th>SP_08_07_12_VM</th>\n",
       "      <th>PR_04_24_12</th>\n",
       "      <th>PR_04_24_12_VM</th>\n",
       "      <th>GN_11_08_11</th>\n",
       "      <th>GN_11_08_11_VM</th>\n",
       "      <th>PR_05_17_11</th>\n",
       "      <th>PR_05_17_11_VM</th>\n",
       "      <th>GN_11_02_10</th>\n",
       "      <th>GN_11_02_10_VM</th>\n",
       "      <th>address_raw</th>\n",
       "    </tr>\n",
       "    <tr>\n",
       "      <th>ID_Number</th>\n",
       "      <th></th>\n",
       "      <th></th>\n",
       "      <th></th>\n",
       "      <th></th>\n",
       "      <th></th>\n",
       "      <th></th>\n",
       "      <th></th>\n",
       "      <th></th>\n",
       "      <th></th>\n",
       "      <th></th>\n",
       "      <th></th>\n",
       "      <th></th>\n",
       "      <th></th>\n",
       "      <th></th>\n",
       "      <th></th>\n",
       "      <th></th>\n",
       "      <th></th>\n",
       "      <th></th>\n",
       "      <th></th>\n",
       "      <th></th>\n",
       "      <th></th>\n",
       "      <th></th>\n",
       "      <th></th>\n",
       "      <th></th>\n",
       "      <th></th>\n",
       "      <th></th>\n",
       "      <th></th>\n",
       "      <th></th>\n",
       "      <th></th>\n",
       "      <th></th>\n",
       "      <th></th>\n",
       "      <th></th>\n",
       "      <th></th>\n",
       "      <th></th>\n",
       "      <th></th>\n",
       "      <th></th>\n",
       "      <th></th>\n",
       "      <th></th>\n",
       "      <th></th>\n",
       "      <th></th>\n",
       "      <th></th>\n",
       "      <th></th>\n",
       "      <th></th>\n",
       "      <th></th>\n",
       "      <th></th>\n",
       "      <th></th>\n",
       "      <th></th>\n",
       "      <th></th>\n",
       "      <th></th>\n",
       "      <th></th>\n",
       "      <th></th>\n",
       "      <th></th>\n",
       "      <th></th>\n",
       "      <th></th>\n",
       "      <th></th>\n",
       "      <th></th>\n",
       "      <th></th>\n",
       "      <th></th>\n",
       "      <th></th>\n",
       "      <th></th>\n",
       "      <th></th>\n",
       "      <th></th>\n",
       "      <th></th>\n",
       "      <th></th>\n",
       "      <th></th>\n",
       "      <th></th>\n",
       "      <th></th>\n",
       "      <th></th>\n",
       "      <th></th>\n",
       "      <th></th>\n",
       "      <th></th>\n",
       "      <th></th>\n",
       "      <th></th>\n",
       "      <th></th>\n",
       "      <th></th>\n",
       "      <th></th>\n",
       "      <th></th>\n",
       "      <th></th>\n",
       "      <th></th>\n",
       "      <th></th>\n",
       "      <th></th>\n",
       "      <th></th>\n",
       "      <th></th>\n",
       "      <th></th>\n",
       "      <th></th>\n",
       "      <th></th>\n",
       "      <th></th>\n",
       "    </tr>\n",
       "  </thead>\n",
       "  <tbody>\n",
       "  </tbody>\n",
       "</table>\n",
       "</div>"
      ],
      "text/plain": [
       "Empty DataFrame\n",
       "Columns: [Title, Last_Name, First_Name, Middle_Name, Suffix, Sex, Date_Of_Birth, Date_Registered, Voter_Status, StatusChangeDate, Political_Party, House__, HouseNoSuffix, StreetNameComplete, Apt__, Address_Line_2, City, State, Zip_Code, MAddress_Line_1, MAddress_Line_2, MCity, MState, MZip_Code, PollingPlaceDescript, PollPlaceAdd, PollPlaceCSZ, Last_Date_Voted, Dist1, Dist2, Dist3, Dist4, Dist5, Dist6, Dist7, Dist8, Dist9, Dist10, Dist11, Dist12, Dist13, Dist14, Dist15, CustomData1, Date_Last_Changed, PhoneNumHome, PR_05_15_18, PR_05_15_18_VM, SP_03_13_18, SP_03_13_18_VM, SP_03_06_18, SP_03_06_18_VM, SP_01_23_18, SP_01_23_18_VM, GN_11_07_17, GN_11_07_17_VM, PR_05_16_17, PR_05_16_17_VM, GN_11_08_16, GN_11_08_16_VM, PR_04_26_16, PR_04_26_16_VM, GN_11_03_15, GN_11_03_15_VM, PR_05_19_15, PR_05_19_15_VM, GN_11_04_14, GN_11_04_14_VM, PR_05_20_14, PR_05_20_14_VM, GN_11_05_13, GN_11_05_13_VM, PR_05_21_13, PR_05_21_13_VM, GN_11_06_12, GN_11_06_12_VM, SP_08_07_12, SP_08_07_12_VM, PR_04_24_12, PR_04_24_12_VM, GN_11_08_11, GN_11_08_11_VM, PR_05_17_11, PR_05_17_11_VM, GN_11_02_10, GN_11_02_10_VM, address_raw]\n",
       "Index: []"
      ]
     },
     "execution_count": 84,
     "metadata": {},
     "output_type": "execute_result"
    }
   ],
   "source": [
    "vdf_2018_10[(vdf_2018_10.First_Name.fillna('').str.contains('CHALD',regex=True))]"
   ]
  },
  {
   "cell_type": "code",
   "execution_count": null,
   "metadata": {},
   "outputs": [],
   "source": [
    "## vdf_2018_10[(vdf_2018_10.Last_Name.fillna('').str.contains('BAKOUBOULA'))][['Last_Name','First_Name','Date_Of_Birth','address_raw','Date_Registered','StatusChangeDate','PollingPlaceDescript','PollPlaceAdd','PollPlaceCSZ','Last_Date_Voted','Dist1']].iloc[0]"
   ]
  },
  {
   "cell_type": "code",
   "execution_count": 89,
   "metadata": {},
   "outputs": [
    {
     "data": {
      "text/plain": [
       "Last_Name                                           ADAMS\n",
       "First_Name                                         MUMINA\n",
       "Date_Of_Birth                                   3/24/1975\n",
       "address_raw             7056 KELLY ST PITTSBURGH PA 15208\n",
       "Date_Registered                                  2/1/1994\n",
       "StatusChangeDate                           2/1/1994 0:0:0\n",
       "PollingPlaceDescript              CARNEGIE LIBRARY OF PGH\n",
       "PollPlaceAdd                           7101 HAMILTON AVE \n",
       "PollPlaceCSZ                        PITTSBURGH, PA  15208\n",
       "Last_Date_Voted                                 5/15/2018\n",
       "Dist1                                             1881301\n",
       "Name: 002337007-02, dtype: object"
      ]
     },
     "execution_count": 89,
     "metadata": {},
     "output_type": "execute_result"
    }
   ],
   "source": [
    "vdf_2018_10[(vdf_2018_10.Last_Name.str.contains('ADAMS'))&(vdf_2018_10.First_Name.str.contains('^MUMINA',regex=True))][['Last_Name','First_Name','Date_Of_Birth','address_raw','Date_Registered','StatusChangeDate','PollingPlaceDescript','PollPlaceAdd','PollPlaceCSZ','Last_Date_Voted','Dist1']].iloc[0]"
   ]
  },
  {
   "cell_type": "code",
   "execution_count": null,
   "metadata": {},
   "outputs": [],
   "source": []
  }
 ],
 "metadata": {
  "kernelspec": {
   "display_name": "Python 2",
   "language": "python",
   "name": "python2"
  },
  "language_info": {
   "codemirror_mode": {
    "name": "ipython",
    "version": 2
   },
   "file_extension": ".py",
   "mimetype": "text/x-python",
   "name": "python",
   "nbconvert_exporter": "python",
   "pygments_lexer": "ipython2",
   "version": "2.7.15"
  }
 },
 "nbformat": 4,
 "nbformat_minor": 2
}
