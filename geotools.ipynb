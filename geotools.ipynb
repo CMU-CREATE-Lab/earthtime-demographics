{
 "cells": [
  {
   "cell_type": "code",
   "execution_count": 1,
   "metadata": {},
   "outputs": [],
   "source": [
    "# This is based off of http://localhost:8820/notebooks/projects/demographics/Voting-2018-AW8.ipynb\n",
    "# and is intended to give access to the geo tools from other notebooks."
   ]
  },
  {
   "cell_type": "code",
   "execution_count": 2,
   "metadata": {},
   "outputs": [],
   "source": [
    "import numpy as np\n",
    "import json\n",
    "import pickle"
   ]
  },
  {
   "cell_type": "code",
   "execution_count": 6,
   "metadata": {},
   "outputs": [],
   "source": [
    "def get_segments_from_ring(r):\n",
    "    ret = set()\n",
    "    for i in range(0, len(r)):\n",
    "        ret.add((r[i - 1][0], r[i - 1][1], r[i][0], r[i][1]))\n",
    "    return ret\n",
    "\n",
    "def get_segments_from_polygon(p):\n",
    "    return set.union(*[get_segments_from_ring(r) for r in p])\n",
    "\n",
    "def get_segments_from_multipolygon(mp):\n",
    "    return set.union(*[get_segments_from_polygon(p) for p in mp])\n",
    "\n",
    "def get_segments(g):\n",
    "    if 'features' in g:\n",
    "        return set.union(*[get_segments(f) for f in g['features']])\n",
    "    elif 'geometry' in g:\n",
    "        if g['geometry']['type'] == 'Polygon':\n",
    "            return get_segments_from_polygon(g['geometry']['coordinates'])\n",
    "        elif g['geometry']['type'] == 'MultiPolygon':\n",
    "            return get_segments_from_multipolygon(g['geometry']['coordinates'])\n",
    "        else:\n",
    "            raise Exception('unrecognized geometry type %s' % g['geometry']['type'])\n",
    "    else:\n",
    "        raise 'unrecognized type'\n",
    "        \n",
    "def LngLatToPixelXY(lnglat):\n",
    "    (lng, lat) = lnglat\n",
    "    x = (lng + 180.0) * 256.0 / 360.0\n",
    "    y = 128.0 - math.log(math.tan((lat + 90.0) * math.pi / 360.0)) * 128.0 / math.pi\n",
    "    return [x, y]\n",
    "\n",
    "# This does the same as above, but takes a GeoJSON point (which is what centroid returns)\n",
    "def PointToPixelXY(point):\n",
    "    lon=point.x\n",
    "    lat=point.y\n",
    "    x = (lon + 180.0) * 256.0 / 360.0\n",
    "    y = 128.0 - math.log(math.tan((lat + 90.0) * math.pi / 360.0)) * 128.0 / math.pi\n",
    "    return [x, y]\n",
    "\n",
    "def CubicBezier(t, p0, p1, p2, p3):\n",
    "    return ((1-t)**3 * p0) + (3 * (1-t)**2 * t * p1) + (3 * (1-t)*t**2 * p2) + t**3*p3\n",
    "\n",
    "def LonLatToWebMercator(lon, lat):\n",
    "    x = (lon + 180.0) * 256.0 / 360.0\n",
    "    y = 128.0 - math.log(math.tan((lat + 90.0) * math.pi / 360.0)) * 128.0 / math.pi\n",
    "    return [x, y]\n",
    "\n",
    "def WebMercatorToLonLat(x,y):\n",
    "    lat = math.atan(math.exp((128.0 - y) * math.pi / 128.0)) * 360.0 / math.pi - 90.0\n",
    "    lon = x * 360.0 / 256.0 - 180.0\n",
    "    return [lon, lat]\n",
    "\n",
    "def project_and_binarize_segment(segment, dest):\n",
    "    (x1, y1) = LonLatToWebMercator(segment[0], segment[1])\n",
    "    (x2, y2) = LonLatToWebMercator(segment[2], segment[3])\n",
    "    dest.write(struct.pack('<ffff', x1, y1, x2, y2))\n",
    "\n",
    "def binarize_geojson_outlines(src, dest):\n",
    "    gj = json.load(open(src))\n",
    "    print 'Read %d features from %s' % (len(gj['features']), src)\n",
    "    segments = get_segments(gj)\n",
    "    print '%d segments' % len(segments)\n",
    "\n",
    "    try:\n",
    "        os.makedirs(os.path.dirname(dest))\n",
    "    except OSError:\n",
    "        pass\n",
    "        \n",
    "    out = open(dest + '.tmp', 'w')\n",
    "    for segment in segments:\n",
    "        project_and_binarize_segment(segment, out)\n",
    "    out.close()\n",
    "    os.rename(dest + '.tmp', dest)\n",
    "    print 'Created %s (%d segments)' % (dest, os.stat(dest).st_size / 16)\n",
    "        "
   ]
  },
  {
   "cell_type": "code",
   "execution_count": null,
   "metadata": {},
   "outputs": [],
   "source": []
  }
 ],
 "metadata": {
  "kernelspec": {
   "display_name": "Python 2",
   "language": "python",
   "name": "python2"
  },
  "language_info": {
   "codemirror_mode": {
    "name": "ipython",
    "version": 2
   },
   "file_extension": ".py",
   "mimetype": "text/x-python",
   "name": "python",
   "nbconvert_exporter": "python",
   "pygments_lexer": "ipython2",
   "version": "2.7.15"
  }
 },
 "nbformat": 4,
 "nbformat_minor": 2
}
