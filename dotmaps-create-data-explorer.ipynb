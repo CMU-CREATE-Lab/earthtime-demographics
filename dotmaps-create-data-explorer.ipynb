{
 "cells": [
  {
   "cell_type": "code",
   "execution_count": 61,
   "metadata": {},
   "outputs": [],
   "source": [
    "import glob, json, os, re"
   ]
  },
  {
   "cell_type": "code",
   "execution_count": 66,
   "metadata": {},
   "outputs": [
    {
     "name": "stdout",
     "output_type": "stream",
     "text": [
      "-rw-rw-r--  1 rsargent  staff   3.5M Mar  6  2018 columncache/acs2009_5year_tract2010/description.html\n",
      "-rw-rw-r--  1 rsargent  staff   5.7M Feb 23  2018 columncache/acs2010_5year_tract2010/description.html\n",
      "-rw-rw-r--  1 rsargent  staff   3.5M Feb 21  2018 columncache/acs2011_5year_tract2010/description.html\n",
      "-rw-rw-r--  1 rsargent  staff   2.9M Feb 21  2018 columncache/acs2012_5year_tract2010/description.html\n",
      "-rw-rw-r--  1 rsargent  staff   3.8M Feb 20  2018 columncache/acs2013_5year_tract2010/description.html\n",
      "-rw-r--r--  1 rsargent  staff   1.6M Dec 28 06:26 columncache/acs2013_5year_tract2010/description.json\n",
      "-rw-rw-r--  1 rsargent  staff   4.8M Feb 14  2018 columncache/acs2014_5year_tract2010/description.html\n",
      "-rw-r--r--  1 rsargent  staff   1.6M Dec 28 06:26 columncache/acs2014_5year_tract2010/description.json\n",
      "-rw-rw-r--  1 rsargent  staff   6.0M Sep  1  2017 columncache/acs2015_5year_tract2010/description.html\n",
      "-rw-rw-r--  1 rsargent  staff   6.1M Feb 14  2018 columncache/acs2016_5year_tract2010/description.html\n",
      "-rw-r--r--  1 rsargent  staff   1.7M Dec 24 06:46 columncache/acs2016_5year_tract2010/description.json\n",
      "-rw-rw-r--  1 rsargent  staff    87K Sep 29  2017 columncache/census1990_block2010/description.html\n",
      "-rw-rw-r--  1 rsargent  staff   521K Sep 29  2017 columncache/census2000_block2010/description.html\n",
      "-rw-rw-r--  1 rsargent  staff   605K Sep 29  2017 columncache/census2010_block2010/description.html\n",
      "columncache/census1990_block2010/description.html:<br><a href=\"https://www2.census.gov/prod2/decennial/documents/D1-D90-S101-14-TECH-01.pdf\">Link to US Census technical documentation (PDF)</a><br><br>\n",
      "columncache/census2000_block2010/description.html:<br><a href=\"https://www.census.gov/prod/cen2000/doc/sf1.pdf\">Link to US Census technical documentation (PDF)</a><br><br>\n",
      "columncache/census2010_block2010/description.html:<br><a href=\"https://www2.census.gov/library/publications/cen2010/doc/sf1.pdf\">Link to US Census technical documentation (PDF)</a><br><br>\n"
     ]
    }
   ],
   "source": [
    "!ls -lh columncache/*/*\n",
    "!grep -i 'technical doc' columncache/*/description.html"
   ]
  },
  {
   "cell_type": "code",
   "execution_count": 56,
   "metadata": {},
   "outputs": [
    {
     "data": {
      "text/plain": [
       "['columncache/acs2013_5year_tract2010/description.html',\n",
       " 'columncache/acs2014_5year_tract2010/description.html',\n",
       " 'columncache/census1990_block2010/description.html',\n",
       " 'columncache/acs2015_5year_tract2010/description.html',\n",
       " 'columncache/census2000_block2010/description.html',\n",
       " 'columncache/acs2012_5year_tract2010/description.html',\n",
       " 'columncache/acs2010_5year_tract2010/description.html',\n",
       " 'columncache/acs2009_5year_tract2010/description.html',\n",
       " 'columncache/census2010_block2010/description.html',\n",
       " 'columncache/acs2011_5year_tract2010/description.html',\n",
       " 'columncache/acs2016_5year_tract2010/description.html']"
      ]
     },
     "execution_count": 56,
     "metadata": {},
     "output_type": "execute_result"
    }
   ],
   "source": [
    "desc_htmls = glob.glob('columncache/*/description.html')\n",
    "desc_htmls"
   ]
  },
  {
   "cell_type": "code",
   "execution_count": 77,
   "metadata": {},
   "outputs": [
    {
     "name": "stdout",
     "output_type": "stream",
     "text": [
      "Read 22712 lines from columncache/acs2013_5year_tract2010/description.html\n",
      "1633519 3934993\n",
      "Created columncache/acs2013_5year_tract2010/description.json\n",
      "Read 22628 lines from columncache/acs2014_5year_tract2010/description.html\n",
      "1728496 5079642\n",
      "Created columncache/acs2014_5year_tract2010/description.json\n",
      "Read 986 lines from columncache/census1990_block2010/description.html\n",
      "47289 89287\n",
      "Created columncache/census1990_block2010/description.json\n",
      "Read 22768 lines from columncache/acs2015_5year_tract2010/description.html\n",
      "1792690 6337359\n",
      "Created columncache/acs2015_5year_tract2010/description.json\n",
      "Read 3064 lines from columncache/census2000_block2010/description.html\n",
      "226484 533817\n",
      "Created columncache/census2000_block2010/description.json\n",
      "Read 22528 lines from columncache/acs2012_5year_tract2010/description.html\n",
      "1618750 2999775\n",
      "Created columncache/acs2012_5year_tract2010/description.json\n",
      "Read 21488 lines from columncache/acs2010_5year_tract2010/description.html\n",
      "1687046 5992902\n",
      "Created columncache/acs2010_5year_tract2010/description.json\n",
      "Read 21208 lines from columncache/acs2009_5year_tract2010/description.html\n",
      "1558730 3702925\n",
      "Created columncache/acs2009_5year_tract2010/description.json\n",
      "Read 3350 lines from columncache/census2010_block2010/description.html\n",
      "299493 619804\n",
      "Created columncache/census2010_block2010/description.json\n",
      "Read 21039 lines from columncache/acs2011_5year_tract2010/description.html\n",
      "1581825 3719108\n",
      "Created columncache/acs2011_5year_tract2010/description.json\n",
      "Read 22816 lines from columncache/acs2016_5year_tract2010/description.html\n",
      "1818389 6382097\n",
      "Created columncache/acs2016_5year_tract2010/description.json\n"
     ]
    }
   ],
   "source": [
    "def desc2json(desc_html):\n",
    "    desc_json = desc_html.replace('.html', '.json')\n",
    "    #if os.path.exists(desc_json):\n",
    "    #    print('%s already exists, skipping' % desc_json)\n",
    "    #    return\n",
    "    html = open(desc_html).read()\n",
    "    lines = html.split(\"\\n\")\n",
    "    print('Read %d lines from %s' % (len(lines), desc_html))\n",
    "\n",
    "    j = {'tables':[]}\n",
    "\n",
    "    prev_table_name = None\n",
    "\n",
    "    for line in lines:\n",
    "        doc = re.search(r'<a href=\"(.*)\">(.*)</a>', line)\n",
    "        if doc:\n",
    "            j['docs'] = [{'url': doc.groups()[0], 'desc': doc.groups()[1]}]\n",
    "            continue\n",
    "        match = re.match(r'<tr><td>(.*)</td><td>(.*)</td></tr>', line)\n",
    "        if not match:\n",
    "            continue\n",
    "        (name, desc) = match.groups()\n",
    "        if not '.' in name:\n",
    "            name = os.path.basename(os.path.dirname(desc_html)) + '.' + name\n",
    "        (dataset_name, full_col_name) = name.split('.')\n",
    "        if '_' in full_col_name:\n",
    "            (table_name, col_name) = full_col_name.split('_')\n",
    "        elif len(full_col_name) == 9:\n",
    "            table_name = full_col_name[:5]\n",
    "            col_name = full_col_name[5:]\n",
    "        elif len(full_col_name) == 8:\n",
    "            table_name = full_col_name[:4]\n",
    "            col_name = full_col_name[4:]\n",
    "        elif len(full_col_name) == 7:\n",
    "            table_name = full_col_name[:4]\n",
    "            col_name = full_col_name[4:]\n",
    "        else:\n",
    "            print(full_col_name)\n",
    "            \n",
    "        if not '&mdash;' in desc:\n",
    "            desc += ' &mdash; Total'\n",
    "        (table_desc, col_desc) = [x.strip() for x in desc.split('&mdash;', 1)]\n",
    "        if table_name != prev_table_name:\n",
    "            j['name'] = dataset_name\n",
    "            j['tables'].append({'name': table_name, 'description': table_desc, 'columns': []})\n",
    "            prev_table_name = table_name\n",
    "        j['tables'][-1]['columns'].append([col_name, col_desc])\n",
    "\n",
    "    print(len(json.dumps(j)), len(html))\n",
    "\n",
    "    json.dump(j, open(desc_json, 'w'))\n",
    "    print('Created %s' % desc_json)\n",
    "\n",
    "for desc_html in desc_htmls:\n",
    "    desc2json(desc_html)\n"
   ]
  },
  {
   "cell_type": "code",
   "execution_count": null,
   "metadata": {},
   "outputs": [],
   "source": [
    "rsync -av --exclude=\"*.html\" columncache hal15:/home/rsargent/uwsgi/dotmaptiles-data/server\n"
   ]
  }
 ],
 "metadata": {
  "kernelspec": {
   "display_name": "Python 3",
   "language": "python",
   "name": "python3"
  },
  "language_info": {
   "codemirror_mode": {
    "name": "ipython",
    "version": 3
   },
   "file_extension": ".py",
   "mimetype": "text/x-python",
   "name": "python",
   "nbconvert_exporter": "python",
   "pygments_lexer": "ipython3",
   "version": "3.6.4"
  }
 },
 "nbformat": 4,
 "nbformat_minor": 2
}
